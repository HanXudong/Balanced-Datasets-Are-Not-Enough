{
 "cells": [
  {
   "cell_type": "code",
   "execution_count": 1,
   "metadata": {},
   "outputs": [],
   "source": [
    "import math, os, random, json, pickle, sys, pdb\n",
    "import string, shutil, time, argparse\n",
    "import numpy as np\n",
    "import itertools\n",
    "\n",
    "from sklearn.metrics import average_precision_score\n",
    "from sklearn.metrics import accuracy_score\n",
    "from sklearn.metrics import f1_score\n",
    "from tqdm import tqdm as tqdm\n",
    "from PIL import Image\n",
    "\n",
    "import torch.nn.functional as F\n",
    "import torch, torchvision\n",
    "import torch.nn as nn\n",
    "import torchvision.datasets as dset\n",
    "import torchvision.transforms as transforms\n",
    "import torch.optim as optim\n",
    "import torch.backends.cudnn as cudnn\n",
    "from torch.autograd import Function\n",
    "\n",
    "from torchvision.utils import save_image\n",
    "from torch.utils.data import DataLoader\n",
    "\n",
    "from data_loader import ImSituVerbGender\n",
    "from adv_model import VerbClassificationAdv\n",
    "from logger import Logger\n",
    "\n",
    "from tqdm.notebook import tqdm, trange"
   ]
  },
  {
   "cell_type": "code",
   "execution_count": 2,
   "metadata": {},
   "outputs": [],
   "source": [
    "\n",
    "def save_checkpoint(args, state, is_best, filename):\n",
    "    torch.save(state, filename)\n",
    "    if is_best:\n",
    "        shutil.copyfile(filename, os.path.join(args.save_dir, 'model_best.pth.tar'))\n",
    "\n",
    "\n",
    "def train(args, epoch, model, criterion, train_loader, optimizer, \\\n",
    "        train_logger, logging=True):\n",
    "\n",
    "    # set the training model\n",
    "    model.train()\n",
    "    nProcessed = 0\n",
    "    task_preds, adv_preds = [], []\n",
    "    task_truth, adv_truth = [], []\n",
    "    nTrain = len(train_loader.dataset) # number of images\n",
    "    task_loss_logger = AverageMeter()\n",
    "    adv_loss_logger = AverageMeter()\n",
    "\n",
    "\n",
    "    t = tqdm(train_loader, desc = 'Train %d' % epoch)\n",
    "    for batch_idx, (images, targets, genders, image_ids) in enumerate(t):\n",
    "        #if batch_idx == 100: break # constrain epoch size\n",
    "\n",
    "        # Set mini-batch dataset\n",
    "        if args.batch_balanced:\n",
    "            man_idx = genders[:, 0].nonzero().squeeze()\n",
    "            if len(man_idx.size()) == 0: man_idx = man_idx.unsqueeze(0)\n",
    "            woman_idx = genders[:, 1].nonzero().squeeze()\n",
    "            if len(woman_idx.size()) == 0: woman_idx = woman_idx.unsqueeze(0)\n",
    "            selected_num = min(len(man_idx), len(woman_idx))\n",
    "\n",
    "            if selected_num < args.batch_size / 2:\n",
    "                continue\n",
    "            else:\n",
    "                selected_num = args.batch_size / 2\n",
    "                selected_idx = torch.cat((man_idx[:selected_num], woman_idx[:selected_num]), 0)\n",
    "\n",
    "            images = torch.index_select(images, 0, selected_idx)\n",
    "            targets = torch.index_select(targets, 0, selected_idx)\n",
    "            genders = torch.index_select(genders, 0, selected_idx)\n",
    "\n",
    "        images = images.cuda()\n",
    "        targets = targets.cuda()\n",
    "        genders = genders.cuda()\n",
    "\n",
    "        # Forward, Backward and Optimizer\n",
    "        task_pred, adv_pred = model(images)\n",
    "\n",
    "        task_loss = criterion(task_pred, targets.max(1, keepdim=False)[1])\n",
    "        adv_loss = F.cross_entropy(adv_pred, genders.max(1, keepdim=False)[1], reduction='mean')\n",
    "\n",
    "        task_loss_logger.update(task_loss.item())\n",
    "        adv_loss_logger.update(adv_loss.item())\n",
    "\n",
    "        adv_pred = np.argmax(F.softmax(adv_pred, dim=1).cpu().detach().numpy(), axis=1)\n",
    "        adv_preds += adv_pred.tolist()\n",
    "        adv_truth += genders.cpu().max(1, keepdim=False)[1].numpy().tolist()\n",
    "\n",
    "        task_pred = F.softmax(task_pred, dim=1)\n",
    "        if batch_idx > 0 and len(task_preds) > 0:\n",
    "            task_preds = torch.cat((task_preds, task_pred.detach().cpu()), 0)\n",
    "            task_truth = torch.cat((task_truth, targets.cpu()), 0)\n",
    "            total_genders = torch.cat((total_genders, genders.cpu()), 0)\n",
    "        else:\n",
    "            task_preds = task_pred.detach().cpu()\n",
    "            task_truth = targets.cpu()\n",
    "            total_genders = genders.cpu()\n",
    "\n",
    "        loss = task_loss + adv_loss\n",
    "\n",
    "        # backpropogation\n",
    "        optimizer.zero_grad()\n",
    "        loss.backward()\n",
    "        optimizer.step()\n",
    "\n",
    "    task_f1_score = f1_score(task_truth.max(1)[1].numpy(), task_preds.max(1)[1].numpy(), average = 'macro')\n",
    "\n",
    "    man_idx = total_genders[:, 0].nonzero().squeeze()\n",
    "    woman_idx = total_genders[:, 1].nonzero().squeeze()\n",
    "    preds_man = torch.index_select(task_preds, 0, man_idx)\n",
    "    preds_woman = torch.index_select(task_preds, 0, woman_idx)\n",
    "    targets_man = torch.index_select(task_truth, 0, man_idx)\n",
    "    targets_woman = torch.index_select(task_truth, 0, woman_idx)\n",
    "    meanAP = average_precision_score(task_truth.numpy(), task_preds.numpy(), average='macro')\n",
    "    meanAP_man = average_precision_score(targets_man.numpy(), preds_man.numpy(), average='macro')\n",
    "    meanAP_woman = average_precision_score(targets_woman.numpy(), preds_woman.numpy(), average='macro')\n",
    "    adv_acc = accuracy_score(adv_truth, adv_preds)\n",
    "\n",
    "    if logging:\n",
    "        train_logger.scalar_summary('task loss', task_loss_logger.avg, epoch)\n",
    "        train_logger.scalar_summary('adv loss', adv_loss_logger.avg, epoch)\n",
    "        train_logger.scalar_summary('task_f1_score', task_f1_score, epoch)\n",
    "        train_logger.scalar_summary('meanAP', meanAP, epoch)\n",
    "        train_logger.scalar_summary('meanAP_man', meanAP_man, epoch)\n",
    "        train_logger.scalar_summary('meanAP_woman', meanAP_woman, epoch)\n",
    "        train_logger.scalar_summary('adv acc', adv_acc, epoch)\n",
    "\n",
    "    print('man size: {} woman size: {}'.format(len(man_idx), len(woman_idx)))\n",
    "    print('Train epoch  : {}, meanAP: {:.2f}, meanAP_man: {:.2f}, meanAP_woman: {:.2f}, adv acc: {:.2f}, '.format( \\\n",
    "        epoch, meanAP*100, meanAP_man*100, meanAP_woman*100, adv_acc*100))\n",
    "\n",
    "def test_balanced(args, epoch, model, criterion, val_loader, val_logger, print_every=10000, logging=True):\n",
    "\n",
    "    # set eval\n",
    "    model.eval()\n",
    "    nProcessed = 0\n",
    "    task_preds, adv_preds = [], []\n",
    "    task_truth, adv_truth = [], []\n",
    "    nTest = len(val_loader.dataset) # number of images\n",
    "    task_loss_logger = AverageMeter()\n",
    "    adv_loss_logger = AverageMeter()\n",
    "\n",
    "    t = tqdm(val_loader, desc = 'Val balanced %d' % epoch)\n",
    "    for batch_idx, (images, targets, genders, image_ids) in enumerate(t):\n",
    "        #if batch_idx == 100: break # constrain epoch size\n",
    "\n",
    "        # Set mini-batch dataset\n",
    "        images = images.cuda()\n",
    "        targets = targets.cuda()\n",
    "        genders = genders.cuda()\n",
    "\n",
    "        # Forward, Backward and Optimizer\n",
    "        task_pred, adv_pred = model(images)\n",
    "\n",
    "        task_loss = criterion(task_pred, targets.max(1, keepdim=False)[1])\n",
    "        adv_loss = F.cross_entropy(adv_pred, genders.max(1, keepdim=False)[1], reduction='mean')\n",
    "\n",
    "        task_loss_logger.update(task_loss.item())\n",
    "        adv_loss_logger.update(adv_loss.item())\n",
    "\n",
    "        adv_pred = np.argmax(F.softmax(adv_pred, dim=1).cpu().detach().numpy(), axis=1)\n",
    "        adv_preds += adv_pred.tolist()\n",
    "        adv_truth += genders.cpu().max(1, keepdim=False)[1].numpy().tolist()\n",
    "\n",
    "        task_pred = F.softmax(task_pred, dim=1)\n",
    "        if batch_idx > 0 and len(task_preds) > 0:\n",
    "            task_preds = torch.cat((task_preds, task_pred.detach().cpu()), 0)\n",
    "            task_truth = torch.cat((task_truth, targets.cpu()), 0)\n",
    "            total_genders = torch.cat((total_genders, genders.cpu()), 0)\n",
    "        else:\n",
    "            task_preds = task_pred.detach().cpu()\n",
    "            task_truth = targets.cpu()\n",
    "            total_genders = genders.cpu()\n",
    "\n",
    "        loss = task_loss + adv_loss\n",
    "\n",
    "    task_f1_score = f1_score(task_truth.max(1)[1].numpy(), task_preds.max(1)[1].numpy(), average = 'macro')\n",
    "\n",
    "    man_idx = total_genders[:, 0].nonzero().squeeze()\n",
    "    woman_idx = total_genders[:, 1].nonzero().squeeze()\n",
    "    preds_man = torch.index_select(task_preds, 0, man_idx)\n",
    "    preds_woman = torch.index_select(task_preds, 0, woman_idx)\n",
    "    targets_man = torch.index_select(task_truth, 0, man_idx)\n",
    "    targets_woman = torch.index_select(task_truth, 0, woman_idx)\n",
    "    meanAP = average_precision_score(task_truth.numpy(), task_preds.numpy(), average='macro')\n",
    "    meanAP_man = average_precision_score(targets_man.numpy(), preds_man.numpy(), average='macro')\n",
    "    meanAP_woman = average_precision_score(targets_woman.numpy(), preds_woman.numpy(), average='macro')\n",
    "    adv_acc = accuracy_score(adv_truth, adv_preds)\n",
    "\n",
    "    if logging:\n",
    "        val_logger.scalar_summary('adv loss balanced', adv_loss_logger.avg, epoch)\n",
    "        val_logger.scalar_summary('adv acc balanced', adv_acc, epoch)\n",
    "\n",
    "    print('man size: {} woman size: {}'.format(len(man_idx), len(woman_idx)))\n",
    "    print('Test epoch(f): {}, meanAP: {:.2f}, meanAP_man: {:.2f}, meanAP_woman: {:.2f}, adv acc: {:.2f}, '.format( \\\n",
    "        epoch, meanAP*100, meanAP_man*100, meanAP_woman*100, adv_acc*100))\n",
    "\n",
    "    return task_f1_score\n",
    "\n",
    "def test(args, epoch, model, criterion, val_loader, val_logger, print_every=10000, logging=True):\n",
    "    model.eval()\n",
    "    nProcessed = 0\n",
    "    task_preds, adv_preds = [], []\n",
    "    task_truth, adv_truth = [], []\n",
    "    nTest = len(val_loader.dataset) # number of images\n",
    "    task_loss_logger = AverageMeter()\n",
    "    adv_loss_logger = AverageMeter()\n",
    "\n",
    "    t = tqdm(val_loader, desc = 'Val %d' % epoch)\n",
    "    for batch_idx, (images, targets, genders, image_ids) in enumerate(t):\n",
    "        #if batch_idx == 100: break # constrain epoch size\n",
    "\n",
    "        # Set mini-batch dataset\n",
    "        images = images.cuda()\n",
    "        targets = targets.cuda()\n",
    "        genders = genders.cuda()\n",
    "\n",
    "        # Forward, Backward and Optimizer\n",
    "        task_pred, adv_pred = model(images)\n",
    "\n",
    "        task_loss = criterion(task_pred, targets.max(1, keepdim=False)[1])\n",
    "        adv_loss = F.cross_entropy(adv_pred, genders.max(1, keepdim=False)[1], reduction='mean')\n",
    "\n",
    "        task_loss_logger.update(task_loss.item())\n",
    "        adv_loss_logger.update(adv_loss.item())\n",
    "\n",
    "        adv_pred = np.argmax(F.softmax(adv_pred, dim=1).cpu().detach().numpy(), axis=1)\n",
    "        adv_preds += adv_pred.tolist()\n",
    "        adv_truth += genders.cpu().max(1, keepdim=False)[1].numpy().tolist()\n",
    "\n",
    "        task_pred = F.softmax(task_pred, dim=1)\n",
    "        if batch_idx > 0 and len(task_preds) > 0:\n",
    "            task_preds = torch.cat((task_preds, task_pred.detach().cpu()), 0)\n",
    "            task_truth = torch.cat((task_truth, targets.cpu()), 0)\n",
    "            total_genders = torch.cat((total_genders, genders.cpu()), 0)\n",
    "        else:\n",
    "            task_preds = task_pred.detach().cpu()\n",
    "            task_truth = targets.cpu()\n",
    "            total_genders = genders.cpu()\n",
    "\n",
    "        loss = task_loss + adv_loss\n",
    "\n",
    "    task_f1_score = f1_score(task_truth.max(1)[1].numpy(), task_preds.max(1)[1].numpy(), average = 'macro')\n",
    "\n",
    "    man_idx = total_genders[:, 0].nonzero().squeeze()\n",
    "    woman_idx = total_genders[:, 1].nonzero().squeeze()\n",
    "    preds_man = torch.index_select(task_preds, 0, man_idx)\n",
    "    preds_woman = torch.index_select(task_preds, 0, woman_idx)\n",
    "    targets_man = torch.index_select(task_truth, 0, man_idx)\n",
    "    targets_woman = torch.index_select(task_truth, 0, woman_idx)\n",
    "    meanAP = average_precision_score(task_truth.numpy(), task_preds.numpy(), average='macro')\n",
    "    meanAP_man = average_precision_score(targets_man.numpy(), preds_man.numpy(), average='macro')\n",
    "    meanAP_woman = average_precision_score(targets_woman.numpy(), preds_woman.numpy(), average='macro')\n",
    "    adv_acc = accuracy_score(adv_truth, adv_preds)\n",
    "\n",
    "    if logging:\n",
    "        val_logger.scalar_summary('task loss', task_loss_logger.avg, epoch)\n",
    "        val_logger.scalar_summary('adv loss', adv_loss_logger.avg, epoch)\n",
    "        val_logger.scalar_summary('task_f1_score', task_f1_score, epoch)\n",
    "        val_logger.scalar_summary('meanAP', meanAP, epoch)\n",
    "        val_logger.scalar_summary('meanAP_man', meanAP_man, epoch)\n",
    "        val_logger.scalar_summary('meanAP_woman', meanAP_woman, epoch)\n",
    "        val_logger.scalar_summary('adv acc', adv_acc, epoch)\n",
    "\n",
    "    print('man size: {} woman size: {}'.format(len(man_idx), len(woman_idx)))\n",
    "    print('Test epoch   : {}, meanAP: {:.2f}, meanAP_man: {:.2f}, meanAP_woman: {:.2f}, adv acc: {:.2f}, '.format( \\\n",
    "        epoch, meanAP*100, meanAP_man*100, meanAP_woman*100, adv_acc*100))\n",
    "\n",
    "    return task_f1_score\n",
    "\n",
    "class AverageMeter(object):\n",
    "    \"\"\"Computes and stores the average and current value\"\"\"\n",
    "    def __init__(self):\n",
    "        self.reset()\n",
    "\n",
    "    def reset(self):\n",
    "        self.val = 0\n",
    "        self.avg = 0\n",
    "        self.sum = 0\n",
    "        self.count = 0\n",
    "\n",
    "    def update(self, val, n=1):\n",
    "        self.val = val\n",
    "        self.sum += val * n\n",
    "        self.count += n\n",
    "        self.avg = self.sum / self.count\n"
   ]
  },
  {
   "cell_type": "code",
   "execution_count": 3,
   "metadata": {},
   "outputs": [],
   "source": [
    "class Arg:\n",
    "    exp_id =  \"exp_id\"\n",
    "    log_dir = \"log_dir\"\n",
    "    ratio = \"0\"\n",
    "    num_verb = 211\n",
    "    annotation_dir = \"../data\"\n",
    "    image_dir = \"../data/of500_images_resized\"\n",
    "    balanced = False\n",
    "    gender_balanced = False\n",
    "    batch_balanced = False\n",
    "    no_image = False\n",
    "    adv_on = False\n",
    "    layer = None\n",
    "    adv_conv = False\n",
    "    no_avgpool = False\n",
    "    adv_capacity = 0\n",
    "    adv_lambda = 1e-0\n",
    "    dropout = 1e-1\n",
    "    blackout = False\n",
    "    blackout_box = False\n",
    "    blackout_face = False\n",
    "    blur = False\n",
    "    grayscale = False\n",
    "    edges = False\n",
    "    resume = False\n",
    "    learning_rate = 1e-4\n",
    "    finetune = False\n",
    "    num_epochs = 50\n",
    "    batch_size = 64\n",
    "    crop_size = 224\n",
    "    image_size = 256\n",
    "    start_epoch = 1\n",
    "    seed = 1"
   ]
  },
  {
   "cell_type": "code",
   "execution_count": 4,
   "metadata": {},
   "outputs": [],
   "source": [
    "args = Arg()"
   ]
  },
  {
   "cell_type": "code",
   "execution_count": 5,
   "metadata": {},
   "outputs": [],
   "source": [
    "args.exp_id = \"Test_ADV-Off_Layers-conv4\"\n",
    "args.adv_on = False\n",
    "args.layer = \"conv4\"\n",
    "args.no_avgpool = True\n",
    "args.adv_capacity = 300\n",
    "args.adv_lambda = 1\n",
    "args.learning_rate = 0.00005\n",
    "args.num_epochs = 100\n",
    "args.batch_size = 128"
   ]
  },
  {
   "cell_type": "code",
   "execution_count": 6,
   "metadata": {},
   "outputs": [],
   "source": [
    "# create model save directory\n",
    "args.save_dir = os.path.join('./models', args.layer + '_' + str(args.adv_capacity) + '_' + \\\n",
    "        str(args.adv_lambda) + '_' + str(args.dropout) + '_' + args.exp_id)\n",
    "if not os.path.exists(args.save_dir): os.makedirs(args.save_dir)"
   ]
  },
  {
   "cell_type": "code",
   "execution_count": 7,
   "metadata": {},
   "outputs": [
    {
     "name": "stdout",
     "output_type": "stream",
     "text": [
      "WARNING:tensorflow:From D:\\Project\\Balanced-Datasets-Are-Not-Enough\\verb_classification\\adv\\logger.py:15: The name tf.summary.FileWriter is deprecated. Please use tf.compat.v1.summary.FileWriter instead.\n",
      "\n"
     ]
    }
   ],
   "source": [
    "# create log save directory\n",
    "args.log_dir = os.path.join('./logs', args.layer + '_' + str(args.adv_capacity) + '_' + \\\n",
    "        str(args.adv_lambda) + '_' + str(args.dropout) + '_' + args.exp_id)\n",
    "train_log_dir = os.path.join(args.log_dir, 'train')\n",
    "val_log_dir = os.path.join(args.log_dir, 'val')\n",
    "if not os.path.exists(train_log_dir): os.makedirs(train_log_dir)\n",
    "if not os.path.exists(val_log_dir): os.makedirs(val_log_dir)\n",
    "train_logger = Logger(train_log_dir)\n",
    "val_logger = Logger(val_log_dir)"
   ]
  },
  {
   "cell_type": "code",
   "execution_count": 8,
   "metadata": {},
   "outputs": [],
   "source": [
    "#save all parameters for training\n",
    "with open(os.path.join(args.log_dir, \"arguments.txt\"), \"a\") as f:\n",
    "    f.write(str(args)+'\\n')"
   ]
  },
  {
   "cell_type": "code",
   "execution_count": 9,
   "metadata": {},
   "outputs": [],
   "source": [
    "normalize = transforms.Normalize(mean = [0.485, 0.456, 0.406],std = [0.229, 0.224, 0.225])"
   ]
  },
  {
   "cell_type": "code",
   "execution_count": 10,
   "metadata": {},
   "outputs": [],
   "source": [
    "# Image preprocessing\n",
    "train_transform = transforms.Compose([\n",
    "    transforms.Resize(args.image_size),\n",
    "    transforms.RandomCrop(args.crop_size),\n",
    "    transforms.RandomHorizontalFlip(),\n",
    "    transforms.ToTensor(),\n",
    "    normalize])\n",
    "val_transform = transforms.Compose([\n",
    "    transforms.Resize(args.image_size),\n",
    "    transforms.CenterCrop(args.crop_size),\n",
    "    transforms.ToTensor(),\n",
    "    normalize])"
   ]
  },
  {
   "cell_type": "code",
   "execution_count": 11,
   "metadata": {},
   "outputs": [
    {
     "name": "stdout",
     "output_type": "stream",
     "text": [
      "ImSituVerbGender dataloader\n",
      "loading train annotations..........\n",
      "dataset size: 24301\n",
      "man size : 14199 and woman size: 10102\n",
      "ImSituVerbGender dataloader\n",
      "loading val annotations..........\n",
      "dataset size: 7730\n",
      "man size : 4457 and woman size: 3273\n",
      "ImSituVerbGender dataloader\n",
      "loading val annotations..........\n",
      "dataset size: 7730\n",
      "man size : 3000 and woman size: 3000\n"
     ]
    }
   ],
   "source": [
    "# Data samplers.\n",
    "train_data = ImSituVerbGender(args,\n",
    "                              annotation_dir = args.annotation_dir,\n",
    "                              image_dir = args.image_dir,\n",
    "                              split = 'train',\n",
    "                              transform = train_transform)\n",
    "val_data = ImSituVerbGender(args,\n",
    "                            annotation_dir = args.annotation_dir,\n",
    "                            image_dir = args.image_dir,\n",
    "                            split = 'val',\n",
    "                            transform = val_transform)\n",
    "args.gender_balanced = True\n",
    "val_data_gender_balanced = ImSituVerbGender(args, \n",
    "                                            annotation_dir = args.annotation_dir,\n",
    "                                            image_dir = args.image_dir,\n",
    "                                            split = 'val',\n",
    "                                            transform = val_transform)\n",
    "args.gender_balanced = False"
   ]
  },
  {
   "cell_type": "code",
   "execution_count": 12,
   "metadata": {},
   "outputs": [],
   "source": [
    "# Data loaders / batch assemblers.\n",
    "if args.batch_balanced:\n",
    "    train_batch_size = int(2.5 * args.batch_size)\n",
    "else:\n",
    "    train_batch_size = int(args.batch_size)\n",
    "train_loader = torch.utils.data.DataLoader(train_data, batch_size = train_batch_size,\n",
    "        shuffle = True, num_workers = 0, pin_memory = True)\n",
    "val_loader = torch.utils.data.DataLoader(val_data, batch_size = args.batch_size,\n",
    "        shuffle = False, num_workers = 0, pin_memory = True)\n",
    "val_loader_gender_balanced = torch.utils.data.DataLoader(val_data_gender_balanced, \\\n",
    "    batch_size = args.batch_size, shuffle = False, num_workers = 0, pin_memory = True)"
   ]
  },
  {
   "cell_type": "code",
   "execution_count": 13,
   "metadata": {},
   "outputs": [
    {
     "name": "stdout",
     "output_type": "stream",
     "text": [
      "Build a VerbClassification Model[conv4]\n",
      "Load weights from Resnet18/50 done\n"
     ]
    }
   ],
   "source": [
    "    # Build the models\n",
    "model = VerbClassificationAdv(args, \n",
    "                              args.num_verb,\n",
    "                              args.adv_capacity,\n",
    "                              args.dropout,\n",
    "                              args.adv_lambda).cuda()"
   ]
  },
  {
   "cell_type": "code",
   "execution_count": 14,
   "metadata": {},
   "outputs": [],
   "source": [
    "# build loss\n",
    "verb_weights = torch.FloatTensor(train_data.getVerbWeights())\n",
    "criterion = nn.CrossEntropyLoss(weight=verb_weights, reduction='mean').cuda()"
   ]
  },
  {
   "cell_type": "code",
   "execution_count": 15,
   "metadata": {},
   "outputs": [
    {
     "name": "stdout",
     "output_type": "stream",
     "text": [
      "num_trainable_params: 60826841\n"
     ]
    }
   ],
   "source": [
    "# build optimizer\n",
    "def trainable_params():\n",
    "    for param in model.parameters():\n",
    "        if param.requires_grad:\n",
    "            yield param\n",
    "num_trainable_params = sum(p.numel() for p in model.parameters() if p.requires_grad)\n",
    "print('num_trainable_params:', num_trainable_params)\n",
    "optimizer = torch.optim.Adam(trainable_params(), args.learning_rate, weight_decay = 1e-5)"
   ]
  },
  {
   "cell_type": "code",
   "execution_count": 16,
   "metadata": {},
   "outputs": [],
   "source": [
    "best_performance = 0\n",
    "if args.resume:\n",
    "    if os.path.isfile(os.path.join(args.save_dir, 'checkpoint.pth.tar')):\n",
    "        print(\"=> loading checkpoint '{}'\".format(args.save_dir))\n",
    "        checkpoint = torch.load(os.path.join(args.save_dir, 'checkpoint.pth.tar'))\n",
    "        args.start_epoch = checkpoint['epoch']\n",
    "        best_performance = checkpoint['best_performance']\n",
    "        # load partial weights\n",
    "        model_dict = model.state_dict()\n",
    "        pretrained_dict = {k: v for k, v in checkpoint['state_dict'].items() if k in model_dict}\n",
    "        model_dict.update(pretrained_dict)\n",
    "        model.load_state_dict(model_dict)\n",
    "        print(\"=> loaded checkpoint (epoch {})\".format(checkpoint['epoch']))\n",
    "    else:\n",
    "        print(\"=> no checkpoint found at '{}'\".format(args.save_dir))"
   ]
  },
  {
   "cell_type": "code",
   "execution_count": 17,
   "metadata": {},
   "outputs": [
    {
     "name": "stdout",
     "output_type": "stream",
     "text": [
      "before training, evaluate the model\n"
     ]
    },
    {
     "data": {
      "application/vnd.jupyter.widget-view+json": {
       "model_id": "8906850de889487a994d08719b4d18f5",
       "version_major": 2,
       "version_minor": 0
      },
      "text/plain": [
       "HBox(children=(FloatProgress(value=0.0, description='Val balanced 0', max=47.0, style=ProgressStyle(descriptio…"
      ]
     },
     "metadata": {},
     "output_type": "display_data"
    },
    {
     "name": "stdout",
     "output_type": "stream",
     "text": [
      "\n",
      "man size: 3000 woman size: 3000\n",
      "Test epoch(f): 0, meanAP: 0.63, meanAP_man: 0.74, meanAP_woman: nan, adv acc: 50.00, \n"
     ]
    },
    {
     "name": "stderr",
     "output_type": "stream",
     "text": [
      "C:\\Users\\emano\\Anaconda3\\envs\\py37-Torch-Transformers\\lib\\site-packages\\sklearn\\metrics\\_ranking.py:677: RuntimeWarning: invalid value encountered in true_divide\n",
      "  recall = tps / tps[-1]\n"
     ]
    },
    {
     "data": {
      "application/vnd.jupyter.widget-view+json": {
       "model_id": "ce84698b62d542658cd4cb9d23b04e9f",
       "version_major": 2,
       "version_minor": 0
      },
      "text/plain": [
       "HBox(children=(FloatProgress(value=0.0, description='Val 0', max=61.0, style=ProgressStyle(description_width='…"
      ]
     },
     "metadata": {},
     "output_type": "display_data"
    },
    {
     "name": "stdout",
     "output_type": "stream",
     "text": [
      "\n",
      "man size: 4457 woman size: 3273\n",
      "Test epoch   : 0, meanAP: 0.61, meanAP_man: 0.69, meanAP_woman: nan, adv acc: 57.66, \n"
     ]
    },
    {
     "name": "stderr",
     "output_type": "stream",
     "text": [
      "C:\\Users\\emano\\Anaconda3\\envs\\py37-Torch-Transformers\\lib\\site-packages\\sklearn\\metrics\\_ranking.py:677: RuntimeWarning: invalid value encountered in true_divide\n",
      "  recall = tps / tps[-1]\n"
     ]
    },
    {
     "data": {
      "text/plain": [
       "0.0009565549539180776"
      ]
     },
     "execution_count": 17,
     "metadata": {},
     "output_type": "execute_result"
    }
   ],
   "source": [
    "print('before training, evaluate the model')\n",
    "test_balanced(args, 0, model, criterion, val_loader_gender_balanced,\n",
    "    val_logger, logging=False)\n",
    "test(args, 0, model, criterion, val_loader, val_logger, logging=False)"
   ]
  },
  {
   "cell_type": "code",
   "execution_count": 18,
   "metadata": {
    "scrolled": true
   },
   "outputs": [
    {
     "data": {
      "application/vnd.jupyter.widget-view+json": {
       "model_id": "43a7c000b92d4856bb1f954854544f39",
       "version_major": 2,
       "version_minor": 0
      },
      "text/plain": [
       "HBox(children=(FloatProgress(value=0.0, description='Train 1', max=190.0, style=ProgressStyle(description_widt…"
      ]
     },
     "metadata": {},
     "output_type": "display_data"
    },
    {
     "name": "stdout",
     "output_type": "stream",
     "text": [
      "\n",
      "WARNING:tensorflow:From D:\\Project\\Balanced-Datasets-Are-Not-Enough\\verb_classification\\adv\\logger.py:19: The name tf.Summary is deprecated. Please use tf.compat.v1.Summary instead.\n",
      "\n",
      "man size: 14199 woman size: 10102\n",
      "Train epoch  : 1, meanAP: 1.83, meanAP_man: 1.86, meanAP_woman: 1.87, adv acc: 72.51, \n"
     ]
    },
    {
     "data": {
      "application/vnd.jupyter.widget-view+json": {
       "model_id": "58a8804655d549878fe75400e90fdb4e",
       "version_major": 2,
       "version_minor": 0
      },
      "text/plain": [
       "HBox(children=(FloatProgress(value=0.0, description='Val balanced 1', max=47.0, style=ProgressStyle(descriptio…"
      ]
     },
     "metadata": {},
     "output_type": "display_data"
    },
    {
     "name": "stdout",
     "output_type": "stream",
     "text": [
      "\n",
      "man size: 3000 woman size: 3000\n",
      "Test epoch(f): 1, meanAP: 6.39, meanAP_man: 7.02, meanAP_woman: nan, adv acc: 73.98, \n"
     ]
    },
    {
     "name": "stderr",
     "output_type": "stream",
     "text": [
      "C:\\Users\\emano\\Anaconda3\\envs\\py37-Torch-Transformers\\lib\\site-packages\\sklearn\\metrics\\_ranking.py:677: RuntimeWarning: invalid value encountered in true_divide\n",
      "  recall = tps / tps[-1]\n"
     ]
    },
    {
     "data": {
      "application/vnd.jupyter.widget-view+json": {
       "model_id": "74567950aa8d4ff4abda7acba2c7b516",
       "version_major": 2,
       "version_minor": 0
      },
      "text/plain": [
       "HBox(children=(FloatProgress(value=0.0, description='Val 1', max=61.0, style=ProgressStyle(description_width='…"
      ]
     },
     "metadata": {},
     "output_type": "display_data"
    },
    {
     "name": "stdout",
     "output_type": "stream",
     "text": [
      "\n"
     ]
    },
    {
     "name": "stderr",
     "output_type": "stream",
     "text": [
      "C:\\Users\\emano\\Anaconda3\\envs\\py37-Torch-Transformers\\lib\\site-packages\\sklearn\\metrics\\_ranking.py:677: RuntimeWarning: invalid value encountered in true_divide\n",
      "  recall = tps / tps[-1]\n"
     ]
    },
    {
     "name": "stdout",
     "output_type": "stream",
     "text": [
      "man size: 4457 woman size: 3273\n",
      "Test epoch   : 1, meanAP: 6.29, meanAP_man: 6.58, meanAP_woman: nan, adv acc: 75.56, \n"
     ]
    },
    {
     "data": {
      "application/vnd.jupyter.widget-view+json": {
       "model_id": "4dd556af5ab74c58aa7135a28ec8fff8",
       "version_major": 2,
       "version_minor": 0
      },
      "text/plain": [
       "HBox(children=(FloatProgress(value=0.0, description='Train 2', max=190.0, style=ProgressStyle(description_widt…"
      ]
     },
     "metadata": {},
     "output_type": "display_data"
    },
    {
     "name": "stdout",
     "output_type": "stream",
     "text": [
      "\n",
      "man size: 14199 woman size: 10102\n",
      "Train epoch  : 2, meanAP: 7.96, meanAP_man: 7.99, meanAP_woman: 7.67, adv acc: 80.39, \n"
     ]
    },
    {
     "data": {
      "application/vnd.jupyter.widget-view+json": {
       "model_id": "0b87dfddab4b401b98d753126865c5fc",
       "version_major": 2,
       "version_minor": 0
      },
      "text/plain": [
       "HBox(children=(FloatProgress(value=0.0, description='Val balanced 2', max=47.0, style=ProgressStyle(descriptio…"
      ]
     },
     "metadata": {},
     "output_type": "display_data"
    },
    {
     "name": "stdout",
     "output_type": "stream",
     "text": [
      "\n",
      "man size: 3000 woman size: 3000\n",
      "Test epoch(f): 2, meanAP: 13.55, meanAP_man: 14.08, meanAP_woman: nan, adv acc: 75.62, \n"
     ]
    },
    {
     "name": "stderr",
     "output_type": "stream",
     "text": [
      "C:\\Users\\emano\\Anaconda3\\envs\\py37-Torch-Transformers\\lib\\site-packages\\sklearn\\metrics\\_ranking.py:677: RuntimeWarning: invalid value encountered in true_divide\n",
      "  recall = tps / tps[-1]\n"
     ]
    },
    {
     "data": {
      "application/vnd.jupyter.widget-view+json": {
       "model_id": "df46acfcf3d0488b8e8eea807fc22cc5",
       "version_major": 2,
       "version_minor": 0
      },
      "text/plain": [
       "HBox(children=(FloatProgress(value=0.0, description='Val 2', max=61.0, style=ProgressStyle(description_width='…"
      ]
     },
     "metadata": {},
     "output_type": "display_data"
    },
    {
     "name": "stdout",
     "output_type": "stream",
     "text": [
      "\n"
     ]
    },
    {
     "name": "stderr",
     "output_type": "stream",
     "text": [
      "C:\\Users\\emano\\Anaconda3\\envs\\py37-Torch-Transformers\\lib\\site-packages\\sklearn\\metrics\\_ranking.py:677: RuntimeWarning: invalid value encountered in true_divide\n",
      "  recall = tps / tps[-1]\n"
     ]
    },
    {
     "name": "stdout",
     "output_type": "stream",
     "text": [
      "man size: 4457 woman size: 3273\n",
      "Test epoch   : 2, meanAP: 13.34, meanAP_man: 13.49, meanAP_woman: nan, adv acc: 76.91, \n"
     ]
    },
    {
     "data": {
      "application/vnd.jupyter.widget-view+json": {
       "model_id": "000304f16d514d1fb058bed56becdba1",
       "version_major": 2,
       "version_minor": 0
      },
      "text/plain": [
       "HBox(children=(FloatProgress(value=0.0, description='Train 3', max=190.0, style=ProgressStyle(description_widt…"
      ]
     },
     "metadata": {},
     "output_type": "display_data"
    },
    {
     "name": "stdout",
     "output_type": "stream",
     "text": [
      "\n",
      "man size: 14199 woman size: 10102\n",
      "Train epoch  : 3, meanAP: 13.21, meanAP_man: 12.95, meanAP_woman: 12.57, adv acc: 84.56, \n"
     ]
    },
    {
     "data": {
      "application/vnd.jupyter.widget-view+json": {
       "model_id": "11168f46a16c4285bca4cc0422c0cf4e",
       "version_major": 2,
       "version_minor": 0
      },
      "text/plain": [
       "HBox(children=(FloatProgress(value=0.0, description='Val balanced 3', max=47.0, style=ProgressStyle(descriptio…"
      ]
     },
     "metadata": {},
     "output_type": "display_data"
    },
    {
     "name": "stdout",
     "output_type": "stream",
     "text": [
      "\n",
      "man size: 3000 woman size: 3000\n",
      "Test epoch(f): 3, meanAP: 17.44, meanAP_man: 17.87, meanAP_woman: nan, adv acc: 75.52, \n"
     ]
    },
    {
     "name": "stderr",
     "output_type": "stream",
     "text": [
      "C:\\Users\\emano\\Anaconda3\\envs\\py37-Torch-Transformers\\lib\\site-packages\\sklearn\\metrics\\_ranking.py:677: RuntimeWarning: invalid value encountered in true_divide\n",
      "  recall = tps / tps[-1]\n"
     ]
    },
    {
     "data": {
      "application/vnd.jupyter.widget-view+json": {
       "model_id": "fa561e1459f1493a850e630af9bd1d59",
       "version_major": 2,
       "version_minor": 0
      },
      "text/plain": [
       "HBox(children=(FloatProgress(value=0.0, description='Val 3', max=61.0, style=ProgressStyle(description_width='…"
      ]
     },
     "metadata": {},
     "output_type": "display_data"
    },
    {
     "name": "stdout",
     "output_type": "stream",
     "text": [
      "\n"
     ]
    },
    {
     "name": "stderr",
     "output_type": "stream",
     "text": [
      "C:\\Users\\emano\\Anaconda3\\envs\\py37-Torch-Transformers\\lib\\site-packages\\sklearn\\metrics\\_ranking.py:677: RuntimeWarning: invalid value encountered in true_divide\n",
      "  recall = tps / tps[-1]\n"
     ]
    },
    {
     "name": "stdout",
     "output_type": "stream",
     "text": [
      "man size: 4457 woman size: 3273\n",
      "Test epoch   : 3, meanAP: 17.10, meanAP_man: 17.13, meanAP_woman: nan, adv acc: 77.34, \n"
     ]
    },
    {
     "data": {
      "application/vnd.jupyter.widget-view+json": {
       "model_id": "6e65c4502c0c4f6184edaeb1b6267e0e",
       "version_major": 2,
       "version_minor": 0
      },
      "text/plain": [
       "HBox(children=(FloatProgress(value=0.0, description='Train 4', max=190.0, style=ProgressStyle(description_widt…"
      ]
     },
     "metadata": {},
     "output_type": "display_data"
    },
    {
     "name": "stdout",
     "output_type": "stream",
     "text": [
      "\n",
      "man size: 14199 woman size: 10102\n",
      "Train epoch  : 4, meanAP: 17.04, meanAP_man: 16.28, meanAP_woman: 16.06, adv acc: 87.20, \n"
     ]
    },
    {
     "data": {
      "application/vnd.jupyter.widget-view+json": {
       "model_id": "0262d837cc93454f82d2f0c3fc40e318",
       "version_major": 2,
       "version_minor": 0
      },
      "text/plain": [
       "HBox(children=(FloatProgress(value=0.0, description='Val balanced 4', max=47.0, style=ProgressStyle(descriptio…"
      ]
     },
     "metadata": {},
     "output_type": "display_data"
    },
    {
     "name": "stdout",
     "output_type": "stream",
     "text": [
      "\n",
      "man size: 3000 woman size: 3000\n",
      "Test epoch(f): 4, meanAP: 19.68, meanAP_man: 20.20, meanAP_woman: nan, adv acc: 76.68, \n"
     ]
    },
    {
     "name": "stderr",
     "output_type": "stream",
     "text": [
      "C:\\Users\\emano\\Anaconda3\\envs\\py37-Torch-Transformers\\lib\\site-packages\\sklearn\\metrics\\_ranking.py:677: RuntimeWarning: invalid value encountered in true_divide\n",
      "  recall = tps / tps[-1]\n"
     ]
    },
    {
     "data": {
      "application/vnd.jupyter.widget-view+json": {
       "model_id": "05c4c32328a842c88d0710a691389116",
       "version_major": 2,
       "version_minor": 0
      },
      "text/plain": [
       "HBox(children=(FloatProgress(value=0.0, description='Val 4', max=61.0, style=ProgressStyle(description_width='…"
      ]
     },
     "metadata": {},
     "output_type": "display_data"
    },
    {
     "name": "stdout",
     "output_type": "stream",
     "text": [
      "\n"
     ]
    },
    {
     "name": "stderr",
     "output_type": "stream",
     "text": [
      "C:\\Users\\emano\\Anaconda3\\envs\\py37-Torch-Transformers\\lib\\site-packages\\sklearn\\metrics\\_ranking.py:677: RuntimeWarning: invalid value encountered in true_divide\n",
      "  recall = tps / tps[-1]\n"
     ]
    },
    {
     "name": "stdout",
     "output_type": "stream",
     "text": [
      "man size: 4457 woman size: 3273\n",
      "Test epoch   : 4, meanAP: 19.34, meanAP_man: 19.34, meanAP_woman: nan, adv acc: 77.74, \n"
     ]
    },
    {
     "data": {
      "application/vnd.jupyter.widget-view+json": {
       "model_id": "f73d7fb375644010b58f9e6240eaf1f0",
       "version_major": 2,
       "version_minor": 0
      },
      "text/plain": [
       "HBox(children=(FloatProgress(value=0.0, description='Train 5', max=190.0, style=ProgressStyle(description_widt…"
      ]
     },
     "metadata": {},
     "output_type": "display_data"
    },
    {
     "name": "stdout",
     "output_type": "stream",
     "text": [
      "\n",
      "man size: 14199 woman size: 10102\n",
      "Train epoch  : 5, meanAP: 19.85, meanAP_man: 19.15, meanAP_woman: 18.54, adv acc: 90.10, \n"
     ]
    },
    {
     "data": {
      "application/vnd.jupyter.widget-view+json": {
       "model_id": "2190c9b1754d49a68e8fc4d92688ad2a",
       "version_major": 2,
       "version_minor": 0
      },
      "text/plain": [
       "HBox(children=(FloatProgress(value=0.0, description='Val balanced 5', max=47.0, style=ProgressStyle(descriptio…"
      ]
     },
     "metadata": {},
     "output_type": "display_data"
    },
    {
     "name": "stdout",
     "output_type": "stream",
     "text": [
      "\n",
      "man size: 3000 woman size: 3000\n",
      "Test epoch(f): 5, meanAP: 21.33, meanAP_man: 21.78, meanAP_woman: nan, adv acc: 75.95, \n"
     ]
    },
    {
     "name": "stderr",
     "output_type": "stream",
     "text": [
      "C:\\Users\\emano\\Anaconda3\\envs\\py37-Torch-Transformers\\lib\\site-packages\\sklearn\\metrics\\_ranking.py:677: RuntimeWarning: invalid value encountered in true_divide\n",
      "  recall = tps / tps[-1]\n"
     ]
    },
    {
     "data": {
      "application/vnd.jupyter.widget-view+json": {
       "model_id": "ca0280528bb645628e9f616a3fc7d676",
       "version_major": 2,
       "version_minor": 0
      },
      "text/plain": [
       "HBox(children=(FloatProgress(value=0.0, description='Val 5', max=61.0, style=ProgressStyle(description_width='…"
      ]
     },
     "metadata": {},
     "output_type": "display_data"
    },
    {
     "name": "stdout",
     "output_type": "stream",
     "text": [
      "\n"
     ]
    },
    {
     "name": "stderr",
     "output_type": "stream",
     "text": [
      "C:\\Users\\emano\\Anaconda3\\envs\\py37-Torch-Transformers\\lib\\site-packages\\sklearn\\metrics\\_ranking.py:677: RuntimeWarning: invalid value encountered in true_divide\n",
      "  recall = tps / tps[-1]\n"
     ]
    },
    {
     "name": "stdout",
     "output_type": "stream",
     "text": [
      "man size: 4457 woman size: 3273\n",
      "Test epoch   : 5, meanAP: 20.95, meanAP_man: 20.93, meanAP_woman: nan, adv acc: 77.48, \n"
     ]
    },
    {
     "data": {
      "application/vnd.jupyter.widget-view+json": {
       "model_id": "b7e590f716a64b76bede18fe2c8cc29e",
       "version_major": 2,
       "version_minor": 0
      },
      "text/plain": [
       "HBox(children=(FloatProgress(value=0.0, description='Train 6', max=190.0, style=ProgressStyle(description_widt…"
      ]
     },
     "metadata": {},
     "output_type": "display_data"
    },
    {
     "name": "stdout",
     "output_type": "stream",
     "text": [
      "\n",
      "man size: 14199 woman size: 10102\n",
      "Train epoch  : 6, meanAP: 21.84, meanAP_man: 20.85, meanAP_woman: 20.37, adv acc: 91.95, \n"
     ]
    },
    {
     "data": {
      "application/vnd.jupyter.widget-view+json": {
       "model_id": "5e9da9839f1b4e55bfe9526a8ce08b5b",
       "version_major": 2,
       "version_minor": 0
      },
      "text/plain": [
       "HBox(children=(FloatProgress(value=0.0, description='Val balanced 6', max=47.0, style=ProgressStyle(descriptio…"
      ]
     },
     "metadata": {},
     "output_type": "display_data"
    },
    {
     "name": "stdout",
     "output_type": "stream",
     "text": [
      "\n",
      "man size: 3000 woman size: 3000\n",
      "Test epoch(f): 6, meanAP: 22.58, meanAP_man: 22.94, meanAP_woman: nan, adv acc: 75.85, \n"
     ]
    },
    {
     "name": "stderr",
     "output_type": "stream",
     "text": [
      "C:\\Users\\emano\\Anaconda3\\envs\\py37-Torch-Transformers\\lib\\site-packages\\sklearn\\metrics\\_ranking.py:677: RuntimeWarning: invalid value encountered in true_divide\n",
      "  recall = tps / tps[-1]\n"
     ]
    },
    {
     "data": {
      "application/vnd.jupyter.widget-view+json": {
       "model_id": "b693eb9c54c144f6993b3ae48d72a51c",
       "version_major": 2,
       "version_minor": 0
      },
      "text/plain": [
       "HBox(children=(FloatProgress(value=0.0, description='Val 6', max=61.0, style=ProgressStyle(description_width='…"
      ]
     },
     "metadata": {},
     "output_type": "display_data"
    },
    {
     "name": "stdout",
     "output_type": "stream",
     "text": [
      "\n"
     ]
    },
    {
     "name": "stderr",
     "output_type": "stream",
     "text": [
      "C:\\Users\\emano\\Anaconda3\\envs\\py37-Torch-Transformers\\lib\\site-packages\\sklearn\\metrics\\_ranking.py:677: RuntimeWarning: invalid value encountered in true_divide\n",
      "  recall = tps / tps[-1]\n"
     ]
    },
    {
     "name": "stdout",
     "output_type": "stream",
     "text": [
      "man size: 4457 woman size: 3273\n",
      "Test epoch   : 6, meanAP: 22.23, meanAP_man: 22.13, meanAP_woman: nan, adv acc: 77.59, \n"
     ]
    },
    {
     "data": {
      "application/vnd.jupyter.widget-view+json": {
       "model_id": "88441bd075d94f5db077478c19be799d",
       "version_major": 2,
       "version_minor": 0
      },
      "text/plain": [
       "HBox(children=(FloatProgress(value=0.0, description='Train 7', max=190.0, style=ProgressStyle(description_widt…"
      ]
     },
     "metadata": {},
     "output_type": "display_data"
    },
    {
     "name": "stdout",
     "output_type": "stream",
     "text": [
      "\n",
      "man size: 14199 woman size: 10102\n",
      "Train epoch  : 7, meanAP: 23.44, meanAP_man: 22.12, meanAP_woman: 22.42, adv acc: 93.37, \n"
     ]
    },
    {
     "data": {
      "application/vnd.jupyter.widget-view+json": {
       "model_id": "0fa4900ad82d4cd088d28889798d6460",
       "version_major": 2,
       "version_minor": 0
      },
      "text/plain": [
       "HBox(children=(FloatProgress(value=0.0, description='Val balanced 7', max=47.0, style=ProgressStyle(descriptio…"
      ]
     },
     "metadata": {},
     "output_type": "display_data"
    },
    {
     "name": "stdout",
     "output_type": "stream",
     "text": [
      "\n",
      "man size: 3000 woman size: 3000\n",
      "Test epoch(f): 7, meanAP: 23.67, meanAP_man: 24.04, meanAP_woman: nan, adv acc: 77.07, \n"
     ]
    },
    {
     "name": "stderr",
     "output_type": "stream",
     "text": [
      "C:\\Users\\emano\\Anaconda3\\envs\\py37-Torch-Transformers\\lib\\site-packages\\sklearn\\metrics\\_ranking.py:677: RuntimeWarning: invalid value encountered in true_divide\n",
      "  recall = tps / tps[-1]\n"
     ]
    },
    {
     "data": {
      "application/vnd.jupyter.widget-view+json": {
       "model_id": "d45a586e845d4ebfbbbcfe8727797954",
       "version_major": 2,
       "version_minor": 0
      },
      "text/plain": [
       "HBox(children=(FloatProgress(value=0.0, description='Val 7', max=61.0, style=ProgressStyle(description_width='…"
      ]
     },
     "metadata": {},
     "output_type": "display_data"
    },
    {
     "name": "stdout",
     "output_type": "stream",
     "text": [
      "\n"
     ]
    },
    {
     "name": "stderr",
     "output_type": "stream",
     "text": [
      "C:\\Users\\emano\\Anaconda3\\envs\\py37-Torch-Transformers\\lib\\site-packages\\sklearn\\metrics\\_ranking.py:677: RuntimeWarning: invalid value encountered in true_divide\n",
      "  recall = tps / tps[-1]\n"
     ]
    },
    {
     "name": "stdout",
     "output_type": "stream",
     "text": [
      "man size: 4457 woman size: 3273\n",
      "Test epoch   : 7, meanAP: 23.25, meanAP_man: 23.09, meanAP_woman: nan, adv acc: 77.93, \n"
     ]
    },
    {
     "data": {
      "application/vnd.jupyter.widget-view+json": {
       "model_id": "5b5e244e9ce2465ca7df189040d3a67c",
       "version_major": 2,
       "version_minor": 0
      },
      "text/plain": [
       "HBox(children=(FloatProgress(value=0.0, description='Train 8', max=190.0, style=ProgressStyle(description_widt…"
      ]
     },
     "metadata": {},
     "output_type": "display_data"
    },
    {
     "name": "stdout",
     "output_type": "stream",
     "text": [
      "\n",
      "man size: 14199 woman size: 10102\n",
      "Train epoch  : 8, meanAP: 24.92, meanAP_man: 23.79, meanAP_woman: 23.30, adv acc: 94.37, \n"
     ]
    },
    {
     "data": {
      "application/vnd.jupyter.widget-view+json": {
       "model_id": "077e89e07f8c4404bc68be210439297d",
       "version_major": 2,
       "version_minor": 0
      },
      "text/plain": [
       "HBox(children=(FloatProgress(value=0.0, description='Val balanced 8', max=47.0, style=ProgressStyle(descriptio…"
      ]
     },
     "metadata": {},
     "output_type": "display_data"
    },
    {
     "name": "stdout",
     "output_type": "stream",
     "text": [
      "\n",
      "man size: 3000 woman size: 3000\n",
      "Test epoch(f): 8, meanAP: 24.51, meanAP_man: 24.84, meanAP_woman: nan, adv acc: 76.08, \n"
     ]
    },
    {
     "name": "stderr",
     "output_type": "stream",
     "text": [
      "C:\\Users\\emano\\Anaconda3\\envs\\py37-Torch-Transformers\\lib\\site-packages\\sklearn\\metrics\\_ranking.py:677: RuntimeWarning: invalid value encountered in true_divide\n",
      "  recall = tps / tps[-1]\n"
     ]
    },
    {
     "data": {
      "application/vnd.jupyter.widget-view+json": {
       "model_id": "1798c77cfce84178970f01cd3216cf37",
       "version_major": 2,
       "version_minor": 0
      },
      "text/plain": [
       "HBox(children=(FloatProgress(value=0.0, description='Val 8', max=61.0, style=ProgressStyle(description_width='…"
      ]
     },
     "metadata": {},
     "output_type": "display_data"
    },
    {
     "name": "stdout",
     "output_type": "stream",
     "text": [
      "\n"
     ]
    },
    {
     "name": "stderr",
     "output_type": "stream",
     "text": [
      "C:\\Users\\emano\\Anaconda3\\envs\\py37-Torch-Transformers\\lib\\site-packages\\sklearn\\metrics\\_ranking.py:677: RuntimeWarning: invalid value encountered in true_divide\n",
      "  recall = tps / tps[-1]\n"
     ]
    },
    {
     "name": "stdout",
     "output_type": "stream",
     "text": [
      "man size: 4457 woman size: 3273\n",
      "Test epoch   : 8, meanAP: 24.09, meanAP_man: 23.90, meanAP_woman: nan, adv acc: 77.79, \n"
     ]
    },
    {
     "data": {
      "application/vnd.jupyter.widget-view+json": {
       "model_id": "83b837fb7a9c43e7b0ee61c9882dfd09",
       "version_major": 2,
       "version_minor": 0
      },
      "text/plain": [
       "HBox(children=(FloatProgress(value=0.0, description='Train 9', max=190.0, style=ProgressStyle(description_widt…"
      ]
     },
     "metadata": {},
     "output_type": "display_data"
    },
    {
     "name": "stdout",
     "output_type": "stream",
     "text": [
      "\n",
      "man size: 14199 woman size: 10102\n",
      "Train epoch  : 9, meanAP: 26.22, meanAP_man: 25.19, meanAP_woman: 24.39, adv acc: 95.18, \n"
     ]
    },
    {
     "data": {
      "application/vnd.jupyter.widget-view+json": {
       "model_id": "d1be8e93a2074bcab1a69de807c07296",
       "version_major": 2,
       "version_minor": 0
      },
      "text/plain": [
       "HBox(children=(FloatProgress(value=0.0, description='Val balanced 9', max=47.0, style=ProgressStyle(descriptio…"
      ]
     },
     "metadata": {},
     "output_type": "display_data"
    },
    {
     "name": "stdout",
     "output_type": "stream",
     "text": [
      "\n",
      "man size: 3000 woman size: 3000\n",
      "Test epoch(f): 9, meanAP: 25.35, meanAP_man: 25.96, meanAP_woman: nan, adv acc: 77.20, \n"
     ]
    },
    {
     "name": "stderr",
     "output_type": "stream",
     "text": [
      "C:\\Users\\emano\\Anaconda3\\envs\\py37-Torch-Transformers\\lib\\site-packages\\sklearn\\metrics\\_ranking.py:677: RuntimeWarning: invalid value encountered in true_divide\n",
      "  recall = tps / tps[-1]\n"
     ]
    },
    {
     "data": {
      "application/vnd.jupyter.widget-view+json": {
       "model_id": "909d6f91b7ff48f09296e493ca90de0b",
       "version_major": 2,
       "version_minor": 0
      },
      "text/plain": [
       "HBox(children=(FloatProgress(value=0.0, description='Val 9', max=61.0, style=ProgressStyle(description_width='…"
      ]
     },
     "metadata": {},
     "output_type": "display_data"
    },
    {
     "name": "stdout",
     "output_type": "stream",
     "text": [
      "\n"
     ]
    },
    {
     "name": "stderr",
     "output_type": "stream",
     "text": [
      "C:\\Users\\emano\\Anaconda3\\envs\\py37-Torch-Transformers\\lib\\site-packages\\sklearn\\metrics\\_ranking.py:677: RuntimeWarning: invalid value encountered in true_divide\n",
      "  recall = tps / tps[-1]\n"
     ]
    },
    {
     "name": "stdout",
     "output_type": "stream",
     "text": [
      "man size: 4457 woman size: 3273\n",
      "Test epoch   : 9, meanAP: 24.86, meanAP_man: 24.70, meanAP_woman: nan, adv acc: 78.45, \n"
     ]
    },
    {
     "data": {
      "application/vnd.jupyter.widget-view+json": {
       "model_id": "c834d27c6601471cbe5ad0d89872807f",
       "version_major": 2,
       "version_minor": 0
      },
      "text/plain": [
       "HBox(children=(FloatProgress(value=0.0, description='Train 10', max=190.0, style=ProgressStyle(description_wid…"
      ]
     },
     "metadata": {},
     "output_type": "display_data"
    },
    {
     "name": "stdout",
     "output_type": "stream",
     "text": [
      "\n",
      "man size: 14199 woman size: 10102\n",
      "Train epoch  : 10, meanAP: 27.22, meanAP_man: 25.94, meanAP_woman: 26.02, adv acc: 95.84, \n"
     ]
    },
    {
     "data": {
      "application/vnd.jupyter.widget-view+json": {
       "model_id": "6d096393cae043eda53ddf04437ab555",
       "version_major": 2,
       "version_minor": 0
      },
      "text/plain": [
       "HBox(children=(FloatProgress(value=0.0, description='Val balanced 10', max=47.0, style=ProgressStyle(descripti…"
      ]
     },
     "metadata": {},
     "output_type": "display_data"
    },
    {
     "name": "stdout",
     "output_type": "stream",
     "text": [
      "\n",
      "man size: 3000 woman size: 3000\n",
      "Test epoch(f): 10, meanAP: 25.87, meanAP_man: 26.49, meanAP_woman: nan, adv acc: 77.17, \n"
     ]
    },
    {
     "name": "stderr",
     "output_type": "stream",
     "text": [
      "C:\\Users\\emano\\Anaconda3\\envs\\py37-Torch-Transformers\\lib\\site-packages\\sklearn\\metrics\\_ranking.py:677: RuntimeWarning: invalid value encountered in true_divide\n",
      "  recall = tps / tps[-1]\n"
     ]
    },
    {
     "data": {
      "application/vnd.jupyter.widget-view+json": {
       "model_id": "517e7bbeeabb4f549ab6fcbba4b234fc",
       "version_major": 2,
       "version_minor": 0
      },
      "text/plain": [
       "HBox(children=(FloatProgress(value=0.0, description='Val 10', max=61.0, style=ProgressStyle(description_width=…"
      ]
     },
     "metadata": {},
     "output_type": "display_data"
    },
    {
     "name": "stdout",
     "output_type": "stream",
     "text": [
      "\n"
     ]
    },
    {
     "name": "stderr",
     "output_type": "stream",
     "text": [
      "C:\\Users\\emano\\Anaconda3\\envs\\py37-Torch-Transformers\\lib\\site-packages\\sklearn\\metrics\\_ranking.py:677: RuntimeWarning: invalid value encountered in true_divide\n",
      "  recall = tps / tps[-1]\n"
     ]
    },
    {
     "name": "stdout",
     "output_type": "stream",
     "text": [
      "man size: 4457 woman size: 3273\n",
      "Test epoch   : 10, meanAP: 25.44, meanAP_man: 25.28, meanAP_woman: nan, adv acc: 78.02, \n"
     ]
    },
    {
     "data": {
      "application/vnd.jupyter.widget-view+json": {
       "model_id": "8de33385a07242baa1206d8c5c311420",
       "version_major": 2,
       "version_minor": 0
      },
      "text/plain": [
       "HBox(children=(FloatProgress(value=0.0, description='Train 11', max=190.0, style=ProgressStyle(description_wid…"
      ]
     },
     "metadata": {},
     "output_type": "display_data"
    },
    {
     "name": "stdout",
     "output_type": "stream",
     "text": [
      "\n",
      "man size: 14199 woman size: 10102\n",
      "Train epoch  : 11, meanAP: 28.15, meanAP_man: 26.74, meanAP_woman: 26.41, adv acc: 96.44, \n"
     ]
    },
    {
     "data": {
      "application/vnd.jupyter.widget-view+json": {
       "model_id": "8e8755d431b14fa58b084a1cb164d295",
       "version_major": 2,
       "version_minor": 0
      },
      "text/plain": [
       "HBox(children=(FloatProgress(value=0.0, description='Val balanced 11', max=47.0, style=ProgressStyle(descripti…"
      ]
     },
     "metadata": {},
     "output_type": "display_data"
    },
    {
     "name": "stdout",
     "output_type": "stream",
     "text": [
      "\n",
      "man size: 3000 woman size: 3000\n",
      "Test epoch(f): 11, meanAP: 26.54, meanAP_man: 27.12, meanAP_woman: nan, adv acc: 77.33, \n"
     ]
    },
    {
     "name": "stderr",
     "output_type": "stream",
     "text": [
      "C:\\Users\\emano\\Anaconda3\\envs\\py37-Torch-Transformers\\lib\\site-packages\\sklearn\\metrics\\_ranking.py:677: RuntimeWarning: invalid value encountered in true_divide\n",
      "  recall = tps / tps[-1]\n"
     ]
    },
    {
     "data": {
      "application/vnd.jupyter.widget-view+json": {
       "model_id": "027ef356626940e3a85c4c15f9dbe0e1",
       "version_major": 2,
       "version_minor": 0
      },
      "text/plain": [
       "HBox(children=(FloatProgress(value=0.0, description='Val 11', max=61.0, style=ProgressStyle(description_width=…"
      ]
     },
     "metadata": {},
     "output_type": "display_data"
    },
    {
     "name": "stdout",
     "output_type": "stream",
     "text": [
      "\n"
     ]
    },
    {
     "name": "stderr",
     "output_type": "stream",
     "text": [
      "C:\\Users\\emano\\Anaconda3\\envs\\py37-Torch-Transformers\\lib\\site-packages\\sklearn\\metrics\\_ranking.py:677: RuntimeWarning: invalid value encountered in true_divide\n",
      "  recall = tps / tps[-1]\n"
     ]
    },
    {
     "name": "stdout",
     "output_type": "stream",
     "text": [
      "man size: 4457 woman size: 3273\n",
      "Test epoch   : 11, meanAP: 26.04, meanAP_man: 25.83, meanAP_woman: nan, adv acc: 77.89, \n"
     ]
    },
    {
     "data": {
      "application/vnd.jupyter.widget-view+json": {
       "model_id": "e99a054879c34446bacdca30903e6f10",
       "version_major": 2,
       "version_minor": 0
      },
      "text/plain": [
       "HBox(children=(FloatProgress(value=0.0, description='Train 12', max=190.0, style=ProgressStyle(description_wid…"
      ]
     },
     "metadata": {},
     "output_type": "display_data"
    },
    {
     "name": "stdout",
     "output_type": "stream",
     "text": [
      "\n",
      "man size: 14199 woman size: 10102\n",
      "Train epoch  : 12, meanAP: 28.89, meanAP_man: 27.54, meanAP_woman: 27.31, adv acc: 96.61, \n"
     ]
    },
    {
     "data": {
      "application/vnd.jupyter.widget-view+json": {
       "model_id": "a92d23b377964e3bba7d5ffb75f55d2c",
       "version_major": 2,
       "version_minor": 0
      },
      "text/plain": [
       "HBox(children=(FloatProgress(value=0.0, description='Val balanced 12', max=47.0, style=ProgressStyle(descripti…"
      ]
     },
     "metadata": {},
     "output_type": "display_data"
    },
    {
     "name": "stdout",
     "output_type": "stream",
     "text": [
      "\n",
      "man size: 3000 woman size: 3000\n",
      "Test epoch(f): 12, meanAP: 26.92, meanAP_man: 27.41, meanAP_woman: nan, adv acc: 76.90, \n"
     ]
    },
    {
     "name": "stderr",
     "output_type": "stream",
     "text": [
      "C:\\Users\\emano\\Anaconda3\\envs\\py37-Torch-Transformers\\lib\\site-packages\\sklearn\\metrics\\_ranking.py:677: RuntimeWarning: invalid value encountered in true_divide\n",
      "  recall = tps / tps[-1]\n"
     ]
    },
    {
     "data": {
      "application/vnd.jupyter.widget-view+json": {
       "model_id": "0fd8305845a34bf1a137ab032502db00",
       "version_major": 2,
       "version_minor": 0
      },
      "text/plain": [
       "HBox(children=(FloatProgress(value=0.0, description='Val 12', max=61.0, style=ProgressStyle(description_width=…"
      ]
     },
     "metadata": {},
     "output_type": "display_data"
    },
    {
     "name": "stdout",
     "output_type": "stream",
     "text": [
      "\n"
     ]
    },
    {
     "name": "stderr",
     "output_type": "stream",
     "text": [
      "C:\\Users\\emano\\Anaconda3\\envs\\py37-Torch-Transformers\\lib\\site-packages\\sklearn\\metrics\\_ranking.py:677: RuntimeWarning: invalid value encountered in true_divide\n",
      "  recall = tps / tps[-1]\n"
     ]
    },
    {
     "name": "stdout",
     "output_type": "stream",
     "text": [
      "man size: 4457 woman size: 3273\n",
      "Test epoch   : 12, meanAP: 26.46, meanAP_man: 26.24, meanAP_woman: nan, adv acc: 78.42, \n"
     ]
    },
    {
     "data": {
      "application/vnd.jupyter.widget-view+json": {
       "model_id": "1c7dc50265b349189276f2b6ac4655f3",
       "version_major": 2,
       "version_minor": 0
      },
      "text/plain": [
       "HBox(children=(FloatProgress(value=0.0, description='Train 13', max=190.0, style=ProgressStyle(description_wid…"
      ]
     },
     "metadata": {},
     "output_type": "display_data"
    },
    {
     "name": "stdout",
     "output_type": "stream",
     "text": [
      "\n",
      "man size: 14199 woman size: 10102\n",
      "Train epoch  : 13, meanAP: 29.94, meanAP_man: 28.52, meanAP_woman: 27.94, adv acc: 97.19, \n"
     ]
    },
    {
     "data": {
      "application/vnd.jupyter.widget-view+json": {
       "model_id": "0447e01284ad4075b3bde5f5dbbac30b",
       "version_major": 2,
       "version_minor": 0
      },
      "text/plain": [
       "HBox(children=(FloatProgress(value=0.0, description='Val balanced 13', max=47.0, style=ProgressStyle(descripti…"
      ]
     },
     "metadata": {},
     "output_type": "display_data"
    },
    {
     "name": "stdout",
     "output_type": "stream",
     "text": [
      "\n",
      "man size: 3000 woman size: 3000\n",
      "Test epoch(f): 13, meanAP: 27.43, meanAP_man: 27.86, meanAP_woman: nan, adv acc: 76.97, \n"
     ]
    },
    {
     "name": "stderr",
     "output_type": "stream",
     "text": [
      "C:\\Users\\emano\\Anaconda3\\envs\\py37-Torch-Transformers\\lib\\site-packages\\sklearn\\metrics\\_ranking.py:677: RuntimeWarning: invalid value encountered in true_divide\n",
      "  recall = tps / tps[-1]\n"
     ]
    },
    {
     "data": {
      "application/vnd.jupyter.widget-view+json": {
       "model_id": "fb65e892075f4193a2bce6c09d1e2a75",
       "version_major": 2,
       "version_minor": 0
      },
      "text/plain": [
       "HBox(children=(FloatProgress(value=0.0, description='Val 13', max=61.0, style=ProgressStyle(description_width=…"
      ]
     },
     "metadata": {},
     "output_type": "display_data"
    },
    {
     "name": "stdout",
     "output_type": "stream",
     "text": [
      "\n"
     ]
    },
    {
     "name": "stderr",
     "output_type": "stream",
     "text": [
      "C:\\Users\\emano\\Anaconda3\\envs\\py37-Torch-Transformers\\lib\\site-packages\\sklearn\\metrics\\_ranking.py:677: RuntimeWarning: invalid value encountered in true_divide\n",
      "  recall = tps / tps[-1]\n"
     ]
    },
    {
     "name": "stdout",
     "output_type": "stream",
     "text": [
      "man size: 4457 woman size: 3273\n",
      "Test epoch   : 13, meanAP: 26.95, meanAP_man: 26.66, meanAP_woman: nan, adv acc: 78.20, \n"
     ]
    },
    {
     "data": {
      "application/vnd.jupyter.widget-view+json": {
       "model_id": "2d736209f5504d20a173b9ffbc99b02a",
       "version_major": 2,
       "version_minor": 0
      },
      "text/plain": [
       "HBox(children=(FloatProgress(value=0.0, description='Train 14', max=190.0, style=ProgressStyle(description_wid…"
      ]
     },
     "metadata": {},
     "output_type": "display_data"
    },
    {
     "name": "stdout",
     "output_type": "stream",
     "text": [
      "\n",
      "man size: 14199 woman size: 10102\n",
      "Train epoch  : 14, meanAP: 30.63, meanAP_man: 29.04, meanAP_woman: 29.01, adv acc: 97.31, \n"
     ]
    },
    {
     "data": {
      "application/vnd.jupyter.widget-view+json": {
       "model_id": "6360313aa0674590a72fedc04e8b1c0f",
       "version_major": 2,
       "version_minor": 0
      },
      "text/plain": [
       "HBox(children=(FloatProgress(value=0.0, description='Val balanced 14', max=47.0, style=ProgressStyle(descripti…"
      ]
     },
     "metadata": {},
     "output_type": "display_data"
    },
    {
     "name": "stdout",
     "output_type": "stream",
     "text": [
      "\n",
      "man size: 3000 woman size: 3000\n",
      "Test epoch(f): 14, meanAP: 27.77, meanAP_man: 28.22, meanAP_woman: nan, adv acc: 77.23, \n"
     ]
    },
    {
     "name": "stderr",
     "output_type": "stream",
     "text": [
      "C:\\Users\\emano\\Anaconda3\\envs\\py37-Torch-Transformers\\lib\\site-packages\\sklearn\\metrics\\_ranking.py:677: RuntimeWarning: invalid value encountered in true_divide\n",
      "  recall = tps / tps[-1]\n"
     ]
    },
    {
     "data": {
      "application/vnd.jupyter.widget-view+json": {
       "model_id": "d474f67688514ee9a0bcb9b543eb4f76",
       "version_major": 2,
       "version_minor": 0
      },
      "text/plain": [
       "HBox(children=(FloatProgress(value=0.0, description='Val 14', max=61.0, style=ProgressStyle(description_width=…"
      ]
     },
     "metadata": {},
     "output_type": "display_data"
    },
    {
     "name": "stdout",
     "output_type": "stream",
     "text": [
      "\n"
     ]
    },
    {
     "name": "stderr",
     "output_type": "stream",
     "text": [
      "C:\\Users\\emano\\Anaconda3\\envs\\py37-Torch-Transformers\\lib\\site-packages\\sklearn\\metrics\\_ranking.py:677: RuntimeWarning: invalid value encountered in true_divide\n",
      "  recall = tps / tps[-1]\n"
     ]
    },
    {
     "name": "stdout",
     "output_type": "stream",
     "text": [
      "man size: 4457 woman size: 3273\n",
      "Test epoch   : 14, meanAP: 27.34, meanAP_man: 27.02, meanAP_woman: nan, adv acc: 77.93, \n"
     ]
    },
    {
     "data": {
      "application/vnd.jupyter.widget-view+json": {
       "model_id": "ba0236396eeb4034b19e7bf5418e4e35",
       "version_major": 2,
       "version_minor": 0
      },
      "text/plain": [
       "HBox(children=(FloatProgress(value=0.0, description='Train 15', max=190.0, style=ProgressStyle(description_wid…"
      ]
     },
     "metadata": {},
     "output_type": "display_data"
    },
    {
     "name": "stdout",
     "output_type": "stream",
     "text": [
      "\n",
      "man size: 14199 woman size: 10102\n",
      "Train epoch  : 15, meanAP: 31.35, meanAP_man: 29.81, meanAP_woman: 29.10, adv acc: 97.50, \n"
     ]
    },
    {
     "data": {
      "application/vnd.jupyter.widget-view+json": {
       "model_id": "cda63b6d103a45aa976c76bb1a6f838a",
       "version_major": 2,
       "version_minor": 0
      },
      "text/plain": [
       "HBox(children=(FloatProgress(value=0.0, description='Val balanced 15', max=47.0, style=ProgressStyle(descripti…"
      ]
     },
     "metadata": {},
     "output_type": "display_data"
    },
    {
     "name": "stdout",
     "output_type": "stream",
     "text": [
      "\n",
      "man size: 3000 woman size: 3000\n",
      "Test epoch(f): 15, meanAP: 28.27, meanAP_man: 28.55, meanAP_woman: nan, adv acc: 76.63, \n"
     ]
    },
    {
     "name": "stderr",
     "output_type": "stream",
     "text": [
      "C:\\Users\\emano\\Anaconda3\\envs\\py37-Torch-Transformers\\lib\\site-packages\\sklearn\\metrics\\_ranking.py:677: RuntimeWarning: invalid value encountered in true_divide\n",
      "  recall = tps / tps[-1]\n"
     ]
    },
    {
     "data": {
      "application/vnd.jupyter.widget-view+json": {
       "model_id": "1972621220ac4d7f8cc9421895b2e1f4",
       "version_major": 2,
       "version_minor": 0
      },
      "text/plain": [
       "HBox(children=(FloatProgress(value=0.0, description='Val 15', max=61.0, style=ProgressStyle(description_width=…"
      ]
     },
     "metadata": {},
     "output_type": "display_data"
    },
    {
     "name": "stdout",
     "output_type": "stream",
     "text": [
      "\n"
     ]
    },
    {
     "name": "stderr",
     "output_type": "stream",
     "text": [
      "C:\\Users\\emano\\Anaconda3\\envs\\py37-Torch-Transformers\\lib\\site-packages\\sklearn\\metrics\\_ranking.py:677: RuntimeWarning: invalid value encountered in true_divide\n",
      "  recall = tps / tps[-1]\n"
     ]
    },
    {
     "name": "stdout",
     "output_type": "stream",
     "text": [
      "man size: 4457 woman size: 3273\n",
      "Test epoch   : 15, meanAP: 27.75, meanAP_man: 27.28, meanAP_woman: nan, adv acc: 78.16, \n"
     ]
    },
    {
     "data": {
      "application/vnd.jupyter.widget-view+json": {
       "model_id": "cb7abdf61d894533a6973998e2c4a8a3",
       "version_major": 2,
       "version_minor": 0
      },
      "text/plain": [
       "HBox(children=(FloatProgress(value=0.0, description='Train 16', max=190.0, style=ProgressStyle(description_wid…"
      ]
     },
     "metadata": {},
     "output_type": "display_data"
    },
    {
     "name": "stdout",
     "output_type": "stream",
     "text": [
      "\n",
      "man size: 14199 woman size: 10102\n",
      "Train epoch  : 16, meanAP: 31.98, meanAP_man: 30.47, meanAP_woman: 30.06, adv acc: 97.63, \n"
     ]
    },
    {
     "data": {
      "application/vnd.jupyter.widget-view+json": {
       "model_id": "f39d28e8f7a14fe4b023ea29a219818a",
       "version_major": 2,
       "version_minor": 0
      },
      "text/plain": [
       "HBox(children=(FloatProgress(value=0.0, description='Val balanced 16', max=47.0, style=ProgressStyle(descripti…"
      ]
     },
     "metadata": {},
     "output_type": "display_data"
    },
    {
     "name": "stdout",
     "output_type": "stream",
     "text": [
      "\n",
      "man size: 3000 woman size: 3000\n",
      "Test epoch(f): 16, meanAP: 28.62, meanAP_man: 28.97, meanAP_woman: nan, adv acc: 76.60, \n"
     ]
    },
    {
     "name": "stderr",
     "output_type": "stream",
     "text": [
      "C:\\Users\\emano\\Anaconda3\\envs\\py37-Torch-Transformers\\lib\\site-packages\\sklearn\\metrics\\_ranking.py:677: RuntimeWarning: invalid value encountered in true_divide\n",
      "  recall = tps / tps[-1]\n"
     ]
    },
    {
     "data": {
      "application/vnd.jupyter.widget-view+json": {
       "model_id": "dd4be89de83844fe87b71b282b838559",
       "version_major": 2,
       "version_minor": 0
      },
      "text/plain": [
       "HBox(children=(FloatProgress(value=0.0, description='Val 16', max=61.0, style=ProgressStyle(description_width=…"
      ]
     },
     "metadata": {},
     "output_type": "display_data"
    },
    {
     "name": "stdout",
     "output_type": "stream",
     "text": [
      "\n"
     ]
    },
    {
     "name": "stderr",
     "output_type": "stream",
     "text": [
      "C:\\Users\\emano\\Anaconda3\\envs\\py37-Torch-Transformers\\lib\\site-packages\\sklearn\\metrics\\_ranking.py:677: RuntimeWarning: invalid value encountered in true_divide\n",
      "  recall = tps / tps[-1]\n"
     ]
    },
    {
     "name": "stdout",
     "output_type": "stream",
     "text": [
      "man size: 4457 woman size: 3273\n",
      "Test epoch   : 16, meanAP: 28.15, meanAP_man: 27.77, meanAP_woman: nan, adv acc: 77.61, \n"
     ]
    },
    {
     "data": {
      "application/vnd.jupyter.widget-view+json": {
       "model_id": "07a7579d637f4f7ba89b83287de5a670",
       "version_major": 2,
       "version_minor": 0
      },
      "text/plain": [
       "HBox(children=(FloatProgress(value=0.0, description='Train 17', max=190.0, style=ProgressStyle(description_wid…"
      ]
     },
     "metadata": {},
     "output_type": "display_data"
    },
    {
     "name": "stdout",
     "output_type": "stream",
     "text": [
      "\n",
      "man size: 14199 woman size: 10102\n",
      "Train epoch  : 17, meanAP: 32.52, meanAP_man: 30.85, meanAP_woman: 30.73, adv acc: 98.16, \n"
     ]
    },
    {
     "data": {
      "application/vnd.jupyter.widget-view+json": {
       "model_id": "00784f18b73141d1a962586ecffacf8c",
       "version_major": 2,
       "version_minor": 0
      },
      "text/plain": [
       "HBox(children=(FloatProgress(value=0.0, description='Val balanced 17', max=47.0, style=ProgressStyle(descripti…"
      ]
     },
     "metadata": {},
     "output_type": "display_data"
    },
    {
     "name": "stdout",
     "output_type": "stream",
     "text": [
      "\n",
      "man size: 3000 woman size: 3000\n",
      "Test epoch(f): 17, meanAP: 28.73, meanAP_man: 29.11, meanAP_woman: nan, adv acc: 76.98, \n"
     ]
    },
    {
     "name": "stderr",
     "output_type": "stream",
     "text": [
      "C:\\Users\\emano\\Anaconda3\\envs\\py37-Torch-Transformers\\lib\\site-packages\\sklearn\\metrics\\_ranking.py:677: RuntimeWarning: invalid value encountered in true_divide\n",
      "  recall = tps / tps[-1]\n"
     ]
    },
    {
     "data": {
      "application/vnd.jupyter.widget-view+json": {
       "model_id": "99244e86dd224a62ba37ad2371d44efe",
       "version_major": 2,
       "version_minor": 0
      },
      "text/plain": [
       "HBox(children=(FloatProgress(value=0.0, description='Val 17', max=61.0, style=ProgressStyle(description_width=…"
      ]
     },
     "metadata": {},
     "output_type": "display_data"
    },
    {
     "name": "stdout",
     "output_type": "stream",
     "text": [
      "\n"
     ]
    },
    {
     "name": "stderr",
     "output_type": "stream",
     "text": [
      "C:\\Users\\emano\\Anaconda3\\envs\\py37-Torch-Transformers\\lib\\site-packages\\sklearn\\metrics\\_ranking.py:677: RuntimeWarning: invalid value encountered in true_divide\n",
      "  recall = tps / tps[-1]\n"
     ]
    },
    {
     "name": "stdout",
     "output_type": "stream",
     "text": [
      "man size: 4457 woman size: 3273\n",
      "Test epoch   : 17, meanAP: 28.23, meanAP_man: 27.83, meanAP_woman: nan, adv acc: 77.89, \n"
     ]
    },
    {
     "data": {
      "application/vnd.jupyter.widget-view+json": {
       "model_id": "2b8acf51e9be4cdf9c296ce61b4bd328",
       "version_major": 2,
       "version_minor": 0
      },
      "text/plain": [
       "HBox(children=(FloatProgress(value=0.0, description='Train 18', max=190.0, style=ProgressStyle(description_wid…"
      ]
     },
     "metadata": {},
     "output_type": "display_data"
    },
    {
     "name": "stdout",
     "output_type": "stream",
     "text": [
      "\n",
      "man size: 14199 woman size: 10102\n",
      "Train epoch  : 18, meanAP: 32.98, meanAP_man: 31.25, meanAP_woman: 31.13, adv acc: 97.99, \n"
     ]
    },
    {
     "data": {
      "application/vnd.jupyter.widget-view+json": {
       "model_id": "b5a6b23c6c104318962d81ede66c9649",
       "version_major": 2,
       "version_minor": 0
      },
      "text/plain": [
       "HBox(children=(FloatProgress(value=0.0, description='Val balanced 18', max=47.0, style=ProgressStyle(descripti…"
      ]
     },
     "metadata": {},
     "output_type": "display_data"
    },
    {
     "name": "stdout",
     "output_type": "stream",
     "text": [
      "\n",
      "man size: 3000 woman size: 3000\n",
      "Test epoch(f): 18, meanAP: 29.02, meanAP_man: 29.33, meanAP_woman: nan, adv acc: 77.38, \n"
     ]
    },
    {
     "name": "stderr",
     "output_type": "stream",
     "text": [
      "C:\\Users\\emano\\Anaconda3\\envs\\py37-Torch-Transformers\\lib\\site-packages\\sklearn\\metrics\\_ranking.py:677: RuntimeWarning: invalid value encountered in true_divide\n",
      "  recall = tps / tps[-1]\n"
     ]
    },
    {
     "data": {
      "application/vnd.jupyter.widget-view+json": {
       "model_id": "de2fcb0a6a8145b4851d686b10ebc0d0",
       "version_major": 2,
       "version_minor": 0
      },
      "text/plain": [
       "HBox(children=(FloatProgress(value=0.0, description='Val 18', max=61.0, style=ProgressStyle(description_width=…"
      ]
     },
     "metadata": {},
     "output_type": "display_data"
    },
    {
     "name": "stdout",
     "output_type": "stream",
     "text": [
      "\n"
     ]
    },
    {
     "name": "stderr",
     "output_type": "stream",
     "text": [
      "C:\\Users\\emano\\Anaconda3\\envs\\py37-Torch-Transformers\\lib\\site-packages\\sklearn\\metrics\\_ranking.py:677: RuntimeWarning: invalid value encountered in true_divide\n",
      "  recall = tps / tps[-1]\n"
     ]
    },
    {
     "name": "stdout",
     "output_type": "stream",
     "text": [
      "man size: 4457 woman size: 3273\n",
      "Test epoch   : 18, meanAP: 28.57, meanAP_man: 28.07, meanAP_woman: nan, adv acc: 77.98, \n"
     ]
    },
    {
     "data": {
      "application/vnd.jupyter.widget-view+json": {
       "model_id": "9f5ed505638a42a0bc68ec433a1d9370",
       "version_major": 2,
       "version_minor": 0
      },
      "text/plain": [
       "HBox(children=(FloatProgress(value=0.0, description='Train 19', max=190.0, style=ProgressStyle(description_wid…"
      ]
     },
     "metadata": {},
     "output_type": "display_data"
    },
    {
     "name": "stdout",
     "output_type": "stream",
     "text": [
      "\n",
      "man size: 14199 woman size: 10102\n",
      "Train epoch  : 19, meanAP: 33.44, meanAP_man: 31.85, meanAP_woman: 31.81, adv acc: 98.03, \n"
     ]
    },
    {
     "data": {
      "application/vnd.jupyter.widget-view+json": {
       "model_id": "01de04912efc4d7b9c10503b6df1e864",
       "version_major": 2,
       "version_minor": 0
      },
      "text/plain": [
       "HBox(children=(FloatProgress(value=0.0, description='Val balanced 19', max=47.0, style=ProgressStyle(descripti…"
      ]
     },
     "metadata": {},
     "output_type": "display_data"
    },
    {
     "name": "stdout",
     "output_type": "stream",
     "text": [
      "\n",
      "man size: 3000 woman size: 3000\n",
      "Test epoch(f): 19, meanAP: 29.29, meanAP_man: 29.77, meanAP_woman: nan, adv acc: 76.85, \n"
     ]
    },
    {
     "name": "stderr",
     "output_type": "stream",
     "text": [
      "C:\\Users\\emano\\Anaconda3\\envs\\py37-Torch-Transformers\\lib\\site-packages\\sklearn\\metrics\\_ranking.py:677: RuntimeWarning: invalid value encountered in true_divide\n",
      "  recall = tps / tps[-1]\n"
     ]
    },
    {
     "data": {
      "application/vnd.jupyter.widget-view+json": {
       "model_id": "c12879d7020b44ab9f1ea3e94b9ec957",
       "version_major": 2,
       "version_minor": 0
      },
      "text/plain": [
       "HBox(children=(FloatProgress(value=0.0, description='Val 19', max=61.0, style=ProgressStyle(description_width=…"
      ]
     },
     "metadata": {},
     "output_type": "display_data"
    },
    {
     "name": "stdout",
     "output_type": "stream",
     "text": [
      "\n"
     ]
    },
    {
     "name": "stderr",
     "output_type": "stream",
     "text": [
      "C:\\Users\\emano\\Anaconda3\\envs\\py37-Torch-Transformers\\lib\\site-packages\\sklearn\\metrics\\_ranking.py:677: RuntimeWarning: invalid value encountered in true_divide\n",
      "  recall = tps / tps[-1]\n"
     ]
    },
    {
     "name": "stdout",
     "output_type": "stream",
     "text": [
      "man size: 4457 woman size: 3273\n",
      "Test epoch   : 19, meanAP: 28.82, meanAP_man: 28.45, meanAP_woman: nan, adv acc: 77.67, \n"
     ]
    },
    {
     "data": {
      "application/vnd.jupyter.widget-view+json": {
       "model_id": "cd5cf4dfb6d649e58838fff0932ccef1",
       "version_major": 2,
       "version_minor": 0
      },
      "text/plain": [
       "HBox(children=(FloatProgress(value=0.0, description='Train 20', max=190.0, style=ProgressStyle(description_wid…"
      ]
     },
     "metadata": {},
     "output_type": "display_data"
    },
    {
     "name": "stdout",
     "output_type": "stream",
     "text": [
      "\n",
      "man size: 14199 woman size: 10102\n",
      "Train epoch  : 20, meanAP: 33.71, meanAP_man: 32.17, meanAP_woman: 31.56, adv acc: 98.33, \n"
     ]
    },
    {
     "data": {
      "application/vnd.jupyter.widget-view+json": {
       "model_id": "cf0e00cc26ea4b0cb6f4e7023b0bb79e",
       "version_major": 2,
       "version_minor": 0
      },
      "text/plain": [
       "HBox(children=(FloatProgress(value=0.0, description='Val balanced 20', max=47.0, style=ProgressStyle(descripti…"
      ]
     },
     "metadata": {},
     "output_type": "display_data"
    },
    {
     "name": "stdout",
     "output_type": "stream",
     "text": [
      "\n",
      "man size: 3000 woman size: 3000\n",
      "Test epoch(f): 20, meanAP: 29.69, meanAP_man: 30.08, meanAP_woman: nan, adv acc: 76.95, \n"
     ]
    },
    {
     "name": "stderr",
     "output_type": "stream",
     "text": [
      "C:\\Users\\emano\\Anaconda3\\envs\\py37-Torch-Transformers\\lib\\site-packages\\sklearn\\metrics\\_ranking.py:677: RuntimeWarning: invalid value encountered in true_divide\n",
      "  recall = tps / tps[-1]\n"
     ]
    },
    {
     "data": {
      "application/vnd.jupyter.widget-view+json": {
       "model_id": "431b6eb8dc6c4b6c86b9ac126d51925b",
       "version_major": 2,
       "version_minor": 0
      },
      "text/plain": [
       "HBox(children=(FloatProgress(value=0.0, description='Val 20', max=61.0, style=ProgressStyle(description_width=…"
      ]
     },
     "metadata": {},
     "output_type": "display_data"
    },
    {
     "name": "stdout",
     "output_type": "stream",
     "text": [
      "\n"
     ]
    },
    {
     "name": "stderr",
     "output_type": "stream",
     "text": [
      "C:\\Users\\emano\\Anaconda3\\envs\\py37-Torch-Transformers\\lib\\site-packages\\sklearn\\metrics\\_ranking.py:677: RuntimeWarning: invalid value encountered in true_divide\n",
      "  recall = tps / tps[-1]\n"
     ]
    },
    {
     "name": "stdout",
     "output_type": "stream",
     "text": [
      "man size: 4457 woman size: 3273\n",
      "Test epoch   : 20, meanAP: 29.20, meanAP_man: 28.82, meanAP_woman: nan, adv acc: 77.92, \n"
     ]
    },
    {
     "data": {
      "application/vnd.jupyter.widget-view+json": {
       "model_id": "86e4a5f79af04cff8a1fd1dfe003edf6",
       "version_major": 2,
       "version_minor": 0
      },
      "text/plain": [
       "HBox(children=(FloatProgress(value=0.0, description='Train 21', max=190.0, style=ProgressStyle(description_wid…"
      ]
     },
     "metadata": {},
     "output_type": "display_data"
    },
    {
     "name": "stdout",
     "output_type": "stream",
     "text": [
      "\n",
      "man size: 14199 woman size: 10102\n",
      "Train epoch  : 21, meanAP: 34.44, meanAP_man: 32.50, meanAP_woman: 32.55, adv acc: 98.49, \n"
     ]
    },
    {
     "data": {
      "application/vnd.jupyter.widget-view+json": {
       "model_id": "90110461fe6c4e30966388d8465dba86",
       "version_major": 2,
       "version_minor": 0
      },
      "text/plain": [
       "HBox(children=(FloatProgress(value=0.0, description='Val balanced 21', max=47.0, style=ProgressStyle(descripti…"
      ]
     },
     "metadata": {},
     "output_type": "display_data"
    },
    {
     "name": "stdout",
     "output_type": "stream",
     "text": [
      "\n",
      "man size: 3000 woman size: 3000\n",
      "Test epoch(f): 21, meanAP: 29.83, meanAP_man: 30.32, meanAP_woman: nan, adv acc: 76.78, \n"
     ]
    },
    {
     "name": "stderr",
     "output_type": "stream",
     "text": [
      "C:\\Users\\emano\\Anaconda3\\envs\\py37-Torch-Transformers\\lib\\site-packages\\sklearn\\metrics\\_ranking.py:677: RuntimeWarning: invalid value encountered in true_divide\n",
      "  recall = tps / tps[-1]\n"
     ]
    },
    {
     "data": {
      "application/vnd.jupyter.widget-view+json": {
       "model_id": "4de31d7a528c4a8c937b0c7862b26714",
       "version_major": 2,
       "version_minor": 0
      },
      "text/plain": [
       "HBox(children=(FloatProgress(value=0.0, description='Val 21', max=61.0, style=ProgressStyle(description_width=…"
      ]
     },
     "metadata": {},
     "output_type": "display_data"
    },
    {
     "name": "stdout",
     "output_type": "stream",
     "text": [
      "\n"
     ]
    },
    {
     "name": "stderr",
     "output_type": "stream",
     "text": [
      "C:\\Users\\emano\\Anaconda3\\envs\\py37-Torch-Transformers\\lib\\site-packages\\sklearn\\metrics\\_ranking.py:677: RuntimeWarning: invalid value encountered in true_divide\n",
      "  recall = tps / tps[-1]\n"
     ]
    },
    {
     "name": "stdout",
     "output_type": "stream",
     "text": [
      "man size: 4457 woman size: 3273\n",
      "Test epoch   : 21, meanAP: 29.36, meanAP_man: 28.96, meanAP_woman: nan, adv acc: 77.83, \n"
     ]
    },
    {
     "data": {
      "application/vnd.jupyter.widget-view+json": {
       "model_id": "2b4b9bc3a79e476895a4d84c787d4c82",
       "version_major": 2,
       "version_minor": 0
      },
      "text/plain": [
       "HBox(children=(FloatProgress(value=0.0, description='Train 22', max=190.0, style=ProgressStyle(description_wid…"
      ]
     },
     "metadata": {},
     "output_type": "display_data"
    },
    {
     "name": "stdout",
     "output_type": "stream",
     "text": [
      "\n",
      "man size: 14199 woman size: 10102\n",
      "Train epoch  : 22, meanAP: 34.97, meanAP_man: 33.18, meanAP_woman: 33.08, adv acc: 98.35, \n"
     ]
    },
    {
     "data": {
      "application/vnd.jupyter.widget-view+json": {
       "model_id": "f63108388d4a4d3788b6b335bd3ddd52",
       "version_major": 2,
       "version_minor": 0
      },
      "text/plain": [
       "HBox(children=(FloatProgress(value=0.0, description='Val balanced 22', max=47.0, style=ProgressStyle(descripti…"
      ]
     },
     "metadata": {},
     "output_type": "display_data"
    },
    {
     "name": "stdout",
     "output_type": "stream",
     "text": [
      "\n",
      "man size: 3000 woman size: 3000\n",
      "Test epoch(f): 22, meanAP: 30.02, meanAP_man: 30.34, meanAP_woman: nan, adv acc: 77.32, \n"
     ]
    },
    {
     "name": "stderr",
     "output_type": "stream",
     "text": [
      "C:\\Users\\emano\\Anaconda3\\envs\\py37-Torch-Transformers\\lib\\site-packages\\sklearn\\metrics\\_ranking.py:677: RuntimeWarning: invalid value encountered in true_divide\n",
      "  recall = tps / tps[-1]\n"
     ]
    },
    {
     "data": {
      "application/vnd.jupyter.widget-view+json": {
       "model_id": "cd7b59b8ee17480ca504e6665cf92a4f",
       "version_major": 2,
       "version_minor": 0
      },
      "text/plain": [
       "HBox(children=(FloatProgress(value=0.0, description='Val 22', max=61.0, style=ProgressStyle(description_width=…"
      ]
     },
     "metadata": {},
     "output_type": "display_data"
    },
    {
     "name": "stdout",
     "output_type": "stream",
     "text": [
      "\n"
     ]
    },
    {
     "name": "stderr",
     "output_type": "stream",
     "text": [
      "C:\\Users\\emano\\Anaconda3\\envs\\py37-Torch-Transformers\\lib\\site-packages\\sklearn\\metrics\\_ranking.py:677: RuntimeWarning: invalid value encountered in true_divide\n",
      "  recall = tps / tps[-1]\n"
     ]
    },
    {
     "name": "stdout",
     "output_type": "stream",
     "text": [
      "man size: 4457 woman size: 3273\n",
      "Test epoch   : 22, meanAP: 29.59, meanAP_man: 29.11, meanAP_woman: nan, adv acc: 78.38, \n"
     ]
    },
    {
     "data": {
      "application/vnd.jupyter.widget-view+json": {
       "model_id": "795b74fda116450993e115dea2c659da",
       "version_major": 2,
       "version_minor": 0
      },
      "text/plain": [
       "HBox(children=(FloatProgress(value=0.0, description='Train 23', max=190.0, style=ProgressStyle(description_wid…"
      ]
     },
     "metadata": {},
     "output_type": "display_data"
    },
    {
     "name": "stdout",
     "output_type": "stream",
     "text": [
      "\n",
      "man size: 14199 woman size: 10102\n",
      "Train epoch  : 23, meanAP: 35.31, meanAP_man: 33.76, meanAP_woman: 32.73, adv acc: 98.47, \n"
     ]
    },
    {
     "data": {
      "application/vnd.jupyter.widget-view+json": {
       "model_id": "8acdee92f42444c89b69653cfeb9158f",
       "version_major": 2,
       "version_minor": 0
      },
      "text/plain": [
       "HBox(children=(FloatProgress(value=0.0, description='Val balanced 23', max=47.0, style=ProgressStyle(descripti…"
      ]
     },
     "metadata": {},
     "output_type": "display_data"
    },
    {
     "name": "stdout",
     "output_type": "stream",
     "text": [
      "\n",
      "man size: 3000 woman size: 3000\n",
      "Test epoch(f): 23, meanAP: 30.17, meanAP_man: 30.62, meanAP_woman: nan, adv acc: 77.23, \n"
     ]
    },
    {
     "name": "stderr",
     "output_type": "stream",
     "text": [
      "C:\\Users\\emano\\Anaconda3\\envs\\py37-Torch-Transformers\\lib\\site-packages\\sklearn\\metrics\\_ranking.py:677: RuntimeWarning: invalid value encountered in true_divide\n",
      "  recall = tps / tps[-1]\n"
     ]
    },
    {
     "data": {
      "application/vnd.jupyter.widget-view+json": {
       "model_id": "b52b38d0bc724b0aae808eadb979a1c8",
       "version_major": 2,
       "version_minor": 0
      },
      "text/plain": [
       "HBox(children=(FloatProgress(value=0.0, description='Val 23', max=61.0, style=ProgressStyle(description_width=…"
      ]
     },
     "metadata": {},
     "output_type": "display_data"
    },
    {
     "name": "stdout",
     "output_type": "stream",
     "text": [
      "\n"
     ]
    },
    {
     "name": "stderr",
     "output_type": "stream",
     "text": [
      "C:\\Users\\emano\\Anaconda3\\envs\\py37-Torch-Transformers\\lib\\site-packages\\sklearn\\metrics\\_ranking.py:677: RuntimeWarning: invalid value encountered in true_divide\n",
      "  recall = tps / tps[-1]\n"
     ]
    },
    {
     "name": "stdout",
     "output_type": "stream",
     "text": [
      "man size: 4457 woman size: 3273\n",
      "Test epoch   : 23, meanAP: 29.72, meanAP_man: 29.29, meanAP_woman: nan, adv acc: 78.06, \n"
     ]
    },
    {
     "data": {
      "application/vnd.jupyter.widget-view+json": {
       "model_id": "f0011ef27a1b4591b48c85afb4d25862",
       "version_major": 2,
       "version_minor": 0
      },
      "text/plain": [
       "HBox(children=(FloatProgress(value=0.0, description='Train 24', max=190.0, style=ProgressStyle(description_wid…"
      ]
     },
     "metadata": {},
     "output_type": "display_data"
    },
    {
     "name": "stdout",
     "output_type": "stream",
     "text": [
      "\n",
      "man size: 14199 woman size: 10102\n",
      "Train epoch  : 24, meanAP: 35.61, meanAP_man: 33.79, meanAP_woman: 33.56, adv acc: 98.54, \n"
     ]
    },
    {
     "data": {
      "application/vnd.jupyter.widget-view+json": {
       "model_id": "77cf5f576a6c4b259aed6284a9b58c28",
       "version_major": 2,
       "version_minor": 0
      },
      "text/plain": [
       "HBox(children=(FloatProgress(value=0.0, description='Val balanced 24', max=47.0, style=ProgressStyle(descripti…"
      ]
     },
     "metadata": {},
     "output_type": "display_data"
    },
    {
     "name": "stdout",
     "output_type": "stream",
     "text": [
      "\n",
      "man size: 3000 woman size: 3000\n",
      "Test epoch(f): 24, meanAP: 30.29, meanAP_man: 30.72, meanAP_woman: nan, adv acc: 77.45, \n"
     ]
    },
    {
     "name": "stderr",
     "output_type": "stream",
     "text": [
      "C:\\Users\\emano\\Anaconda3\\envs\\py37-Torch-Transformers\\lib\\site-packages\\sklearn\\metrics\\_ranking.py:677: RuntimeWarning: invalid value encountered in true_divide\n",
      "  recall = tps / tps[-1]\n"
     ]
    },
    {
     "data": {
      "application/vnd.jupyter.widget-view+json": {
       "model_id": "4bc3300712484ff1a981dc2b176740a9",
       "version_major": 2,
       "version_minor": 0
      },
      "text/plain": [
       "HBox(children=(FloatProgress(value=0.0, description='Val 24', max=61.0, style=ProgressStyle(description_width=…"
      ]
     },
     "metadata": {},
     "output_type": "display_data"
    },
    {
     "name": "stdout",
     "output_type": "stream",
     "text": [
      "\n"
     ]
    },
    {
     "name": "stderr",
     "output_type": "stream",
     "text": [
      "C:\\Users\\emano\\Anaconda3\\envs\\py37-Torch-Transformers\\lib\\site-packages\\sklearn\\metrics\\_ranking.py:677: RuntimeWarning: invalid value encountered in true_divide\n",
      "  recall = tps / tps[-1]\n"
     ]
    },
    {
     "name": "stdout",
     "output_type": "stream",
     "text": [
      "man size: 4457 woman size: 3273\n",
      "Test epoch   : 24, meanAP: 29.85, meanAP_man: 29.53, meanAP_woman: nan, adv acc: 78.56, \n"
     ]
    },
    {
     "data": {
      "application/vnd.jupyter.widget-view+json": {
       "model_id": "ee09800ea12840f2bade0f70a9dc0f0e",
       "version_major": 2,
       "version_minor": 0
      },
      "text/plain": [
       "HBox(children=(FloatProgress(value=0.0, description='Train 25', max=190.0, style=ProgressStyle(description_wid…"
      ]
     },
     "metadata": {},
     "output_type": "display_data"
    },
    {
     "name": "stdout",
     "output_type": "stream",
     "text": [
      "\n",
      "man size: 14199 woman size: 10102\n",
      "Train epoch  : 25, meanAP: 36.03, meanAP_man: 34.24, meanAP_woman: 33.56, adv acc: 98.62, \n"
     ]
    },
    {
     "data": {
      "application/vnd.jupyter.widget-view+json": {
       "model_id": "dc6d70e6e80049c79a758ed851116fd3",
       "version_major": 2,
       "version_minor": 0
      },
      "text/plain": [
       "HBox(children=(FloatProgress(value=0.0, description='Val balanced 25', max=47.0, style=ProgressStyle(descripti…"
      ]
     },
     "metadata": {},
     "output_type": "display_data"
    },
    {
     "name": "stdout",
     "output_type": "stream",
     "text": [
      "\n",
      "man size: 3000 woman size: 3000\n",
      "Test epoch(f): 25, meanAP: 30.57, meanAP_man: 30.85, meanAP_woman: nan, adv acc: 76.80, \n"
     ]
    },
    {
     "name": "stderr",
     "output_type": "stream",
     "text": [
      "C:\\Users\\emano\\Anaconda3\\envs\\py37-Torch-Transformers\\lib\\site-packages\\sklearn\\metrics\\_ranking.py:677: RuntimeWarning: invalid value encountered in true_divide\n",
      "  recall = tps / tps[-1]\n"
     ]
    },
    {
     "data": {
      "application/vnd.jupyter.widget-view+json": {
       "model_id": "810f486f591047419735e82d042a78db",
       "version_major": 2,
       "version_minor": 0
      },
      "text/plain": [
       "HBox(children=(FloatProgress(value=0.0, description='Val 25', max=61.0, style=ProgressStyle(description_width=…"
      ]
     },
     "metadata": {},
     "output_type": "display_data"
    },
    {
     "name": "stdout",
     "output_type": "stream",
     "text": [
      "\n"
     ]
    },
    {
     "name": "stderr",
     "output_type": "stream",
     "text": [
      "C:\\Users\\emano\\Anaconda3\\envs\\py37-Torch-Transformers\\lib\\site-packages\\sklearn\\metrics\\_ranking.py:677: RuntimeWarning: invalid value encountered in true_divide\n",
      "  recall = tps / tps[-1]\n"
     ]
    },
    {
     "name": "stdout",
     "output_type": "stream",
     "text": [
      "man size: 4457 woman size: 3273\n",
      "Test epoch   : 25, meanAP: 30.12, meanAP_man: 29.65, meanAP_woman: nan, adv acc: 78.02, \n"
     ]
    },
    {
     "data": {
      "application/vnd.jupyter.widget-view+json": {
       "model_id": "7c50cb751b924ec1856a0d6c6c9d33f3",
       "version_major": 2,
       "version_minor": 0
      },
      "text/plain": [
       "HBox(children=(FloatProgress(value=0.0, description='Train 26', max=190.0, style=ProgressStyle(description_wid…"
      ]
     },
     "metadata": {},
     "output_type": "display_data"
    },
    {
     "name": "stdout",
     "output_type": "stream",
     "text": [
      "\n",
      "man size: 14199 woman size: 10102\n",
      "Train epoch  : 26, meanAP: 36.69, meanAP_man: 34.95, meanAP_woman: 34.61, adv acc: 98.66, \n"
     ]
    },
    {
     "data": {
      "application/vnd.jupyter.widget-view+json": {
       "model_id": "80f753e1e1674b9d8bdaaa09a6b9c493",
       "version_major": 2,
       "version_minor": 0
      },
      "text/plain": [
       "HBox(children=(FloatProgress(value=0.0, description='Val balanced 26', max=47.0, style=ProgressStyle(descripti…"
      ]
     },
     "metadata": {},
     "output_type": "display_data"
    },
    {
     "name": "stdout",
     "output_type": "stream",
     "text": [
      "\n",
      "man size: 3000 woman size: 3000\n",
      "Test epoch(f): 26, meanAP: 30.65, meanAP_man: 31.04, meanAP_woman: nan, adv acc: 77.00, \n"
     ]
    },
    {
     "name": "stderr",
     "output_type": "stream",
     "text": [
      "C:\\Users\\emano\\Anaconda3\\envs\\py37-Torch-Transformers\\lib\\site-packages\\sklearn\\metrics\\_ranking.py:677: RuntimeWarning: invalid value encountered in true_divide\n",
      "  recall = tps / tps[-1]\n"
     ]
    },
    {
     "data": {
      "application/vnd.jupyter.widget-view+json": {
       "model_id": "97b5e14c94be496d94a52a2db41335d8",
       "version_major": 2,
       "version_minor": 0
      },
      "text/plain": [
       "HBox(children=(FloatProgress(value=0.0, description='Val 26', max=61.0, style=ProgressStyle(description_width=…"
      ]
     },
     "metadata": {},
     "output_type": "display_data"
    },
    {
     "name": "stdout",
     "output_type": "stream",
     "text": [
      "\n"
     ]
    },
    {
     "name": "stderr",
     "output_type": "stream",
     "text": [
      "C:\\Users\\emano\\Anaconda3\\envs\\py37-Torch-Transformers\\lib\\site-packages\\sklearn\\metrics\\_ranking.py:677: RuntimeWarning: invalid value encountered in true_divide\n",
      "  recall = tps / tps[-1]\n"
     ]
    },
    {
     "name": "stdout",
     "output_type": "stream",
     "text": [
      "man size: 4457 woman size: 3273\n",
      "Test epoch   : 26, meanAP: 30.20, meanAP_man: 29.78, meanAP_woman: nan, adv acc: 78.01, \n"
     ]
    },
    {
     "data": {
      "application/vnd.jupyter.widget-view+json": {
       "model_id": "4ffbf1bf0f6c4d7589b2235f339419f6",
       "version_major": 2,
       "version_minor": 0
      },
      "text/plain": [
       "HBox(children=(FloatProgress(value=0.0, description='Train 27', max=190.0, style=ProgressStyle(description_wid…"
      ]
     },
     "metadata": {},
     "output_type": "display_data"
    },
    {
     "name": "stdout",
     "output_type": "stream",
     "text": [
      "\n",
      "man size: 14199 woman size: 10102\n",
      "Train epoch  : 27, meanAP: 37.00, meanAP_man: 35.21, meanAP_woman: 34.51, adv acc: 98.81, \n"
     ]
    },
    {
     "data": {
      "application/vnd.jupyter.widget-view+json": {
       "model_id": "e549838e448c429f8ca1b57cdd3cecee",
       "version_major": 2,
       "version_minor": 0
      },
      "text/plain": [
       "HBox(children=(FloatProgress(value=0.0, description='Val balanced 27', max=47.0, style=ProgressStyle(descripti…"
      ]
     },
     "metadata": {},
     "output_type": "display_data"
    },
    {
     "name": "stdout",
     "output_type": "stream",
     "text": [
      "\n",
      "man size: 3000 woman size: 3000\n",
      "Test epoch(f): 27, meanAP: 30.84, meanAP_man: 31.10, meanAP_woman: nan, adv acc: 77.83, \n"
     ]
    },
    {
     "name": "stderr",
     "output_type": "stream",
     "text": [
      "C:\\Users\\emano\\Anaconda3\\envs\\py37-Torch-Transformers\\lib\\site-packages\\sklearn\\metrics\\_ranking.py:677: RuntimeWarning: invalid value encountered in true_divide\n",
      "  recall = tps / tps[-1]\n"
     ]
    },
    {
     "data": {
      "application/vnd.jupyter.widget-view+json": {
       "model_id": "ef0b9fb2af914ad5b8491ec93eb8a00e",
       "version_major": 2,
       "version_minor": 0
      },
      "text/plain": [
       "HBox(children=(FloatProgress(value=0.0, description='Val 27', max=61.0, style=ProgressStyle(description_width=…"
      ]
     },
     "metadata": {},
     "output_type": "display_data"
    },
    {
     "name": "stdout",
     "output_type": "stream",
     "text": [
      "\n"
     ]
    },
    {
     "name": "stderr",
     "output_type": "stream",
     "text": [
      "C:\\Users\\emano\\Anaconda3\\envs\\py37-Torch-Transformers\\lib\\site-packages\\sklearn\\metrics\\_ranking.py:677: RuntimeWarning: invalid value encountered in true_divide\n",
      "  recall = tps / tps[-1]\n"
     ]
    },
    {
     "name": "stdout",
     "output_type": "stream",
     "text": [
      "man size: 4457 woman size: 3273\n",
      "Test epoch   : 27, meanAP: 30.42, meanAP_man: 29.96, meanAP_woman: nan, adv acc: 78.28, \n"
     ]
    },
    {
     "data": {
      "application/vnd.jupyter.widget-view+json": {
       "model_id": "102bfa46d3764bb5b17cd4a45af4bfa2",
       "version_major": 2,
       "version_minor": 0
      },
      "text/plain": [
       "HBox(children=(FloatProgress(value=0.0, description='Train 28', max=190.0, style=ProgressStyle(description_wid…"
      ]
     },
     "metadata": {},
     "output_type": "display_data"
    },
    {
     "name": "stdout",
     "output_type": "stream",
     "text": [
      "\n",
      "man size: 14199 woman size: 10102\n",
      "Train epoch  : 28, meanAP: 37.35, meanAP_man: 35.40, meanAP_woman: 35.55, adv acc: 98.65, \n"
     ]
    },
    {
     "data": {
      "application/vnd.jupyter.widget-view+json": {
       "model_id": "e8650feb8b054f8c9e23d951054df9f8",
       "version_major": 2,
       "version_minor": 0
      },
      "text/plain": [
       "HBox(children=(FloatProgress(value=0.0, description='Val balanced 28', max=47.0, style=ProgressStyle(descripti…"
      ]
     },
     "metadata": {},
     "output_type": "display_data"
    },
    {
     "name": "stdout",
     "output_type": "stream",
     "text": [
      "\n",
      "man size: 3000 woman size: 3000\n",
      "Test epoch(f): 28, meanAP: 30.87, meanAP_man: 31.19, meanAP_woman: nan, adv acc: 77.82, \n"
     ]
    },
    {
     "name": "stderr",
     "output_type": "stream",
     "text": [
      "C:\\Users\\emano\\Anaconda3\\envs\\py37-Torch-Transformers\\lib\\site-packages\\sklearn\\metrics\\_ranking.py:677: RuntimeWarning: invalid value encountered in true_divide\n",
      "  recall = tps / tps[-1]\n"
     ]
    },
    {
     "data": {
      "application/vnd.jupyter.widget-view+json": {
       "model_id": "bd0227001a5c4070b45f3523ed149ffd",
       "version_major": 2,
       "version_minor": 0
      },
      "text/plain": [
       "HBox(children=(FloatProgress(value=0.0, description='Val 28', max=61.0, style=ProgressStyle(description_width=…"
      ]
     },
     "metadata": {},
     "output_type": "display_data"
    },
    {
     "name": "stdout",
     "output_type": "stream",
     "text": [
      "\n"
     ]
    },
    {
     "name": "stderr",
     "output_type": "stream",
     "text": [
      "C:\\Users\\emano\\Anaconda3\\envs\\py37-Torch-Transformers\\lib\\site-packages\\sklearn\\metrics\\_ranking.py:677: RuntimeWarning: invalid value encountered in true_divide\n",
      "  recall = tps / tps[-1]\n"
     ]
    },
    {
     "name": "stdout",
     "output_type": "stream",
     "text": [
      "man size: 4457 woman size: 3273\n",
      "Test epoch   : 28, meanAP: 30.48, meanAP_man: 30.02, meanAP_woman: nan, adv acc: 78.18, \n"
     ]
    },
    {
     "data": {
      "application/vnd.jupyter.widget-view+json": {
       "model_id": "c680397c1d6e4a61b3f2077d3690b720",
       "version_major": 2,
       "version_minor": 0
      },
      "text/plain": [
       "HBox(children=(FloatProgress(value=0.0, description='Train 29', max=190.0, style=ProgressStyle(description_wid…"
      ]
     },
     "metadata": {},
     "output_type": "display_data"
    },
    {
     "name": "stdout",
     "output_type": "stream",
     "text": [
      "\n",
      "man size: 14199 woman size: 10102\n",
      "Train epoch  : 29, meanAP: 37.73, meanAP_man: 36.04, meanAP_woman: 35.57, adv acc: 98.74, \n"
     ]
    },
    {
     "data": {
      "application/vnd.jupyter.widget-view+json": {
       "model_id": "8b047c594e3f43fcb18890960caf5f5a",
       "version_major": 2,
       "version_minor": 0
      },
      "text/plain": [
       "HBox(children=(FloatProgress(value=0.0, description='Val balanced 29', max=47.0, style=ProgressStyle(descripti…"
      ]
     },
     "metadata": {},
     "output_type": "display_data"
    },
    {
     "name": "stdout",
     "output_type": "stream",
     "text": [
      "\n",
      "man size: 3000 woman size: 3000\n",
      "Test epoch(f): 29, meanAP: 31.14, meanAP_man: 31.37, meanAP_woman: nan, adv acc: 77.10, \n"
     ]
    },
    {
     "name": "stderr",
     "output_type": "stream",
     "text": [
      "C:\\Users\\emano\\Anaconda3\\envs\\py37-Torch-Transformers\\lib\\site-packages\\sklearn\\metrics\\_ranking.py:677: RuntimeWarning: invalid value encountered in true_divide\n",
      "  recall = tps / tps[-1]\n"
     ]
    },
    {
     "data": {
      "application/vnd.jupyter.widget-view+json": {
       "model_id": "f09fb894ca574ccd9e089d448fca438f",
       "version_major": 2,
       "version_minor": 0
      },
      "text/plain": [
       "HBox(children=(FloatProgress(value=0.0, description='Val 29', max=61.0, style=ProgressStyle(description_width=…"
      ]
     },
     "metadata": {},
     "output_type": "display_data"
    },
    {
     "name": "stdout",
     "output_type": "stream",
     "text": [
      "\n"
     ]
    },
    {
     "name": "stderr",
     "output_type": "stream",
     "text": [
      "C:\\Users\\emano\\Anaconda3\\envs\\py37-Torch-Transformers\\lib\\site-packages\\sklearn\\metrics\\_ranking.py:677: RuntimeWarning: invalid value encountered in true_divide\n",
      "  recall = tps / tps[-1]\n"
     ]
    },
    {
     "name": "stdout",
     "output_type": "stream",
     "text": [
      "man size: 4457 woman size: 3273\n",
      "Test epoch   : 29, meanAP: 30.70, meanAP_man: 30.23, meanAP_woman: nan, adv acc: 77.92, \n"
     ]
    },
    {
     "data": {
      "application/vnd.jupyter.widget-view+json": {
       "model_id": "b134c149229841bd81b291e073e7a144",
       "version_major": 2,
       "version_minor": 0
      },
      "text/plain": [
       "HBox(children=(FloatProgress(value=0.0, description='Train 30', max=190.0, style=ProgressStyle(description_wid…"
      ]
     },
     "metadata": {},
     "output_type": "display_data"
    },
    {
     "name": "stdout",
     "output_type": "stream",
     "text": [
      "\n",
      "man size: 14199 woman size: 10102\n",
      "Train epoch  : 30, meanAP: 37.97, meanAP_man: 36.02, meanAP_woman: 35.92, adv acc: 98.87, \n"
     ]
    },
    {
     "data": {
      "application/vnd.jupyter.widget-view+json": {
       "model_id": "b9c703242fb142ec9f935004ccfdf8e5",
       "version_major": 2,
       "version_minor": 0
      },
      "text/plain": [
       "HBox(children=(FloatProgress(value=0.0, description='Val balanced 30', max=47.0, style=ProgressStyle(descripti…"
      ]
     },
     "metadata": {},
     "output_type": "display_data"
    },
    {
     "name": "stdout",
     "output_type": "stream",
     "text": [
      "\n",
      "man size: 3000 woman size: 3000\n",
      "Test epoch(f): 30, meanAP: 31.28, meanAP_man: 31.48, meanAP_woman: nan, adv acc: 77.08, \n"
     ]
    },
    {
     "name": "stderr",
     "output_type": "stream",
     "text": [
      "C:\\Users\\emano\\Anaconda3\\envs\\py37-Torch-Transformers\\lib\\site-packages\\sklearn\\metrics\\_ranking.py:677: RuntimeWarning: invalid value encountered in true_divide\n",
      "  recall = tps / tps[-1]\n"
     ]
    },
    {
     "data": {
      "application/vnd.jupyter.widget-view+json": {
       "model_id": "133338d964a74c78a6857a1dc5530c0e",
       "version_major": 2,
       "version_minor": 0
      },
      "text/plain": [
       "HBox(children=(FloatProgress(value=0.0, description='Val 30', max=61.0, style=ProgressStyle(description_width=…"
      ]
     },
     "metadata": {},
     "output_type": "display_data"
    },
    {
     "name": "stdout",
     "output_type": "stream",
     "text": [
      "\n"
     ]
    },
    {
     "name": "stderr",
     "output_type": "stream",
     "text": [
      "C:\\Users\\emano\\Anaconda3\\envs\\py37-Torch-Transformers\\lib\\site-packages\\sklearn\\metrics\\_ranking.py:677: RuntimeWarning: invalid value encountered in true_divide\n",
      "  recall = tps / tps[-1]\n"
     ]
    },
    {
     "name": "stdout",
     "output_type": "stream",
     "text": [
      "man size: 4457 woman size: 3273\n",
      "Test epoch   : 30, meanAP: 30.81, meanAP_man: 30.31, meanAP_woman: nan, adv acc: 77.92, \n"
     ]
    },
    {
     "data": {
      "application/vnd.jupyter.widget-view+json": {
       "model_id": "28ae1402ba0a47d8835242f789945dc6",
       "version_major": 2,
       "version_minor": 0
      },
      "text/plain": [
       "HBox(children=(FloatProgress(value=0.0, description='Train 31', max=190.0, style=ProgressStyle(description_wid…"
      ]
     },
     "metadata": {},
     "output_type": "display_data"
    },
    {
     "name": "stdout",
     "output_type": "stream",
     "text": [
      "\n",
      "man size: 14199 woman size: 10102\n",
      "Train epoch  : 31, meanAP: 38.61, meanAP_man: 36.77, meanAP_woman: 36.32, adv acc: 98.94, \n"
     ]
    },
    {
     "data": {
      "application/vnd.jupyter.widget-view+json": {
       "model_id": "dde6091d345747489de74d6cb8c9c492",
       "version_major": 2,
       "version_minor": 0
      },
      "text/plain": [
       "HBox(children=(FloatProgress(value=0.0, description='Val balanced 31', max=47.0, style=ProgressStyle(descripti…"
      ]
     },
     "metadata": {},
     "output_type": "display_data"
    },
    {
     "name": "stdout",
     "output_type": "stream",
     "text": [
      "\n",
      "man size: 3000 woman size: 3000\n",
      "Test epoch(f): 31, meanAP: 31.39, meanAP_man: 31.61, meanAP_woman: nan, adv acc: 76.90, \n"
     ]
    },
    {
     "name": "stderr",
     "output_type": "stream",
     "text": [
      "C:\\Users\\emano\\Anaconda3\\envs\\py37-Torch-Transformers\\lib\\site-packages\\sklearn\\metrics\\_ranking.py:677: RuntimeWarning: invalid value encountered in true_divide\n",
      "  recall = tps / tps[-1]\n"
     ]
    },
    {
     "data": {
      "application/vnd.jupyter.widget-view+json": {
       "model_id": "324fab449e8949c9981814250ac98017",
       "version_major": 2,
       "version_minor": 0
      },
      "text/plain": [
       "HBox(children=(FloatProgress(value=0.0, description='Val 31', max=61.0, style=ProgressStyle(description_width=…"
      ]
     },
     "metadata": {},
     "output_type": "display_data"
    },
    {
     "name": "stdout",
     "output_type": "stream",
     "text": [
      "\n"
     ]
    },
    {
     "name": "stderr",
     "output_type": "stream",
     "text": [
      "C:\\Users\\emano\\Anaconda3\\envs\\py37-Torch-Transformers\\lib\\site-packages\\sklearn\\metrics\\_ranking.py:677: RuntimeWarning: invalid value encountered in true_divide\n",
      "  recall = tps / tps[-1]\n"
     ]
    },
    {
     "name": "stdout",
     "output_type": "stream",
     "text": [
      "man size: 4457 woman size: 3273\n",
      "Test epoch   : 31, meanAP: 31.00, meanAP_man: 30.53, meanAP_woman: nan, adv acc: 78.16, \n"
     ]
    },
    {
     "data": {
      "application/vnd.jupyter.widget-view+json": {
       "model_id": "10f2c7b8b12a4f48a53239ad44def423",
       "version_major": 2,
       "version_minor": 0
      },
      "text/plain": [
       "HBox(children=(FloatProgress(value=0.0, description='Train 32', max=190.0, style=ProgressStyle(description_wid…"
      ]
     },
     "metadata": {},
     "output_type": "display_data"
    },
    {
     "name": "stdout",
     "output_type": "stream",
     "text": [
      "\n",
      "man size: 14199 woman size: 10102\n",
      "Train epoch  : 32, meanAP: 38.68, meanAP_man: 36.75, meanAP_woman: 36.48, adv acc: 98.85, \n"
     ]
    },
    {
     "data": {
      "application/vnd.jupyter.widget-view+json": {
       "model_id": "422acd80187c4457ad31b7ecb5915acb",
       "version_major": 2,
       "version_minor": 0
      },
      "text/plain": [
       "HBox(children=(FloatProgress(value=0.0, description='Val balanced 32', max=47.0, style=ProgressStyle(descripti…"
      ]
     },
     "metadata": {},
     "output_type": "display_data"
    },
    {
     "name": "stdout",
     "output_type": "stream",
     "text": [
      "\n",
      "man size: 3000 woman size: 3000\n",
      "Test epoch(f): 32, meanAP: 31.42, meanAP_man: 31.64, meanAP_woman: nan, adv acc: 77.10, \n"
     ]
    },
    {
     "name": "stderr",
     "output_type": "stream",
     "text": [
      "C:\\Users\\emano\\Anaconda3\\envs\\py37-Torch-Transformers\\lib\\site-packages\\sklearn\\metrics\\_ranking.py:677: RuntimeWarning: invalid value encountered in true_divide\n",
      "  recall = tps / tps[-1]\n"
     ]
    },
    {
     "data": {
      "application/vnd.jupyter.widget-view+json": {
       "model_id": "4adf38aecd7e42b38ea31dbd5f9fac88",
       "version_major": 2,
       "version_minor": 0
      },
      "text/plain": [
       "HBox(children=(FloatProgress(value=0.0, description='Val 32', max=61.0, style=ProgressStyle(description_width=…"
      ]
     },
     "metadata": {},
     "output_type": "display_data"
    },
    {
     "name": "stdout",
     "output_type": "stream",
     "text": [
      "\n"
     ]
    },
    {
     "name": "stderr",
     "output_type": "stream",
     "text": [
      "C:\\Users\\emano\\Anaconda3\\envs\\py37-Torch-Transformers\\lib\\site-packages\\sklearn\\metrics\\_ranking.py:677: RuntimeWarning: invalid value encountered in true_divide\n",
      "  recall = tps / tps[-1]\n"
     ]
    },
    {
     "name": "stdout",
     "output_type": "stream",
     "text": [
      "man size: 4457 woman size: 3273\n",
      "Test epoch   : 32, meanAP: 31.03, meanAP_man: 30.55, meanAP_woman: nan, adv acc: 78.14, \n"
     ]
    },
    {
     "data": {
      "application/vnd.jupyter.widget-view+json": {
       "model_id": "2adf878b5ac94bd695d5194c232ec82e",
       "version_major": 2,
       "version_minor": 0
      },
      "text/plain": [
       "HBox(children=(FloatProgress(value=0.0, description='Train 33', max=190.0, style=ProgressStyle(description_wid…"
      ]
     },
     "metadata": {},
     "output_type": "display_data"
    },
    {
     "name": "stdout",
     "output_type": "stream",
     "text": [
      "\n",
      "man size: 14199 woman size: 10102\n",
      "Train epoch  : 33, meanAP: 39.02, meanAP_man: 37.24, meanAP_woman: 36.55, adv acc: 98.97, \n"
     ]
    },
    {
     "data": {
      "application/vnd.jupyter.widget-view+json": {
       "model_id": "c06269e98a9040c3b2b8e494774a6b02",
       "version_major": 2,
       "version_minor": 0
      },
      "text/plain": [
       "HBox(children=(FloatProgress(value=0.0, description='Val balanced 33', max=47.0, style=ProgressStyle(descripti…"
      ]
     },
     "metadata": {},
     "output_type": "display_data"
    },
    {
     "name": "stdout",
     "output_type": "stream",
     "text": [
      "\n",
      "man size: 3000 woman size: 3000\n",
      "Test epoch(f): 33, meanAP: 31.51, meanAP_man: 31.66, meanAP_woman: nan, adv acc: 77.13, \n"
     ]
    },
    {
     "name": "stderr",
     "output_type": "stream",
     "text": [
      "C:\\Users\\emano\\Anaconda3\\envs\\py37-Torch-Transformers\\lib\\site-packages\\sklearn\\metrics\\_ranking.py:677: RuntimeWarning: invalid value encountered in true_divide\n",
      "  recall = tps / tps[-1]\n"
     ]
    },
    {
     "data": {
      "application/vnd.jupyter.widget-view+json": {
       "model_id": "629a21f5a909442b8688f2985322f957",
       "version_major": 2,
       "version_minor": 0
      },
      "text/plain": [
       "HBox(children=(FloatProgress(value=0.0, description='Val 33', max=61.0, style=ProgressStyle(description_width=…"
      ]
     },
     "metadata": {},
     "output_type": "display_data"
    },
    {
     "name": "stdout",
     "output_type": "stream",
     "text": [
      "\n"
     ]
    },
    {
     "name": "stderr",
     "output_type": "stream",
     "text": [
      "C:\\Users\\emano\\Anaconda3\\envs\\py37-Torch-Transformers\\lib\\site-packages\\sklearn\\metrics\\_ranking.py:677: RuntimeWarning: invalid value encountered in true_divide\n",
      "  recall = tps / tps[-1]\n"
     ]
    },
    {
     "name": "stdout",
     "output_type": "stream",
     "text": [
      "man size: 4457 woman size: 3273\n",
      "Test epoch   : 33, meanAP: 31.11, meanAP_man: 30.66, meanAP_woman: nan, adv acc: 78.07, \n"
     ]
    },
    {
     "data": {
      "application/vnd.jupyter.widget-view+json": {
       "model_id": "28a09775b5d747608397f51c5b4ef1f5",
       "version_major": 2,
       "version_minor": 0
      },
      "text/plain": [
       "HBox(children=(FloatProgress(value=0.0, description='Train 34', max=190.0, style=ProgressStyle(description_wid…"
      ]
     },
     "metadata": {},
     "output_type": "display_data"
    },
    {
     "name": "stdout",
     "output_type": "stream",
     "text": [
      "\n",
      "man size: 14199 woman size: 10102\n",
      "Train epoch  : 34, meanAP: 39.29, meanAP_man: 37.40, meanAP_woman: 37.29, adv acc: 98.86, \n"
     ]
    },
    {
     "data": {
      "application/vnd.jupyter.widget-view+json": {
       "model_id": "5af6b26971d743e9a897c8b135645c95",
       "version_major": 2,
       "version_minor": 0
      },
      "text/plain": [
       "HBox(children=(FloatProgress(value=0.0, description='Val balanced 34', max=47.0, style=ProgressStyle(descripti…"
      ]
     },
     "metadata": {},
     "output_type": "display_data"
    },
    {
     "name": "stdout",
     "output_type": "stream",
     "text": [
      "\n",
      "man size: 3000 woman size: 3000\n",
      "Test epoch(f): 34, meanAP: 31.58, meanAP_man: 31.60, meanAP_woman: nan, adv acc: 76.58, \n"
     ]
    },
    {
     "name": "stderr",
     "output_type": "stream",
     "text": [
      "C:\\Users\\emano\\Anaconda3\\envs\\py37-Torch-Transformers\\lib\\site-packages\\sklearn\\metrics\\_ranking.py:677: RuntimeWarning: invalid value encountered in true_divide\n",
      "  recall = tps / tps[-1]\n"
     ]
    },
    {
     "data": {
      "application/vnd.jupyter.widget-view+json": {
       "model_id": "3e57868c030248cfac437271aac94060",
       "version_major": 2,
       "version_minor": 0
      },
      "text/plain": [
       "HBox(children=(FloatProgress(value=0.0, description='Val 34', max=61.0, style=ProgressStyle(description_width=…"
      ]
     },
     "metadata": {},
     "output_type": "display_data"
    },
    {
     "name": "stdout",
     "output_type": "stream",
     "text": [
      "\n"
     ]
    },
    {
     "name": "stderr",
     "output_type": "stream",
     "text": [
      "C:\\Users\\emano\\Anaconda3\\envs\\py37-Torch-Transformers\\lib\\site-packages\\sklearn\\metrics\\_ranking.py:677: RuntimeWarning: invalid value encountered in true_divide\n",
      "  recall = tps / tps[-1]\n"
     ]
    },
    {
     "name": "stdout",
     "output_type": "stream",
     "text": [
      "man size: 4457 woman size: 3273\n",
      "Test epoch   : 34, meanAP: 31.21, meanAP_man: 30.63, meanAP_woman: nan, adv acc: 77.70, \n"
     ]
    },
    {
     "data": {
      "application/vnd.jupyter.widget-view+json": {
       "model_id": "d4d4f1b56fed4ac9a8bdeedc1a8b44d4",
       "version_major": 2,
       "version_minor": 0
      },
      "text/plain": [
       "HBox(children=(FloatProgress(value=0.0, description='Train 35', max=190.0, style=ProgressStyle(description_wid…"
      ]
     },
     "metadata": {},
     "output_type": "display_data"
    },
    {
     "name": "stdout",
     "output_type": "stream",
     "text": [
      "\n",
      "man size: 14199 woman size: 10102\n",
      "Train epoch  : 35, meanAP: 39.61, meanAP_man: 37.56, meanAP_woman: 37.48, adv acc: 98.76, \n"
     ]
    },
    {
     "data": {
      "application/vnd.jupyter.widget-view+json": {
       "model_id": "ad1c5c453401412782c7f14140abbe55",
       "version_major": 2,
       "version_minor": 0
      },
      "text/plain": [
       "HBox(children=(FloatProgress(value=0.0, description='Val balanced 35', max=47.0, style=ProgressStyle(descripti…"
      ]
     },
     "metadata": {},
     "output_type": "display_data"
    },
    {
     "name": "stdout",
     "output_type": "stream",
     "text": [
      "\n",
      "man size: 3000 woman size: 3000\n",
      "Test epoch(f): 35, meanAP: 31.69, meanAP_man: 31.87, meanAP_woman: nan, adv acc: 77.18, \n"
     ]
    },
    {
     "name": "stderr",
     "output_type": "stream",
     "text": [
      "C:\\Users\\emano\\Anaconda3\\envs\\py37-Torch-Transformers\\lib\\site-packages\\sklearn\\metrics\\_ranking.py:677: RuntimeWarning: invalid value encountered in true_divide\n",
      "  recall = tps / tps[-1]\n"
     ]
    },
    {
     "data": {
      "application/vnd.jupyter.widget-view+json": {
       "model_id": "76b62f55ae22418f9e9925e9b6c28535",
       "version_major": 2,
       "version_minor": 0
      },
      "text/plain": [
       "HBox(children=(FloatProgress(value=0.0, description='Val 35', max=61.0, style=ProgressStyle(description_width=…"
      ]
     },
     "metadata": {},
     "output_type": "display_data"
    },
    {
     "name": "stdout",
     "output_type": "stream",
     "text": [
      "\n"
     ]
    },
    {
     "name": "stderr",
     "output_type": "stream",
     "text": [
      "C:\\Users\\emano\\Anaconda3\\envs\\py37-Torch-Transformers\\lib\\site-packages\\sklearn\\metrics\\_ranking.py:677: RuntimeWarning: invalid value encountered in true_divide\n",
      "  recall = tps / tps[-1]\n"
     ]
    },
    {
     "name": "stdout",
     "output_type": "stream",
     "text": [
      "man size: 4457 woman size: 3273\n",
      "Test epoch   : 35, meanAP: 31.33, meanAP_man: 30.93, meanAP_woman: nan, adv acc: 77.92, \n"
     ]
    },
    {
     "data": {
      "application/vnd.jupyter.widget-view+json": {
       "model_id": "4921f3a2b5884500b087d8eea10910cf",
       "version_major": 2,
       "version_minor": 0
      },
      "text/plain": [
       "HBox(children=(FloatProgress(value=0.0, description='Train 36', max=190.0, style=ProgressStyle(description_wid…"
      ]
     },
     "metadata": {},
     "output_type": "display_data"
    },
    {
     "name": "stdout",
     "output_type": "stream",
     "text": [
      "\n",
      "man size: 14199 woman size: 10102\n",
      "Train epoch  : 36, meanAP: 40.04, meanAP_man: 38.15, meanAP_woman: 37.63, adv acc: 98.80, \n"
     ]
    },
    {
     "data": {
      "application/vnd.jupyter.widget-view+json": {
       "model_id": "0f351dbe11e3419392d15b3348b65cf2",
       "version_major": 2,
       "version_minor": 0
      },
      "text/plain": [
       "HBox(children=(FloatProgress(value=0.0, description='Val balanced 36', max=47.0, style=ProgressStyle(descripti…"
      ]
     },
     "metadata": {},
     "output_type": "display_data"
    },
    {
     "name": "stdout",
     "output_type": "stream",
     "text": [
      "\n",
      "man size: 3000 woman size: 3000\n",
      "Test epoch(f): 36, meanAP: 31.84, meanAP_man: 31.95, meanAP_woman: nan, adv acc: 76.85, \n"
     ]
    },
    {
     "name": "stderr",
     "output_type": "stream",
     "text": [
      "C:\\Users\\emano\\Anaconda3\\envs\\py37-Torch-Transformers\\lib\\site-packages\\sklearn\\metrics\\_ranking.py:677: RuntimeWarning: invalid value encountered in true_divide\n",
      "  recall = tps / tps[-1]\n"
     ]
    },
    {
     "data": {
      "application/vnd.jupyter.widget-view+json": {
       "model_id": "284258ef2c9740e09a2daea2e6bca266",
       "version_major": 2,
       "version_minor": 0
      },
      "text/plain": [
       "HBox(children=(FloatProgress(value=0.0, description='Val 36', max=61.0, style=ProgressStyle(description_width=…"
      ]
     },
     "metadata": {},
     "output_type": "display_data"
    },
    {
     "name": "stdout",
     "output_type": "stream",
     "text": [
      "\n"
     ]
    },
    {
     "name": "stderr",
     "output_type": "stream",
     "text": [
      "C:\\Users\\emano\\Anaconda3\\envs\\py37-Torch-Transformers\\lib\\site-packages\\sklearn\\metrics\\_ranking.py:677: RuntimeWarning: invalid value encountered in true_divide\n",
      "  recall = tps / tps[-1]\n"
     ]
    },
    {
     "name": "stdout",
     "output_type": "stream",
     "text": [
      "man size: 4457 woman size: 3273\n",
      "Test epoch   : 36, meanAP: 31.44, meanAP_man: 30.95, meanAP_woman: nan, adv acc: 77.98, \n"
     ]
    },
    {
     "data": {
      "application/vnd.jupyter.widget-view+json": {
       "model_id": "455ea6694b274d18a66f70b72c03eb98",
       "version_major": 2,
       "version_minor": 0
      },
      "text/plain": [
       "HBox(children=(FloatProgress(value=0.0, description='Train 37', max=190.0, style=ProgressStyle(description_wid…"
      ]
     },
     "metadata": {},
     "output_type": "display_data"
    },
    {
     "name": "stdout",
     "output_type": "stream",
     "text": [
      "\n",
      "man size: 14199 woman size: 10102\n",
      "Train epoch  : 37, meanAP: 40.45, meanAP_man: 38.73, meanAP_woman: 38.18, adv acc: 98.84, \n"
     ]
    },
    {
     "data": {
      "application/vnd.jupyter.widget-view+json": {
       "model_id": "33e75852445044cc9b7263dcbf5f02b6",
       "version_major": 2,
       "version_minor": 0
      },
      "text/plain": [
       "HBox(children=(FloatProgress(value=0.0, description='Val balanced 37', max=47.0, style=ProgressStyle(descripti…"
      ]
     },
     "metadata": {},
     "output_type": "display_data"
    },
    {
     "name": "stdout",
     "output_type": "stream",
     "text": [
      "\n",
      "man size: 3000 woman size: 3000\n",
      "Test epoch(f): 37, meanAP: 31.85, meanAP_man: 31.80, meanAP_woman: nan, adv acc: 77.23, \n"
     ]
    },
    {
     "name": "stderr",
     "output_type": "stream",
     "text": [
      "C:\\Users\\emano\\Anaconda3\\envs\\py37-Torch-Transformers\\lib\\site-packages\\sklearn\\metrics\\_ranking.py:677: RuntimeWarning: invalid value encountered in true_divide\n",
      "  recall = tps / tps[-1]\n"
     ]
    },
    {
     "data": {
      "application/vnd.jupyter.widget-view+json": {
       "model_id": "6220c91d128649c983dd03ffa3a19d7d",
       "version_major": 2,
       "version_minor": 0
      },
      "text/plain": [
       "HBox(children=(FloatProgress(value=0.0, description='Val 37', max=61.0, style=ProgressStyle(description_width=…"
      ]
     },
     "metadata": {},
     "output_type": "display_data"
    },
    {
     "name": "stdout",
     "output_type": "stream",
     "text": [
      "\n"
     ]
    },
    {
     "name": "stderr",
     "output_type": "stream",
     "text": [
      "C:\\Users\\emano\\Anaconda3\\envs\\py37-Torch-Transformers\\lib\\site-packages\\sklearn\\metrics\\_ranking.py:677: RuntimeWarning: invalid value encountered in true_divide\n",
      "  recall = tps / tps[-1]\n"
     ]
    },
    {
     "name": "stdout",
     "output_type": "stream",
     "text": [
      "man size: 4457 woman size: 3273\n",
      "Test epoch   : 37, meanAP: 31.44, meanAP_man: 30.85, meanAP_woman: nan, adv acc: 77.77, \n"
     ]
    },
    {
     "data": {
      "application/vnd.jupyter.widget-view+json": {
       "model_id": "203ce9bf1e624b90b15c205357128a3d",
       "version_major": 2,
       "version_minor": 0
      },
      "text/plain": [
       "HBox(children=(FloatProgress(value=0.0, description='Train 38', max=190.0, style=ProgressStyle(description_wid…"
      ]
     },
     "metadata": {},
     "output_type": "display_data"
    },
    {
     "name": "stdout",
     "output_type": "stream",
     "text": [
      "\n",
      "man size: 14199 woman size: 10102\n",
      "Train epoch  : 38, meanAP: 40.51, meanAP_man: 38.42, meanAP_woman: 38.02, adv acc: 99.03, \n"
     ]
    },
    {
     "data": {
      "application/vnd.jupyter.widget-view+json": {
       "model_id": "37942aff7fe74bdcb3dd1c0e2bd3533a",
       "version_major": 2,
       "version_minor": 0
      },
      "text/plain": [
       "HBox(children=(FloatProgress(value=0.0, description='Val balanced 38', max=47.0, style=ProgressStyle(descripti…"
      ]
     },
     "metadata": {},
     "output_type": "display_data"
    },
    {
     "name": "stdout",
     "output_type": "stream",
     "text": [
      "\n",
      "man size: 3000 woman size: 3000\n",
      "Test epoch(f): 38, meanAP: 31.95, meanAP_man: 31.92, meanAP_woman: nan, adv acc: 77.07, \n"
     ]
    },
    {
     "name": "stderr",
     "output_type": "stream",
     "text": [
      "C:\\Users\\emano\\Anaconda3\\envs\\py37-Torch-Transformers\\lib\\site-packages\\sklearn\\metrics\\_ranking.py:677: RuntimeWarning: invalid value encountered in true_divide\n",
      "  recall = tps / tps[-1]\n"
     ]
    },
    {
     "data": {
      "application/vnd.jupyter.widget-view+json": {
       "model_id": "3997d6e588ed4664988267c7d9f7e6c9",
       "version_major": 2,
       "version_minor": 0
      },
      "text/plain": [
       "HBox(children=(FloatProgress(value=0.0, description='Val 38', max=61.0, style=ProgressStyle(description_width=…"
      ]
     },
     "metadata": {},
     "output_type": "display_data"
    },
    {
     "name": "stdout",
     "output_type": "stream",
     "text": [
      "\n"
     ]
    },
    {
     "name": "stderr",
     "output_type": "stream",
     "text": [
      "C:\\Users\\emano\\Anaconda3\\envs\\py37-Torch-Transformers\\lib\\site-packages\\sklearn\\metrics\\_ranking.py:677: RuntimeWarning: invalid value encountered in true_divide\n",
      "  recall = tps / tps[-1]\n"
     ]
    },
    {
     "name": "stdout",
     "output_type": "stream",
     "text": [
      "man size: 4457 woman size: 3273\n",
      "Test epoch   : 38, meanAP: 31.59, meanAP_man: 31.04, meanAP_woman: nan, adv acc: 78.24, \n"
     ]
    },
    {
     "data": {
      "application/vnd.jupyter.widget-view+json": {
       "model_id": "51ecf6602f4d480f945da46544bd71ff",
       "version_major": 2,
       "version_minor": 0
      },
      "text/plain": [
       "HBox(children=(FloatProgress(value=0.0, description='Train 39', max=190.0, style=ProgressStyle(description_wid…"
      ]
     },
     "metadata": {},
     "output_type": "display_data"
    },
    {
     "name": "stdout",
     "output_type": "stream",
     "text": [
      "\n",
      "man size: 14199 woman size: 10102\n",
      "Train epoch  : 39, meanAP: 40.69, meanAP_man: 38.71, meanAP_woman: 38.49, adv acc: 99.02, \n"
     ]
    },
    {
     "data": {
      "application/vnd.jupyter.widget-view+json": {
       "model_id": "3731d0f06d8141d9b342a7a4c858c509",
       "version_major": 2,
       "version_minor": 0
      },
      "text/plain": [
       "HBox(children=(FloatProgress(value=0.0, description='Val balanced 39', max=47.0, style=ProgressStyle(descripti…"
      ]
     },
     "metadata": {},
     "output_type": "display_data"
    },
    {
     "name": "stdout",
     "output_type": "stream",
     "text": [
      "\n",
      "man size: 3000 woman size: 3000\n",
      "Test epoch(f): 39, meanAP: 31.92, meanAP_man: 31.91, meanAP_woman: nan, adv acc: 77.13, \n"
     ]
    },
    {
     "name": "stderr",
     "output_type": "stream",
     "text": [
      "C:\\Users\\emano\\Anaconda3\\envs\\py37-Torch-Transformers\\lib\\site-packages\\sklearn\\metrics\\_ranking.py:677: RuntimeWarning: invalid value encountered in true_divide\n",
      "  recall = tps / tps[-1]\n"
     ]
    },
    {
     "data": {
      "application/vnd.jupyter.widget-view+json": {
       "model_id": "3053a254fda04924a3dfad06b88ccaa5",
       "version_major": 2,
       "version_minor": 0
      },
      "text/plain": [
       "HBox(children=(FloatProgress(value=0.0, description='Val 39', max=61.0, style=ProgressStyle(description_width=…"
      ]
     },
     "metadata": {},
     "output_type": "display_data"
    },
    {
     "name": "stdout",
     "output_type": "stream",
     "text": [
      "\n"
     ]
    },
    {
     "name": "stderr",
     "output_type": "stream",
     "text": [
      "C:\\Users\\emano\\Anaconda3\\envs\\py37-Torch-Transformers\\lib\\site-packages\\sklearn\\metrics\\_ranking.py:677: RuntimeWarning: invalid value encountered in true_divide\n",
      "  recall = tps / tps[-1]\n"
     ]
    },
    {
     "name": "stdout",
     "output_type": "stream",
     "text": [
      "man size: 4457 woman size: 3273\n",
      "Test epoch   : 39, meanAP: 31.56, meanAP_man: 31.00, meanAP_woman: nan, adv acc: 77.76, \n"
     ]
    },
    {
     "data": {
      "application/vnd.jupyter.widget-view+json": {
       "model_id": "6c5dbc77a4d94c4ea652704f0e9b66b5",
       "version_major": 2,
       "version_minor": 0
      },
      "text/plain": [
       "HBox(children=(FloatProgress(value=0.0, description='Train 40', max=190.0, style=ProgressStyle(description_wid…"
      ]
     },
     "metadata": {},
     "output_type": "display_data"
    },
    {
     "name": "stdout",
     "output_type": "stream",
     "text": [
      "\n",
      "man size: 14199 woman size: 10102\n",
      "Train epoch  : 40, meanAP: 41.23, meanAP_man: 39.09, meanAP_woman: 39.24, adv acc: 99.19, \n"
     ]
    },
    {
     "data": {
      "application/vnd.jupyter.widget-view+json": {
       "model_id": "eefcd1c631b741efb7acf1116c366689",
       "version_major": 2,
       "version_minor": 0
      },
      "text/plain": [
       "HBox(children=(FloatProgress(value=0.0, description='Val balanced 40', max=47.0, style=ProgressStyle(descripti…"
      ]
     },
     "metadata": {},
     "output_type": "display_data"
    },
    {
     "name": "stdout",
     "output_type": "stream",
     "text": [
      "\n",
      "man size: 3000 woman size: 3000\n",
      "Test epoch(f): 40, meanAP: 32.05, meanAP_man: 32.26, meanAP_woman: nan, adv acc: 77.22, \n"
     ]
    },
    {
     "name": "stderr",
     "output_type": "stream",
     "text": [
      "C:\\Users\\emano\\Anaconda3\\envs\\py37-Torch-Transformers\\lib\\site-packages\\sklearn\\metrics\\_ranking.py:677: RuntimeWarning: invalid value encountered in true_divide\n",
      "  recall = tps / tps[-1]\n"
     ]
    },
    {
     "data": {
      "application/vnd.jupyter.widget-view+json": {
       "model_id": "d6451b71d69b426eb1fc204e8825c672",
       "version_major": 2,
       "version_minor": 0
      },
      "text/plain": [
       "HBox(children=(FloatProgress(value=0.0, description='Val 40', max=61.0, style=ProgressStyle(description_width=…"
      ]
     },
     "metadata": {},
     "output_type": "display_data"
    },
    {
     "name": "stdout",
     "output_type": "stream",
     "text": [
      "\n"
     ]
    },
    {
     "name": "stderr",
     "output_type": "stream",
     "text": [
      "C:\\Users\\emano\\Anaconda3\\envs\\py37-Torch-Transformers\\lib\\site-packages\\sklearn\\metrics\\_ranking.py:677: RuntimeWarning: invalid value encountered in true_divide\n",
      "  recall = tps / tps[-1]\n"
     ]
    },
    {
     "name": "stdout",
     "output_type": "stream",
     "text": [
      "man size: 4457 woman size: 3273\n",
      "Test epoch   : 40, meanAP: 31.70, meanAP_man: 31.24, meanAP_woman: nan, adv acc: 78.21, \n"
     ]
    },
    {
     "data": {
      "application/vnd.jupyter.widget-view+json": {
       "model_id": "6c6fc44a5d41484f9166b18f5ec29139",
       "version_major": 2,
       "version_minor": 0
      },
      "text/plain": [
       "HBox(children=(FloatProgress(value=0.0, description='Train 41', max=190.0, style=ProgressStyle(description_wid…"
      ]
     },
     "metadata": {},
     "output_type": "display_data"
    },
    {
     "name": "stdout",
     "output_type": "stream",
     "text": [
      "\n",
      "man size: 14199 woman size: 10102\n",
      "Train epoch  : 41, meanAP: 41.39, meanAP_man: 39.29, meanAP_woman: 39.14, adv acc: 99.21, \n"
     ]
    },
    {
     "data": {
      "application/vnd.jupyter.widget-view+json": {
       "model_id": "41eb6f440cf346e2bee1f900d7b4dd89",
       "version_major": 2,
       "version_minor": 0
      },
      "text/plain": [
       "HBox(children=(FloatProgress(value=0.0, description='Val balanced 41', max=47.0, style=ProgressStyle(descripti…"
      ]
     },
     "metadata": {},
     "output_type": "display_data"
    },
    {
     "name": "stdout",
     "output_type": "stream",
     "text": [
      "\n",
      "man size: 3000 woman size: 3000\n",
      "Test epoch(f): 41, meanAP: 32.19, meanAP_man: 32.23, meanAP_woman: nan, adv acc: 76.78, \n"
     ]
    },
    {
     "name": "stderr",
     "output_type": "stream",
     "text": [
      "C:\\Users\\emano\\Anaconda3\\envs\\py37-Torch-Transformers\\lib\\site-packages\\sklearn\\metrics\\_ranking.py:677: RuntimeWarning: invalid value encountered in true_divide\n",
      "  recall = tps / tps[-1]\n"
     ]
    },
    {
     "data": {
      "application/vnd.jupyter.widget-view+json": {
       "model_id": "58912d2cdc6f4f2aa23f6454d3447862",
       "version_major": 2,
       "version_minor": 0
      },
      "text/plain": [
       "HBox(children=(FloatProgress(value=0.0, description='Val 41', max=61.0, style=ProgressStyle(description_width=…"
      ]
     },
     "metadata": {},
     "output_type": "display_data"
    },
    {
     "name": "stdout",
     "output_type": "stream",
     "text": [
      "\n"
     ]
    },
    {
     "name": "stderr",
     "output_type": "stream",
     "text": [
      "C:\\Users\\emano\\Anaconda3\\envs\\py37-Torch-Transformers\\lib\\site-packages\\sklearn\\metrics\\_ranking.py:677: RuntimeWarning: invalid value encountered in true_divide\n",
      "  recall = tps / tps[-1]\n"
     ]
    },
    {
     "name": "stdout",
     "output_type": "stream",
     "text": [
      "man size: 4457 woman size: 3273\n",
      "Test epoch   : 41, meanAP: 31.83, meanAP_man: 31.31, meanAP_woman: nan, adv acc: 77.67, \n"
     ]
    },
    {
     "data": {
      "application/vnd.jupyter.widget-view+json": {
       "model_id": "bb93ae8fa6fb44029631a3013f423df6",
       "version_major": 2,
       "version_minor": 0
      },
      "text/plain": [
       "HBox(children=(FloatProgress(value=0.0, description='Train 42', max=190.0, style=ProgressStyle(description_wid…"
      ]
     },
     "metadata": {},
     "output_type": "display_data"
    },
    {
     "name": "stdout",
     "output_type": "stream",
     "text": [
      "\n",
      "man size: 14199 woman size: 10102\n",
      "Train epoch  : 42, meanAP: 41.77, meanAP_man: 40.18, meanAP_woman: 38.86, adv acc: 99.07, \n"
     ]
    },
    {
     "data": {
      "application/vnd.jupyter.widget-view+json": {
       "model_id": "84bcf3794f7d4087985edc185e1d0533",
       "version_major": 2,
       "version_minor": 0
      },
      "text/plain": [
       "HBox(children=(FloatProgress(value=0.0, description='Val balanced 42', max=47.0, style=ProgressStyle(descripti…"
      ]
     },
     "metadata": {},
     "output_type": "display_data"
    },
    {
     "name": "stdout",
     "output_type": "stream",
     "text": [
      "\n",
      "man size: 3000 woman size: 3000\n",
      "Test epoch(f): 42, meanAP: 32.33, meanAP_man: 32.46, meanAP_woman: nan, adv acc: 76.93, \n"
     ]
    },
    {
     "name": "stderr",
     "output_type": "stream",
     "text": [
      "C:\\Users\\emano\\Anaconda3\\envs\\py37-Torch-Transformers\\lib\\site-packages\\sklearn\\metrics\\_ranking.py:677: RuntimeWarning: invalid value encountered in true_divide\n",
      "  recall = tps / tps[-1]\n"
     ]
    },
    {
     "data": {
      "application/vnd.jupyter.widget-view+json": {
       "model_id": "96a2f16fee5d443c8fcce8cb45de547e",
       "version_major": 2,
       "version_minor": 0
      },
      "text/plain": [
       "HBox(children=(FloatProgress(value=0.0, description='Val 42', max=61.0, style=ProgressStyle(description_width=…"
      ]
     },
     "metadata": {},
     "output_type": "display_data"
    },
    {
     "name": "stdout",
     "output_type": "stream",
     "text": [
      "\n"
     ]
    },
    {
     "name": "stderr",
     "output_type": "stream",
     "text": [
      "C:\\Users\\emano\\Anaconda3\\envs\\py37-Torch-Transformers\\lib\\site-packages\\sklearn\\metrics\\_ranking.py:677: RuntimeWarning: invalid value encountered in true_divide\n",
      "  recall = tps / tps[-1]\n"
     ]
    },
    {
     "name": "stdout",
     "output_type": "stream",
     "text": [
      "man size: 4457 woman size: 3273\n",
      "Test epoch   : 42, meanAP: 31.97, meanAP_man: 31.47, meanAP_woman: nan, adv acc: 77.93, \n"
     ]
    },
    {
     "data": {
      "application/vnd.jupyter.widget-view+json": {
       "model_id": "a45f0e9c9267443b9558dd6af37cb3d4",
       "version_major": 2,
       "version_minor": 0
      },
      "text/plain": [
       "HBox(children=(FloatProgress(value=0.0, description='Train 43', max=190.0, style=ProgressStyle(description_wid…"
      ]
     },
     "metadata": {},
     "output_type": "display_data"
    },
    {
     "name": "stdout",
     "output_type": "stream",
     "text": [
      "\n",
      "man size: 14199 woman size: 10102\n",
      "Train epoch  : 43, meanAP: 41.87, meanAP_man: 40.01, meanAP_woman: 39.19, adv acc: 99.06, \n"
     ]
    },
    {
     "data": {
      "application/vnd.jupyter.widget-view+json": {
       "model_id": "b6e3a1c2c7644511affda6b9c234453f",
       "version_major": 2,
       "version_minor": 0
      },
      "text/plain": [
       "HBox(children=(FloatProgress(value=0.0, description='Val balanced 43', max=47.0, style=ProgressStyle(descripti…"
      ]
     },
     "metadata": {},
     "output_type": "display_data"
    },
    {
     "name": "stdout",
     "output_type": "stream",
     "text": [
      "\n",
      "man size: 3000 woman size: 3000\n",
      "Test epoch(f): 43, meanAP: 32.30, meanAP_man: 32.37, meanAP_woman: nan, adv acc: 77.07, \n"
     ]
    },
    {
     "name": "stderr",
     "output_type": "stream",
     "text": [
      "C:\\Users\\emano\\Anaconda3\\envs\\py37-Torch-Transformers\\lib\\site-packages\\sklearn\\metrics\\_ranking.py:677: RuntimeWarning: invalid value encountered in true_divide\n",
      "  recall = tps / tps[-1]\n"
     ]
    },
    {
     "data": {
      "application/vnd.jupyter.widget-view+json": {
       "model_id": "95399aabfe1d447eae84cbeb9097b2b4",
       "version_major": 2,
       "version_minor": 0
      },
      "text/plain": [
       "HBox(children=(FloatProgress(value=0.0, description='Val 43', max=61.0, style=ProgressStyle(description_width=…"
      ]
     },
     "metadata": {},
     "output_type": "display_data"
    },
    {
     "name": "stdout",
     "output_type": "stream",
     "text": [
      "\n"
     ]
    },
    {
     "name": "stderr",
     "output_type": "stream",
     "text": [
      "C:\\Users\\emano\\Anaconda3\\envs\\py37-Torch-Transformers\\lib\\site-packages\\sklearn\\metrics\\_ranking.py:677: RuntimeWarning: invalid value encountered in true_divide\n",
      "  recall = tps / tps[-1]\n"
     ]
    },
    {
     "name": "stdout",
     "output_type": "stream",
     "text": [
      "man size: 4457 woman size: 3273\n",
      "Test epoch   : 43, meanAP: 31.96, meanAP_man: 31.43, meanAP_woman: nan, adv acc: 78.03, \n"
     ]
    },
    {
     "data": {
      "application/vnd.jupyter.widget-view+json": {
       "model_id": "23c9f13ee678486095f3f518e9d3ad03",
       "version_major": 2,
       "version_minor": 0
      },
      "text/plain": [
       "HBox(children=(FloatProgress(value=0.0, description='Train 44', max=190.0, style=ProgressStyle(description_wid…"
      ]
     },
     "metadata": {},
     "output_type": "display_data"
    },
    {
     "name": "stdout",
     "output_type": "stream",
     "text": [
      "\n",
      "man size: 14199 woman size: 10102\n",
      "Train epoch  : 44, meanAP: 42.34, meanAP_man: 40.22, meanAP_woman: 39.88, adv acc: 99.20, \n"
     ]
    },
    {
     "data": {
      "application/vnd.jupyter.widget-view+json": {
       "model_id": "b6617c09ad5e4badbce0e6dcf8d9864a",
       "version_major": 2,
       "version_minor": 0
      },
      "text/plain": [
       "HBox(children=(FloatProgress(value=0.0, description='Val balanced 44', max=47.0, style=ProgressStyle(descripti…"
      ]
     },
     "metadata": {},
     "output_type": "display_data"
    },
    {
     "name": "stdout",
     "output_type": "stream",
     "text": [
      "\n",
      "man size: 3000 woman size: 3000\n",
      "Test epoch(f): 44, meanAP: 32.32, meanAP_man: 32.50, meanAP_woman: nan, adv acc: 77.30, \n"
     ]
    },
    {
     "name": "stderr",
     "output_type": "stream",
     "text": [
      "C:\\Users\\emano\\Anaconda3\\envs\\py37-Torch-Transformers\\lib\\site-packages\\sklearn\\metrics\\_ranking.py:677: RuntimeWarning: invalid value encountered in true_divide\n",
      "  recall = tps / tps[-1]\n"
     ]
    },
    {
     "data": {
      "application/vnd.jupyter.widget-view+json": {
       "model_id": "2d23eb0f9b034d49966c28a4c220bc46",
       "version_major": 2,
       "version_minor": 0
      },
      "text/plain": [
       "HBox(children=(FloatProgress(value=0.0, description='Val 44', max=61.0, style=ProgressStyle(description_width=…"
      ]
     },
     "metadata": {},
     "output_type": "display_data"
    },
    {
     "name": "stdout",
     "output_type": "stream",
     "text": [
      "\n"
     ]
    },
    {
     "name": "stderr",
     "output_type": "stream",
     "text": [
      "C:\\Users\\emano\\Anaconda3\\envs\\py37-Torch-Transformers\\lib\\site-packages\\sklearn\\metrics\\_ranking.py:677: RuntimeWarning: invalid value encountered in true_divide\n",
      "  recall = tps / tps[-1]\n"
     ]
    },
    {
     "name": "stdout",
     "output_type": "stream",
     "text": [
      "man size: 4457 woman size: 3273\n",
      "Test epoch   : 44, meanAP: 31.99, meanAP_man: 31.49, meanAP_woman: nan, adv acc: 78.51, \n"
     ]
    },
    {
     "data": {
      "application/vnd.jupyter.widget-view+json": {
       "model_id": "d77beb7888194a998e72addb032385ca",
       "version_major": 2,
       "version_minor": 0
      },
      "text/plain": [
       "HBox(children=(FloatProgress(value=0.0, description='Train 45', max=190.0, style=ProgressStyle(description_wid…"
      ]
     },
     "metadata": {},
     "output_type": "display_data"
    },
    {
     "name": "stdout",
     "output_type": "stream",
     "text": [
      "\n",
      "man size: 14199 woman size: 10102\n",
      "Train epoch  : 45, meanAP: 42.31, meanAP_man: 40.43, meanAP_woman: 39.88, adv acc: 99.02, \n"
     ]
    },
    {
     "data": {
      "application/vnd.jupyter.widget-view+json": {
       "model_id": "b3d96f9f4f894b49bdeec0fa2297089f",
       "version_major": 2,
       "version_minor": 0
      },
      "text/plain": [
       "HBox(children=(FloatProgress(value=0.0, description='Val balanced 45', max=47.0, style=ProgressStyle(descripti…"
      ]
     },
     "metadata": {},
     "output_type": "display_data"
    },
    {
     "name": "stdout",
     "output_type": "stream",
     "text": [
      "\n",
      "man size: 3000 woman size: 3000\n",
      "Test epoch(f): 45, meanAP: 32.44, meanAP_man: 32.69, meanAP_woman: nan, adv acc: 76.98, \n"
     ]
    },
    {
     "name": "stderr",
     "output_type": "stream",
     "text": [
      "C:\\Users\\emano\\Anaconda3\\envs\\py37-Torch-Transformers\\lib\\site-packages\\sklearn\\metrics\\_ranking.py:677: RuntimeWarning: invalid value encountered in true_divide\n",
      "  recall = tps / tps[-1]\n"
     ]
    },
    {
     "data": {
      "application/vnd.jupyter.widget-view+json": {
       "model_id": "7540cd002a2d4c7aa581c3c535639e8f",
       "version_major": 2,
       "version_minor": 0
      },
      "text/plain": [
       "HBox(children=(FloatProgress(value=0.0, description='Val 45', max=61.0, style=ProgressStyle(description_width=…"
      ]
     },
     "metadata": {},
     "output_type": "display_data"
    },
    {
     "name": "stdout",
     "output_type": "stream",
     "text": [
      "\n"
     ]
    },
    {
     "name": "stderr",
     "output_type": "stream",
     "text": [
      "C:\\Users\\emano\\Anaconda3\\envs\\py37-Torch-Transformers\\lib\\site-packages\\sklearn\\metrics\\_ranking.py:677: RuntimeWarning: invalid value encountered in true_divide\n",
      "  recall = tps / tps[-1]\n"
     ]
    },
    {
     "name": "stdout",
     "output_type": "stream",
     "text": [
      "man size: 4457 woman size: 3273\n",
      "Test epoch   : 45, meanAP: 32.09, meanAP_man: 31.66, meanAP_woman: nan, adv acc: 78.51, \n"
     ]
    },
    {
     "data": {
      "application/vnd.jupyter.widget-view+json": {
       "model_id": "a206c6de288a4010b9c691dc8d0272bf",
       "version_major": 2,
       "version_minor": 0
      },
      "text/plain": [
       "HBox(children=(FloatProgress(value=0.0, description='Train 46', max=190.0, style=ProgressStyle(description_wid…"
      ]
     },
     "metadata": {},
     "output_type": "display_data"
    },
    {
     "name": "stdout",
     "output_type": "stream",
     "text": [
      "\n",
      "man size: 14199 woman size: 10102\n",
      "Train epoch  : 46, meanAP: 42.55, meanAP_man: 40.55, meanAP_woman: 40.09, adv acc: 99.26, \n"
     ]
    },
    {
     "data": {
      "application/vnd.jupyter.widget-view+json": {
       "model_id": "4fc7232e4b1f4e71b080e57ab6f67604",
       "version_major": 2,
       "version_minor": 0
      },
      "text/plain": [
       "HBox(children=(FloatProgress(value=0.0, description='Val balanced 46', max=47.0, style=ProgressStyle(descripti…"
      ]
     },
     "metadata": {},
     "output_type": "display_data"
    },
    {
     "name": "stdout",
     "output_type": "stream",
     "text": [
      "\n",
      "man size: 3000 woman size: 3000\n",
      "Test epoch(f): 46, meanAP: 32.39, meanAP_man: 32.63, meanAP_woman: nan, adv acc: 77.33, \n"
     ]
    },
    {
     "name": "stderr",
     "output_type": "stream",
     "text": [
      "C:\\Users\\emano\\Anaconda3\\envs\\py37-Torch-Transformers\\lib\\site-packages\\sklearn\\metrics\\_ranking.py:677: RuntimeWarning: invalid value encountered in true_divide\n",
      "  recall = tps / tps[-1]\n"
     ]
    },
    {
     "data": {
      "application/vnd.jupyter.widget-view+json": {
       "model_id": "b957f945d10d40c4a94d47ce7dff10a7",
       "version_major": 2,
       "version_minor": 0
      },
      "text/plain": [
       "HBox(children=(FloatProgress(value=0.0, description='Val 46', max=61.0, style=ProgressStyle(description_width=…"
      ]
     },
     "metadata": {},
     "output_type": "display_data"
    },
    {
     "name": "stdout",
     "output_type": "stream",
     "text": [
      "\n"
     ]
    },
    {
     "name": "stderr",
     "output_type": "stream",
     "text": [
      "C:\\Users\\emano\\Anaconda3\\envs\\py37-Torch-Transformers\\lib\\site-packages\\sklearn\\metrics\\_ranking.py:677: RuntimeWarning: invalid value encountered in true_divide\n",
      "  recall = tps / tps[-1]\n"
     ]
    },
    {
     "name": "stdout",
     "output_type": "stream",
     "text": [
      "man size: 4457 woman size: 3273\n",
      "Test epoch   : 46, meanAP: 32.07, meanAP_man: 31.62, meanAP_woman: nan, adv acc: 78.68, \n"
     ]
    },
    {
     "data": {
      "application/vnd.jupyter.widget-view+json": {
       "model_id": "c39ff3b39b8e4079ba3a9821b4542d9d",
       "version_major": 2,
       "version_minor": 0
      },
      "text/plain": [
       "HBox(children=(FloatProgress(value=0.0, description='Train 47', max=190.0, style=ProgressStyle(description_wid…"
      ]
     },
     "metadata": {},
     "output_type": "display_data"
    },
    {
     "name": "stdout",
     "output_type": "stream",
     "text": [
      "\n",
      "man size: 14199 woman size: 10102\n",
      "Train epoch  : 47, meanAP: 42.81, meanAP_man: 40.89, meanAP_woman: 40.36, adv acc: 99.25, \n"
     ]
    },
    {
     "data": {
      "application/vnd.jupyter.widget-view+json": {
       "model_id": "a88cefa07ed04def98ce6452deb1089e",
       "version_major": 2,
       "version_minor": 0
      },
      "text/plain": [
       "HBox(children=(FloatProgress(value=0.0, description='Val balanced 47', max=47.0, style=ProgressStyle(descripti…"
      ]
     },
     "metadata": {},
     "output_type": "display_data"
    },
    {
     "name": "stdout",
     "output_type": "stream",
     "text": [
      "\n",
      "man size: 3000 woman size: 3000\n",
      "Test epoch(f): 47, meanAP: 32.43, meanAP_man: 32.48, meanAP_woman: nan, adv acc: 76.73, \n"
     ]
    },
    {
     "name": "stderr",
     "output_type": "stream",
     "text": [
      "C:\\Users\\emano\\Anaconda3\\envs\\py37-Torch-Transformers\\lib\\site-packages\\sklearn\\metrics\\_ranking.py:677: RuntimeWarning: invalid value encountered in true_divide\n",
      "  recall = tps / tps[-1]\n"
     ]
    },
    {
     "data": {
      "application/vnd.jupyter.widget-view+json": {
       "model_id": "6e9738c22064466ca5c50e4c32f52888",
       "version_major": 2,
       "version_minor": 0
      },
      "text/plain": [
       "HBox(children=(FloatProgress(value=0.0, description='Val 47', max=61.0, style=ProgressStyle(description_width=…"
      ]
     },
     "metadata": {},
     "output_type": "display_data"
    },
    {
     "name": "stdout",
     "output_type": "stream",
     "text": [
      "\n"
     ]
    },
    {
     "name": "stderr",
     "output_type": "stream",
     "text": [
      "C:\\Users\\emano\\Anaconda3\\envs\\py37-Torch-Transformers\\lib\\site-packages\\sklearn\\metrics\\_ranking.py:677: RuntimeWarning: invalid value encountered in true_divide\n",
      "  recall = tps / tps[-1]\n"
     ]
    },
    {
     "name": "stdout",
     "output_type": "stream",
     "text": [
      "man size: 4457 woman size: 3273\n",
      "Test epoch   : 47, meanAP: 32.11, meanAP_man: 31.58, meanAP_woman: nan, adv acc: 77.70, \n"
     ]
    },
    {
     "data": {
      "application/vnd.jupyter.widget-view+json": {
       "model_id": "9337737154734c4381a995143e06adfd",
       "version_major": 2,
       "version_minor": 0
      },
      "text/plain": [
       "HBox(children=(FloatProgress(value=0.0, description='Train 48', max=190.0, style=ProgressStyle(description_wid…"
      ]
     },
     "metadata": {},
     "output_type": "display_data"
    },
    {
     "name": "stdout",
     "output_type": "stream",
     "text": [
      "\n",
      "man size: 14199 woman size: 10102\n",
      "Train epoch  : 48, meanAP: 43.09, meanAP_man: 40.83, meanAP_woman: 40.86, adv acc: 99.16, \n"
     ]
    },
    {
     "data": {
      "application/vnd.jupyter.widget-view+json": {
       "model_id": "bb7c1a0d9b9642fd9aee6f3dedd5843f",
       "version_major": 2,
       "version_minor": 0
      },
      "text/plain": [
       "HBox(children=(FloatProgress(value=0.0, description='Val balanced 48', max=47.0, style=ProgressStyle(descripti…"
      ]
     },
     "metadata": {},
     "output_type": "display_data"
    },
    {
     "name": "stdout",
     "output_type": "stream",
     "text": [
      "\n",
      "man size: 3000 woman size: 3000\n",
      "Test epoch(f): 48, meanAP: 32.56, meanAP_man: 32.93, meanAP_woman: nan, adv acc: 76.82, \n"
     ]
    },
    {
     "name": "stderr",
     "output_type": "stream",
     "text": [
      "C:\\Users\\emano\\Anaconda3\\envs\\py37-Torch-Transformers\\lib\\site-packages\\sklearn\\metrics\\_ranking.py:677: RuntimeWarning: invalid value encountered in true_divide\n",
      "  recall = tps / tps[-1]\n"
     ]
    },
    {
     "data": {
      "application/vnd.jupyter.widget-view+json": {
       "model_id": "a13a2866658d4f3e959c83f00e03f9b4",
       "version_major": 2,
       "version_minor": 0
      },
      "text/plain": [
       "HBox(children=(FloatProgress(value=0.0, description='Val 48', max=61.0, style=ProgressStyle(description_width=…"
      ]
     },
     "metadata": {},
     "output_type": "display_data"
    },
    {
     "name": "stdout",
     "output_type": "stream",
     "text": [
      "\n"
     ]
    },
    {
     "name": "stderr",
     "output_type": "stream",
     "text": [
      "C:\\Users\\emano\\Anaconda3\\envs\\py37-Torch-Transformers\\lib\\site-packages\\sklearn\\metrics\\_ranking.py:677: RuntimeWarning: invalid value encountered in true_divide\n",
      "  recall = tps / tps[-1]\n"
     ]
    },
    {
     "name": "stdout",
     "output_type": "stream",
     "text": [
      "man size: 4457 woman size: 3273\n",
      "Test epoch   : 48, meanAP: 32.24, meanAP_man: 31.89, meanAP_woman: nan, adv acc: 78.18, \n"
     ]
    },
    {
     "data": {
      "application/vnd.jupyter.widget-view+json": {
       "model_id": "3096a7e50db64e3cba3d7b46c7c5b684",
       "version_major": 2,
       "version_minor": 0
      },
      "text/plain": [
       "HBox(children=(FloatProgress(value=0.0, description='Train 49', max=190.0, style=ProgressStyle(description_wid…"
      ]
     },
     "metadata": {},
     "output_type": "display_data"
    },
    {
     "name": "stdout",
     "output_type": "stream",
     "text": [
      "\n",
      "man size: 14199 woman size: 10102\n",
      "Train epoch  : 49, meanAP: 43.30, meanAP_man: 41.08, meanAP_woman: 41.42, adv acc: 99.16, \n"
     ]
    },
    {
     "data": {
      "application/vnd.jupyter.widget-view+json": {
       "model_id": "b3b4cd3a633543b98160139432a09ce7",
       "version_major": 2,
       "version_minor": 0
      },
      "text/plain": [
       "HBox(children=(FloatProgress(value=0.0, description='Val balanced 49', max=47.0, style=ProgressStyle(descripti…"
      ]
     },
     "metadata": {},
     "output_type": "display_data"
    },
    {
     "name": "stdout",
     "output_type": "stream",
     "text": [
      "\n",
      "man size: 3000 woman size: 3000\n",
      "Test epoch(f): 49, meanAP: 32.72, meanAP_man: 33.07, meanAP_woman: nan, adv acc: 76.97, \n"
     ]
    },
    {
     "name": "stderr",
     "output_type": "stream",
     "text": [
      "C:\\Users\\emano\\Anaconda3\\envs\\py37-Torch-Transformers\\lib\\site-packages\\sklearn\\metrics\\_ranking.py:677: RuntimeWarning: invalid value encountered in true_divide\n",
      "  recall = tps / tps[-1]\n"
     ]
    },
    {
     "data": {
      "application/vnd.jupyter.widget-view+json": {
       "model_id": "a11cbf3617874de4b2be1862a2ff7a67",
       "version_major": 2,
       "version_minor": 0
      },
      "text/plain": [
       "HBox(children=(FloatProgress(value=0.0, description='Val 49', max=61.0, style=ProgressStyle(description_width=…"
      ]
     },
     "metadata": {},
     "output_type": "display_data"
    },
    {
     "name": "stdout",
     "output_type": "stream",
     "text": [
      "\n"
     ]
    },
    {
     "name": "stderr",
     "output_type": "stream",
     "text": [
      "C:\\Users\\emano\\Anaconda3\\envs\\py37-Torch-Transformers\\lib\\site-packages\\sklearn\\metrics\\_ranking.py:677: RuntimeWarning: invalid value encountered in true_divide\n",
      "  recall = tps / tps[-1]\n"
     ]
    },
    {
     "name": "stdout",
     "output_type": "stream",
     "text": [
      "man size: 4457 woman size: 3273\n",
      "Test epoch   : 49, meanAP: 32.38, meanAP_man: 32.01, meanAP_woman: nan, adv acc: 77.90, \n"
     ]
    },
    {
     "data": {
      "application/vnd.jupyter.widget-view+json": {
       "model_id": "df85aee53d9548839ebc79c88f02b848",
       "version_major": 2,
       "version_minor": 0
      },
      "text/plain": [
       "HBox(children=(FloatProgress(value=0.0, description='Train 50', max=190.0, style=ProgressStyle(description_wid…"
      ]
     },
     "metadata": {},
     "output_type": "display_data"
    },
    {
     "name": "stdout",
     "output_type": "stream",
     "text": [
      "\n",
      "man size: 14199 woman size: 10102\n",
      "Train epoch  : 50, meanAP: 43.50, meanAP_man: 41.56, meanAP_woman: 40.93, adv acc: 99.28, \n"
     ]
    },
    {
     "data": {
      "application/vnd.jupyter.widget-view+json": {
       "model_id": "d41844a621a243a1abafcffb75b43a47",
       "version_major": 2,
       "version_minor": 0
      },
      "text/plain": [
       "HBox(children=(FloatProgress(value=0.0, description='Val balanced 50', max=47.0, style=ProgressStyle(descripti…"
      ]
     },
     "metadata": {},
     "output_type": "display_data"
    },
    {
     "name": "stdout",
     "output_type": "stream",
     "text": [
      "\n",
      "man size: 3000 woman size: 3000\n",
      "Test epoch(f): 50, meanAP: 32.64, meanAP_man: 33.02, meanAP_woman: nan, adv acc: 77.37, \n"
     ]
    },
    {
     "name": "stderr",
     "output_type": "stream",
     "text": [
      "C:\\Users\\emano\\Anaconda3\\envs\\py37-Torch-Transformers\\lib\\site-packages\\sklearn\\metrics\\_ranking.py:677: RuntimeWarning: invalid value encountered in true_divide\n",
      "  recall = tps / tps[-1]\n"
     ]
    },
    {
     "data": {
      "application/vnd.jupyter.widget-view+json": {
       "model_id": "f4b23c2dd10b4d03b74cba6cfce016f2",
       "version_major": 2,
       "version_minor": 0
      },
      "text/plain": [
       "HBox(children=(FloatProgress(value=0.0, description='Val 50', max=61.0, style=ProgressStyle(description_width=…"
      ]
     },
     "metadata": {},
     "output_type": "display_data"
    },
    {
     "name": "stdout",
     "output_type": "stream",
     "text": [
      "\n"
     ]
    },
    {
     "name": "stderr",
     "output_type": "stream",
     "text": [
      "C:\\Users\\emano\\Anaconda3\\envs\\py37-Torch-Transformers\\lib\\site-packages\\sklearn\\metrics\\_ranking.py:677: RuntimeWarning: invalid value encountered in true_divide\n",
      "  recall = tps / tps[-1]\n"
     ]
    },
    {
     "name": "stdout",
     "output_type": "stream",
     "text": [
      "man size: 4457 woman size: 3273\n",
      "Test epoch   : 50, meanAP: 32.33, meanAP_man: 32.01, meanAP_woman: nan, adv acc: 78.56, \n"
     ]
    },
    {
     "data": {
      "application/vnd.jupyter.widget-view+json": {
       "model_id": "5154109e250c4587a9678acaa05051b6",
       "version_major": 2,
       "version_minor": 0
      },
      "text/plain": [
       "HBox(children=(FloatProgress(value=0.0, description='Train 51', max=190.0, style=ProgressStyle(description_wid…"
      ]
     },
     "metadata": {},
     "output_type": "display_data"
    },
    {
     "name": "stdout",
     "output_type": "stream",
     "text": [
      "\n",
      "man size: 14199 woman size: 10102\n",
      "Train epoch  : 51, meanAP: 44.07, meanAP_man: 41.96, meanAP_woman: 41.66, adv acc: 99.25, \n"
     ]
    },
    {
     "data": {
      "application/vnd.jupyter.widget-view+json": {
       "model_id": "9394f3bf66d14efbb12660b3216d51c5",
       "version_major": 2,
       "version_minor": 0
      },
      "text/plain": [
       "HBox(children=(FloatProgress(value=0.0, description='Val balanced 51', max=47.0, style=ProgressStyle(descripti…"
      ]
     },
     "metadata": {},
     "output_type": "display_data"
    },
    {
     "name": "stdout",
     "output_type": "stream",
     "text": [
      "\n",
      "man size: 3000 woman size: 3000\n",
      "Test epoch(f): 51, meanAP: 32.70, meanAP_man: 33.08, meanAP_woman: nan, adv acc: 77.38, \n"
     ]
    },
    {
     "name": "stderr",
     "output_type": "stream",
     "text": [
      "C:\\Users\\emano\\Anaconda3\\envs\\py37-Torch-Transformers\\lib\\site-packages\\sklearn\\metrics\\_ranking.py:677: RuntimeWarning: invalid value encountered in true_divide\n",
      "  recall = tps / tps[-1]\n"
     ]
    },
    {
     "data": {
      "application/vnd.jupyter.widget-view+json": {
       "model_id": "a22938b3de494893b793e7c38cd716fa",
       "version_major": 2,
       "version_minor": 0
      },
      "text/plain": [
       "HBox(children=(FloatProgress(value=0.0, description='Val 51', max=61.0, style=ProgressStyle(description_width=…"
      ]
     },
     "metadata": {},
     "output_type": "display_data"
    },
    {
     "name": "stdout",
     "output_type": "stream",
     "text": [
      "\n"
     ]
    },
    {
     "name": "stderr",
     "output_type": "stream",
     "text": [
      "C:\\Users\\emano\\Anaconda3\\envs\\py37-Torch-Transformers\\lib\\site-packages\\sklearn\\metrics\\_ranking.py:677: RuntimeWarning: invalid value encountered in true_divide\n",
      "  recall = tps / tps[-1]\n"
     ]
    },
    {
     "name": "stdout",
     "output_type": "stream",
     "text": [
      "man size: 4457 woman size: 3273\n",
      "Test epoch   : 51, meanAP: 32.38, meanAP_man: 32.04, meanAP_woman: nan, adv acc: 78.54, \n"
     ]
    },
    {
     "data": {
      "application/vnd.jupyter.widget-view+json": {
       "model_id": "d06eeeb351a047b187d6004c20d4b0b1",
       "version_major": 2,
       "version_minor": 0
      },
      "text/plain": [
       "HBox(children=(FloatProgress(value=0.0, description='Train 52', max=190.0, style=ProgressStyle(description_wid…"
      ]
     },
     "metadata": {},
     "output_type": "display_data"
    },
    {
     "name": "stdout",
     "output_type": "stream",
     "text": [
      "\n",
      "man size: 14199 woman size: 10102\n",
      "Train epoch  : 52, meanAP: 44.11, meanAP_man: 42.04, meanAP_woman: 41.68, adv acc: 99.26, \n"
     ]
    },
    {
     "data": {
      "application/vnd.jupyter.widget-view+json": {
       "model_id": "70f058353ce0426992dc33f414d176ac",
       "version_major": 2,
       "version_minor": 0
      },
      "text/plain": [
       "HBox(children=(FloatProgress(value=0.0, description='Val balanced 52', max=47.0, style=ProgressStyle(descripti…"
      ]
     },
     "metadata": {},
     "output_type": "display_data"
    },
    {
     "name": "stdout",
     "output_type": "stream",
     "text": [
      "\n",
      "man size: 3000 woman size: 3000\n",
      "Test epoch(f): 52, meanAP: 32.76, meanAP_man: 33.08, meanAP_woman: nan, adv acc: 77.42, \n"
     ]
    },
    {
     "name": "stderr",
     "output_type": "stream",
     "text": [
      "C:\\Users\\emano\\Anaconda3\\envs\\py37-Torch-Transformers\\lib\\site-packages\\sklearn\\metrics\\_ranking.py:677: RuntimeWarning: invalid value encountered in true_divide\n",
      "  recall = tps / tps[-1]\n"
     ]
    },
    {
     "data": {
      "application/vnd.jupyter.widget-view+json": {
       "model_id": "04db477f287c46c59dc71e923a0b3f68",
       "version_major": 2,
       "version_minor": 0
      },
      "text/plain": [
       "HBox(children=(FloatProgress(value=0.0, description='Val 52', max=61.0, style=ProgressStyle(description_width=…"
      ]
     },
     "metadata": {},
     "output_type": "display_data"
    },
    {
     "name": "stdout",
     "output_type": "stream",
     "text": [
      "\n"
     ]
    },
    {
     "name": "stderr",
     "output_type": "stream",
     "text": [
      "C:\\Users\\emano\\Anaconda3\\envs\\py37-Torch-Transformers\\lib\\site-packages\\sklearn\\metrics\\_ranking.py:677: RuntimeWarning: invalid value encountered in true_divide\n",
      "  recall = tps / tps[-1]\n"
     ]
    },
    {
     "name": "stdout",
     "output_type": "stream",
     "text": [
      "man size: 4457 woman size: 3273\n",
      "Test epoch   : 52, meanAP: 32.39, meanAP_man: 32.02, meanAP_woman: nan, adv acc: 78.54, \n"
     ]
    },
    {
     "data": {
      "application/vnd.jupyter.widget-view+json": {
       "model_id": "09fde215278540628f55b324bd50c980",
       "version_major": 2,
       "version_minor": 0
      },
      "text/plain": [
       "HBox(children=(FloatProgress(value=0.0, description='Train 53', max=190.0, style=ProgressStyle(description_wid…"
      ]
     },
     "metadata": {},
     "output_type": "display_data"
    },
    {
     "name": "stdout",
     "output_type": "stream",
     "text": [
      "\n",
      "man size: 14199 woman size: 10102\n",
      "Train epoch  : 53, meanAP: 44.28, meanAP_man: 42.09, meanAP_woman: 41.64, adv acc: 99.16, \n"
     ]
    },
    {
     "data": {
      "application/vnd.jupyter.widget-view+json": {
       "model_id": "0c29a93e86e3499786e6734e7eee6f30",
       "version_major": 2,
       "version_minor": 0
      },
      "text/plain": [
       "HBox(children=(FloatProgress(value=0.0, description='Val balanced 53', max=47.0, style=ProgressStyle(descripti…"
      ]
     },
     "metadata": {},
     "output_type": "display_data"
    },
    {
     "name": "stdout",
     "output_type": "stream",
     "text": [
      "\n",
      "man size: 3000 woman size: 3000\n",
      "Test epoch(f): 53, meanAP: 32.76, meanAP_man: 32.98, meanAP_woman: nan, adv acc: 76.95, \n"
     ]
    },
    {
     "name": "stderr",
     "output_type": "stream",
     "text": [
      "C:\\Users\\emano\\Anaconda3\\envs\\py37-Torch-Transformers\\lib\\site-packages\\sklearn\\metrics\\_ranking.py:677: RuntimeWarning: invalid value encountered in true_divide\n",
      "  recall = tps / tps[-1]\n"
     ]
    },
    {
     "data": {
      "application/vnd.jupyter.widget-view+json": {
       "model_id": "29d9924b8ffc442191816de2cca7ad02",
       "version_major": 2,
       "version_minor": 0
      },
      "text/plain": [
       "HBox(children=(FloatProgress(value=0.0, description='Val 53', max=61.0, style=ProgressStyle(description_width=…"
      ]
     },
     "metadata": {},
     "output_type": "display_data"
    },
    {
     "name": "stdout",
     "output_type": "stream",
     "text": [
      "\n"
     ]
    },
    {
     "name": "stderr",
     "output_type": "stream",
     "text": [
      "C:\\Users\\emano\\Anaconda3\\envs\\py37-Torch-Transformers\\lib\\site-packages\\sklearn\\metrics\\_ranking.py:677: RuntimeWarning: invalid value encountered in true_divide\n",
      "  recall = tps / tps[-1]\n"
     ]
    },
    {
     "name": "stdout",
     "output_type": "stream",
     "text": [
      "man size: 4457 woman size: 3273\n",
      "Test epoch   : 53, meanAP: 32.48, meanAP_man: 32.08, meanAP_woman: nan, adv acc: 77.92, \n"
     ]
    },
    {
     "data": {
      "application/vnd.jupyter.widget-view+json": {
       "model_id": "713a6cbbd48b4cb09ca2c032fda17c4b",
       "version_major": 2,
       "version_minor": 0
      },
      "text/plain": [
       "HBox(children=(FloatProgress(value=0.0, description='Train 54', max=190.0, style=ProgressStyle(description_wid…"
      ]
     },
     "metadata": {},
     "output_type": "display_data"
    },
    {
     "name": "stdout",
     "output_type": "stream",
     "text": [
      "\n",
      "man size: 14199 woman size: 10102\n",
      "Train epoch  : 54, meanAP: 44.13, meanAP_man: 42.04, meanAP_woman: 41.84, adv acc: 99.28, \n"
     ]
    },
    {
     "data": {
      "application/vnd.jupyter.widget-view+json": {
       "model_id": "097e412eecc0413d99816151fafc1a97",
       "version_major": 2,
       "version_minor": 0
      },
      "text/plain": [
       "HBox(children=(FloatProgress(value=0.0, description='Val balanced 54', max=47.0, style=ProgressStyle(descripti…"
      ]
     },
     "metadata": {},
     "output_type": "display_data"
    },
    {
     "name": "stdout",
     "output_type": "stream",
     "text": [
      "\n",
      "man size: 3000 woman size: 3000\n",
      "Test epoch(f): 54, meanAP: 32.90, meanAP_man: 33.21, meanAP_woman: nan, adv acc: 77.12, \n"
     ]
    },
    {
     "name": "stderr",
     "output_type": "stream",
     "text": [
      "C:\\Users\\emano\\Anaconda3\\envs\\py37-Torch-Transformers\\lib\\site-packages\\sklearn\\metrics\\_ranking.py:677: RuntimeWarning: invalid value encountered in true_divide\n",
      "  recall = tps / tps[-1]\n"
     ]
    },
    {
     "data": {
      "application/vnd.jupyter.widget-view+json": {
       "model_id": "7a629deea8d74d59ad32312941297322",
       "version_major": 2,
       "version_minor": 0
      },
      "text/plain": [
       "HBox(children=(FloatProgress(value=0.0, description='Val 54', max=61.0, style=ProgressStyle(description_width=…"
      ]
     },
     "metadata": {},
     "output_type": "display_data"
    },
    {
     "name": "stdout",
     "output_type": "stream",
     "text": [
      "\n"
     ]
    },
    {
     "name": "stderr",
     "output_type": "stream",
     "text": [
      "C:\\Users\\emano\\Anaconda3\\envs\\py37-Torch-Transformers\\lib\\site-packages\\sklearn\\metrics\\_ranking.py:677: RuntimeWarning: invalid value encountered in true_divide\n",
      "  recall = tps / tps[-1]\n"
     ]
    },
    {
     "name": "stdout",
     "output_type": "stream",
     "text": [
      "man size: 4457 woman size: 3273\n",
      "Test epoch   : 54, meanAP: 32.59, meanAP_man: 32.19, meanAP_woman: nan, adv acc: 77.87, \n"
     ]
    },
    {
     "data": {
      "application/vnd.jupyter.widget-view+json": {
       "model_id": "5ab52c2154184f3dbdb627b43be78722",
       "version_major": 2,
       "version_minor": 0
      },
      "text/plain": [
       "HBox(children=(FloatProgress(value=0.0, description='Train 55', max=190.0, style=ProgressStyle(description_wid…"
      ]
     },
     "metadata": {},
     "output_type": "display_data"
    },
    {
     "name": "stdout",
     "output_type": "stream",
     "text": [
      "\n",
      "man size: 14199 woman size: 10102\n",
      "Train epoch  : 55, meanAP: 44.75, meanAP_man: 43.12, meanAP_woman: 42.31, adv acc: 99.26, \n"
     ]
    },
    {
     "data": {
      "application/vnd.jupyter.widget-view+json": {
       "model_id": "77265872896c4b37806a076f4bf89faa",
       "version_major": 2,
       "version_minor": 0
      },
      "text/plain": [
       "HBox(children=(FloatProgress(value=0.0, description='Val balanced 55', max=47.0, style=ProgressStyle(descripti…"
      ]
     },
     "metadata": {},
     "output_type": "display_data"
    },
    {
     "name": "stdout",
     "output_type": "stream",
     "text": [
      "\n",
      "man size: 3000 woman size: 3000\n",
      "Test epoch(f): 55, meanAP: 32.87, meanAP_man: 33.27, meanAP_woman: nan, adv acc: 76.83, \n"
     ]
    },
    {
     "name": "stderr",
     "output_type": "stream",
     "text": [
      "C:\\Users\\emano\\Anaconda3\\envs\\py37-Torch-Transformers\\lib\\site-packages\\sklearn\\metrics\\_ranking.py:677: RuntimeWarning: invalid value encountered in true_divide\n",
      "  recall = tps / tps[-1]\n"
     ]
    },
    {
     "data": {
      "application/vnd.jupyter.widget-view+json": {
       "model_id": "989682760b9e41c6ba52663bf9b09634",
       "version_major": 2,
       "version_minor": 0
      },
      "text/plain": [
       "HBox(children=(FloatProgress(value=0.0, description='Val 55', max=61.0, style=ProgressStyle(description_width=…"
      ]
     },
     "metadata": {},
     "output_type": "display_data"
    },
    {
     "name": "stdout",
     "output_type": "stream",
     "text": [
      "\n"
     ]
    },
    {
     "name": "stderr",
     "output_type": "stream",
     "text": [
      "C:\\Users\\emano\\Anaconda3\\envs\\py37-Torch-Transformers\\lib\\site-packages\\sklearn\\metrics\\_ranking.py:677: RuntimeWarning: invalid value encountered in true_divide\n",
      "  recall = tps / tps[-1]\n"
     ]
    },
    {
     "name": "stdout",
     "output_type": "stream",
     "text": [
      "man size: 4457 woman size: 3273\n",
      "Test epoch   : 55, meanAP: 32.54, meanAP_man: 32.22, meanAP_woman: nan, adv acc: 78.20, \n"
     ]
    },
    {
     "data": {
      "application/vnd.jupyter.widget-view+json": {
       "model_id": "386101fd184a4c1098ae099c561606d3",
       "version_major": 2,
       "version_minor": 0
      },
      "text/plain": [
       "HBox(children=(FloatProgress(value=0.0, description='Train 56', max=190.0, style=ProgressStyle(description_wid…"
      ]
     },
     "metadata": {},
     "output_type": "display_data"
    },
    {
     "name": "stdout",
     "output_type": "stream",
     "text": [
      "\n",
      "man size: 14199 woman size: 10102\n",
      "Train epoch  : 56, meanAP: 44.91, meanAP_man: 43.03, meanAP_woman: 42.29, adv acc: 99.26, \n"
     ]
    },
    {
     "data": {
      "application/vnd.jupyter.widget-view+json": {
       "model_id": "c8f8352d8a1f49d6b9508a03e02f5dda",
       "version_major": 2,
       "version_minor": 0
      },
      "text/plain": [
       "HBox(children=(FloatProgress(value=0.0, description='Val balanced 56', max=47.0, style=ProgressStyle(descripti…"
      ]
     },
     "metadata": {},
     "output_type": "display_data"
    },
    {
     "name": "stdout",
     "output_type": "stream",
     "text": [
      "\n",
      "man size: 3000 woman size: 3000\n",
      "Test epoch(f): 56, meanAP: 32.93, meanAP_man: 33.37, meanAP_woman: nan, adv acc: 77.55, \n"
     ]
    },
    {
     "name": "stderr",
     "output_type": "stream",
     "text": [
      "C:\\Users\\emano\\Anaconda3\\envs\\py37-Torch-Transformers\\lib\\site-packages\\sklearn\\metrics\\_ranking.py:677: RuntimeWarning: invalid value encountered in true_divide\n",
      "  recall = tps / tps[-1]\n"
     ]
    },
    {
     "data": {
      "application/vnd.jupyter.widget-view+json": {
       "model_id": "ba488c991ccb474589694bcddddae7fc",
       "version_major": 2,
       "version_minor": 0
      },
      "text/plain": [
       "HBox(children=(FloatProgress(value=0.0, description='Val 56', max=61.0, style=ProgressStyle(description_width=…"
      ]
     },
     "metadata": {},
     "output_type": "display_data"
    },
    {
     "name": "stdout",
     "output_type": "stream",
     "text": [
      "\n"
     ]
    },
    {
     "name": "stderr",
     "output_type": "stream",
     "text": [
      "C:\\Users\\emano\\Anaconda3\\envs\\py37-Torch-Transformers\\lib\\site-packages\\sklearn\\metrics\\_ranking.py:677: RuntimeWarning: invalid value encountered in true_divide\n",
      "  recall = tps / tps[-1]\n"
     ]
    },
    {
     "name": "stdout",
     "output_type": "stream",
     "text": [
      "man size: 4457 woman size: 3273\n",
      "Test epoch   : 56, meanAP: 32.60, meanAP_man: 32.25, meanAP_woman: nan, adv acc: 78.60, \n"
     ]
    },
    {
     "data": {
      "application/vnd.jupyter.widget-view+json": {
       "model_id": "764388a375404dee9dd5497dbdcc3b23",
       "version_major": 2,
       "version_minor": 0
      },
      "text/plain": [
       "HBox(children=(FloatProgress(value=0.0, description='Train 57', max=190.0, style=ProgressStyle(description_wid…"
      ]
     },
     "metadata": {},
     "output_type": "display_data"
    },
    {
     "name": "stdout",
     "output_type": "stream",
     "text": [
      "\n",
      "man size: 14199 woman size: 10102\n",
      "Train epoch  : 57, meanAP: 45.08, meanAP_man: 43.19, meanAP_woman: 42.70, adv acc: 99.34, \n"
     ]
    },
    {
     "data": {
      "application/vnd.jupyter.widget-view+json": {
       "model_id": "ecb506b6654f48eaaf5ff8282a9455e4",
       "version_major": 2,
       "version_minor": 0
      },
      "text/plain": [
       "HBox(children=(FloatProgress(value=0.0, description='Val balanced 57', max=47.0, style=ProgressStyle(descripti…"
      ]
     },
     "metadata": {},
     "output_type": "display_data"
    },
    {
     "name": "stdout",
     "output_type": "stream",
     "text": [
      "\n",
      "man size: 3000 woman size: 3000\n",
      "Test epoch(f): 57, meanAP: 33.04, meanAP_man: 33.38, meanAP_woman: nan, adv acc: 77.50, \n"
     ]
    },
    {
     "name": "stderr",
     "output_type": "stream",
     "text": [
      "C:\\Users\\emano\\Anaconda3\\envs\\py37-Torch-Transformers\\lib\\site-packages\\sklearn\\metrics\\_ranking.py:677: RuntimeWarning: invalid value encountered in true_divide\n",
      "  recall = tps / tps[-1]\n"
     ]
    },
    {
     "data": {
      "application/vnd.jupyter.widget-view+json": {
       "model_id": "1ce2ff54dbdd49578bb492ff4a512fcf",
       "version_major": 2,
       "version_minor": 0
      },
      "text/plain": [
       "HBox(children=(FloatProgress(value=0.0, description='Val 57', max=61.0, style=ProgressStyle(description_width=…"
      ]
     },
     "metadata": {},
     "output_type": "display_data"
    },
    {
     "name": "stdout",
     "output_type": "stream",
     "text": [
      "\n"
     ]
    },
    {
     "name": "stderr",
     "output_type": "stream",
     "text": [
      "C:\\Users\\emano\\Anaconda3\\envs\\py37-Torch-Transformers\\lib\\site-packages\\sklearn\\metrics\\_ranking.py:677: RuntimeWarning: invalid value encountered in true_divide\n",
      "  recall = tps / tps[-1]\n"
     ]
    },
    {
     "name": "stdout",
     "output_type": "stream",
     "text": [
      "man size: 4457 woman size: 3273\n",
      "Test epoch   : 57, meanAP: 32.73, meanAP_man: 32.37, meanAP_woman: nan, adv acc: 78.64, \n"
     ]
    },
    {
     "data": {
      "application/vnd.jupyter.widget-view+json": {
       "model_id": "108981e97b294ce082130afae913799a",
       "version_major": 2,
       "version_minor": 0
      },
      "text/plain": [
       "HBox(children=(FloatProgress(value=0.0, description='Train 58', max=190.0, style=ProgressStyle(description_wid…"
      ]
     },
     "metadata": {},
     "output_type": "display_data"
    },
    {
     "name": "stdout",
     "output_type": "stream",
     "text": [
      "\n",
      "man size: 14199 woman size: 10102\n",
      "Train epoch  : 58, meanAP: 45.10, meanAP_man: 43.15, meanAP_woman: 42.66, adv acc: 99.19, \n"
     ]
    },
    {
     "data": {
      "application/vnd.jupyter.widget-view+json": {
       "model_id": "4a6e940dca624e55bd3ba389874dd53b",
       "version_major": 2,
       "version_minor": 0
      },
      "text/plain": [
       "HBox(children=(FloatProgress(value=0.0, description='Val balanced 58', max=47.0, style=ProgressStyle(descripti…"
      ]
     },
     "metadata": {},
     "output_type": "display_data"
    },
    {
     "name": "stdout",
     "output_type": "stream",
     "text": [
      "\n",
      "man size: 3000 woman size: 3000\n",
      "Test epoch(f): 58, meanAP: 32.96, meanAP_man: 33.26, meanAP_woman: nan, adv acc: 77.03, \n"
     ]
    },
    {
     "name": "stderr",
     "output_type": "stream",
     "text": [
      "C:\\Users\\emano\\Anaconda3\\envs\\py37-Torch-Transformers\\lib\\site-packages\\sklearn\\metrics\\_ranking.py:677: RuntimeWarning: invalid value encountered in true_divide\n",
      "  recall = tps / tps[-1]\n"
     ]
    },
    {
     "data": {
      "application/vnd.jupyter.widget-view+json": {
       "model_id": "9fbd86610c3541fc9519274831dffe5e",
       "version_major": 2,
       "version_minor": 0
      },
      "text/plain": [
       "HBox(children=(FloatProgress(value=0.0, description='Val 58', max=61.0, style=ProgressStyle(description_width=…"
      ]
     },
     "metadata": {},
     "output_type": "display_data"
    },
    {
     "name": "stdout",
     "output_type": "stream",
     "text": [
      "\n"
     ]
    },
    {
     "name": "stderr",
     "output_type": "stream",
     "text": [
      "C:\\Users\\emano\\Anaconda3\\envs\\py37-Torch-Transformers\\lib\\site-packages\\sklearn\\metrics\\_ranking.py:677: RuntimeWarning: invalid value encountered in true_divide\n",
      "  recall = tps / tps[-1]\n"
     ]
    },
    {
     "name": "stdout",
     "output_type": "stream",
     "text": [
      "man size: 4457 woman size: 3273\n",
      "Test epoch   : 58, meanAP: 32.64, meanAP_man: 32.26, meanAP_woman: nan, adv acc: 77.80, \n"
     ]
    },
    {
     "data": {
      "application/vnd.jupyter.widget-view+json": {
       "model_id": "e2bf3d80e8d14982902ccffe36b0feeb",
       "version_major": 2,
       "version_minor": 0
      },
      "text/plain": [
       "HBox(children=(FloatProgress(value=0.0, description='Train 59', max=190.0, style=ProgressStyle(description_wid…"
      ]
     },
     "metadata": {},
     "output_type": "display_data"
    },
    {
     "name": "stdout",
     "output_type": "stream",
     "text": [
      "\n",
      "man size: 14199 woman size: 10102\n",
      "Train epoch  : 59, meanAP: 45.25, meanAP_man: 43.20, meanAP_woman: 42.69, adv acc: 99.32, \n"
     ]
    },
    {
     "data": {
      "application/vnd.jupyter.widget-view+json": {
       "model_id": "be2d648eb9374b4bb30d1662816ea9e2",
       "version_major": 2,
       "version_minor": 0
      },
      "text/plain": [
       "HBox(children=(FloatProgress(value=0.0, description='Val balanced 59', max=47.0, style=ProgressStyle(descripti…"
      ]
     },
     "metadata": {},
     "output_type": "display_data"
    },
    {
     "name": "stdout",
     "output_type": "stream",
     "text": [
      "\n",
      "man size: 3000 woman size: 3000\n",
      "Test epoch(f): 59, meanAP: 32.97, meanAP_man: 33.31, meanAP_woman: nan, adv acc: 77.52, \n"
     ]
    },
    {
     "name": "stderr",
     "output_type": "stream",
     "text": [
      "C:\\Users\\emano\\Anaconda3\\envs\\py37-Torch-Transformers\\lib\\site-packages\\sklearn\\metrics\\_ranking.py:677: RuntimeWarning: invalid value encountered in true_divide\n",
      "  recall = tps / tps[-1]\n"
     ]
    },
    {
     "data": {
      "application/vnd.jupyter.widget-view+json": {
       "model_id": "e7cd104f5a7943ae94664835c79daf36",
       "version_major": 2,
       "version_minor": 0
      },
      "text/plain": [
       "HBox(children=(FloatProgress(value=0.0, description='Val 59', max=61.0, style=ProgressStyle(description_width=…"
      ]
     },
     "metadata": {},
     "output_type": "display_data"
    },
    {
     "name": "stdout",
     "output_type": "stream",
     "text": [
      "\n"
     ]
    },
    {
     "name": "stderr",
     "output_type": "stream",
     "text": [
      "C:\\Users\\emano\\Anaconda3\\envs\\py37-Torch-Transformers\\lib\\site-packages\\sklearn\\metrics\\_ranking.py:677: RuntimeWarning: invalid value encountered in true_divide\n",
      "  recall = tps / tps[-1]\n"
     ]
    },
    {
     "name": "stdout",
     "output_type": "stream",
     "text": [
      "man size: 4457 woman size: 3273\n",
      "Test epoch   : 59, meanAP: 32.68, meanAP_man: 32.31, meanAP_woman: nan, adv acc: 78.43, \n"
     ]
    },
    {
     "data": {
      "application/vnd.jupyter.widget-view+json": {
       "model_id": "eb310b4684e647f88dd45291ab379b15",
       "version_major": 2,
       "version_minor": 0
      },
      "text/plain": [
       "HBox(children=(FloatProgress(value=0.0, description='Train 60', max=190.0, style=ProgressStyle(description_wid…"
      ]
     },
     "metadata": {},
     "output_type": "display_data"
    },
    {
     "name": "stdout",
     "output_type": "stream",
     "text": [
      "\n",
      "man size: 14199 woman size: 10102\n",
      "Train epoch  : 60, meanAP: 45.53, meanAP_man: 43.36, meanAP_woman: 43.25, adv acc: 99.32, \n"
     ]
    },
    {
     "data": {
      "application/vnd.jupyter.widget-view+json": {
       "model_id": "56749d3c5a6c483ca81e03e0525f98ad",
       "version_major": 2,
       "version_minor": 0
      },
      "text/plain": [
       "HBox(children=(FloatProgress(value=0.0, description='Val balanced 60', max=47.0, style=ProgressStyle(descripti…"
      ]
     },
     "metadata": {},
     "output_type": "display_data"
    },
    {
     "name": "stdout",
     "output_type": "stream",
     "text": [
      "\n",
      "man size: 3000 woman size: 3000\n",
      "Test epoch(f): 60, meanAP: 33.03, meanAP_man: 33.38, meanAP_woman: nan, adv acc: 77.38, \n"
     ]
    },
    {
     "name": "stderr",
     "output_type": "stream",
     "text": [
      "C:\\Users\\emano\\Anaconda3\\envs\\py37-Torch-Transformers\\lib\\site-packages\\sklearn\\metrics\\_ranking.py:677: RuntimeWarning: invalid value encountered in true_divide\n",
      "  recall = tps / tps[-1]\n"
     ]
    },
    {
     "data": {
      "application/vnd.jupyter.widget-view+json": {
       "model_id": "1a05f5bbd701493eab723b4f4e95fdd7",
       "version_major": 2,
       "version_minor": 0
      },
      "text/plain": [
       "HBox(children=(FloatProgress(value=0.0, description='Val 60', max=61.0, style=ProgressStyle(description_width=…"
      ]
     },
     "metadata": {},
     "output_type": "display_data"
    },
    {
     "name": "stdout",
     "output_type": "stream",
     "text": [
      "\n"
     ]
    },
    {
     "name": "stderr",
     "output_type": "stream",
     "text": [
      "C:\\Users\\emano\\Anaconda3\\envs\\py37-Torch-Transformers\\lib\\site-packages\\sklearn\\metrics\\_ranking.py:677: RuntimeWarning: invalid value encountered in true_divide\n",
      "  recall = tps / tps[-1]\n"
     ]
    },
    {
     "name": "stdout",
     "output_type": "stream",
     "text": [
      "man size: 4457 woman size: 3273\n",
      "Test epoch   : 60, meanAP: 32.76, meanAP_man: 32.39, meanAP_woman: nan, adv acc: 78.29, \n"
     ]
    },
    {
     "data": {
      "application/vnd.jupyter.widget-view+json": {
       "model_id": "43fe6099b6864e9b9240193155ba12f2",
       "version_major": 2,
       "version_minor": 0
      },
      "text/plain": [
       "HBox(children=(FloatProgress(value=0.0, description='Train 61', max=190.0, style=ProgressStyle(description_wid…"
      ]
     },
     "metadata": {},
     "output_type": "display_data"
    },
    {
     "name": "stdout",
     "output_type": "stream",
     "text": [
      "\n",
      "man size: 14199 woman size: 10102\n",
      "Train epoch  : 61, meanAP: 45.50, meanAP_man: 43.42, meanAP_woman: 42.88, adv acc: 99.30, \n"
     ]
    },
    {
     "data": {
      "application/vnd.jupyter.widget-view+json": {
       "model_id": "10354f0626194bd2853e331f6e9405f3",
       "version_major": 2,
       "version_minor": 0
      },
      "text/plain": [
       "HBox(children=(FloatProgress(value=0.0, description='Val balanced 61', max=47.0, style=ProgressStyle(descripti…"
      ]
     },
     "metadata": {},
     "output_type": "display_data"
    },
    {
     "name": "stdout",
     "output_type": "stream",
     "text": [
      "\n",
      "man size: 3000 woman size: 3000\n",
      "Test epoch(f): 61, meanAP: 33.03, meanAP_man: 33.42, meanAP_woman: nan, adv acc: 77.58, \n"
     ]
    },
    {
     "name": "stderr",
     "output_type": "stream",
     "text": [
      "C:\\Users\\emano\\Anaconda3\\envs\\py37-Torch-Transformers\\lib\\site-packages\\sklearn\\metrics\\_ranking.py:677: RuntimeWarning: invalid value encountered in true_divide\n",
      "  recall = tps / tps[-1]\n"
     ]
    },
    {
     "data": {
      "application/vnd.jupyter.widget-view+json": {
       "model_id": "eb4589e3556240138ff4f1145ef2bd02",
       "version_major": 2,
       "version_minor": 0
      },
      "text/plain": [
       "HBox(children=(FloatProgress(value=0.0, description='Val 61', max=61.0, style=ProgressStyle(description_width=…"
      ]
     },
     "metadata": {},
     "output_type": "display_data"
    },
    {
     "name": "stdout",
     "output_type": "stream",
     "text": [
      "\n"
     ]
    },
    {
     "name": "stderr",
     "output_type": "stream",
     "text": [
      "C:\\Users\\emano\\Anaconda3\\envs\\py37-Torch-Transformers\\lib\\site-packages\\sklearn\\metrics\\_ranking.py:677: RuntimeWarning: invalid value encountered in true_divide\n",
      "  recall = tps / tps[-1]\n"
     ]
    },
    {
     "name": "stdout",
     "output_type": "stream",
     "text": [
      "man size: 4457 woman size: 3273\n",
      "Test epoch   : 61, meanAP: 32.73, meanAP_man: 32.43, meanAP_woman: nan, adv acc: 78.41, \n"
     ]
    },
    {
     "data": {
      "application/vnd.jupyter.widget-view+json": {
       "model_id": "920f84e90c24401399ccf3ee3a2921d9",
       "version_major": 2,
       "version_minor": 0
      },
      "text/plain": [
       "HBox(children=(FloatProgress(value=0.0, description='Train 62', max=190.0, style=ProgressStyle(description_wid…"
      ]
     },
     "metadata": {},
     "output_type": "display_data"
    },
    {
     "name": "stdout",
     "output_type": "stream",
     "text": [
      "\n",
      "man size: 14199 woman size: 10102\n",
      "Train epoch  : 62, meanAP: 45.86, meanAP_man: 43.93, meanAP_woman: 43.05, adv acc: 99.35, \n"
     ]
    },
    {
     "data": {
      "application/vnd.jupyter.widget-view+json": {
       "model_id": "0d5e4cbc8b224fa0b732c5558cf3c3fc",
       "version_major": 2,
       "version_minor": 0
      },
      "text/plain": [
       "HBox(children=(FloatProgress(value=0.0, description='Val balanced 62', max=47.0, style=ProgressStyle(descripti…"
      ]
     },
     "metadata": {},
     "output_type": "display_data"
    },
    {
     "name": "stdout",
     "output_type": "stream",
     "text": [
      "\n",
      "man size: 3000 woman size: 3000\n",
      "Test epoch(f): 62, meanAP: 32.96, meanAP_man: 33.25, meanAP_woman: nan, adv acc: 77.40, \n"
     ]
    },
    {
     "name": "stderr",
     "output_type": "stream",
     "text": [
      "C:\\Users\\emano\\Anaconda3\\envs\\py37-Torch-Transformers\\lib\\site-packages\\sklearn\\metrics\\_ranking.py:677: RuntimeWarning: invalid value encountered in true_divide\n",
      "  recall = tps / tps[-1]\n"
     ]
    },
    {
     "data": {
      "application/vnd.jupyter.widget-view+json": {
       "model_id": "758a49b348d346d69899d34e40feaeb6",
       "version_major": 2,
       "version_minor": 0
      },
      "text/plain": [
       "HBox(children=(FloatProgress(value=0.0, description='Val 62', max=61.0, style=ProgressStyle(description_width=…"
      ]
     },
     "metadata": {},
     "output_type": "display_data"
    },
    {
     "name": "stdout",
     "output_type": "stream",
     "text": [
      "\n"
     ]
    },
    {
     "name": "stderr",
     "output_type": "stream",
     "text": [
      "C:\\Users\\emano\\Anaconda3\\envs\\py37-Torch-Transformers\\lib\\site-packages\\sklearn\\metrics\\_ranking.py:677: RuntimeWarning: invalid value encountered in true_divide\n",
      "  recall = tps / tps[-1]\n"
     ]
    },
    {
     "name": "stdout",
     "output_type": "stream",
     "text": [
      "man size: 4457 woman size: 3273\n",
      "Test epoch   : 62, meanAP: 32.69, meanAP_man: 32.28, meanAP_woman: nan, adv acc: 78.65, \n"
     ]
    },
    {
     "data": {
      "application/vnd.jupyter.widget-view+json": {
       "model_id": "98343e6a8156455da5862386adba4be1",
       "version_major": 2,
       "version_minor": 0
      },
      "text/plain": [
       "HBox(children=(FloatProgress(value=0.0, description='Train 63', max=190.0, style=ProgressStyle(description_wid…"
      ]
     },
     "metadata": {},
     "output_type": "display_data"
    },
    {
     "name": "stdout",
     "output_type": "stream",
     "text": [
      "\n",
      "man size: 14199 woman size: 10102\n",
      "Train epoch  : 63, meanAP: 46.21, meanAP_man: 44.05, meanAP_woman: 44.11, adv acc: 99.28, \n"
     ]
    },
    {
     "data": {
      "application/vnd.jupyter.widget-view+json": {
       "model_id": "9f2e80fed0bf4aff9b3104bf88ee7dd8",
       "version_major": 2,
       "version_minor": 0
      },
      "text/plain": [
       "HBox(children=(FloatProgress(value=0.0, description='Val balanced 63', max=47.0, style=ProgressStyle(descripti…"
      ]
     },
     "metadata": {},
     "output_type": "display_data"
    },
    {
     "name": "stdout",
     "output_type": "stream",
     "text": [
      "\n",
      "man size: 3000 woman size: 3000\n",
      "Test epoch(f): 63, meanAP: 33.20, meanAP_man: 33.58, meanAP_woman: nan, adv acc: 76.80, \n"
     ]
    },
    {
     "name": "stderr",
     "output_type": "stream",
     "text": [
      "C:\\Users\\emano\\Anaconda3\\envs\\py37-Torch-Transformers\\lib\\site-packages\\sklearn\\metrics\\_ranking.py:677: RuntimeWarning: invalid value encountered in true_divide\n",
      "  recall = tps / tps[-1]\n"
     ]
    },
    {
     "data": {
      "application/vnd.jupyter.widget-view+json": {
       "model_id": "770d4c2f25c2476f9aa8a9a17692c99a",
       "version_major": 2,
       "version_minor": 0
      },
      "text/plain": [
       "HBox(children=(FloatProgress(value=0.0, description='Val 63', max=61.0, style=ProgressStyle(description_width=…"
      ]
     },
     "metadata": {},
     "output_type": "display_data"
    },
    {
     "name": "stdout",
     "output_type": "stream",
     "text": [
      "\n"
     ]
    },
    {
     "name": "stderr",
     "output_type": "stream",
     "text": [
      "C:\\Users\\emano\\Anaconda3\\envs\\py37-Torch-Transformers\\lib\\site-packages\\sklearn\\metrics\\_ranking.py:677: RuntimeWarning: invalid value encountered in true_divide\n",
      "  recall = tps / tps[-1]\n"
     ]
    },
    {
     "name": "stdout",
     "output_type": "stream",
     "text": [
      "man size: 4457 woman size: 3273\n",
      "Test epoch   : 63, meanAP: 32.85, meanAP_man: 32.54, meanAP_woman: nan, adv acc: 77.87, \n"
     ]
    },
    {
     "data": {
      "application/vnd.jupyter.widget-view+json": {
       "model_id": "b9bf3bae87db4fcaaef7e97ec2a205ce",
       "version_major": 2,
       "version_minor": 0
      },
      "text/plain": [
       "HBox(children=(FloatProgress(value=0.0, description='Train 64', max=190.0, style=ProgressStyle(description_wid…"
      ]
     },
     "metadata": {},
     "output_type": "display_data"
    },
    {
     "name": "stdout",
     "output_type": "stream",
     "text": [
      "\n",
      "man size: 14199 woman size: 10102\n",
      "Train epoch  : 64, meanAP: 46.40, meanAP_man: 44.38, meanAP_woman: 44.07, adv acc: 99.29, \n"
     ]
    },
    {
     "data": {
      "application/vnd.jupyter.widget-view+json": {
       "model_id": "9cd908a02fee4e858e0378219371511e",
       "version_major": 2,
       "version_minor": 0
      },
      "text/plain": [
       "HBox(children=(FloatProgress(value=0.0, description='Val balanced 64', max=47.0, style=ProgressStyle(descripti…"
      ]
     },
     "metadata": {},
     "output_type": "display_data"
    },
    {
     "name": "stdout",
     "output_type": "stream",
     "text": [
      "\n",
      "man size: 3000 woman size: 3000\n",
      "Test epoch(f): 64, meanAP: 33.07, meanAP_man: 33.28, meanAP_woman: nan, adv acc: 77.15, \n"
     ]
    },
    {
     "name": "stderr",
     "output_type": "stream",
     "text": [
      "C:\\Users\\emano\\Anaconda3\\envs\\py37-Torch-Transformers\\lib\\site-packages\\sklearn\\metrics\\_ranking.py:677: RuntimeWarning: invalid value encountered in true_divide\n",
      "  recall = tps / tps[-1]\n"
     ]
    },
    {
     "data": {
      "application/vnd.jupyter.widget-view+json": {
       "model_id": "8d0258d250d34008b082ad8a6ec871c1",
       "version_major": 2,
       "version_minor": 0
      },
      "text/plain": [
       "HBox(children=(FloatProgress(value=0.0, description='Val 64', max=61.0, style=ProgressStyle(description_width=…"
      ]
     },
     "metadata": {},
     "output_type": "display_data"
    },
    {
     "name": "stdout",
     "output_type": "stream",
     "text": [
      "\n"
     ]
    },
    {
     "name": "stderr",
     "output_type": "stream",
     "text": [
      "C:\\Users\\emano\\Anaconda3\\envs\\py37-Torch-Transformers\\lib\\site-packages\\sklearn\\metrics\\_ranking.py:677: RuntimeWarning: invalid value encountered in true_divide\n",
      "  recall = tps / tps[-1]\n"
     ]
    },
    {
     "name": "stdout",
     "output_type": "stream",
     "text": [
      "man size: 4457 woman size: 3273\n",
      "Test epoch   : 64, meanAP: 32.77, meanAP_man: 32.31, meanAP_woman: nan, adv acc: 78.20, \n"
     ]
    },
    {
     "data": {
      "application/vnd.jupyter.widget-view+json": {
       "model_id": "0f6f465592304424b9aec1975c36696b",
       "version_major": 2,
       "version_minor": 0
      },
      "text/plain": [
       "HBox(children=(FloatProgress(value=0.0, description='Train 65', max=190.0, style=ProgressStyle(description_wid…"
      ]
     },
     "metadata": {},
     "output_type": "display_data"
    },
    {
     "name": "stdout",
     "output_type": "stream",
     "text": [
      "\n",
      "man size: 14199 woman size: 10102\n",
      "Train epoch  : 65, meanAP: 46.68, meanAP_man: 44.71, meanAP_woman: 44.51, adv acc: 99.40, \n"
     ]
    },
    {
     "data": {
      "application/vnd.jupyter.widget-view+json": {
       "model_id": "4dec1efc1f26448bab134b27aae9a538",
       "version_major": 2,
       "version_minor": 0
      },
      "text/plain": [
       "HBox(children=(FloatProgress(value=0.0, description='Val balanced 65', max=47.0, style=ProgressStyle(descripti…"
      ]
     },
     "metadata": {},
     "output_type": "display_data"
    },
    {
     "name": "stdout",
     "output_type": "stream",
     "text": [
      "\n",
      "man size: 3000 woman size: 3000\n",
      "Test epoch(f): 65, meanAP: 33.12, meanAP_man: 33.43, meanAP_woman: nan, adv acc: 76.97, \n"
     ]
    },
    {
     "name": "stderr",
     "output_type": "stream",
     "text": [
      "C:\\Users\\emano\\Anaconda3\\envs\\py37-Torch-Transformers\\lib\\site-packages\\sklearn\\metrics\\_ranking.py:677: RuntimeWarning: invalid value encountered in true_divide\n",
      "  recall = tps / tps[-1]\n"
     ]
    },
    {
     "data": {
      "application/vnd.jupyter.widget-view+json": {
       "model_id": "8764767f155d4a94bc44a58e6e35bd99",
       "version_major": 2,
       "version_minor": 0
      },
      "text/plain": [
       "HBox(children=(FloatProgress(value=0.0, description='Val 65', max=61.0, style=ProgressStyle(description_width=…"
      ]
     },
     "metadata": {},
     "output_type": "display_data"
    },
    {
     "name": "stdout",
     "output_type": "stream",
     "text": [
      "\n"
     ]
    },
    {
     "name": "stderr",
     "output_type": "stream",
     "text": [
      "C:\\Users\\emano\\Anaconda3\\envs\\py37-Torch-Transformers\\lib\\site-packages\\sklearn\\metrics\\_ranking.py:677: RuntimeWarning: invalid value encountered in true_divide\n",
      "  recall = tps / tps[-1]\n"
     ]
    },
    {
     "name": "stdout",
     "output_type": "stream",
     "text": [
      "man size: 4457 woman size: 3273\n",
      "Test epoch   : 65, meanAP: 32.81, meanAP_man: 32.43, meanAP_woman: nan, adv acc: 78.15, \n"
     ]
    },
    {
     "data": {
      "application/vnd.jupyter.widget-view+json": {
       "model_id": "a854cc4a67eb422ba227e14567cfce56",
       "version_major": 2,
       "version_minor": 0
      },
      "text/plain": [
       "HBox(children=(FloatProgress(value=0.0, description='Train 66', max=190.0, style=ProgressStyle(description_wid…"
      ]
     },
     "metadata": {},
     "output_type": "display_data"
    },
    {
     "name": "stdout",
     "output_type": "stream",
     "text": [
      "\n",
      "man size: 14199 woman size: 10102\n",
      "Train epoch  : 66, meanAP: 46.75, meanAP_man: 44.67, meanAP_woman: 44.27, adv acc: 99.48, \n"
     ]
    },
    {
     "data": {
      "application/vnd.jupyter.widget-view+json": {
       "model_id": "23778aef02aa4be991f6f0e2bdf7fdf9",
       "version_major": 2,
       "version_minor": 0
      },
      "text/plain": [
       "HBox(children=(FloatProgress(value=0.0, description='Val balanced 66', max=47.0, style=ProgressStyle(descripti…"
      ]
     },
     "metadata": {},
     "output_type": "display_data"
    },
    {
     "name": "stdout",
     "output_type": "stream",
     "text": [
      "\n",
      "man size: 3000 woman size: 3000\n",
      "Test epoch(f): 66, meanAP: 33.20, meanAP_man: 33.50, meanAP_woman: nan, adv acc: 77.22, \n"
     ]
    },
    {
     "name": "stderr",
     "output_type": "stream",
     "text": [
      "C:\\Users\\emano\\Anaconda3\\envs\\py37-Torch-Transformers\\lib\\site-packages\\sklearn\\metrics\\_ranking.py:677: RuntimeWarning: invalid value encountered in true_divide\n",
      "  recall = tps / tps[-1]\n"
     ]
    },
    {
     "data": {
      "application/vnd.jupyter.widget-view+json": {
       "model_id": "a6e5cedb47c5436bb3ca4e72b5cf2650",
       "version_major": 2,
       "version_minor": 0
      },
      "text/plain": [
       "HBox(children=(FloatProgress(value=0.0, description='Val 66', max=61.0, style=ProgressStyle(description_width=…"
      ]
     },
     "metadata": {},
     "output_type": "display_data"
    },
    {
     "name": "stdout",
     "output_type": "stream",
     "text": [
      "\n"
     ]
    },
    {
     "name": "stderr",
     "output_type": "stream",
     "text": [
      "C:\\Users\\emano\\Anaconda3\\envs\\py37-Torch-Transformers\\lib\\site-packages\\sklearn\\metrics\\_ranking.py:677: RuntimeWarning: invalid value encountered in true_divide\n",
      "  recall = tps / tps[-1]\n"
     ]
    },
    {
     "name": "stdout",
     "output_type": "stream",
     "text": [
      "man size: 4457 woman size: 3273\n",
      "Test epoch   : 66, meanAP: 32.87, meanAP_man: 32.44, meanAP_woman: nan, adv acc: 78.27, \n"
     ]
    },
    {
     "data": {
      "application/vnd.jupyter.widget-view+json": {
       "model_id": "cca6529818914971b47793bba992b8ec",
       "version_major": 2,
       "version_minor": 0
      },
      "text/plain": [
       "HBox(children=(FloatProgress(value=0.0, description='Train 67', max=190.0, style=ProgressStyle(description_wid…"
      ]
     },
     "metadata": {},
     "output_type": "display_data"
    },
    {
     "name": "stdout",
     "output_type": "stream",
     "text": [
      "\n",
      "man size: 14199 woman size: 10102\n",
      "Train epoch  : 67, meanAP: 47.01, meanAP_man: 45.21, meanAP_woman: 44.24, adv acc: 99.43, \n"
     ]
    },
    {
     "data": {
      "application/vnd.jupyter.widget-view+json": {
       "model_id": "ed856021a7ec4b8495acee4ad65a7a4e",
       "version_major": 2,
       "version_minor": 0
      },
      "text/plain": [
       "HBox(children=(FloatProgress(value=0.0, description='Val balanced 67', max=47.0, style=ProgressStyle(descripti…"
      ]
     },
     "metadata": {},
     "output_type": "display_data"
    },
    {
     "name": "stdout",
     "output_type": "stream",
     "text": [
      "\n",
      "man size: 3000 woman size: 3000\n",
      "Test epoch(f): 67, meanAP: 33.11, meanAP_man: 33.36, meanAP_woman: nan, adv acc: 76.77, \n"
     ]
    },
    {
     "name": "stderr",
     "output_type": "stream",
     "text": [
      "C:\\Users\\emano\\Anaconda3\\envs\\py37-Torch-Transformers\\lib\\site-packages\\sklearn\\metrics\\_ranking.py:677: RuntimeWarning: invalid value encountered in true_divide\n",
      "  recall = tps / tps[-1]\n"
     ]
    },
    {
     "data": {
      "application/vnd.jupyter.widget-view+json": {
       "model_id": "ca0ba75810e34e19bdd396c83ee95016",
       "version_major": 2,
       "version_minor": 0
      },
      "text/plain": [
       "HBox(children=(FloatProgress(value=0.0, description='Val 67', max=61.0, style=ProgressStyle(description_width=…"
      ]
     },
     "metadata": {},
     "output_type": "display_data"
    },
    {
     "name": "stdout",
     "output_type": "stream",
     "text": [
      "\n"
     ]
    },
    {
     "name": "stderr",
     "output_type": "stream",
     "text": [
      "C:\\Users\\emano\\Anaconda3\\envs\\py37-Torch-Transformers\\lib\\site-packages\\sklearn\\metrics\\_ranking.py:677: RuntimeWarning: invalid value encountered in true_divide\n",
      "  recall = tps / tps[-1]\n"
     ]
    },
    {
     "name": "stdout",
     "output_type": "stream",
     "text": [
      "man size: 4457 woman size: 3273\n",
      "Test epoch   : 67, meanAP: 32.83, meanAP_man: 32.36, meanAP_woman: nan, adv acc: 77.77, \n"
     ]
    },
    {
     "data": {
      "application/vnd.jupyter.widget-view+json": {
       "model_id": "1971c063d14047a2abcf8e0713c95a84",
       "version_major": 2,
       "version_minor": 0
      },
      "text/plain": [
       "HBox(children=(FloatProgress(value=0.0, description='Train 68', max=190.0, style=ProgressStyle(description_wid…"
      ]
     },
     "metadata": {},
     "output_type": "display_data"
    },
    {
     "name": "stdout",
     "output_type": "stream",
     "text": [
      "\n",
      "man size: 14199 woman size: 10102\n",
      "Train epoch  : 68, meanAP: 46.92, meanAP_man: 45.07, meanAP_woman: 44.72, adv acc: 99.32, \n"
     ]
    },
    {
     "data": {
      "application/vnd.jupyter.widget-view+json": {
       "model_id": "d5b8b9e60dc547cb9b66e34605707445",
       "version_major": 2,
       "version_minor": 0
      },
      "text/plain": [
       "HBox(children=(FloatProgress(value=0.0, description='Val balanced 68', max=47.0, style=ProgressStyle(descripti…"
      ]
     },
     "metadata": {},
     "output_type": "display_data"
    },
    {
     "name": "stdout",
     "output_type": "stream",
     "text": [
      "\n",
      "man size: 3000 woman size: 3000\n",
      "Test epoch(f): 68, meanAP: 33.26, meanAP_man: 33.56, meanAP_woman: nan, adv acc: 77.15, \n"
     ]
    },
    {
     "name": "stderr",
     "output_type": "stream",
     "text": [
      "C:\\Users\\emano\\Anaconda3\\envs\\py37-Torch-Transformers\\lib\\site-packages\\sklearn\\metrics\\_ranking.py:677: RuntimeWarning: invalid value encountered in true_divide\n",
      "  recall = tps / tps[-1]\n"
     ]
    },
    {
     "data": {
      "application/vnd.jupyter.widget-view+json": {
       "model_id": "1a1517c05ecc4a28baff84170d87a17f",
       "version_major": 2,
       "version_minor": 0
      },
      "text/plain": [
       "HBox(children=(FloatProgress(value=0.0, description='Val 68', max=61.0, style=ProgressStyle(description_width=…"
      ]
     },
     "metadata": {},
     "output_type": "display_data"
    },
    {
     "name": "stdout",
     "output_type": "stream",
     "text": [
      "\n"
     ]
    },
    {
     "name": "stderr",
     "output_type": "stream",
     "text": [
      "C:\\Users\\emano\\Anaconda3\\envs\\py37-Torch-Transformers\\lib\\site-packages\\sklearn\\metrics\\_ranking.py:677: RuntimeWarning: invalid value encountered in true_divide\n",
      "  recall = tps / tps[-1]\n"
     ]
    },
    {
     "name": "stdout",
     "output_type": "stream",
     "text": [
      "man size: 4457 woman size: 3273\n",
      "Test epoch   : 68, meanAP: 32.95, meanAP_man: 32.50, meanAP_woman: nan, adv acc: 77.92, \n"
     ]
    },
    {
     "data": {
      "application/vnd.jupyter.widget-view+json": {
       "model_id": "62c8b11f2ebf4105864763cbd332b3da",
       "version_major": 2,
       "version_minor": 0
      },
      "text/plain": [
       "HBox(children=(FloatProgress(value=0.0, description='Train 69', max=190.0, style=ProgressStyle(description_wid…"
      ]
     },
     "metadata": {},
     "output_type": "display_data"
    },
    {
     "name": "stdout",
     "output_type": "stream",
     "text": [
      "\n",
      "man size: 14199 woman size: 10102\n",
      "Train epoch  : 69, meanAP: 47.50, meanAP_man: 45.55, meanAP_woman: 45.23, adv acc: 99.32, \n"
     ]
    },
    {
     "data": {
      "application/vnd.jupyter.widget-view+json": {
       "model_id": "300b9ea55f064cd8b34cd75614a29964",
       "version_major": 2,
       "version_minor": 0
      },
      "text/plain": [
       "HBox(children=(FloatProgress(value=0.0, description='Val balanced 69', max=47.0, style=ProgressStyle(descripti…"
      ]
     },
     "metadata": {},
     "output_type": "display_data"
    },
    {
     "name": "stdout",
     "output_type": "stream",
     "text": [
      "\n",
      "man size: 3000 woman size: 3000\n",
      "Test epoch(f): 69, meanAP: 33.34, meanAP_man: 33.61, meanAP_woman: nan, adv acc: 77.17, \n"
     ]
    },
    {
     "name": "stderr",
     "output_type": "stream",
     "text": [
      "C:\\Users\\emano\\Anaconda3\\envs\\py37-Torch-Transformers\\lib\\site-packages\\sklearn\\metrics\\_ranking.py:677: RuntimeWarning: invalid value encountered in true_divide\n",
      "  recall = tps / tps[-1]\n"
     ]
    },
    {
     "data": {
      "application/vnd.jupyter.widget-view+json": {
       "model_id": "e356636756e7440c81e5a597ff67ea26",
       "version_major": 2,
       "version_minor": 0
      },
      "text/plain": [
       "HBox(children=(FloatProgress(value=0.0, description='Val 69', max=61.0, style=ProgressStyle(description_width=…"
      ]
     },
     "metadata": {},
     "output_type": "display_data"
    },
    {
     "name": "stdout",
     "output_type": "stream",
     "text": [
      "\n"
     ]
    },
    {
     "name": "stderr",
     "output_type": "stream",
     "text": [
      "C:\\Users\\emano\\Anaconda3\\envs\\py37-Torch-Transformers\\lib\\site-packages\\sklearn\\metrics\\_ranking.py:677: RuntimeWarning: invalid value encountered in true_divide\n",
      "  recall = tps / tps[-1]\n"
     ]
    },
    {
     "name": "stdout",
     "output_type": "stream",
     "text": [
      "man size: 4457 woman size: 3273\n",
      "Test epoch   : 69, meanAP: 33.03, meanAP_man: 32.59, meanAP_woman: nan, adv acc: 78.32, \n"
     ]
    },
    {
     "data": {
      "application/vnd.jupyter.widget-view+json": {
       "model_id": "6a92e2a67a98498f9026938b5d36ce20",
       "version_major": 2,
       "version_minor": 0
      },
      "text/plain": [
       "HBox(children=(FloatProgress(value=0.0, description='Train 70', max=190.0, style=ProgressStyle(description_wid…"
      ]
     },
     "metadata": {},
     "output_type": "display_data"
    },
    {
     "name": "stdout",
     "output_type": "stream",
     "text": [
      "\n",
      "man size: 14199 woman size: 10102\n",
      "Train epoch  : 70, meanAP: 47.50, meanAP_man: 45.26, meanAP_woman: 44.88, adv acc: 99.43, \n"
     ]
    },
    {
     "data": {
      "application/vnd.jupyter.widget-view+json": {
       "model_id": "7baf89fde76a489caa00677395e70be0",
       "version_major": 2,
       "version_minor": 0
      },
      "text/plain": [
       "HBox(children=(FloatProgress(value=0.0, description='Val balanced 70', max=47.0, style=ProgressStyle(descripti…"
      ]
     },
     "metadata": {},
     "output_type": "display_data"
    },
    {
     "name": "stdout",
     "output_type": "stream",
     "text": [
      "\n",
      "man size: 3000 woman size: 3000\n",
      "Test epoch(f): 70, meanAP: 33.31, meanAP_man: 33.57, meanAP_woman: nan, adv acc: 76.83, \n"
     ]
    },
    {
     "name": "stderr",
     "output_type": "stream",
     "text": [
      "C:\\Users\\emano\\Anaconda3\\envs\\py37-Torch-Transformers\\lib\\site-packages\\sklearn\\metrics\\_ranking.py:677: RuntimeWarning: invalid value encountered in true_divide\n",
      "  recall = tps / tps[-1]\n"
     ]
    },
    {
     "data": {
      "application/vnd.jupyter.widget-view+json": {
       "model_id": "96b11ee946ba451c99c3c6e4b21346da",
       "version_major": 2,
       "version_minor": 0
      },
      "text/plain": [
       "HBox(children=(FloatProgress(value=0.0, description='Val 70', max=61.0, style=ProgressStyle(description_width=…"
      ]
     },
     "metadata": {},
     "output_type": "display_data"
    },
    {
     "name": "stdout",
     "output_type": "stream",
     "text": [
      "\n"
     ]
    },
    {
     "name": "stderr",
     "output_type": "stream",
     "text": [
      "C:\\Users\\emano\\Anaconda3\\envs\\py37-Torch-Transformers\\lib\\site-packages\\sklearn\\metrics\\_ranking.py:677: RuntimeWarning: invalid value encountered in true_divide\n",
      "  recall = tps / tps[-1]\n"
     ]
    },
    {
     "name": "stdout",
     "output_type": "stream",
     "text": [
      "man size: 4457 woman size: 3273\n",
      "Test epoch   : 70, meanAP: 32.97, meanAP_man: 32.52, meanAP_woman: nan, adv acc: 78.03, \n"
     ]
    },
    {
     "data": {
      "application/vnd.jupyter.widget-view+json": {
       "model_id": "eacecf73120d4039a2bd3041f411f7ed",
       "version_major": 2,
       "version_minor": 0
      },
      "text/plain": [
       "HBox(children=(FloatProgress(value=0.0, description='Train 71', max=190.0, style=ProgressStyle(description_wid…"
      ]
     },
     "metadata": {},
     "output_type": "display_data"
    },
    {
     "name": "stdout",
     "output_type": "stream",
     "text": [
      "\n",
      "man size: 14199 woman size: 10102\n",
      "Train epoch  : 71, meanAP: 47.63, meanAP_man: 45.73, meanAP_woman: 45.27, adv acc: 99.41, \n"
     ]
    },
    {
     "data": {
      "application/vnd.jupyter.widget-view+json": {
       "model_id": "d5a77f13fbc84bb190aae4f4cf49ef83",
       "version_major": 2,
       "version_minor": 0
      },
      "text/plain": [
       "HBox(children=(FloatProgress(value=0.0, description='Val balanced 71', max=47.0, style=ProgressStyle(descripti…"
      ]
     },
     "metadata": {},
     "output_type": "display_data"
    },
    {
     "name": "stdout",
     "output_type": "stream",
     "text": [
      "\n",
      "man size: 3000 woman size: 3000\n",
      "Test epoch(f): 71, meanAP: 33.18, meanAP_man: 33.42, meanAP_woman: nan, adv acc: 77.38, \n"
     ]
    },
    {
     "name": "stderr",
     "output_type": "stream",
     "text": [
      "C:\\Users\\emano\\Anaconda3\\envs\\py37-Torch-Transformers\\lib\\site-packages\\sklearn\\metrics\\_ranking.py:677: RuntimeWarning: invalid value encountered in true_divide\n",
      "  recall = tps / tps[-1]\n"
     ]
    },
    {
     "data": {
      "application/vnd.jupyter.widget-view+json": {
       "model_id": "e08a8868d2434464b54583afd3297164",
       "version_major": 2,
       "version_minor": 0
      },
      "text/plain": [
       "HBox(children=(FloatProgress(value=0.0, description='Val 71', max=61.0, style=ProgressStyle(description_width=…"
      ]
     },
     "metadata": {},
     "output_type": "display_data"
    },
    {
     "name": "stdout",
     "output_type": "stream",
     "text": [
      "\n"
     ]
    },
    {
     "name": "stderr",
     "output_type": "stream",
     "text": [
      "C:\\Users\\emano\\Anaconda3\\envs\\py37-Torch-Transformers\\lib\\site-packages\\sklearn\\metrics\\_ranking.py:677: RuntimeWarning: invalid value encountered in true_divide\n",
      "  recall = tps / tps[-1]\n"
     ]
    },
    {
     "name": "stdout",
     "output_type": "stream",
     "text": [
      "man size: 4457 woman size: 3273\n",
      "Test epoch   : 71, meanAP: 32.86, meanAP_man: 32.40, meanAP_woman: nan, adv acc: 78.29, \n"
     ]
    },
    {
     "data": {
      "application/vnd.jupyter.widget-view+json": {
       "model_id": "2024b43397904120a1226ace29fb3bbb",
       "version_major": 2,
       "version_minor": 0
      },
      "text/plain": [
       "HBox(children=(FloatProgress(value=0.0, description='Train 72', max=190.0, style=ProgressStyle(description_wid…"
      ]
     },
     "metadata": {},
     "output_type": "display_data"
    },
    {
     "name": "stdout",
     "output_type": "stream",
     "text": [
      "\n",
      "man size: 14199 woman size: 10102\n",
      "Train epoch  : 72, meanAP: 47.80, meanAP_man: 45.51, meanAP_woman: 45.35, adv acc: 99.45, \n"
     ]
    },
    {
     "data": {
      "application/vnd.jupyter.widget-view+json": {
       "model_id": "75277124372245a49d12ac4d1d295cab",
       "version_major": 2,
       "version_minor": 0
      },
      "text/plain": [
       "HBox(children=(FloatProgress(value=0.0, description='Val balanced 72', max=47.0, style=ProgressStyle(descripti…"
      ]
     },
     "metadata": {},
     "output_type": "display_data"
    },
    {
     "name": "stdout",
     "output_type": "stream",
     "text": [
      "\n",
      "man size: 3000 woman size: 3000\n",
      "Test epoch(f): 72, meanAP: 33.30, meanAP_man: 33.49, meanAP_woman: nan, adv acc: 77.25, \n"
     ]
    },
    {
     "name": "stderr",
     "output_type": "stream",
     "text": [
      "C:\\Users\\emano\\Anaconda3\\envs\\py37-Torch-Transformers\\lib\\site-packages\\sklearn\\metrics\\_ranking.py:677: RuntimeWarning: invalid value encountered in true_divide\n",
      "  recall = tps / tps[-1]\n"
     ]
    },
    {
     "data": {
      "application/vnd.jupyter.widget-view+json": {
       "model_id": "a15c1d4a1a9c47c183d4bd869e5c5d08",
       "version_major": 2,
       "version_minor": 0
      },
      "text/plain": [
       "HBox(children=(FloatProgress(value=0.0, description='Val 72', max=61.0, style=ProgressStyle(description_width=…"
      ]
     },
     "metadata": {},
     "output_type": "display_data"
    },
    {
     "name": "stdout",
     "output_type": "stream",
     "text": [
      "\n"
     ]
    },
    {
     "name": "stderr",
     "output_type": "stream",
     "text": [
      "C:\\Users\\emano\\Anaconda3\\envs\\py37-Torch-Transformers\\lib\\site-packages\\sklearn\\metrics\\_ranking.py:677: RuntimeWarning: invalid value encountered in true_divide\n",
      "  recall = tps / tps[-1]\n"
     ]
    },
    {
     "name": "stdout",
     "output_type": "stream",
     "text": [
      "man size: 4457 woman size: 3273\n",
      "Test epoch   : 72, meanAP: 32.99, meanAP_man: 32.44, meanAP_woman: nan, adv acc: 78.14, \n"
     ]
    },
    {
     "data": {
      "application/vnd.jupyter.widget-view+json": {
       "model_id": "a3160467a1174195b6e50f22ff56030d",
       "version_major": 2,
       "version_minor": 0
      },
      "text/plain": [
       "HBox(children=(FloatProgress(value=0.0, description='Train 73', max=190.0, style=ProgressStyle(description_wid…"
      ]
     },
     "metadata": {},
     "output_type": "display_data"
    },
    {
     "name": "stdout",
     "output_type": "stream",
     "text": [
      "\n",
      "man size: 14199 woman size: 10102\n",
      "Train epoch  : 73, meanAP: 47.67, meanAP_man: 45.52, meanAP_woman: 45.00, adv acc: 99.40, \n"
     ]
    },
    {
     "data": {
      "application/vnd.jupyter.widget-view+json": {
       "model_id": "a522fad742514bf1a5d4ad60e02b35a7",
       "version_major": 2,
       "version_minor": 0
      },
      "text/plain": [
       "HBox(children=(FloatProgress(value=0.0, description='Val balanced 73', max=47.0, style=ProgressStyle(descripti…"
      ]
     },
     "metadata": {},
     "output_type": "display_data"
    },
    {
     "name": "stdout",
     "output_type": "stream",
     "text": [
      "\n",
      "man size: 3000 woman size: 3000\n",
      "Test epoch(f): 73, meanAP: 33.33, meanAP_man: 33.54, meanAP_woman: nan, adv acc: 77.43, \n"
     ]
    },
    {
     "name": "stderr",
     "output_type": "stream",
     "text": [
      "C:\\Users\\emano\\Anaconda3\\envs\\py37-Torch-Transformers\\lib\\site-packages\\sklearn\\metrics\\_ranking.py:677: RuntimeWarning: invalid value encountered in true_divide\n",
      "  recall = tps / tps[-1]\n"
     ]
    },
    {
     "data": {
      "application/vnd.jupyter.widget-view+json": {
       "model_id": "b459ab45214248d8a7babcf1e5807468",
       "version_major": 2,
       "version_minor": 0
      },
      "text/plain": [
       "HBox(children=(FloatProgress(value=0.0, description='Val 73', max=61.0, style=ProgressStyle(description_width=…"
      ]
     },
     "metadata": {},
     "output_type": "display_data"
    },
    {
     "name": "stdout",
     "output_type": "stream",
     "text": [
      "\n"
     ]
    },
    {
     "name": "stderr",
     "output_type": "stream",
     "text": [
      "C:\\Users\\emano\\Anaconda3\\envs\\py37-Torch-Transformers\\lib\\site-packages\\sklearn\\metrics\\_ranking.py:677: RuntimeWarning: invalid value encountered in true_divide\n",
      "  recall = tps / tps[-1]\n"
     ]
    },
    {
     "name": "stdout",
     "output_type": "stream",
     "text": [
      "man size: 4457 woman size: 3273\n",
      "Test epoch   : 73, meanAP: 33.03, meanAP_man: 32.52, meanAP_woman: nan, adv acc: 78.37, \n"
     ]
    },
    {
     "data": {
      "application/vnd.jupyter.widget-view+json": {
       "model_id": "7113168b7d60490481f58b40521d97a4",
       "version_major": 2,
       "version_minor": 0
      },
      "text/plain": [
       "HBox(children=(FloatProgress(value=0.0, description='Train 74', max=190.0, style=ProgressStyle(description_wid…"
      ]
     },
     "metadata": {},
     "output_type": "display_data"
    },
    {
     "name": "stdout",
     "output_type": "stream",
     "text": [
      "\n",
      "man size: 14199 woman size: 10102\n",
      "Train epoch  : 74, meanAP: 48.01, meanAP_man: 46.01, meanAP_woman: 45.58, adv acc: 99.40, \n"
     ]
    },
    {
     "data": {
      "application/vnd.jupyter.widget-view+json": {
       "model_id": "cf597ab355a441ee8af028bdc3304dda",
       "version_major": 2,
       "version_minor": 0
      },
      "text/plain": [
       "HBox(children=(FloatProgress(value=0.0, description='Val balanced 74', max=47.0, style=ProgressStyle(descripti…"
      ]
     },
     "metadata": {},
     "output_type": "display_data"
    },
    {
     "name": "stdout",
     "output_type": "stream",
     "text": [
      "\n",
      "man size: 3000 woman size: 3000\n",
      "Test epoch(f): 74, meanAP: 33.26, meanAP_man: 33.44, meanAP_woman: nan, adv acc: 77.15, \n"
     ]
    },
    {
     "name": "stderr",
     "output_type": "stream",
     "text": [
      "C:\\Users\\emano\\Anaconda3\\envs\\py37-Torch-Transformers\\lib\\site-packages\\sklearn\\metrics\\_ranking.py:677: RuntimeWarning: invalid value encountered in true_divide\n",
      "  recall = tps / tps[-1]\n"
     ]
    },
    {
     "data": {
      "application/vnd.jupyter.widget-view+json": {
       "model_id": "2281a3046b524928bcede4ffab8d2bc9",
       "version_major": 2,
       "version_minor": 0
      },
      "text/plain": [
       "HBox(children=(FloatProgress(value=0.0, description='Val 74', max=61.0, style=ProgressStyle(description_width=…"
      ]
     },
     "metadata": {},
     "output_type": "display_data"
    },
    {
     "name": "stdout",
     "output_type": "stream",
     "text": [
      "\n"
     ]
    },
    {
     "name": "stderr",
     "output_type": "stream",
     "text": [
      "C:\\Users\\emano\\Anaconda3\\envs\\py37-Torch-Transformers\\lib\\site-packages\\sklearn\\metrics\\_ranking.py:677: RuntimeWarning: invalid value encountered in true_divide\n",
      "  recall = tps / tps[-1]\n"
     ]
    },
    {
     "name": "stdout",
     "output_type": "stream",
     "text": [
      "man size: 4457 woman size: 3273\n",
      "Test epoch   : 74, meanAP: 32.98, meanAP_man: 32.41, meanAP_woman: nan, adv acc: 78.02, \n"
     ]
    },
    {
     "data": {
      "application/vnd.jupyter.widget-view+json": {
       "model_id": "9d7e48cf43bb41a9a3ef4e8cb89fcba0",
       "version_major": 2,
       "version_minor": 0
      },
      "text/plain": [
       "HBox(children=(FloatProgress(value=0.0, description='Train 75', max=190.0, style=ProgressStyle(description_wid…"
      ]
     },
     "metadata": {},
     "output_type": "display_data"
    },
    {
     "name": "stdout",
     "output_type": "stream",
     "text": [
      "\n",
      "man size: 14199 woman size: 10102\n",
      "Train epoch  : 75, meanAP: 48.40, meanAP_man: 46.24, meanAP_woman: 45.74, adv acc: 99.41, \n"
     ]
    },
    {
     "data": {
      "application/vnd.jupyter.widget-view+json": {
       "model_id": "00495c79db12481f8d7d22a40f04f371",
       "version_major": 2,
       "version_minor": 0
      },
      "text/plain": [
       "HBox(children=(FloatProgress(value=0.0, description='Val balanced 75', max=47.0, style=ProgressStyle(descripti…"
      ]
     },
     "metadata": {},
     "output_type": "display_data"
    },
    {
     "name": "stdout",
     "output_type": "stream",
     "text": [
      "\n",
      "man size: 3000 woman size: 3000\n",
      "Test epoch(f): 75, meanAP: 33.36, meanAP_man: 33.52, meanAP_woman: nan, adv acc: 77.97, \n"
     ]
    },
    {
     "name": "stderr",
     "output_type": "stream",
     "text": [
      "C:\\Users\\emano\\Anaconda3\\envs\\py37-Torch-Transformers\\lib\\site-packages\\sklearn\\metrics\\_ranking.py:677: RuntimeWarning: invalid value encountered in true_divide\n",
      "  recall = tps / tps[-1]\n"
     ]
    },
    {
     "data": {
      "application/vnd.jupyter.widget-view+json": {
       "model_id": "db6586df267e45f7a86356d261248ca0",
       "version_major": 2,
       "version_minor": 0
      },
      "text/plain": [
       "HBox(children=(FloatProgress(value=0.0, description='Val 75', max=61.0, style=ProgressStyle(description_width=…"
      ]
     },
     "metadata": {},
     "output_type": "display_data"
    },
    {
     "name": "stdout",
     "output_type": "stream",
     "text": [
      "\n"
     ]
    },
    {
     "name": "stderr",
     "output_type": "stream",
     "text": [
      "C:\\Users\\emano\\Anaconda3\\envs\\py37-Torch-Transformers\\lib\\site-packages\\sklearn\\metrics\\_ranking.py:677: RuntimeWarning: invalid value encountered in true_divide\n",
      "  recall = tps / tps[-1]\n"
     ]
    },
    {
     "name": "stdout",
     "output_type": "stream",
     "text": [
      "man size: 4457 woman size: 3273\n",
      "Test epoch   : 75, meanAP: 33.06, meanAP_man: 32.50, meanAP_woman: nan, adv acc: 78.81, \n"
     ]
    },
    {
     "data": {
      "application/vnd.jupyter.widget-view+json": {
       "model_id": "d7586d981cb7443c9b805f405b2f6404",
       "version_major": 2,
       "version_minor": 0
      },
      "text/plain": [
       "HBox(children=(FloatProgress(value=0.0, description='Train 76', max=190.0, style=ProgressStyle(description_wid…"
      ]
     },
     "metadata": {},
     "output_type": "display_data"
    },
    {
     "name": "stdout",
     "output_type": "stream",
     "text": [
      "\n",
      "man size: 14199 woman size: 10102\n",
      "Train epoch  : 76, meanAP: 48.63, meanAP_man: 46.84, meanAP_woman: 45.57, adv acc: 99.51, \n"
     ]
    },
    {
     "data": {
      "application/vnd.jupyter.widget-view+json": {
       "model_id": "93543e88e11c4e0bb1f5781b8bb189b1",
       "version_major": 2,
       "version_minor": 0
      },
      "text/plain": [
       "HBox(children=(FloatProgress(value=0.0, description='Val balanced 76', max=47.0, style=ProgressStyle(descripti…"
      ]
     },
     "metadata": {},
     "output_type": "display_data"
    },
    {
     "name": "stdout",
     "output_type": "stream",
     "text": [
      "\n",
      "man size: 3000 woman size: 3000\n",
      "Test epoch(f): 76, meanAP: 33.29, meanAP_man: 33.49, meanAP_woman: nan, adv acc: 77.73, \n"
     ]
    },
    {
     "name": "stderr",
     "output_type": "stream",
     "text": [
      "C:\\Users\\emano\\Anaconda3\\envs\\py37-Torch-Transformers\\lib\\site-packages\\sklearn\\metrics\\_ranking.py:677: RuntimeWarning: invalid value encountered in true_divide\n",
      "  recall = tps / tps[-1]\n"
     ]
    },
    {
     "data": {
      "application/vnd.jupyter.widget-view+json": {
       "model_id": "1d332c4cd0bf427a86ca941ef4f664a8",
       "version_major": 2,
       "version_minor": 0
      },
      "text/plain": [
       "HBox(children=(FloatProgress(value=0.0, description='Val 76', max=61.0, style=ProgressStyle(description_width=…"
      ]
     },
     "metadata": {},
     "output_type": "display_data"
    },
    {
     "name": "stdout",
     "output_type": "stream",
     "text": [
      "\n"
     ]
    },
    {
     "name": "stderr",
     "output_type": "stream",
     "text": [
      "C:\\Users\\emano\\Anaconda3\\envs\\py37-Torch-Transformers\\lib\\site-packages\\sklearn\\metrics\\_ranking.py:677: RuntimeWarning: invalid value encountered in true_divide\n",
      "  recall = tps / tps[-1]\n"
     ]
    },
    {
     "name": "stdout",
     "output_type": "stream",
     "text": [
      "man size: 4457 woman size: 3273\n",
      "Test epoch   : 76, meanAP: 32.98, meanAP_man: 32.47, meanAP_woman: nan, adv acc: 78.72, \n"
     ]
    },
    {
     "data": {
      "application/vnd.jupyter.widget-view+json": {
       "model_id": "3fcfaab819374da99b3cf6559ac6f145",
       "version_major": 2,
       "version_minor": 0
      },
      "text/plain": [
       "HBox(children=(FloatProgress(value=0.0, description='Train 77', max=190.0, style=ProgressStyle(description_wid…"
      ]
     },
     "metadata": {},
     "output_type": "display_data"
    },
    {
     "name": "stdout",
     "output_type": "stream",
     "text": [
      "\n",
      "man size: 14199 woman size: 10102\n",
      "Train epoch  : 77, meanAP: 48.42, meanAP_man: 46.59, meanAP_woman: 45.55, adv acc: 99.47, \n"
     ]
    },
    {
     "data": {
      "application/vnd.jupyter.widget-view+json": {
       "model_id": "df13ef92ae1e4808b881d9afb751e8e9",
       "version_major": 2,
       "version_minor": 0
      },
      "text/plain": [
       "HBox(children=(FloatProgress(value=0.0, description='Val balanced 77', max=47.0, style=ProgressStyle(descripti…"
      ]
     },
     "metadata": {},
     "output_type": "display_data"
    },
    {
     "name": "stdout",
     "output_type": "stream",
     "text": [
      "\n",
      "man size: 3000 woman size: 3000\n",
      "Test epoch(f): 77, meanAP: 33.34, meanAP_man: 33.68, meanAP_woman: nan, adv acc: 77.02, \n"
     ]
    },
    {
     "name": "stderr",
     "output_type": "stream",
     "text": [
      "C:\\Users\\emano\\Anaconda3\\envs\\py37-Torch-Transformers\\lib\\site-packages\\sklearn\\metrics\\_ranking.py:677: RuntimeWarning: invalid value encountered in true_divide\n",
      "  recall = tps / tps[-1]\n"
     ]
    },
    {
     "data": {
      "application/vnd.jupyter.widget-view+json": {
       "model_id": "c4e9a316dfa24aeaa1a11ed46aa5858b",
       "version_major": 2,
       "version_minor": 0
      },
      "text/plain": [
       "HBox(children=(FloatProgress(value=0.0, description='Val 77', max=61.0, style=ProgressStyle(description_width=…"
      ]
     },
     "metadata": {},
     "output_type": "display_data"
    },
    {
     "name": "stdout",
     "output_type": "stream",
     "text": [
      "\n"
     ]
    },
    {
     "name": "stderr",
     "output_type": "stream",
     "text": [
      "C:\\Users\\emano\\Anaconda3\\envs\\py37-Torch-Transformers\\lib\\site-packages\\sklearn\\metrics\\_ranking.py:677: RuntimeWarning: invalid value encountered in true_divide\n",
      "  recall = tps / tps[-1]\n"
     ]
    },
    {
     "name": "stdout",
     "output_type": "stream",
     "text": [
      "man size: 4457 woman size: 3273\n",
      "Test epoch   : 77, meanAP: 33.04, meanAP_man: 32.60, meanAP_woman: nan, adv acc: 78.18, \n"
     ]
    },
    {
     "data": {
      "application/vnd.jupyter.widget-view+json": {
       "model_id": "50cc77ce62c04484bc2f67c39098c030",
       "version_major": 2,
       "version_minor": 0
      },
      "text/plain": [
       "HBox(children=(FloatProgress(value=0.0, description='Train 78', max=190.0, style=ProgressStyle(description_wid…"
      ]
     },
     "metadata": {},
     "output_type": "display_data"
    },
    {
     "name": "stdout",
     "output_type": "stream",
     "text": [
      "\n",
      "man size: 14199 woman size: 10102\n",
      "Train epoch  : 78, meanAP: 48.78, meanAP_man: 46.79, meanAP_woman: 46.46, adv acc: 99.45, \n"
     ]
    },
    {
     "data": {
      "application/vnd.jupyter.widget-view+json": {
       "model_id": "ddbc6254ef854d669722f0e7321a86bf",
       "version_major": 2,
       "version_minor": 0
      },
      "text/plain": [
       "HBox(children=(FloatProgress(value=0.0, description='Val balanced 78', max=47.0, style=ProgressStyle(descripti…"
      ]
     },
     "metadata": {},
     "output_type": "display_data"
    },
    {
     "name": "stdout",
     "output_type": "stream",
     "text": [
      "\n",
      "man size: 3000 woman size: 3000\n",
      "Test epoch(f): 78, meanAP: 33.24, meanAP_man: 33.58, meanAP_woman: nan, adv acc: 77.55, \n"
     ]
    },
    {
     "name": "stderr",
     "output_type": "stream",
     "text": [
      "C:\\Users\\emano\\Anaconda3\\envs\\py37-Torch-Transformers\\lib\\site-packages\\sklearn\\metrics\\_ranking.py:677: RuntimeWarning: invalid value encountered in true_divide\n",
      "  recall = tps / tps[-1]\n"
     ]
    },
    {
     "data": {
      "application/vnd.jupyter.widget-view+json": {
       "model_id": "e3ebd0570ae14ce89e44122716657f06",
       "version_major": 2,
       "version_minor": 0
      },
      "text/plain": [
       "HBox(children=(FloatProgress(value=0.0, description='Val 78', max=61.0, style=ProgressStyle(description_width=…"
      ]
     },
     "metadata": {},
     "output_type": "display_data"
    },
    {
     "name": "stdout",
     "output_type": "stream",
     "text": [
      "\n"
     ]
    },
    {
     "name": "stderr",
     "output_type": "stream",
     "text": [
      "C:\\Users\\emano\\Anaconda3\\envs\\py37-Torch-Transformers\\lib\\site-packages\\sklearn\\metrics\\_ranking.py:677: RuntimeWarning: invalid value encountered in true_divide\n",
      "  recall = tps / tps[-1]\n"
     ]
    },
    {
     "name": "stdout",
     "output_type": "stream",
     "text": [
      "man size: 4457 woman size: 3273\n",
      "Test epoch   : 78, meanAP: 32.94, meanAP_man: 32.44, meanAP_woman: nan, adv acc: 78.31, \n"
     ]
    },
    {
     "data": {
      "application/vnd.jupyter.widget-view+json": {
       "model_id": "9f816671ae70476a879a2910ead5c11f",
       "version_major": 2,
       "version_minor": 0
      },
      "text/plain": [
       "HBox(children=(FloatProgress(value=0.0, description='Train 79', max=190.0, style=ProgressStyle(description_wid…"
      ]
     },
     "metadata": {},
     "output_type": "display_data"
    },
    {
     "name": "stdout",
     "output_type": "stream",
     "text": [
      "\n",
      "man size: 14199 woman size: 10102\n",
      "Train epoch  : 79, meanAP: 49.01, meanAP_man: 46.75, meanAP_woman: 46.50, adv acc: 99.53, \n"
     ]
    },
    {
     "data": {
      "application/vnd.jupyter.widget-view+json": {
       "model_id": "c642ee87a06142a1a36861014c9b532e",
       "version_major": 2,
       "version_minor": 0
      },
      "text/plain": [
       "HBox(children=(FloatProgress(value=0.0, description='Val balanced 79', max=47.0, style=ProgressStyle(descripti…"
      ]
     },
     "metadata": {},
     "output_type": "display_data"
    },
    {
     "name": "stdout",
     "output_type": "stream",
     "text": [
      "\n",
      "man size: 3000 woman size: 3000\n",
      "Test epoch(f): 79, meanAP: 33.22, meanAP_man: 33.46, meanAP_woman: nan, adv acc: 77.45, \n"
     ]
    },
    {
     "name": "stderr",
     "output_type": "stream",
     "text": [
      "C:\\Users\\emano\\Anaconda3\\envs\\py37-Torch-Transformers\\lib\\site-packages\\sklearn\\metrics\\_ranking.py:677: RuntimeWarning: invalid value encountered in true_divide\n",
      "  recall = tps / tps[-1]\n"
     ]
    },
    {
     "data": {
      "application/vnd.jupyter.widget-view+json": {
       "model_id": "d33632e7486e42afaabe31404b5f3764",
       "version_major": 2,
       "version_minor": 0
      },
      "text/plain": [
       "HBox(children=(FloatProgress(value=0.0, description='Val 79', max=61.0, style=ProgressStyle(description_width=…"
      ]
     },
     "metadata": {},
     "output_type": "display_data"
    },
    {
     "name": "stdout",
     "output_type": "stream",
     "text": [
      "\n"
     ]
    },
    {
     "name": "stderr",
     "output_type": "stream",
     "text": [
      "C:\\Users\\emano\\Anaconda3\\envs\\py37-Torch-Transformers\\lib\\site-packages\\sklearn\\metrics\\_ranking.py:677: RuntimeWarning: invalid value encountered in true_divide\n",
      "  recall = tps / tps[-1]\n"
     ]
    },
    {
     "name": "stdout",
     "output_type": "stream",
     "text": [
      "man size: 4457 woman size: 3273\n",
      "Test epoch   : 79, meanAP: 32.93, meanAP_man: 32.42, meanAP_woman: nan, adv acc: 78.24, \n"
     ]
    },
    {
     "data": {
      "application/vnd.jupyter.widget-view+json": {
       "model_id": "0e3d59d12e2d4329957315c7dae2be13",
       "version_major": 2,
       "version_minor": 0
      },
      "text/plain": [
       "HBox(children=(FloatProgress(value=0.0, description='Train 80', max=190.0, style=ProgressStyle(description_wid…"
      ]
     },
     "metadata": {},
     "output_type": "display_data"
    },
    {
     "name": "stdout",
     "output_type": "stream",
     "text": [
      "\n",
      "man size: 14199 woman size: 10102\n",
      "Train epoch  : 80, meanAP: 48.80, meanAP_man: 46.64, meanAP_woman: 46.39, adv acc: 99.59, \n"
     ]
    },
    {
     "data": {
      "application/vnd.jupyter.widget-view+json": {
       "model_id": "1fbecea4701b4af7ba7da6541a7126d7",
       "version_major": 2,
       "version_minor": 0
      },
      "text/plain": [
       "HBox(children=(FloatProgress(value=0.0, description='Val balanced 80', max=47.0, style=ProgressStyle(descripti…"
      ]
     },
     "metadata": {},
     "output_type": "display_data"
    },
    {
     "name": "stdout",
     "output_type": "stream",
     "text": [
      "\n",
      "man size: 3000 woman size: 3000\n",
      "Test epoch(f): 80, meanAP: 33.26, meanAP_man: 33.58, meanAP_woman: nan, adv acc: 77.18, \n"
     ]
    },
    {
     "name": "stderr",
     "output_type": "stream",
     "text": [
      "C:\\Users\\emano\\Anaconda3\\envs\\py37-Torch-Transformers\\lib\\site-packages\\sklearn\\metrics\\_ranking.py:677: RuntimeWarning: invalid value encountered in true_divide\n",
      "  recall = tps / tps[-1]\n"
     ]
    },
    {
     "data": {
      "application/vnd.jupyter.widget-view+json": {
       "model_id": "9c5c88277b5c4851bfc8a7626b621107",
       "version_major": 2,
       "version_minor": 0
      },
      "text/plain": [
       "HBox(children=(FloatProgress(value=0.0, description='Val 80', max=61.0, style=ProgressStyle(description_width=…"
      ]
     },
     "metadata": {},
     "output_type": "display_data"
    },
    {
     "name": "stdout",
     "output_type": "stream",
     "text": [
      "\n"
     ]
    },
    {
     "name": "stderr",
     "output_type": "stream",
     "text": [
      "C:\\Users\\emano\\Anaconda3\\envs\\py37-Torch-Transformers\\lib\\site-packages\\sklearn\\metrics\\_ranking.py:677: RuntimeWarning: invalid value encountered in true_divide\n",
      "  recall = tps / tps[-1]\n"
     ]
    },
    {
     "name": "stdout",
     "output_type": "stream",
     "text": [
      "man size: 4457 woman size: 3273\n",
      "Test epoch   : 80, meanAP: 32.96, meanAP_man: 32.52, meanAP_woman: nan, adv acc: 77.93, \n"
     ]
    },
    {
     "data": {
      "application/vnd.jupyter.widget-view+json": {
       "model_id": "b382e264ebbf44049288d6b2cbccafa3",
       "version_major": 2,
       "version_minor": 0
      },
      "text/plain": [
       "HBox(children=(FloatProgress(value=0.0, description='Train 81', max=190.0, style=ProgressStyle(description_wid…"
      ]
     },
     "metadata": {},
     "output_type": "display_data"
    },
    {
     "name": "stdout",
     "output_type": "stream",
     "text": [
      "\n",
      "man size: 14199 woman size: 10102\n",
      "Train epoch  : 81, meanAP: 48.91, meanAP_man: 46.89, meanAP_woman: 46.58, adv acc: 99.49, \n"
     ]
    },
    {
     "data": {
      "application/vnd.jupyter.widget-view+json": {
       "model_id": "831af03bf23444a6a9d2a08af5378b83",
       "version_major": 2,
       "version_minor": 0
      },
      "text/plain": [
       "HBox(children=(FloatProgress(value=0.0, description='Val balanced 81', max=47.0, style=ProgressStyle(descripti…"
      ]
     },
     "metadata": {},
     "output_type": "display_data"
    },
    {
     "name": "stdout",
     "output_type": "stream",
     "text": [
      "\n",
      "man size: 3000 woman size: 3000\n",
      "Test epoch(f): 81, meanAP: 33.37, meanAP_man: 33.69, meanAP_woman: nan, adv acc: 76.78, \n"
     ]
    },
    {
     "name": "stderr",
     "output_type": "stream",
     "text": [
      "C:\\Users\\emano\\Anaconda3\\envs\\py37-Torch-Transformers\\lib\\site-packages\\sklearn\\metrics\\_ranking.py:677: RuntimeWarning: invalid value encountered in true_divide\n",
      "  recall = tps / tps[-1]\n"
     ]
    },
    {
     "data": {
      "application/vnd.jupyter.widget-view+json": {
       "model_id": "d7b318190add41189e54efd39ba2cbcb",
       "version_major": 2,
       "version_minor": 0
      },
      "text/plain": [
       "HBox(children=(FloatProgress(value=0.0, description='Val 81', max=61.0, style=ProgressStyle(description_width=…"
      ]
     },
     "metadata": {},
     "output_type": "display_data"
    },
    {
     "name": "stdout",
     "output_type": "stream",
     "text": [
      "\n"
     ]
    },
    {
     "name": "stderr",
     "output_type": "stream",
     "text": [
      "C:\\Users\\emano\\Anaconda3\\envs\\py37-Torch-Transformers\\lib\\site-packages\\sklearn\\metrics\\_ranking.py:677: RuntimeWarning: invalid value encountered in true_divide\n",
      "  recall = tps / tps[-1]\n"
     ]
    },
    {
     "name": "stdout",
     "output_type": "stream",
     "text": [
      "man size: 4457 woman size: 3273\n",
      "Test epoch   : 81, meanAP: 33.08, meanAP_man: 32.63, meanAP_woman: nan, adv acc: 78.15, \n"
     ]
    },
    {
     "data": {
      "application/vnd.jupyter.widget-view+json": {
       "model_id": "f431aa82194347ffa82b3cbe2cdeb82d",
       "version_major": 2,
       "version_minor": 0
      },
      "text/plain": [
       "HBox(children=(FloatProgress(value=0.0, description='Train 82', max=190.0, style=ProgressStyle(description_wid…"
      ]
     },
     "metadata": {},
     "output_type": "display_data"
    },
    {
     "name": "stdout",
     "output_type": "stream",
     "text": [
      "\n",
      "man size: 14199 woman size: 10102\n",
      "Train epoch  : 82, meanAP: 49.13, meanAP_man: 46.77, meanAP_woman: 47.27, adv acc: 99.60, \n"
     ]
    },
    {
     "data": {
      "application/vnd.jupyter.widget-view+json": {
       "model_id": "295393b98a264989afccde1f643c995f",
       "version_major": 2,
       "version_minor": 0
      },
      "text/plain": [
       "HBox(children=(FloatProgress(value=0.0, description='Val balanced 82', max=47.0, style=ProgressStyle(descripti…"
      ]
     },
     "metadata": {},
     "output_type": "display_data"
    },
    {
     "name": "stdout",
     "output_type": "stream",
     "text": [
      "\n",
      "man size: 3000 woman size: 3000\n",
      "Test epoch(f): 82, meanAP: 33.26, meanAP_man: 33.61, meanAP_woman: nan, adv acc: 77.08, \n"
     ]
    },
    {
     "name": "stderr",
     "output_type": "stream",
     "text": [
      "C:\\Users\\emano\\Anaconda3\\envs\\py37-Torch-Transformers\\lib\\site-packages\\sklearn\\metrics\\_ranking.py:677: RuntimeWarning: invalid value encountered in true_divide\n",
      "  recall = tps / tps[-1]\n"
     ]
    },
    {
     "data": {
      "application/vnd.jupyter.widget-view+json": {
       "model_id": "3ce74b175fc540e4b19a40e29c651238",
       "version_major": 2,
       "version_minor": 0
      },
      "text/plain": [
       "HBox(children=(FloatProgress(value=0.0, description='Val 82', max=61.0, style=ProgressStyle(description_width=…"
      ]
     },
     "metadata": {},
     "output_type": "display_data"
    },
    {
     "name": "stdout",
     "output_type": "stream",
     "text": [
      "\n"
     ]
    },
    {
     "name": "stderr",
     "output_type": "stream",
     "text": [
      "C:\\Users\\emano\\Anaconda3\\envs\\py37-Torch-Transformers\\lib\\site-packages\\sklearn\\metrics\\_ranking.py:677: RuntimeWarning: invalid value encountered in true_divide\n",
      "  recall = tps / tps[-1]\n"
     ]
    },
    {
     "name": "stdout",
     "output_type": "stream",
     "text": [
      "man size: 4457 woman size: 3273\n",
      "Test epoch   : 82, meanAP: 32.95, meanAP_man: 32.51, meanAP_woman: nan, adv acc: 77.94, \n"
     ]
    },
    {
     "data": {
      "application/vnd.jupyter.widget-view+json": {
       "model_id": "be7d6a0cce0f48d29e7221a5bb7e51ef",
       "version_major": 2,
       "version_minor": 0
      },
      "text/plain": [
       "HBox(children=(FloatProgress(value=0.0, description='Train 83', max=190.0, style=ProgressStyle(description_wid…"
      ]
     },
     "metadata": {},
     "output_type": "display_data"
    },
    {
     "name": "stdout",
     "output_type": "stream",
     "text": [
      "\n",
      "man size: 14199 woman size: 10102\n",
      "Train epoch  : 83, meanAP: 49.57, meanAP_man: 47.44, meanAP_woman: 47.13, adv acc: 99.58, \n"
     ]
    },
    {
     "data": {
      "application/vnd.jupyter.widget-view+json": {
       "model_id": "34bbad1db0cc4952ae783dfd57bc034e",
       "version_major": 2,
       "version_minor": 0
      },
      "text/plain": [
       "HBox(children=(FloatProgress(value=0.0, description='Val balanced 83', max=47.0, style=ProgressStyle(descripti…"
      ]
     },
     "metadata": {},
     "output_type": "display_data"
    },
    {
     "name": "stdout",
     "output_type": "stream",
     "text": [
      "\n",
      "man size: 3000 woman size: 3000\n",
      "Test epoch(f): 83, meanAP: 33.31, meanAP_man: 33.58, meanAP_woman: nan, adv acc: 77.12, \n"
     ]
    },
    {
     "name": "stderr",
     "output_type": "stream",
     "text": [
      "C:\\Users\\emano\\Anaconda3\\envs\\py37-Torch-Transformers\\lib\\site-packages\\sklearn\\metrics\\_ranking.py:677: RuntimeWarning: invalid value encountered in true_divide\n",
      "  recall = tps / tps[-1]\n"
     ]
    },
    {
     "data": {
      "application/vnd.jupyter.widget-view+json": {
       "model_id": "9c8d4b3a189c4fc2a3ac6dc1c87e5b13",
       "version_major": 2,
       "version_minor": 0
      },
      "text/plain": [
       "HBox(children=(FloatProgress(value=0.0, description='Val 83', max=61.0, style=ProgressStyle(description_width=…"
      ]
     },
     "metadata": {},
     "output_type": "display_data"
    },
    {
     "name": "stdout",
     "output_type": "stream",
     "text": [
      "\n"
     ]
    },
    {
     "name": "stderr",
     "output_type": "stream",
     "text": [
      "C:\\Users\\emano\\Anaconda3\\envs\\py37-Torch-Transformers\\lib\\site-packages\\sklearn\\metrics\\_ranking.py:677: RuntimeWarning: invalid value encountered in true_divide\n",
      "  recall = tps / tps[-1]\n"
     ]
    },
    {
     "name": "stdout",
     "output_type": "stream",
     "text": [
      "man size: 4457 woman size: 3273\n",
      "Test epoch   : 83, meanAP: 33.01, meanAP_man: 32.46, meanAP_woman: nan, adv acc: 78.11, \n"
     ]
    },
    {
     "data": {
      "application/vnd.jupyter.widget-view+json": {
       "model_id": "a25283deeedd4a10b01a34411137df3f",
       "version_major": 2,
       "version_minor": 0
      },
      "text/plain": [
       "HBox(children=(FloatProgress(value=0.0, description='Train 84', max=190.0, style=ProgressStyle(description_wid…"
      ]
     },
     "metadata": {},
     "output_type": "display_data"
    },
    {
     "name": "stdout",
     "output_type": "stream",
     "text": [
      "\n",
      "man size: 14199 woman size: 10102\n",
      "Train epoch  : 84, meanAP: 49.64, meanAP_man: 47.42, meanAP_woman: 47.49, adv acc: 99.51, \n"
     ]
    },
    {
     "data": {
      "application/vnd.jupyter.widget-view+json": {
       "model_id": "4483fd8fb8044d319ae0366b1b9b56ec",
       "version_major": 2,
       "version_minor": 0
      },
      "text/plain": [
       "HBox(children=(FloatProgress(value=0.0, description='Val balanced 84', max=47.0, style=ProgressStyle(descripti…"
      ]
     },
     "metadata": {},
     "output_type": "display_data"
    },
    {
     "name": "stdout",
     "output_type": "stream",
     "text": [
      "\n",
      "man size: 3000 woman size: 3000\n",
      "Test epoch(f): 84, meanAP: 33.42, meanAP_man: 33.75, meanAP_woman: nan, adv acc: 77.20, \n"
     ]
    },
    {
     "name": "stderr",
     "output_type": "stream",
     "text": [
      "C:\\Users\\emano\\Anaconda3\\envs\\py37-Torch-Transformers\\lib\\site-packages\\sklearn\\metrics\\_ranking.py:677: RuntimeWarning: invalid value encountered in true_divide\n",
      "  recall = tps / tps[-1]\n"
     ]
    },
    {
     "data": {
      "application/vnd.jupyter.widget-view+json": {
       "model_id": "095aeaa0aa7c456cab753f926584b763",
       "version_major": 2,
       "version_minor": 0
      },
      "text/plain": [
       "HBox(children=(FloatProgress(value=0.0, description='Val 84', max=61.0, style=ProgressStyle(description_width=…"
      ]
     },
     "metadata": {},
     "output_type": "display_data"
    },
    {
     "name": "stdout",
     "output_type": "stream",
     "text": [
      "\n"
     ]
    },
    {
     "name": "stderr",
     "output_type": "stream",
     "text": [
      "C:\\Users\\emano\\Anaconda3\\envs\\py37-Torch-Transformers\\lib\\site-packages\\sklearn\\metrics\\_ranking.py:677: RuntimeWarning: invalid value encountered in true_divide\n",
      "  recall = tps / tps[-1]\n"
     ]
    },
    {
     "name": "stdout",
     "output_type": "stream",
     "text": [
      "man size: 4457 woman size: 3273\n",
      "Test epoch   : 84, meanAP: 33.11, meanAP_man: 32.57, meanAP_woman: nan, adv acc: 78.34, \n"
     ]
    },
    {
     "data": {
      "application/vnd.jupyter.widget-view+json": {
       "model_id": "07651e9e3c804465a9a2f991bcbf6ac2",
       "version_major": 2,
       "version_minor": 0
      },
      "text/plain": [
       "HBox(children=(FloatProgress(value=0.0, description='Train 85', max=190.0, style=ProgressStyle(description_wid…"
      ]
     },
     "metadata": {},
     "output_type": "display_data"
    },
    {
     "name": "stdout",
     "output_type": "stream",
     "text": [
      "\n",
      "man size: 14199 woman size: 10102\n",
      "Train epoch  : 85, meanAP: 49.78, meanAP_man: 47.71, meanAP_woman: 47.43, adv acc: 99.40, \n"
     ]
    },
    {
     "data": {
      "application/vnd.jupyter.widget-view+json": {
       "model_id": "00fed8abb3144b6aa438cdda1817455c",
       "version_major": 2,
       "version_minor": 0
      },
      "text/plain": [
       "HBox(children=(FloatProgress(value=0.0, description='Val balanced 85', max=47.0, style=ProgressStyle(descripti…"
      ]
     },
     "metadata": {},
     "output_type": "display_data"
    },
    {
     "name": "stdout",
     "output_type": "stream",
     "text": [
      "\n",
      "man size: 3000 woman size: 3000\n",
      "Test epoch(f): 85, meanAP: 33.45, meanAP_man: 33.72, meanAP_woman: nan, adv acc: 76.98, \n"
     ]
    },
    {
     "name": "stderr",
     "output_type": "stream",
     "text": [
      "C:\\Users\\emano\\Anaconda3\\envs\\py37-Torch-Transformers\\lib\\site-packages\\sklearn\\metrics\\_ranking.py:677: RuntimeWarning: invalid value encountered in true_divide\n",
      "  recall = tps / tps[-1]\n"
     ]
    },
    {
     "data": {
      "application/vnd.jupyter.widget-view+json": {
       "model_id": "995f44ebfbb847b89db55e4662aa8380",
       "version_major": 2,
       "version_minor": 0
      },
      "text/plain": [
       "HBox(children=(FloatProgress(value=0.0, description='Val 85', max=61.0, style=ProgressStyle(description_width=…"
      ]
     },
     "metadata": {},
     "output_type": "display_data"
    },
    {
     "name": "stdout",
     "output_type": "stream",
     "text": [
      "\n"
     ]
    },
    {
     "name": "stderr",
     "output_type": "stream",
     "text": [
      "C:\\Users\\emano\\Anaconda3\\envs\\py37-Torch-Transformers\\lib\\site-packages\\sklearn\\metrics\\_ranking.py:677: RuntimeWarning: invalid value encountered in true_divide\n",
      "  recall = tps / tps[-1]\n"
     ]
    },
    {
     "name": "stdout",
     "output_type": "stream",
     "text": [
      "man size: 4457 woman size: 3273\n",
      "Test epoch   : 85, meanAP: 33.16, meanAP_man: 32.68, meanAP_woman: nan, adv acc: 78.16, \n"
     ]
    },
    {
     "data": {
      "application/vnd.jupyter.widget-view+json": {
       "model_id": "61a08d9a635d409ea74bf23c98d87642",
       "version_major": 2,
       "version_minor": 0
      },
      "text/plain": [
       "HBox(children=(FloatProgress(value=0.0, description='Train 86', max=190.0, style=ProgressStyle(description_wid…"
      ]
     },
     "metadata": {},
     "output_type": "display_data"
    },
    {
     "ename": "KeyboardInterrupt",
     "evalue": "",
     "output_type": "error",
     "traceback": [
      "\u001b[1;31m---------------------------------------------------------------------------\u001b[0m",
      "\u001b[1;31mKeyboardInterrupt\u001b[0m                         Traceback (most recent call last)",
      "\u001b[1;32m<ipython-input-18-1d2751c1c56c>\u001b[0m in \u001b[0;36m<module>\u001b[1;34m\u001b[0m\n\u001b[0;32m      1\u001b[0m \u001b[1;32mfor\u001b[0m \u001b[0mepoch\u001b[0m \u001b[1;32min\u001b[0m \u001b[0mrange\u001b[0m\u001b[1;33m(\u001b[0m\u001b[0margs\u001b[0m\u001b[1;33m.\u001b[0m\u001b[0mstart_epoch\u001b[0m\u001b[1;33m,\u001b[0m \u001b[0margs\u001b[0m\u001b[1;33m.\u001b[0m\u001b[0mnum_epochs\u001b[0m \u001b[1;33m+\u001b[0m \u001b[1;36m1\u001b[0m\u001b[1;33m)\u001b[0m\u001b[1;33m:\u001b[0m\u001b[1;33m\u001b[0m\u001b[1;33m\u001b[0m\u001b[0m\n\u001b[1;32m----> 2\u001b[1;33m     \u001b[0mtrain\u001b[0m\u001b[1;33m(\u001b[0m\u001b[0margs\u001b[0m\u001b[1;33m,\u001b[0m \u001b[0mepoch\u001b[0m\u001b[1;33m,\u001b[0m \u001b[0mmodel\u001b[0m\u001b[1;33m,\u001b[0m \u001b[0mcriterion\u001b[0m\u001b[1;33m,\u001b[0m \u001b[0mtrain_loader\u001b[0m\u001b[1;33m,\u001b[0m \u001b[0moptimizer\u001b[0m\u001b[1;33m,\u001b[0m \u001b[0mtrain_logger\u001b[0m\u001b[1;33m,\u001b[0m \u001b[0mlogging\u001b[0m\u001b[1;33m=\u001b[0m\u001b[1;32mTrue\u001b[0m\u001b[1;33m)\u001b[0m\u001b[1;33m\u001b[0m\u001b[1;33m\u001b[0m\u001b[0m\n\u001b[0m\u001b[0;32m      3\u001b[0m     test_balanced(args, epoch, model, criterion, val_loader_gender_balanced,\n\u001b[0;32m      4\u001b[0m         val_logger, logging=True)\n\u001b[0;32m      5\u001b[0m     \u001b[0mcurrent_performance\u001b[0m \u001b[1;33m=\u001b[0m \u001b[0mtest\u001b[0m\u001b[1;33m(\u001b[0m\u001b[0margs\u001b[0m\u001b[1;33m,\u001b[0m \u001b[0mepoch\u001b[0m\u001b[1;33m,\u001b[0m \u001b[0mmodel\u001b[0m\u001b[1;33m,\u001b[0m \u001b[0mcriterion\u001b[0m\u001b[1;33m,\u001b[0m \u001b[0mval_loader\u001b[0m\u001b[1;33m,\u001b[0m \u001b[0mval_logger\u001b[0m\u001b[1;33m,\u001b[0m \u001b[0mlogging\u001b[0m \u001b[1;33m=\u001b[0m \u001b[1;32mTrue\u001b[0m\u001b[1;33m)\u001b[0m\u001b[1;33m\u001b[0m\u001b[1;33m\u001b[0m\u001b[0m\n",
      "\u001b[1;32m<ipython-input-2-cabefedca0a1>\u001b[0m in \u001b[0;36mtrain\u001b[1;34m(args, epoch, model, criterion, train_loader, optimizer, train_logger, logging)\u001b[0m\n\u001b[0;32m     19\u001b[0m \u001b[1;33m\u001b[0m\u001b[0m\n\u001b[0;32m     20\u001b[0m     \u001b[0mt\u001b[0m \u001b[1;33m=\u001b[0m \u001b[0mtqdm\u001b[0m\u001b[1;33m(\u001b[0m\u001b[0mtrain_loader\u001b[0m\u001b[1;33m,\u001b[0m \u001b[0mdesc\u001b[0m \u001b[1;33m=\u001b[0m \u001b[1;34m'Train %d'\u001b[0m \u001b[1;33m%\u001b[0m \u001b[0mepoch\u001b[0m\u001b[1;33m)\u001b[0m\u001b[1;33m\u001b[0m\u001b[1;33m\u001b[0m\u001b[0m\n\u001b[1;32m---> 21\u001b[1;33m     \u001b[1;32mfor\u001b[0m \u001b[0mbatch_idx\u001b[0m\u001b[1;33m,\u001b[0m \u001b[1;33m(\u001b[0m\u001b[0mimages\u001b[0m\u001b[1;33m,\u001b[0m \u001b[0mtargets\u001b[0m\u001b[1;33m,\u001b[0m \u001b[0mgenders\u001b[0m\u001b[1;33m,\u001b[0m \u001b[0mimage_ids\u001b[0m\u001b[1;33m)\u001b[0m \u001b[1;32min\u001b[0m \u001b[0menumerate\u001b[0m\u001b[1;33m(\u001b[0m\u001b[0mt\u001b[0m\u001b[1;33m)\u001b[0m\u001b[1;33m:\u001b[0m\u001b[1;33m\u001b[0m\u001b[1;33m\u001b[0m\u001b[0m\n\u001b[0m\u001b[0;32m     22\u001b[0m         \u001b[1;31m#if batch_idx == 100: break # constrain epoch size\u001b[0m\u001b[1;33m\u001b[0m\u001b[1;33m\u001b[0m\u001b[1;33m\u001b[0m\u001b[0m\n\u001b[0;32m     23\u001b[0m \u001b[1;33m\u001b[0m\u001b[0m\n",
      "\u001b[1;32m~\\Anaconda3\\envs\\py37-Torch-Transformers\\lib\\site-packages\\tqdm\\notebook.py\u001b[0m in \u001b[0;36m__iter__\u001b[1;34m(self, *args, **kwargs)\u001b[0m\n\u001b[0;32m    216\u001b[0m     \u001b[1;32mdef\u001b[0m \u001b[0m__iter__\u001b[0m\u001b[1;33m(\u001b[0m\u001b[0mself\u001b[0m\u001b[1;33m,\u001b[0m \u001b[1;33m*\u001b[0m\u001b[0margs\u001b[0m\u001b[1;33m,\u001b[0m \u001b[1;33m**\u001b[0m\u001b[0mkwargs\u001b[0m\u001b[1;33m)\u001b[0m\u001b[1;33m:\u001b[0m\u001b[1;33m\u001b[0m\u001b[1;33m\u001b[0m\u001b[0m\n\u001b[0;32m    217\u001b[0m         \u001b[1;32mtry\u001b[0m\u001b[1;33m:\u001b[0m\u001b[1;33m\u001b[0m\u001b[1;33m\u001b[0m\u001b[0m\n\u001b[1;32m--> 218\u001b[1;33m             \u001b[1;32mfor\u001b[0m \u001b[0mobj\u001b[0m \u001b[1;32min\u001b[0m \u001b[0msuper\u001b[0m\u001b[1;33m(\u001b[0m\u001b[0mtqdm_notebook\u001b[0m\u001b[1;33m,\u001b[0m \u001b[0mself\u001b[0m\u001b[1;33m)\u001b[0m\u001b[1;33m.\u001b[0m\u001b[0m__iter__\u001b[0m\u001b[1;33m(\u001b[0m\u001b[1;33m*\u001b[0m\u001b[0margs\u001b[0m\u001b[1;33m,\u001b[0m \u001b[1;33m**\u001b[0m\u001b[0mkwargs\u001b[0m\u001b[1;33m)\u001b[0m\u001b[1;33m:\u001b[0m\u001b[1;33m\u001b[0m\u001b[1;33m\u001b[0m\u001b[0m\n\u001b[0m\u001b[0;32m    219\u001b[0m                 \u001b[1;31m# return super(tqdm...) will not catch exception\u001b[0m\u001b[1;33m\u001b[0m\u001b[1;33m\u001b[0m\u001b[1;33m\u001b[0m\u001b[0m\n\u001b[0;32m    220\u001b[0m                 \u001b[1;32myield\u001b[0m \u001b[0mobj\u001b[0m\u001b[1;33m\u001b[0m\u001b[1;33m\u001b[0m\u001b[0m\n",
      "\u001b[1;32m~\\Anaconda3\\envs\\py37-Torch-Transformers\\lib\\site-packages\\tqdm\\std.py\u001b[0m in \u001b[0;36m__iter__\u001b[1;34m(self)\u001b[0m\n\u001b[0;32m   1106\u001b[0m                 fp_write=getattr(self.fp, 'write', sys.stderr.write))\n\u001b[0;32m   1107\u001b[0m \u001b[1;33m\u001b[0m\u001b[0m\n\u001b[1;32m-> 1108\u001b[1;33m         \u001b[1;32mfor\u001b[0m \u001b[0mobj\u001b[0m \u001b[1;32min\u001b[0m \u001b[0miterable\u001b[0m\u001b[1;33m:\u001b[0m\u001b[1;33m\u001b[0m\u001b[1;33m\u001b[0m\u001b[0m\n\u001b[0m\u001b[0;32m   1109\u001b[0m             \u001b[1;32myield\u001b[0m \u001b[0mobj\u001b[0m\u001b[1;33m\u001b[0m\u001b[1;33m\u001b[0m\u001b[0m\n\u001b[0;32m   1110\u001b[0m             \u001b[1;31m# Update and possibly print the progressbar.\u001b[0m\u001b[1;33m\u001b[0m\u001b[1;33m\u001b[0m\u001b[1;33m\u001b[0m\u001b[0m\n",
      "\u001b[1;32m~\\Anaconda3\\envs\\py37-Torch-Transformers\\lib\\site-packages\\torch\\utils\\data\\dataloader.py\u001b[0m in \u001b[0;36m__next__\u001b[1;34m(self)\u001b[0m\n\u001b[0;32m    343\u001b[0m \u001b[1;33m\u001b[0m\u001b[0m\n\u001b[0;32m    344\u001b[0m     \u001b[1;32mdef\u001b[0m \u001b[0m__next__\u001b[0m\u001b[1;33m(\u001b[0m\u001b[0mself\u001b[0m\u001b[1;33m)\u001b[0m\u001b[1;33m:\u001b[0m\u001b[1;33m\u001b[0m\u001b[1;33m\u001b[0m\u001b[0m\n\u001b[1;32m--> 345\u001b[1;33m         \u001b[0mdata\u001b[0m \u001b[1;33m=\u001b[0m \u001b[0mself\u001b[0m\u001b[1;33m.\u001b[0m\u001b[0m_next_data\u001b[0m\u001b[1;33m(\u001b[0m\u001b[1;33m)\u001b[0m\u001b[1;33m\u001b[0m\u001b[1;33m\u001b[0m\u001b[0m\n\u001b[0m\u001b[0;32m    346\u001b[0m         \u001b[0mself\u001b[0m\u001b[1;33m.\u001b[0m\u001b[0m_num_yielded\u001b[0m \u001b[1;33m+=\u001b[0m \u001b[1;36m1\u001b[0m\u001b[1;33m\u001b[0m\u001b[1;33m\u001b[0m\u001b[0m\n\u001b[0;32m    347\u001b[0m         \u001b[1;32mif\u001b[0m \u001b[0mself\u001b[0m\u001b[1;33m.\u001b[0m\u001b[0m_dataset_kind\u001b[0m \u001b[1;33m==\u001b[0m \u001b[0m_DatasetKind\u001b[0m\u001b[1;33m.\u001b[0m\u001b[0mIterable\u001b[0m \u001b[1;32mand\u001b[0m\u001b[0;31m \u001b[0m\u001b[0;31m\\\u001b[0m\u001b[1;33m\u001b[0m\u001b[1;33m\u001b[0m\u001b[0m\n",
      "\u001b[1;32m~\\Anaconda3\\envs\\py37-Torch-Transformers\\lib\\site-packages\\torch\\utils\\data\\dataloader.py\u001b[0m in \u001b[0;36m_next_data\u001b[1;34m(self)\u001b[0m\n\u001b[0;32m    383\u001b[0m     \u001b[1;32mdef\u001b[0m \u001b[0m_next_data\u001b[0m\u001b[1;33m(\u001b[0m\u001b[0mself\u001b[0m\u001b[1;33m)\u001b[0m\u001b[1;33m:\u001b[0m\u001b[1;33m\u001b[0m\u001b[1;33m\u001b[0m\u001b[0m\n\u001b[0;32m    384\u001b[0m         \u001b[0mindex\u001b[0m \u001b[1;33m=\u001b[0m \u001b[0mself\u001b[0m\u001b[1;33m.\u001b[0m\u001b[0m_next_index\u001b[0m\u001b[1;33m(\u001b[0m\u001b[1;33m)\u001b[0m  \u001b[1;31m# may raise StopIteration\u001b[0m\u001b[1;33m\u001b[0m\u001b[1;33m\u001b[0m\u001b[0m\n\u001b[1;32m--> 385\u001b[1;33m         \u001b[0mdata\u001b[0m \u001b[1;33m=\u001b[0m \u001b[0mself\u001b[0m\u001b[1;33m.\u001b[0m\u001b[0m_dataset_fetcher\u001b[0m\u001b[1;33m.\u001b[0m\u001b[0mfetch\u001b[0m\u001b[1;33m(\u001b[0m\u001b[0mindex\u001b[0m\u001b[1;33m)\u001b[0m  \u001b[1;31m# may raise StopIteration\u001b[0m\u001b[1;33m\u001b[0m\u001b[1;33m\u001b[0m\u001b[0m\n\u001b[0m\u001b[0;32m    386\u001b[0m         \u001b[1;32mif\u001b[0m \u001b[0mself\u001b[0m\u001b[1;33m.\u001b[0m\u001b[0m_pin_memory\u001b[0m\u001b[1;33m:\u001b[0m\u001b[1;33m\u001b[0m\u001b[1;33m\u001b[0m\u001b[0m\n\u001b[0;32m    387\u001b[0m             \u001b[0mdata\u001b[0m \u001b[1;33m=\u001b[0m \u001b[0m_utils\u001b[0m\u001b[1;33m.\u001b[0m\u001b[0mpin_memory\u001b[0m\u001b[1;33m.\u001b[0m\u001b[0mpin_memory\u001b[0m\u001b[1;33m(\u001b[0m\u001b[0mdata\u001b[0m\u001b[1;33m)\u001b[0m\u001b[1;33m\u001b[0m\u001b[1;33m\u001b[0m\u001b[0m\n",
      "\u001b[1;32m~\\Anaconda3\\envs\\py37-Torch-Transformers\\lib\\site-packages\\torch\\utils\\data\\_utils\\fetch.py\u001b[0m in \u001b[0;36mfetch\u001b[1;34m(self, possibly_batched_index)\u001b[0m\n\u001b[0;32m     42\u001b[0m     \u001b[1;32mdef\u001b[0m \u001b[0mfetch\u001b[0m\u001b[1;33m(\u001b[0m\u001b[0mself\u001b[0m\u001b[1;33m,\u001b[0m \u001b[0mpossibly_batched_index\u001b[0m\u001b[1;33m)\u001b[0m\u001b[1;33m:\u001b[0m\u001b[1;33m\u001b[0m\u001b[1;33m\u001b[0m\u001b[0m\n\u001b[0;32m     43\u001b[0m         \u001b[1;32mif\u001b[0m \u001b[0mself\u001b[0m\u001b[1;33m.\u001b[0m\u001b[0mauto_collation\u001b[0m\u001b[1;33m:\u001b[0m\u001b[1;33m\u001b[0m\u001b[1;33m\u001b[0m\u001b[0m\n\u001b[1;32m---> 44\u001b[1;33m             \u001b[0mdata\u001b[0m \u001b[1;33m=\u001b[0m \u001b[1;33m[\u001b[0m\u001b[0mself\u001b[0m\u001b[1;33m.\u001b[0m\u001b[0mdataset\u001b[0m\u001b[1;33m[\u001b[0m\u001b[0midx\u001b[0m\u001b[1;33m]\u001b[0m \u001b[1;32mfor\u001b[0m \u001b[0midx\u001b[0m \u001b[1;32min\u001b[0m \u001b[0mpossibly_batched_index\u001b[0m\u001b[1;33m]\u001b[0m\u001b[1;33m\u001b[0m\u001b[1;33m\u001b[0m\u001b[0m\n\u001b[0m\u001b[0;32m     45\u001b[0m         \u001b[1;32melse\u001b[0m\u001b[1;33m:\u001b[0m\u001b[1;33m\u001b[0m\u001b[1;33m\u001b[0m\u001b[0m\n\u001b[0;32m     46\u001b[0m             \u001b[0mdata\u001b[0m \u001b[1;33m=\u001b[0m \u001b[0mself\u001b[0m\u001b[1;33m.\u001b[0m\u001b[0mdataset\u001b[0m\u001b[1;33m[\u001b[0m\u001b[0mpossibly_batched_index\u001b[0m\u001b[1;33m]\u001b[0m\u001b[1;33m\u001b[0m\u001b[1;33m\u001b[0m\u001b[0m\n",
      "\u001b[1;32m~\\Anaconda3\\envs\\py37-Torch-Transformers\\lib\\site-packages\\torch\\utils\\data\\_utils\\fetch.py\u001b[0m in \u001b[0;36m<listcomp>\u001b[1;34m(.0)\u001b[0m\n\u001b[0;32m     42\u001b[0m     \u001b[1;32mdef\u001b[0m \u001b[0mfetch\u001b[0m\u001b[1;33m(\u001b[0m\u001b[0mself\u001b[0m\u001b[1;33m,\u001b[0m \u001b[0mpossibly_batched_index\u001b[0m\u001b[1;33m)\u001b[0m\u001b[1;33m:\u001b[0m\u001b[1;33m\u001b[0m\u001b[1;33m\u001b[0m\u001b[0m\n\u001b[0;32m     43\u001b[0m         \u001b[1;32mif\u001b[0m \u001b[0mself\u001b[0m\u001b[1;33m.\u001b[0m\u001b[0mauto_collation\u001b[0m\u001b[1;33m:\u001b[0m\u001b[1;33m\u001b[0m\u001b[1;33m\u001b[0m\u001b[0m\n\u001b[1;32m---> 44\u001b[1;33m             \u001b[0mdata\u001b[0m \u001b[1;33m=\u001b[0m \u001b[1;33m[\u001b[0m\u001b[0mself\u001b[0m\u001b[1;33m.\u001b[0m\u001b[0mdataset\u001b[0m\u001b[1;33m[\u001b[0m\u001b[0midx\u001b[0m\u001b[1;33m]\u001b[0m \u001b[1;32mfor\u001b[0m \u001b[0midx\u001b[0m \u001b[1;32min\u001b[0m \u001b[0mpossibly_batched_index\u001b[0m\u001b[1;33m]\u001b[0m\u001b[1;33m\u001b[0m\u001b[1;33m\u001b[0m\u001b[0m\n\u001b[0m\u001b[0;32m     45\u001b[0m         \u001b[1;32melse\u001b[0m\u001b[1;33m:\u001b[0m\u001b[1;33m\u001b[0m\u001b[1;33m\u001b[0m\u001b[0m\n\u001b[0;32m     46\u001b[0m             \u001b[0mdata\u001b[0m \u001b[1;33m=\u001b[0m \u001b[0mself\u001b[0m\u001b[1;33m.\u001b[0m\u001b[0mdataset\u001b[0m\u001b[1;33m[\u001b[0m\u001b[0mpossibly_batched_index\u001b[0m\u001b[1;33m]\u001b[0m\u001b[1;33m\u001b[0m\u001b[1;33m\u001b[0m\u001b[0m\n",
      "\u001b[1;32mD:\\Project\\Balanced-Datasets-Are-Not-Enough\\verb_classification\\adv\\data_loader.py\u001b[0m in \u001b[0;36m__getitem__\u001b[1;34m(self, index)\u001b[0m\n\u001b[0;32m     76\u001b[0m         \u001b[0mimage_path_\u001b[0m \u001b[1;33m=\u001b[0m \u001b[0mos\u001b[0m\u001b[1;33m.\u001b[0m\u001b[0mpath\u001b[0m\u001b[1;33m.\u001b[0m\u001b[0mjoin\u001b[0m\u001b[1;33m(\u001b[0m\u001b[0mself\u001b[0m\u001b[1;33m.\u001b[0m\u001b[0mimage_dir\u001b[0m\u001b[1;33m,\u001b[0m \u001b[0mimage_name\u001b[0m\u001b[1;33m)\u001b[0m\u001b[1;33m\u001b[0m\u001b[1;33m\u001b[0m\u001b[0m\n\u001b[0;32m     77\u001b[0m \u001b[1;33m\u001b[0m\u001b[0m\n\u001b[1;32m---> 78\u001b[1;33m         \u001b[0mimg_\u001b[0m \u001b[1;33m=\u001b[0m \u001b[0mImage\u001b[0m\u001b[1;33m.\u001b[0m\u001b[0mopen\u001b[0m\u001b[1;33m(\u001b[0m\u001b[0mimage_path_\u001b[0m\u001b[1;33m)\u001b[0m\u001b[1;33m.\u001b[0m\u001b[0mconvert\u001b[0m\u001b[1;33m(\u001b[0m\u001b[1;34m'RGB'\u001b[0m\u001b[1;33m)\u001b[0m\u001b[1;33m\u001b[0m\u001b[1;33m\u001b[0m\u001b[0m\n\u001b[0m\u001b[0;32m     79\u001b[0m \u001b[1;33m\u001b[0m\u001b[0m\n\u001b[0;32m     80\u001b[0m         \u001b[1;32mif\u001b[0m \u001b[0mself\u001b[0m\u001b[1;33m.\u001b[0m\u001b[0mtransform\u001b[0m \u001b[1;32mis\u001b[0m \u001b[1;32mnot\u001b[0m \u001b[1;32mNone\u001b[0m\u001b[1;33m:\u001b[0m\u001b[1;33m\u001b[0m\u001b[1;33m\u001b[0m\u001b[0m\n",
      "\u001b[1;32m~\\Anaconda3\\envs\\py37-Torch-Transformers\\lib\\site-packages\\PIL\\Image.py\u001b[0m in \u001b[0;36mopen\u001b[1;34m(fp, mode)\u001b[0m\n\u001b[0;32m   2807\u001b[0m \u001b[1;33m\u001b[0m\u001b[0m\n\u001b[0;32m   2808\u001b[0m     \u001b[1;32mif\u001b[0m \u001b[0mfilename\u001b[0m\u001b[1;33m:\u001b[0m\u001b[1;33m\u001b[0m\u001b[1;33m\u001b[0m\u001b[0m\n\u001b[1;32m-> 2809\u001b[1;33m         \u001b[0mfp\u001b[0m \u001b[1;33m=\u001b[0m \u001b[0mbuiltins\u001b[0m\u001b[1;33m.\u001b[0m\u001b[0mopen\u001b[0m\u001b[1;33m(\u001b[0m\u001b[0mfilename\u001b[0m\u001b[1;33m,\u001b[0m \u001b[1;34m\"rb\"\u001b[0m\u001b[1;33m)\u001b[0m\u001b[1;33m\u001b[0m\u001b[1;33m\u001b[0m\u001b[0m\n\u001b[0m\u001b[0;32m   2810\u001b[0m         \u001b[0mexclusive_fp\u001b[0m \u001b[1;33m=\u001b[0m \u001b[1;32mTrue\u001b[0m\u001b[1;33m\u001b[0m\u001b[1;33m\u001b[0m\u001b[0m\n\u001b[0;32m   2811\u001b[0m \u001b[1;33m\u001b[0m\u001b[0m\n",
      "\u001b[1;31mKeyboardInterrupt\u001b[0m: "
     ]
    }
   ],
   "source": [
    "for epoch in range(args.start_epoch, args.num_epochs + 1):\n",
    "    train(args, epoch, model, criterion, train_loader, optimizer, train_logger, logging=True)\n",
    "    test_balanced(args, epoch, model, criterion, val_loader_gender_balanced,\n",
    "        val_logger, logging=True)\n",
    "    current_performance = test(args, epoch, model, criterion, val_loader, val_logger, logging = True)\n",
    "    is_best = current_performance > best_performance\n",
    "    best_performance = max(current_performance, best_performance)\n",
    "    model_state = {\n",
    "        'epoch': epoch + 1,\n",
    "        'state_dict': model.state_dict(),\n",
    "        'best_performance': best_performance}\n",
    "    save_checkpoint(args, model_state, is_best, os.path.join(args.save_dir, 'checkpoint.pth.tar'))\n",
    "    # at the end of every run, save the model\n",
    "    if epoch ==  args.num_epochs:\n",
    "        torch.save(model_state, os.path.join(args.save_dir, 'checkpoint_%s.pth.tar' % str(args.num_epochs)))"
   ]
  }
 ],
 "metadata": {
  "kernelspec": {
   "display_name": "Python 3.7.6 64-bit ('py37-Torch-Transformers': conda)",
   "language": "python",
   "name": "python37664bitpy37torchtransformerscondae93daae8d17e423a9d2b476995b931c9"
  },
  "language_info": {
   "codemirror_mode": {
    "name": "ipython",
    "version": 3
   },
   "file_extension": ".py",
   "mimetype": "text/x-python",
   "name": "python",
   "nbconvert_exporter": "python",
   "pygments_lexer": "ipython3",
   "version": "3.7.6"
  }
 },
 "nbformat": 4,
 "nbformat_minor": 4
}
