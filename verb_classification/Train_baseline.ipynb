{
 "cells": [
  {
   "cell_type": "code",
   "execution_count": 1,
   "metadata": {},
   "outputs": [],
   "source": [
    "import math, os, random, json, pickle, sys, pdb\n",
    "import string, shutil, time, argparse\n",
    "import numpy as np\n",
    "import itertools\n",
    "\n",
    "from sklearn.metrics import average_precision_score\n",
    "from sklearn.metrics import f1_score\n",
    "from tqdm.notebook import tqdm as tqdm\n",
    "from PIL import Image\n",
    "\n",
    "import torch.nn.functional as F\n",
    "import torchvision.models as models\n",
    "import torch, torchvision\n",
    "import torch.nn as nn\n",
    "import torchvision.datasets as dset\n",
    "import torchvision.transforms as transforms\n",
    "import torch.optim as optim\n",
    "import torch.backends.cudnn as cudnn\n",
    "\n",
    "from torchvision.utils import save_image\n",
    "from torch.utils.data import DataLoader\n",
    "\n",
    "from data_loader import ImSituVerbGender\n",
    "from model import VerbClassification\n",
    "from logger import Logger\n",
    "\n",
    "from PIL import ImageFilter\n",
    "\n",
    "import torch.utils.data as data\n",
    "import random\n",
    "\n",
    "import warnings\n",
    "warnings.filterwarnings('ignore')"
   ]
  },
  {
   "cell_type": "code",
   "execution_count": 2,
   "metadata": {},
   "outputs": [],
   "source": [
    "class Args:\n",
    "    annotation_dir='./data'\n",
    "    balanced=False\n",
    "    batch_balanced=False\n",
    "    batch_size=32\n",
    "    blackout=False\n",
    "    blackout_box=False\n",
    "    blackout_face=False\n",
    "    blur=False\n",
    "    crop_size=224\n",
    "    edges=False\n",
    "    finetune=True\n",
    "    gender_balanced=False\n",
    "    grayscale=False\n",
    "    image_dir='./data/of500_images_resized'\n",
    "    image_size=256\n",
    "    learning_rate=0.0001\n",
    "    no_image=False\n",
    "    num_epochs=100\n",
    "    num_verb=211\n",
    "    ratio=\"1\"\n",
    "    resume=False\n",
    "    seed=1\n",
    "    start_epoch=1\n",
    "    exp_name = \"Baseline_original\"\n",
    "    save_dir = \"\"\n",
    "    log_dir = \"\"\n",
    "args = Args()"
   ]
  },
  {
   "cell_type": "code",
   "execution_count": 3,
   "metadata": {},
   "outputs": [],
   "source": [
    "def save_checkpoint(args, state, is_best, filename):\n",
    "    torch.save(state, filename)\n",
    "    if is_best:\n",
    "        shutil.copyfile(filename, os.path.join(args.save_dir, 'model_best.pth.tar'))\n",
    "\n",
    "\n",
    "def train(args, epoch, model, criterion, train_loader, optimizer, \\\n",
    "    train_logger, logging=True):\n",
    "    model.train()\n",
    "    nProcessed = 0\n",
    "    nTrain = len(train_loader.dataset) # number of images\n",
    "    loss_logger = AverageMeter()\n",
    "\n",
    "    res = list()\n",
    "    t = tqdm(train_loader, desc = 'Train %d' % epoch)\n",
    "    for batch_idx, (images, targets, genders, image_ids) in enumerate(t):\n",
    "        #if batch_idx == 100: break # constrain epoch size\n",
    "\n",
    "        if args.batch_balanced:\n",
    "            man_idx = genders[:, 0].nonzero().squeeze()\n",
    "            if len(man_idx.size()) == 0: man_idx = man_idx.unsqueeze(0)\n",
    "            woman_idx = genders[:, 1].nonzero().squeeze()\n",
    "            if len(woman_idx.size()) == 0: woman_idx = woman_idx.unsqueeze(0)\n",
    "            selected_num = min(len(man_idx), len(woman_idx))\n",
    "\n",
    "            if selected_num < args.batch_size / 2:\n",
    "                continue # skip the batch if the selected num is too small\n",
    "            else:\n",
    "                selected_num = args.batch_size / 2\n",
    "                selected_idx = torch.cat((man_idx[:selected_num], woman_idx[:selected_num]), 0)\n",
    "\n",
    "            images = torch.index_select(images, 0, selected_idx)\n",
    "            targets = torch.index_select(targets, 0, selected_idx)\n",
    "            genders = torch.index_select(genders, 0, selected_idx)\n",
    "\n",
    "        # set mini-batch dataset\n",
    "        images = images.cuda()\n",
    "        targets = targets.cuda()\n",
    "\n",
    "        # forward, Backward and Optimize\n",
    "        preds = model(images)\n",
    "\n",
    "        # compute loss and add softmax to preds (crossentropy loss integrates softmax)\n",
    "        loss = criterion(preds, targets.max(1, keepdim=False)[1])\n",
    "        loss_logger.update(loss.item())\n",
    "\n",
    "        preds = F.softmax(preds, dim=1)\n",
    "        preds_max = preds.max(1, keepdim=True)[1]\n",
    "\n",
    "        # save the exact preds (binary)\n",
    "        tensor = torch.tensor((), dtype=torch.float64)\n",
    "        preds_exact = tensor.new_zeros(preds.size())\n",
    "        for idx, item in enumerate(preds_max):\n",
    "        \tpreds_exact[idx, item] = 1\n",
    "\n",
    "        res.append((image_ids, preds.detach().cpu(), targets.detach().cpu(), genders, preds_exact))\n",
    "\n",
    "        # backpropogation\n",
    "        optimizer.zero_grad()\n",
    "        loss.backward()\n",
    "        optimizer.step()\n",
    "\n",
    "        # Print log info\n",
    "        nProcessed += len(images)\n",
    "        t.set_postfix(loss = loss_logger.avg, completed = nProcessed)\n",
    "\n",
    "\n",
    "    # compute mean average precision score for verb classifier\n",
    "    total_preds   = torch.cat([entry[1] for entry in res], 0)\n",
    "    total_targets = torch.cat([entry[2] for entry in res], 0)\n",
    "    total_genders = torch.cat([entry[3] for entry in res], 0)\n",
    "    total_preds_exact = torch.cat([entry[4] for entry in res], 0)\n",
    "\n",
    "    # compute f1 score (no threshold as we simple take the max for multi-classification)\n",
    "    task_f1_score = f1_score(total_targets.numpy(), total_preds_exact.numpy(), average = 'macro')\n",
    "\n",
    "    man_idx = total_genders[:, 0].nonzero().squeeze()\n",
    "    woman_idx = total_genders[:, 1].nonzero().squeeze()\n",
    "\n",
    "    preds_man = torch.index_select(total_preds, 0, man_idx)\n",
    "    preds_woman = torch.index_select(total_preds, 0, woman_idx)\n",
    "    targets_man = torch.index_select(total_targets, 0, man_idx)\n",
    "    targets_woman = torch.index_select(total_targets, 0, woman_idx)\n",
    "\n",
    "    meanAP = average_precision_score(total_targets.numpy(), total_preds.numpy(), average='macro')\n",
    "    meanAP_man = average_precision_score(targets_man.numpy(), preds_man.numpy(), average='macro')\n",
    "    meanAP_woman = average_precision_score(targets_woman.numpy(), preds_woman.numpy(), average='macro')\n",
    "\n",
    "    if logging:\n",
    "        train_logger.scalar_summary('loss', loss_logger.avg, epoch)\n",
    "        train_logger.scalar_summary('task_f1_score', task_f1_score, epoch)\n",
    "        train_logger.scalar_summary('meanAP', meanAP, epoch)\n",
    "        train_logger.scalar_summary('meanAP_man', meanAP_man, epoch)\n",
    "        train_logger.scalar_summary('meanAP_woman', meanAP_woman, epoch)\n",
    "\n",
    "    print('man size: {} woman size: {}'.format(len(man_idx), len(woman_idx)))\n",
    "    print('Train epoch  : {}, meanAP: {:.2f}, meanAP_man: {:.2f}, meanAP_woman: {:.2f}'.format( \\\n",
    "        epoch, meanAP*100, meanAP_man*100, meanAP_woman*100))\n",
    "\n",
    "def test(args, epoch, model, criterion, val_loader, val_logger, logging=True):\n",
    "\n",
    "    # set the eval mode\n",
    "    model.eval()\n",
    "    nProcessed = 0\n",
    "    nVal = len(val_loader.dataset) # number of images\n",
    "    loss_logger = AverageMeter()\n",
    "\n",
    "    res = list()\n",
    "    t = tqdm(val_loader, desc = 'Val %d' % epoch)\n",
    "    for batch_idx, (images, targets, genders, image_ids) in enumerate(t):\n",
    "        #if batch_idx == 100: break # constrain epoch size\n",
    "\n",
    "        # Set mini-batch dataset\n",
    "        images = images.cuda()\n",
    "        targets = targets.cuda()\n",
    "\n",
    "        # Forward, Backward and Optimize\n",
    "        preds = model(images)\n",
    "\n",
    "        loss = criterion(preds, targets.max(1, keepdim=False)[1])\n",
    "        loss_logger.update(loss.item())\n",
    "\n",
    "        preds = F.softmax(preds, dim=1)\n",
    "        preds_max = preds.max(1, keepdim=True)[1]\n",
    "\n",
    "        tensor = torch.tensor((), dtype=torch.float64)\n",
    "        preds_exact = tensor.new_zeros(preds.size())\n",
    "        for idx, item in enumerate(preds_max):\n",
    "            preds_exact[idx, item] = 1\n",
    "\n",
    "        res.append((image_ids, preds.detach().cpu(), targets.detach().cpu(), genders, preds_exact))\n",
    "\n",
    "\n",
    "        # Print log info\n",
    "        nProcessed += len(images)\n",
    "        t.set_postfix(loss = loss_logger.avg, completed = nProcessed)\n",
    "\n",
    "    # compute mean average precision score for verb classifier\n",
    "    total_preds   = torch.cat([entry[1] for entry in res], 0)\n",
    "    total_targets = torch.cat([entry[2] for entry in res], 0)\n",
    "    total_genders = torch.cat([entry[3] for entry in res], 0)\n",
    "    total_preds_exact = torch.cat([entry[4] for entry in res], 0)\n",
    "\n",
    "    task_f1_score = f1_score(total_targets.numpy(), total_preds_exact.numpy(), average = 'macro')\n",
    "\n",
    "    man_idx = total_genders[:, 0].nonzero().squeeze()\n",
    "    woman_idx = total_genders[:, 1].nonzero().squeeze()\n",
    "\n",
    "    preds_man = torch.index_select(total_preds, 0, man_idx)\n",
    "    preds_woman = torch.index_select(total_preds, 0, woman_idx)\n",
    "    targets_man = torch.index_select(total_targets, 0, man_idx)\n",
    "    targets_woman = torch.index_select(total_targets, 0, woman_idx)\n",
    "\n",
    "    meanAP = average_precision_score(total_targets.numpy(), total_preds.numpy(), average='macro')\n",
    "    meanAP_man = average_precision_score(targets_man.numpy(), preds_man.numpy(), average='macro')\n",
    "    meanAP_woman = average_precision_score(targets_woman.numpy(), preds_woman.numpy(), average='macro')\n",
    "\n",
    "    if logging:\n",
    "        val_logger.scalar_summary('loss', loss_logger.avg, epoch)\n",
    "        val_logger.scalar_summary('task_f1_score', task_f1_score, epoch)\n",
    "        val_logger.scalar_summary('meanAP', meanAP, epoch)\n",
    "        val_logger.scalar_summary('meanAP_man', meanAP_man, epoch)\n",
    "        val_logger.scalar_summary('meanAP_woman', meanAP_woman, epoch)\n",
    "\n",
    "    print('man size: {} woman size: {}'.format(len(man_idx), len(woman_idx)))\n",
    "    print('Val epoch  : {}, meanAP: {:.2f}, meanAP_man: {:.2f}, meanAP_woman: {:.2f}'.format( \\\n",
    "        epoch, meanAP*100, meanAP_man*100, meanAP_woman*100))\n",
    "\n",
    "    return task_f1_score\n",
    "\n",
    "class AverageMeter(object):\n",
    "    \"\"\"Computes and stores the average and current value\"\"\"\n",
    "    def __init__(self):\n",
    "        self.reset()\n",
    "\n",
    "    def reset(self):\n",
    "        self.val = 0\n",
    "        self.avg = 0\n",
    "        self.sum = 0\n",
    "        self.count = 0\n",
    "\n",
    "    def update(self, val, n=1):\n",
    "        self.val = val\n",
    "        self.sum += val * n\n",
    "        self.count += n\n",
    "        self.avg = self.sum / self.count"
   ]
  },
  {
   "cell_type": "code",
   "execution_count": 4,
   "metadata": {},
   "outputs": [],
   "source": [
    "verb_id_map = pickle.load(open('./data/verb_id.map', \"rb\"))\n",
    "verb2id = verb_id_map['verb2id']\n",
    "id2verb = verb_id_map['id2verb']"
   ]
  },
  {
   "cell_type": "code",
   "execution_count": 5,
   "metadata": {},
   "outputs": [],
   "source": [
    "# create model save directory\n",
    "save_dir = os.path.join('./models', args.exp_name)\n",
    "args.save_dir =save_dir\n",
    "if not os.path.exists(save_dir): os.makedirs(save_dir)"
   ]
  },
  {
   "cell_type": "code",
   "execution_count": 6,
   "metadata": {},
   "outputs": [],
   "source": [
    "# create log save directory for train and val\n",
    "log_dir = os.path.join('./logs', args.exp_name)\n",
    "args.log_dir = log_dir\n",
    "train_log_dir = os.path.join(log_dir, 'train')\n",
    "val_log_dir = os.path.join(log_dir, 'val')\n",
    "if not os.path.exists(train_log_dir): os.makedirs(train_log_dir)\n",
    "if not os.path.exists(val_log_dir): os.makedirs(val_log_dir)\n",
    "train_logger = Logger(train_log_dir)\n",
    "val_logger = Logger(val_log_dir)"
   ]
  },
  {
   "cell_type": "code",
   "execution_count": 7,
   "metadata": {},
   "outputs": [],
   "source": [
    "# image preprocessing\n",
    "normalize = transforms.Normalize(mean = [0.485, 0.456, 0.406],\n",
    "    std = [0.229, 0.224, 0.225])\n",
    "train_transform = transforms.Compose([\n",
    "    transforms.Resize(args.image_size),\n",
    "    transforms.RandomCrop(args.crop_size),\n",
    "    transforms.RandomHorizontalFlip(),\n",
    "    transforms.ToTensor(),\n",
    "    normalize])\n",
    "val_transform = transforms.Compose([\n",
    "    transforms.Resize(args.image_size),\n",
    "    transforms.CenterCrop(args.crop_size),\n",
    "    transforms.ToTensor(),\n",
    "    normalize])"
   ]
  },
  {
   "cell_type": "code",
   "execution_count": 8,
   "metadata": {},
   "outputs": [],
   "source": [
    "test_transform = transforms.Compose([\n",
    "    transforms.Resize(args.image_size),\n",
    "    transforms.CenterCrop(args.crop_size),\n",
    "    transforms.ToTensor(),\n",
    "    normalize])"
   ]
  },
  {
   "cell_type": "code",
   "execution_count": 9,
   "metadata": {},
   "outputs": [
    {
     "name": "stdout",
     "output_type": "stream",
     "text": [
      "ImSituVerbGender dataloader\n",
      "loading train annotations..........\n",
      "dataset size: 24301\n",
      "man size : 14199 and woman size: 10102\n",
      "ImSituVerbGender dataloader\n",
      "loading val annotations..........\n",
      "dataset size: 7730\n",
      "man size : 4457 and woman size: 3273\n"
     ]
    }
   ],
   "source": [
    "# Data samplers.\n",
    "train_data = ImSituVerbGender(args, annotation_dir = args.annotation_dir,\n",
    "                              image_dir = args.image_dir, split = 'train', transform = train_transform)\n",
    "\n",
    "val_data = ImSituVerbGender(args, annotation_dir = args.annotation_dir,\n",
    "                            image_dir = args.image_dir, split = 'val', transform = val_transform)"
   ]
  },
  {
   "cell_type": "code",
   "execution_count": 10,
   "metadata": {},
   "outputs": [
    {
     "name": "stdout",
     "output_type": "stream",
     "text": [
      "ImSituVerbGender dataloader\n",
      "loading test annotations..........\n",
      "dataset size: 7669\n",
      "man size : 4517 and woman size: 3152\n"
     ]
    }
   ],
   "source": [
    "test_data = ImSituVerbGender(args, annotation_dir = args.annotation_dir,\n",
    "                            image_dir = args.image_dir, split = 'test', transform = val_transform)"
   ]
  },
  {
   "cell_type": "code",
   "execution_count": 11,
   "metadata": {},
   "outputs": [],
   "source": [
    "# Data loaders / batch assemblers.\n",
    "train_loader = torch.utils.data.DataLoader(train_data, batch_size = args.batch_size,\n",
    "        shuffle = True, num_workers = 0, pin_memory = True)\n",
    "\n",
    "val_loader = torch.utils.data.DataLoader(val_data, batch_size = args.batch_size,\n",
    "        shuffle = False, num_workers = 0, pin_memory = True)"
   ]
  },
  {
   "cell_type": "code",
   "execution_count": 12,
   "metadata": {},
   "outputs": [],
   "source": [
    "test_loader = torch.utils.data.DataLoader(test_data, batch_size = args.batch_size,\n",
    "        shuffle = False, num_workers = 0, pin_memory = True)"
   ]
  },
  {
   "cell_type": "code",
   "execution_count": 13,
   "metadata": {},
   "outputs": [
    {
     "name": "stdout",
     "output_type": "stream",
     "text": [
      "Build a VerbClassification Model\n",
      "Load weights from Resnet18/50 done\n"
     ]
    }
   ],
   "source": [
    "# build the models\n",
    "model = VerbClassification(args, args.num_verb).cuda()"
   ]
  },
  {
   "cell_type": "code",
   "execution_count": 14,
   "metadata": {},
   "outputs": [],
   "source": [
    "# build loss\n",
    "verb_weights = torch.FloatTensor(train_data.getVerbWeights())\n",
    "criterion = nn.CrossEntropyLoss(weight=verb_weights, reduction='elementwise_mean').cuda()"
   ]
  },
  {
   "cell_type": "code",
   "execution_count": 15,
   "metadata": {},
   "outputs": [],
   "source": [
    "# build optimizer for trainable loss\n",
    "def trainable_params():\n",
    "    for param in model.parameters():\n",
    "        if param.requires_grad:\n",
    "            yield param"
   ]
  },
  {
   "cell_type": "code",
   "execution_count": 16,
   "metadata": {},
   "outputs": [
    {
     "name": "stdout",
     "output_type": "stream",
     "text": [
      "num_trainable_params: 25989371\n"
     ]
    }
   ],
   "source": [
    "num_trainable_params = sum(p.numel() for p in model.parameters() if p.requires_grad)\n",
    "print('num_trainable_params:', num_trainable_params)\n",
    "optimizer = torch.optim.Adam(trainable_params(), args.learning_rate, weight_decay = 1e-5)"
   ]
  },
  {
   "cell_type": "code",
   "execution_count": 17,
   "metadata": {},
   "outputs": [],
   "source": [
    "best_performance = 0"
   ]
  },
  {
   "cell_type": "code",
   "execution_count": 18,
   "metadata": {},
   "outputs": [
    {
     "name": "stdout",
     "output_type": "stream",
     "text": [
      "before training, evaluate the model\n"
     ]
    },
    {
     "data": {
      "application/vnd.jupyter.widget-view+json": {
       "model_id": "185308a282764bc6b6c81ec81b5cae82",
       "version_major": 2,
       "version_minor": 0
      },
      "text/plain": [
       "HBox(children=(FloatProgress(value=0.0, description='Val 0', max=242.0, style=ProgressStyle(description_width=…"
      ]
     },
     "metadata": {},
     "output_type": "display_data"
    },
    {
     "name": "stdout",
     "output_type": "stream",
     "text": [
      "\n",
      "man size: 4457 woman size: 3273\n",
      "Val epoch  : 0, meanAP: 0.71, meanAP_man: 0.78, meanAP_woman: nan\n"
     ]
    },
    {
     "data": {
      "text/plain": [
       "0.0010795686860846764"
      ]
     },
     "execution_count": 18,
     "metadata": {},
     "output_type": "execute_result"
    }
   ],
   "source": [
    "print('before training, evaluate the model')\n",
    "test(args, 0, model, criterion, val_loader, val_logger, logging=False)"
   ]
  },
  {
   "cell_type": "code",
   "execution_count": 19,
   "metadata": {},
   "outputs": [],
   "source": [
    "from tqdm.notebook import trange"
   ]
  },
  {
   "cell_type": "code",
   "execution_count": 20,
   "metadata": {
    "scrolled": true
   },
   "outputs": [
    {
     "data": {
      "application/vnd.jupyter.widget-view+json": {
       "model_id": "8adfd6fe64cb46d3839b386327d769bb",
       "version_major": 2,
       "version_minor": 0
      },
      "text/plain": [
       "HBox(children=(FloatProgress(value=0.0), HTML(value='')))"
      ]
     },
     "metadata": {},
     "output_type": "display_data"
    },
    {
     "data": {
      "application/vnd.jupyter.widget-view+json": {
       "model_id": "6c9d4bc28d9a466f971a8ae1fff96d26",
       "version_major": 2,
       "version_minor": 0
      },
      "text/plain": [
       "HBox(children=(FloatProgress(value=0.0, description='Train 1', max=760.0, style=ProgressStyle(description_widt…"
      ]
     },
     "metadata": {},
     "output_type": "display_data"
    },
    {
     "name": "stdout",
     "output_type": "stream",
     "text": [
      "\n",
      "man size: 14199 woman size: 10102\n",
      "Train epoch  : 1, meanAP: 12.33, meanAP_man: 11.96, meanAP_woman: 11.88\n"
     ]
    },
    {
     "data": {
      "application/vnd.jupyter.widget-view+json": {
       "model_id": "3de2530e48a14fa0aba44898a92d98d0",
       "version_major": 2,
       "version_minor": 0
      },
      "text/plain": [
       "HBox(children=(FloatProgress(value=0.0, description='Val 1', max=242.0, style=ProgressStyle(description_width=…"
      ]
     },
     "metadata": {},
     "output_type": "display_data"
    },
    {
     "name": "stdout",
     "output_type": "stream",
     "text": [
      "\n",
      "man size: 4457 woman size: 3273\n",
      "Val epoch  : 1, meanAP: 26.10, meanAP_man: 26.27, meanAP_woman: nan\n"
     ]
    },
    {
     "data": {
      "application/vnd.jupyter.widget-view+json": {
       "model_id": "87ec972e8cb9405da5fac0c90abc6654",
       "version_major": 2,
       "version_minor": 0
      },
      "text/plain": [
       "HBox(children=(FloatProgress(value=0.0, description='Train 2', max=760.0, style=ProgressStyle(description_widt…"
      ]
     },
     "metadata": {},
     "output_type": "display_data"
    },
    {
     "name": "stdout",
     "output_type": "stream",
     "text": [
      "\n",
      "man size: 14199 woman size: 10102\n",
      "Train epoch  : 2, meanAP: 26.93, meanAP_man: 25.50, meanAP_woman: 25.54\n"
     ]
    },
    {
     "data": {
      "application/vnd.jupyter.widget-view+json": {
       "model_id": "182f32d197a4422a9bc08d4c4f361502",
       "version_major": 2,
       "version_minor": 0
      },
      "text/plain": [
       "HBox(children=(FloatProgress(value=0.0, description='Val 2', max=242.0, style=ProgressStyle(description_width=…"
      ]
     },
     "metadata": {},
     "output_type": "display_data"
    },
    {
     "name": "stdout",
     "output_type": "stream",
     "text": [
      "\n",
      "man size: 4457 woman size: 3273\n",
      "Val epoch  : 2, meanAP: 30.53, meanAP_man: 30.15, meanAP_woman: nan\n"
     ]
    },
    {
     "data": {
      "application/vnd.jupyter.widget-view+json": {
       "model_id": "00873bf4de91435bb89c88275e1a023f",
       "version_major": 2,
       "version_minor": 0
      },
      "text/plain": [
       "HBox(children=(FloatProgress(value=0.0, description='Train 3', max=760.0, style=ProgressStyle(description_widt…"
      ]
     },
     "metadata": {},
     "output_type": "display_data"
    },
    {
     "name": "stdout",
     "output_type": "stream",
     "text": [
      "\n",
      "man size: 14199 woman size: 10102\n",
      "Train epoch  : 3, meanAP: 37.25, meanAP_man: 35.77, meanAP_woman: 35.38\n"
     ]
    },
    {
     "data": {
      "application/vnd.jupyter.widget-view+json": {
       "model_id": "fd1869fda31f4043bd7049f15a6ee20d",
       "version_major": 2,
       "version_minor": 0
      },
      "text/plain": [
       "HBox(children=(FloatProgress(value=0.0, description='Val 3', max=242.0, style=ProgressStyle(description_width=…"
      ]
     },
     "metadata": {},
     "output_type": "display_data"
    },
    {
     "name": "stdout",
     "output_type": "stream",
     "text": [
      "\n",
      "man size: 4457 woman size: 3273\n",
      "Val epoch  : 3, meanAP: 33.88, meanAP_man: 33.28, meanAP_woman: nan\n"
     ]
    },
    {
     "data": {
      "application/vnd.jupyter.widget-view+json": {
       "model_id": "981dc1e01b1842a2a3cd51c6b8486654",
       "version_major": 2,
       "version_minor": 0
      },
      "text/plain": [
       "HBox(children=(FloatProgress(value=0.0, description='Train 4', max=760.0, style=ProgressStyle(description_widt…"
      ]
     },
     "metadata": {},
     "output_type": "display_data"
    },
    {
     "name": "stdout",
     "output_type": "stream",
     "text": [
      "\n",
      "man size: 14199 woman size: 10102\n",
      "Train epoch  : 4, meanAP: 45.82, meanAP_man: 43.89, meanAP_woman: 43.95\n"
     ]
    },
    {
     "data": {
      "application/vnd.jupyter.widget-view+json": {
       "model_id": "5a097f71e0da44849888a8551f1dc3e6",
       "version_major": 2,
       "version_minor": 0
      },
      "text/plain": [
       "HBox(children=(FloatProgress(value=0.0, description='Val 4', max=242.0, style=ProgressStyle(description_width=…"
      ]
     },
     "metadata": {},
     "output_type": "display_data"
    },
    {
     "name": "stdout",
     "output_type": "stream",
     "text": [
      "\n",
      "man size: 4457 woman size: 3273\n",
      "Val epoch  : 4, meanAP: 35.47, meanAP_man: 34.70, meanAP_woman: nan\n"
     ]
    },
    {
     "data": {
      "application/vnd.jupyter.widget-view+json": {
       "model_id": "225e831dcd8443d5a9976f441f586976",
       "version_major": 2,
       "version_minor": 0
      },
      "text/plain": [
       "HBox(children=(FloatProgress(value=0.0, description='Train 5', max=760.0, style=ProgressStyle(description_widt…"
      ]
     },
     "metadata": {},
     "output_type": "display_data"
    },
    {
     "name": "stdout",
     "output_type": "stream",
     "text": [
      "\n",
      "man size: 14199 woman size: 10102\n",
      "Train epoch  : 5, meanAP: 53.57, meanAP_man: 51.96, meanAP_woman: 51.32\n"
     ]
    },
    {
     "data": {
      "application/vnd.jupyter.widget-view+json": {
       "model_id": "04d2ceeaee20425bb7376880ec31de93",
       "version_major": 2,
       "version_minor": 0
      },
      "text/plain": [
       "HBox(children=(FloatProgress(value=0.0, description='Val 5', max=242.0, style=ProgressStyle(description_width=…"
      ]
     },
     "metadata": {},
     "output_type": "display_data"
    },
    {
     "name": "stdout",
     "output_type": "stream",
     "text": [
      "\n",
      "man size: 4457 woman size: 3273\n",
      "Val epoch  : 5, meanAP: 36.53, meanAP_man: 36.15, meanAP_woman: nan\n"
     ]
    },
    {
     "data": {
      "application/vnd.jupyter.widget-view+json": {
       "model_id": "d97ddb0f86434d5cb9b3d69b996707c4",
       "version_major": 2,
       "version_minor": 0
      },
      "text/plain": [
       "HBox(children=(FloatProgress(value=0.0, description='Train 6', max=760.0, style=ProgressStyle(description_widt…"
      ]
     },
     "metadata": {},
     "output_type": "display_data"
    },
    {
     "name": "stdout",
     "output_type": "stream",
     "text": [
      "\n",
      "man size: 14199 woman size: 10102\n",
      "Train epoch  : 6, meanAP: 60.76, meanAP_man: 58.76, meanAP_woman: 59.42\n"
     ]
    },
    {
     "data": {
      "application/vnd.jupyter.widget-view+json": {
       "model_id": "4bfc7999efaa4af5a7dbdd684861fb59",
       "version_major": 2,
       "version_minor": 0
      },
      "text/plain": [
       "HBox(children=(FloatProgress(value=0.0, description='Val 6', max=242.0, style=ProgressStyle(description_width=…"
      ]
     },
     "metadata": {},
     "output_type": "display_data"
    },
    {
     "name": "stdout",
     "output_type": "stream",
     "text": [
      "\n",
      "man size: 4457 woman size: 3273\n",
      "Val epoch  : 6, meanAP: 37.28, meanAP_man: 36.57, meanAP_woman: nan\n"
     ]
    },
    {
     "data": {
      "application/vnd.jupyter.widget-view+json": {
       "model_id": "f8de908ef94647958fa0c5bb1f4bea61",
       "version_major": 2,
       "version_minor": 0
      },
      "text/plain": [
       "HBox(children=(FloatProgress(value=0.0, description='Train 7', max=760.0, style=ProgressStyle(description_widt…"
      ]
     },
     "metadata": {},
     "output_type": "display_data"
    },
    {
     "name": "stdout",
     "output_type": "stream",
     "text": [
      "\n",
      "man size: 14199 woman size: 10102\n",
      "Train epoch  : 7, meanAP: 66.79, meanAP_man: 65.06, meanAP_woman: 65.98\n"
     ]
    },
    {
     "data": {
      "application/vnd.jupyter.widget-view+json": {
       "model_id": "c7951e55a7ce44209e718ff5ce4df032",
       "version_major": 2,
       "version_minor": 0
      },
      "text/plain": [
       "HBox(children=(FloatProgress(value=0.0, description='Val 7', max=242.0, style=ProgressStyle(description_width=…"
      ]
     },
     "metadata": {},
     "output_type": "display_data"
    },
    {
     "name": "stdout",
     "output_type": "stream",
     "text": [
      "\n",
      "man size: 4457 woman size: 3273\n",
      "Val epoch  : 7, meanAP: 37.04, meanAP_man: 36.20, meanAP_woman: nan\n"
     ]
    },
    {
     "data": {
      "application/vnd.jupyter.widget-view+json": {
       "model_id": "bbcc9907210a4168b036ac3a94e0d659",
       "version_major": 2,
       "version_minor": 0
      },
      "text/plain": [
       "HBox(children=(FloatProgress(value=0.0, description='Train 8', max=760.0, style=ProgressStyle(description_widt…"
      ]
     },
     "metadata": {},
     "output_type": "display_data"
    },
    {
     "name": "stdout",
     "output_type": "stream",
     "text": [
      "\n",
      "man size: 14199 woman size: 10102\n",
      "Train epoch  : 8, meanAP: 72.65, meanAP_man: 71.37, meanAP_woman: 70.87\n"
     ]
    },
    {
     "data": {
      "application/vnd.jupyter.widget-view+json": {
       "model_id": "6988ff6483a747c090dee9fe398a6aea",
       "version_major": 2,
       "version_minor": 0
      },
      "text/plain": [
       "HBox(children=(FloatProgress(value=0.0, description='Val 8', max=242.0, style=ProgressStyle(description_width=…"
      ]
     },
     "metadata": {},
     "output_type": "display_data"
    },
    {
     "name": "stdout",
     "output_type": "stream",
     "text": [
      "\n",
      "man size: 4457 woman size: 3273\n",
      "Val epoch  : 8, meanAP: 36.54, meanAP_man: 35.86, meanAP_woman: nan\n"
     ]
    },
    {
     "data": {
      "application/vnd.jupyter.widget-view+json": {
       "model_id": "8493f30a9104484cbb41efcc36cfc7e5",
       "version_major": 2,
       "version_minor": 0
      },
      "text/plain": [
       "HBox(children=(FloatProgress(value=0.0, description='Train 9', max=760.0, style=ProgressStyle(description_widt…"
      ]
     },
     "metadata": {},
     "output_type": "display_data"
    },
    {
     "name": "stdout",
     "output_type": "stream",
     "text": [
      "\n",
      "man size: 14199 woman size: 10102\n",
      "Train epoch  : 9, meanAP: 77.66, meanAP_man: 76.54, meanAP_woman: 76.12\n"
     ]
    },
    {
     "data": {
      "application/vnd.jupyter.widget-view+json": {
       "model_id": "8dda782084ab4a17b680e44d967fef9b",
       "version_major": 2,
       "version_minor": 0
      },
      "text/plain": [
       "HBox(children=(FloatProgress(value=0.0, description='Val 9', max=242.0, style=ProgressStyle(description_width=…"
      ]
     },
     "metadata": {},
     "output_type": "display_data"
    },
    {
     "name": "stdout",
     "output_type": "stream",
     "text": [
      "\n",
      "man size: 4457 woman size: 3273\n",
      "Val epoch  : 9, meanAP: 35.89, meanAP_man: 35.77, meanAP_woman: nan\n"
     ]
    },
    {
     "data": {
      "application/vnd.jupyter.widget-view+json": {
       "model_id": "6ddb03ed879b4ae7bfb5998aa01072d4",
       "version_major": 2,
       "version_minor": 0
      },
      "text/plain": [
       "HBox(children=(FloatProgress(value=0.0, description='Train 10', max=760.0, style=ProgressStyle(description_wid…"
      ]
     },
     "metadata": {},
     "output_type": "display_data"
    },
    {
     "name": "stdout",
     "output_type": "stream",
     "text": [
      "\n",
      "man size: 14199 woman size: 10102\n",
      "Train epoch  : 10, meanAP: 81.62, meanAP_man: 80.19, meanAP_woman: 81.11\n"
     ]
    },
    {
     "data": {
      "application/vnd.jupyter.widget-view+json": {
       "model_id": "0e4ee91b111e47009670db4cf9d3abbd",
       "version_major": 2,
       "version_minor": 0
      },
      "text/plain": [
       "HBox(children=(FloatProgress(value=0.0, description='Val 10', max=242.0, style=ProgressStyle(description_width…"
      ]
     },
     "metadata": {},
     "output_type": "display_data"
    },
    {
     "name": "stdout",
     "output_type": "stream",
     "text": [
      "\n",
      "man size: 4457 woman size: 3273\n",
      "Val epoch  : 10, meanAP: 35.64, meanAP_man: 35.44, meanAP_woman: nan\n"
     ]
    },
    {
     "data": {
      "application/vnd.jupyter.widget-view+json": {
       "model_id": "b7d8d56ef1f04f12be1a3917233a6824",
       "version_major": 2,
       "version_minor": 0
      },
      "text/plain": [
       "HBox(children=(FloatProgress(value=0.0, description='Train 11', max=760.0, style=ProgressStyle(description_wid…"
      ]
     },
     "metadata": {},
     "output_type": "display_data"
    },
    {
     "name": "stdout",
     "output_type": "stream",
     "text": [
      "\n",
      "man size: 14199 woman size: 10102\n",
      "Train epoch  : 11, meanAP: 85.27, meanAP_man: 84.42, meanAP_woman: 84.52\n"
     ]
    },
    {
     "data": {
      "application/vnd.jupyter.widget-view+json": {
       "model_id": "491549c34f6b4f518459fc4b1aa41472",
       "version_major": 2,
       "version_minor": 0
      },
      "text/plain": [
       "HBox(children=(FloatProgress(value=0.0, description='Val 11', max=242.0, style=ProgressStyle(description_width…"
      ]
     },
     "metadata": {},
     "output_type": "display_data"
    },
    {
     "name": "stdout",
     "output_type": "stream",
     "text": [
      "\n",
      "man size: 4457 woman size: 3273\n",
      "Val epoch  : 11, meanAP: 35.75, meanAP_man: 35.43, meanAP_woman: nan\n"
     ]
    },
    {
     "data": {
      "application/vnd.jupyter.widget-view+json": {
       "model_id": "d415db53d9794c40bee5f8cb3023e351",
       "version_major": 2,
       "version_minor": 0
      },
      "text/plain": [
       "HBox(children=(FloatProgress(value=0.0, description='Train 12', max=760.0, style=ProgressStyle(description_wid…"
      ]
     },
     "metadata": {},
     "output_type": "display_data"
    },
    {
     "name": "stdout",
     "output_type": "stream",
     "text": [
      "\n",
      "man size: 14199 woman size: 10102\n",
      "Train epoch  : 12, meanAP: 87.99, meanAP_man: 87.29, meanAP_woman: 87.41\n"
     ]
    },
    {
     "data": {
      "application/vnd.jupyter.widget-view+json": {
       "model_id": "c6dc1705015a40a4926d02a263216c3b",
       "version_major": 2,
       "version_minor": 0
      },
      "text/plain": [
       "HBox(children=(FloatProgress(value=0.0, description='Val 12', max=242.0, style=ProgressStyle(description_width…"
      ]
     },
     "metadata": {},
     "output_type": "display_data"
    },
    {
     "name": "stdout",
     "output_type": "stream",
     "text": [
      "\n",
      "man size: 4457 woman size: 3273\n",
      "Val epoch  : 12, meanAP: 35.16, meanAP_man: 34.78, meanAP_woman: nan\n"
     ]
    },
    {
     "data": {
      "application/vnd.jupyter.widget-view+json": {
       "model_id": "ceb91f717b67473db111ab2447f043a5",
       "version_major": 2,
       "version_minor": 0
      },
      "text/plain": [
       "HBox(children=(FloatProgress(value=0.0, description='Train 13', max=760.0, style=ProgressStyle(description_wid…"
      ]
     },
     "metadata": {},
     "output_type": "display_data"
    },
    {
     "name": "stdout",
     "output_type": "stream",
     "text": [
      "\n",
      "man size: 14199 woman size: 10102\n",
      "Train epoch  : 13, meanAP: 89.74, meanAP_man: 89.08, meanAP_woman: 88.85\n"
     ]
    },
    {
     "data": {
      "application/vnd.jupyter.widget-view+json": {
       "model_id": "0377fe4d7bdb42579427e8eeb627c930",
       "version_major": 2,
       "version_minor": 0
      },
      "text/plain": [
       "HBox(children=(FloatProgress(value=0.0, description='Val 13', max=242.0, style=ProgressStyle(description_width…"
      ]
     },
     "metadata": {},
     "output_type": "display_data"
    },
    {
     "name": "stdout",
     "output_type": "stream",
     "text": [
      "\n",
      "man size: 4457 woman size: 3273\n",
      "Val epoch  : 13, meanAP: 34.77, meanAP_man: 34.06, meanAP_woman: nan\n"
     ]
    },
    {
     "data": {
      "application/vnd.jupyter.widget-view+json": {
       "model_id": "762421590edd486696ffac75d4d834b3",
       "version_major": 2,
       "version_minor": 0
      },
      "text/plain": [
       "HBox(children=(FloatProgress(value=0.0, description='Train 14', max=760.0, style=ProgressStyle(description_wid…"
      ]
     },
     "metadata": {},
     "output_type": "display_data"
    },
    {
     "ename": "KeyboardInterrupt",
     "evalue": "",
     "output_type": "error",
     "traceback": [
      "\u001b[1;31m---------------------------------------------------------------------------\u001b[0m",
      "\u001b[1;31mKeyboardInterrupt\u001b[0m                         Traceback (most recent call last)",
      "\u001b[1;32m<ipython-input-20-8907d91a0e23>\u001b[0m in \u001b[0;36m<module>\u001b[1;34m\u001b[0m\n\u001b[0;32m      1\u001b[0m \u001b[1;32mfor\u001b[0m \u001b[0mepoch\u001b[0m \u001b[1;32min\u001b[0m \u001b[0mtrange\u001b[0m\u001b[1;33m(\u001b[0m\u001b[0margs\u001b[0m\u001b[1;33m.\u001b[0m\u001b[0mstart_epoch\u001b[0m\u001b[1;33m,\u001b[0m \u001b[0margs\u001b[0m\u001b[1;33m.\u001b[0m\u001b[0mnum_epochs\u001b[0m \u001b[1;33m+\u001b[0m \u001b[1;36m1\u001b[0m\u001b[1;33m)\u001b[0m\u001b[1;33m:\u001b[0m\u001b[1;33m\u001b[0m\u001b[1;33m\u001b[0m\u001b[0m\n\u001b[0;32m      2\u001b[0m     train(args, epoch, model, criterion, train_loader, optimizer, \\\n\u001b[1;32m----> 3\u001b[1;33m             train_logger, logging = True)\n\u001b[0m\u001b[0;32m      4\u001b[0m     current_performance = test(args, epoch, model, criterion, val_loader, \\\n\u001b[0;32m      5\u001b[0m             val_logger, logging = True)\n",
      "\u001b[1;32m<ipython-input-3-1f0e0e8eff88>\u001b[0m in \u001b[0;36mtrain\u001b[1;34m(args, epoch, model, criterion, train_loader, optimizer, train_logger, logging)\u001b[0m\n\u001b[0;32m     58\u001b[0m         \u001b[1;31m# backpropogation\u001b[0m\u001b[1;33m\u001b[0m\u001b[1;33m\u001b[0m\u001b[1;33m\u001b[0m\u001b[0m\n\u001b[0;32m     59\u001b[0m         \u001b[0moptimizer\u001b[0m\u001b[1;33m.\u001b[0m\u001b[0mzero_grad\u001b[0m\u001b[1;33m(\u001b[0m\u001b[1;33m)\u001b[0m\u001b[1;33m\u001b[0m\u001b[1;33m\u001b[0m\u001b[0m\n\u001b[1;32m---> 60\u001b[1;33m         \u001b[0mloss\u001b[0m\u001b[1;33m.\u001b[0m\u001b[0mbackward\u001b[0m\u001b[1;33m(\u001b[0m\u001b[1;33m)\u001b[0m\u001b[1;33m\u001b[0m\u001b[1;33m\u001b[0m\u001b[0m\n\u001b[0m\u001b[0;32m     61\u001b[0m         \u001b[0moptimizer\u001b[0m\u001b[1;33m.\u001b[0m\u001b[0mstep\u001b[0m\u001b[1;33m(\u001b[0m\u001b[1;33m)\u001b[0m\u001b[1;33m\u001b[0m\u001b[1;33m\u001b[0m\u001b[0m\n\u001b[0;32m     62\u001b[0m \u001b[1;33m\u001b[0m\u001b[0m\n",
      "\u001b[1;32m~\\Anaconda3\\envs\\py37-Torch-Transformers\\lib\\site-packages\\torch\\tensor.py\u001b[0m in \u001b[0;36mbackward\u001b[1;34m(self, gradient, retain_graph, create_graph)\u001b[0m\n\u001b[0;32m    193\u001b[0m                 \u001b[0mproducts\u001b[0m\u001b[1;33m.\u001b[0m \u001b[0mDefaults\u001b[0m \u001b[0mto\u001b[0m\u001b[0;31m \u001b[0m\u001b[0;31m`\u001b[0m\u001b[0;31m`\u001b[0m\u001b[1;32mFalse\u001b[0m\u001b[0;31m`\u001b[0m\u001b[0;31m`\u001b[0m\u001b[1;33m.\u001b[0m\u001b[1;33m\u001b[0m\u001b[1;33m\u001b[0m\u001b[0m\n\u001b[0;32m    194\u001b[0m         \"\"\"\n\u001b[1;32m--> 195\u001b[1;33m         \u001b[0mtorch\u001b[0m\u001b[1;33m.\u001b[0m\u001b[0mautograd\u001b[0m\u001b[1;33m.\u001b[0m\u001b[0mbackward\u001b[0m\u001b[1;33m(\u001b[0m\u001b[0mself\u001b[0m\u001b[1;33m,\u001b[0m \u001b[0mgradient\u001b[0m\u001b[1;33m,\u001b[0m \u001b[0mretain_graph\u001b[0m\u001b[1;33m,\u001b[0m \u001b[0mcreate_graph\u001b[0m\u001b[1;33m)\u001b[0m\u001b[1;33m\u001b[0m\u001b[1;33m\u001b[0m\u001b[0m\n\u001b[0m\u001b[0;32m    196\u001b[0m \u001b[1;33m\u001b[0m\u001b[0m\n\u001b[0;32m    197\u001b[0m     \u001b[1;32mdef\u001b[0m \u001b[0mregister_hook\u001b[0m\u001b[1;33m(\u001b[0m\u001b[0mself\u001b[0m\u001b[1;33m,\u001b[0m \u001b[0mhook\u001b[0m\u001b[1;33m)\u001b[0m\u001b[1;33m:\u001b[0m\u001b[1;33m\u001b[0m\u001b[1;33m\u001b[0m\u001b[0m\n",
      "\u001b[1;32m~\\Anaconda3\\envs\\py37-Torch-Transformers\\lib\\site-packages\\torch\\autograd\\__init__.py\u001b[0m in \u001b[0;36mbackward\u001b[1;34m(tensors, grad_tensors, retain_graph, create_graph, grad_variables)\u001b[0m\n\u001b[0;32m     97\u001b[0m     Variable._execution_engine.run_backward(\n\u001b[0;32m     98\u001b[0m         \u001b[0mtensors\u001b[0m\u001b[1;33m,\u001b[0m \u001b[0mgrad_tensors\u001b[0m\u001b[1;33m,\u001b[0m \u001b[0mretain_graph\u001b[0m\u001b[1;33m,\u001b[0m \u001b[0mcreate_graph\u001b[0m\u001b[1;33m,\u001b[0m\u001b[1;33m\u001b[0m\u001b[1;33m\u001b[0m\u001b[0m\n\u001b[1;32m---> 99\u001b[1;33m         allow_unreachable=True)  # allow_unreachable flag\n\u001b[0m\u001b[0;32m    100\u001b[0m \u001b[1;33m\u001b[0m\u001b[0m\n\u001b[0;32m    101\u001b[0m \u001b[1;33m\u001b[0m\u001b[0m\n",
      "\u001b[1;31mKeyboardInterrupt\u001b[0m: "
     ]
    }
   ],
   "source": [
    "for epoch in trange(args.start_epoch, args.num_epochs + 1):\n",
    "    train(args, epoch, model, criterion, train_loader, optimizer, \\\n",
    "            train_logger, logging = True)\n",
    "    current_performance = test(args, epoch, model, criterion, val_loader, \\\n",
    "            val_logger, logging = True)\n",
    "    is_best = current_performance > best_performance\n",
    "    best_performance = max(current_performance, best_performance)\n",
    "    model_state = {\n",
    "        'epoch': epoch + 1,\n",
    "        'state_dict': model.state_dict(),\n",
    "        'best_performance': best_performance}\n",
    "    save_checkpoint(args, model_state, is_best, os.path.join(args.save_dir, \\\n",
    "            'checkpoint.pth.tar'))\n",
    "    # at the end of every run, save the model\n",
    "    if epoch == args.num_epochs:\n",
    "        torch.save(model_state, os.path.join(args.save_dir, \\\n",
    "            'checkpoint_%s.pth.tar' % str(args.num_epochs)))"
   ]
  },
  {
   "cell_type": "code",
   "execution_count": 21,
   "metadata": {},
   "outputs": [
    {
     "name": "stdout",
     "output_type": "stream",
     "text": [
      "=> loading encoder from './models\\Baseline_original'\n",
      "=> loaded checkpoint (epoch 8)\n"
     ]
    }
   ],
   "source": [
    "model_path = os.path.join('./models', args.exp_name)\n",
    "if os.path.isfile(os.path.join(model_path, 'model_best.pth.tar')):\n",
    "    print(\"=> loading encoder from '{}'\".format(model_path))\n",
    "    checkpoint = torch.load(os.path.join(model_path, 'model_best.pth.tar'))\n",
    "    best_performance = checkpoint['best_performance']\n",
    "    model.load_state_dict(checkpoint['state_dict'])\n",
    "    print(\"=> loaded checkpoint (epoch {})\".format(checkpoint['epoch']))"
   ]
  },
  {
   "cell_type": "code",
   "execution_count": 22,
   "metadata": {
    "scrolled": true
   },
   "outputs": [
    {
     "data": {
      "application/vnd.jupyter.widget-view+json": {
       "model_id": "3f7dee9fff994e59bf7794b562f11096",
       "version_major": 2,
       "version_minor": 0
      },
      "text/plain": [
       "HBox(children=(FloatProgress(value=0.0, description='Val 0', max=240.0, style=ProgressStyle(description_width=…"
      ]
     },
     "metadata": {},
     "output_type": "display_data"
    },
    {
     "name": "stdout",
     "output_type": "stream",
     "text": [
      "\n",
      "man size: 4517 woman size: 3152\n",
      "Val epoch  : 0, meanAP: 37.21, meanAP_man: nan, meanAP_woman: nan\n"
     ]
    },
    {
     "data": {
      "text/plain": [
       "0.3589980537578331"
      ]
     },
     "execution_count": 22,
     "metadata": {},
     "output_type": "execute_result"
    }
   ],
   "source": [
    "test(args, 0, model, criterion, test_loader, val_logger, logging=False)"
   ]
  },
  {
   "cell_type": "code",
   "execution_count": 25,
   "metadata": {},
   "outputs": [],
   "source": [
    "for param in model.base_network.parameters():\n",
    "    param.requires_grad = False"
   ]
  },
  {
   "cell_type": "code",
   "execution_count": 28,
   "metadata": {},
   "outputs": [
    {
     "name": "stdout",
     "output_type": "stream",
     "text": [
      "num_trainable_params: 432339\n"
     ]
    }
   ],
   "source": [
    "num_trainable_params = sum(p.numel() for p in model.parameters() if p.requires_grad)\n",
    "print('num_trainable_params:', num_trainable_params)\n",
    "optimizer_freeze = torch.optim.Adam(trainable_params(), 5e-6, weight_decay = 1e-5)"
   ]
  },
  {
   "cell_type": "code",
   "execution_count": 30,
   "metadata": {},
   "outputs": [
    {
     "data": {
      "application/vnd.jupyter.widget-view+json": {
       "model_id": "fb0e316d238d4dfe99fad962840e07fe",
       "version_major": 2,
       "version_minor": 0
      },
      "text/plain": [
       "HBox(children=(FloatProgress(value=0.0), HTML(value='')))"
      ]
     },
     "metadata": {},
     "output_type": "display_data"
    },
    {
     "data": {
      "application/vnd.jupyter.widget-view+json": {
       "model_id": "465e9d9a43d64530b97d00545751eca4",
       "version_major": 2,
       "version_minor": 0
      },
      "text/plain": [
       "HBox(children=(FloatProgress(value=0.0, description='Train 1', max=760.0, style=ProgressStyle(description_widt…"
      ]
     },
     "metadata": {},
     "output_type": "display_data"
    },
    {
     "name": "stdout",
     "output_type": "stream",
     "text": [
      "\n",
      "man size: 14199 woman size: 10102\n",
      "Train epoch  : 1, meanAP: 79.16, meanAP_man: 77.74, meanAP_woman: 78.15\n"
     ]
    },
    {
     "data": {
      "application/vnd.jupyter.widget-view+json": {
       "model_id": "d1f03e0e839340529449332643d3f3bb",
       "version_major": 2,
       "version_minor": 0
      },
      "text/plain": [
       "HBox(children=(FloatProgress(value=0.0, description='Val 1', max=242.0, style=ProgressStyle(description_width=…"
      ]
     },
     "metadata": {},
     "output_type": "display_data"
    },
    {
     "name": "stdout",
     "output_type": "stream",
     "text": [
      "\n",
      "man size: 4457 woman size: 3273\n",
      "Val epoch  : 1, meanAP: 37.80, meanAP_man: 36.94, meanAP_woman: nan\n"
     ]
    },
    {
     "data": {
      "application/vnd.jupyter.widget-view+json": {
       "model_id": "9c789d9fa88e4508a8be4a2ca05af6e1",
       "version_major": 2,
       "version_minor": 0
      },
      "text/plain": [
       "HBox(children=(FloatProgress(value=0.0, description='Train 2', max=760.0, style=ProgressStyle(description_widt…"
      ]
     },
     "metadata": {},
     "output_type": "display_data"
    },
    {
     "name": "stdout",
     "output_type": "stream",
     "text": [
      "\n",
      "man size: 14199 woman size: 10102\n",
      "Train epoch  : 2, meanAP: 79.59, meanAP_man: 77.92, meanAP_woman: 78.65\n"
     ]
    },
    {
     "data": {
      "application/vnd.jupyter.widget-view+json": {
       "model_id": "118dd74ed85c4fad838e54a12c5c0075",
       "version_major": 2,
       "version_minor": 0
      },
      "text/plain": [
       "HBox(children=(FloatProgress(value=0.0, description='Val 2', max=242.0, style=ProgressStyle(description_width=…"
      ]
     },
     "metadata": {},
     "output_type": "display_data"
    },
    {
     "name": "stdout",
     "output_type": "stream",
     "text": [
      "\n",
      "man size: 4457 woman size: 3273\n",
      "Val epoch  : 2, meanAP: 37.88, meanAP_man: 37.08, meanAP_woman: nan\n"
     ]
    },
    {
     "data": {
      "application/vnd.jupyter.widget-view+json": {
       "model_id": "75d8504220d0433aa57577090d70d5b4",
       "version_major": 2,
       "version_minor": 0
      },
      "text/plain": [
       "HBox(children=(FloatProgress(value=0.0, description='Train 3', max=760.0, style=ProgressStyle(description_widt…"
      ]
     },
     "metadata": {},
     "output_type": "display_data"
    },
    {
     "name": "stdout",
     "output_type": "stream",
     "text": [
      "\n",
      "man size: 14199 woman size: 10102\n",
      "Train epoch  : 3, meanAP: 80.11, meanAP_man: 78.79, meanAP_woman: 78.83\n"
     ]
    },
    {
     "data": {
      "application/vnd.jupyter.widget-view+json": {
       "model_id": "f876c000850248418796a17b2845d152",
       "version_major": 2,
       "version_minor": 0
      },
      "text/plain": [
       "HBox(children=(FloatProgress(value=0.0, description='Val 3', max=242.0, style=ProgressStyle(description_width=…"
      ]
     },
     "metadata": {},
     "output_type": "display_data"
    },
    {
     "name": "stdout",
     "output_type": "stream",
     "text": [
      "\n",
      "man size: 4457 woman size: 3273\n",
      "Val epoch  : 3, meanAP: 38.01, meanAP_man: 37.15, meanAP_woman: nan\n"
     ]
    },
    {
     "data": {
      "application/vnd.jupyter.widget-view+json": {
       "model_id": "7ad23475f3ea49998e7a68192fc9a1ff",
       "version_major": 2,
       "version_minor": 0
      },
      "text/plain": [
       "HBox(children=(FloatProgress(value=0.0, description='Train 4', max=760.0, style=ProgressStyle(description_widt…"
      ]
     },
     "metadata": {},
     "output_type": "display_data"
    },
    {
     "name": "stdout",
     "output_type": "stream",
     "text": [
      "\n",
      "man size: 14199 woman size: 10102\n",
      "Train epoch  : 4, meanAP: 80.10, meanAP_man: 78.90, meanAP_woman: 78.77\n"
     ]
    },
    {
     "data": {
      "application/vnd.jupyter.widget-view+json": {
       "model_id": "560c145de6f04743a017ce5d6b5cabd5",
       "version_major": 2,
       "version_minor": 0
      },
      "text/plain": [
       "HBox(children=(FloatProgress(value=0.0, description='Val 4', max=242.0, style=ProgressStyle(description_width=…"
      ]
     },
     "metadata": {},
     "output_type": "display_data"
    },
    {
     "name": "stdout",
     "output_type": "stream",
     "text": [
      "\n",
      "man size: 4457 woman size: 3273\n",
      "Val epoch  : 4, meanAP: 38.15, meanAP_man: 37.39, meanAP_woman: nan\n"
     ]
    },
    {
     "data": {
      "application/vnd.jupyter.widget-view+json": {
       "model_id": "f4c52aaa40a146b6a87835663a094d84",
       "version_major": 2,
       "version_minor": 0
      },
      "text/plain": [
       "HBox(children=(FloatProgress(value=0.0, description='Train 5', max=760.0, style=ProgressStyle(description_widt…"
      ]
     },
     "metadata": {},
     "output_type": "display_data"
    },
    {
     "name": "stdout",
     "output_type": "stream",
     "text": [
      "\n",
      "man size: 14199 woman size: 10102\n",
      "Train epoch  : 5, meanAP: 80.15, meanAP_man: 78.82, meanAP_woman: 78.81\n"
     ]
    },
    {
     "data": {
      "application/vnd.jupyter.widget-view+json": {
       "model_id": "d0aeca1b06014aa3bdabfcb998f731c1",
       "version_major": 2,
       "version_minor": 0
      },
      "text/plain": [
       "HBox(children=(FloatProgress(value=0.0, description='Val 5', max=242.0, style=ProgressStyle(description_width=…"
      ]
     },
     "metadata": {},
     "output_type": "display_data"
    },
    {
     "name": "stdout",
     "output_type": "stream",
     "text": [
      "\n",
      "man size: 4457 woman size: 3273\n",
      "Val epoch  : 5, meanAP: 38.16, meanAP_man: 37.29, meanAP_woman: nan\n"
     ]
    },
    {
     "data": {
      "application/vnd.jupyter.widget-view+json": {
       "model_id": "36236b60b1c5479388e8c9fb84c8459e",
       "version_major": 2,
       "version_minor": 0
      },
      "text/plain": [
       "HBox(children=(FloatProgress(value=0.0, description='Train 6', max=760.0, style=ProgressStyle(description_widt…"
      ]
     },
     "metadata": {},
     "output_type": "display_data"
    },
    {
     "name": "stdout",
     "output_type": "stream",
     "text": [
      "\n",
      "man size: 14199 woman size: 10102\n",
      "Train epoch  : 6, meanAP: 80.48, meanAP_man: 79.35, meanAP_woman: 79.50\n"
     ]
    },
    {
     "data": {
      "application/vnd.jupyter.widget-view+json": {
       "model_id": "5197bd0017bc4ab692e2e261f83a21d7",
       "version_major": 2,
       "version_minor": 0
      },
      "text/plain": [
       "HBox(children=(FloatProgress(value=0.0, description='Val 6', max=242.0, style=ProgressStyle(description_width=…"
      ]
     },
     "metadata": {},
     "output_type": "display_data"
    },
    {
     "name": "stdout",
     "output_type": "stream",
     "text": [
      "\n",
      "man size: 4457 woman size: 3273\n",
      "Val epoch  : 6, meanAP: 38.24, meanAP_man: 37.37, meanAP_woman: nan\n"
     ]
    },
    {
     "data": {
      "application/vnd.jupyter.widget-view+json": {
       "model_id": "12c16809f9e34eacbfeb7b55befb8d96",
       "version_major": 2,
       "version_minor": 0
      },
      "text/plain": [
       "HBox(children=(FloatProgress(value=0.0, description='Train 7', max=760.0, style=ProgressStyle(description_widt…"
      ]
     },
     "metadata": {},
     "output_type": "display_data"
    },
    {
     "name": "stdout",
     "output_type": "stream",
     "text": [
      "\n",
      "man size: 14199 woman size: 10102\n",
      "Train epoch  : 7, meanAP: 80.49, meanAP_man: 79.22, meanAP_woman: 79.57\n"
     ]
    },
    {
     "data": {
      "application/vnd.jupyter.widget-view+json": {
       "model_id": "2b76ff1af8e1480b8f0ffeeb4833e6e9",
       "version_major": 2,
       "version_minor": 0
      },
      "text/plain": [
       "HBox(children=(FloatProgress(value=0.0, description='Val 7', max=242.0, style=ProgressStyle(description_width=…"
      ]
     },
     "metadata": {},
     "output_type": "display_data"
    },
    {
     "name": "stdout",
     "output_type": "stream",
     "text": [
      "\n",
      "man size: 4457 woman size: 3273\n",
      "Val epoch  : 7, meanAP: 38.18, meanAP_man: 37.41, meanAP_woman: nan\n"
     ]
    },
    {
     "data": {
      "application/vnd.jupyter.widget-view+json": {
       "model_id": "368708401387410a9036ac3441799359",
       "version_major": 2,
       "version_minor": 0
      },
      "text/plain": [
       "HBox(children=(FloatProgress(value=0.0, description='Train 8', max=760.0, style=ProgressStyle(description_widt…"
      ]
     },
     "metadata": {},
     "output_type": "display_data"
    },
    {
     "name": "stdout",
     "output_type": "stream",
     "text": [
      "\n",
      "man size: 14199 woman size: 10102\n",
      "Train epoch  : 8, meanAP: 80.26, meanAP_man: 78.95, meanAP_woman: 79.10\n"
     ]
    },
    {
     "data": {
      "application/vnd.jupyter.widget-view+json": {
       "model_id": "388e082c60f24df09a24910e93939615",
       "version_major": 2,
       "version_minor": 0
      },
      "text/plain": [
       "HBox(children=(FloatProgress(value=0.0, description='Val 8', max=242.0, style=ProgressStyle(description_width=…"
      ]
     },
     "metadata": {},
     "output_type": "display_data"
    },
    {
     "name": "stdout",
     "output_type": "stream",
     "text": [
      "\n",
      "man size: 4457 woman size: 3273\n",
      "Val epoch  : 8, meanAP: 38.37, meanAP_man: 37.55, meanAP_woman: nan\n"
     ]
    },
    {
     "data": {
      "application/vnd.jupyter.widget-view+json": {
       "model_id": "a97feb1dc1d4462aac097c89448d7914",
       "version_major": 2,
       "version_minor": 0
      },
      "text/plain": [
       "HBox(children=(FloatProgress(value=0.0, description='Train 9', max=760.0, style=ProgressStyle(description_widt…"
      ]
     },
     "metadata": {},
     "output_type": "display_data"
    },
    {
     "name": "stdout",
     "output_type": "stream",
     "text": [
      "\n",
      "man size: 14199 woman size: 10102\n",
      "Train epoch  : 9, meanAP: 80.51, meanAP_man: 78.95, meanAP_woman: 79.52\n"
     ]
    },
    {
     "data": {
      "application/vnd.jupyter.widget-view+json": {
       "model_id": "2b92cdee104b436f9e4b8120eced4e70",
       "version_major": 2,
       "version_minor": 0
      },
      "text/plain": [
       "HBox(children=(FloatProgress(value=0.0, description='Val 9', max=242.0, style=ProgressStyle(description_width=…"
      ]
     },
     "metadata": {},
     "output_type": "display_data"
    },
    {
     "name": "stdout",
     "output_type": "stream",
     "text": [
      "\n",
      "man size: 4457 woman size: 3273\n",
      "Val epoch  : 9, meanAP: 38.18, meanAP_man: 37.39, meanAP_woman: nan\n"
     ]
    },
    {
     "data": {
      "application/vnd.jupyter.widget-view+json": {
       "model_id": "7a95e8031fe44b958cde53772df5d409",
       "version_major": 2,
       "version_minor": 0
      },
      "text/plain": [
       "HBox(children=(FloatProgress(value=0.0, description='Train 10', max=760.0, style=ProgressStyle(description_wid…"
      ]
     },
     "metadata": {},
     "output_type": "display_data"
    },
    {
     "name": "stdout",
     "output_type": "stream",
     "text": [
      "\n",
      "man size: 14199 woman size: 10102\n",
      "Train epoch  : 10, meanAP: 80.67, meanAP_man: 79.12, meanAP_woman: 79.56\n"
     ]
    },
    {
     "data": {
      "application/vnd.jupyter.widget-view+json": {
       "model_id": "a2e7df183a13497a9239529b2e3b590f",
       "version_major": 2,
       "version_minor": 0
      },
      "text/plain": [
       "HBox(children=(FloatProgress(value=0.0, description='Val 10', max=242.0, style=ProgressStyle(description_width…"
      ]
     },
     "metadata": {},
     "output_type": "display_data"
    },
    {
     "name": "stdout",
     "output_type": "stream",
     "text": [
      "\n",
      "man size: 4457 woman size: 3273\n",
      "Val epoch  : 10, meanAP: 38.38, meanAP_man: 37.49, meanAP_woman: nan\n"
     ]
    },
    {
     "data": {
      "application/vnd.jupyter.widget-view+json": {
       "model_id": "44914426255b468aaf7b9f867ec4f644",
       "version_major": 2,
       "version_minor": 0
      },
      "text/plain": [
       "HBox(children=(FloatProgress(value=0.0, description='Train 11', max=760.0, style=ProgressStyle(description_wid…"
      ]
     },
     "metadata": {},
     "output_type": "display_data"
    },
    {
     "name": "stdout",
     "output_type": "stream",
     "text": [
      "\n",
      "man size: 14199 woman size: 10102\n",
      "Train epoch  : 11, meanAP: 80.90, meanAP_man: 79.44, meanAP_woman: 79.63\n"
     ]
    },
    {
     "data": {
      "application/vnd.jupyter.widget-view+json": {
       "model_id": "bace1d7fe6264454bdbdc109d527c439",
       "version_major": 2,
       "version_minor": 0
      },
      "text/plain": [
       "HBox(children=(FloatProgress(value=0.0, description='Val 11', max=242.0, style=ProgressStyle(description_width…"
      ]
     },
     "metadata": {},
     "output_type": "display_data"
    },
    {
     "name": "stdout",
     "output_type": "stream",
     "text": [
      "\n",
      "man size: 4457 woman size: 3273\n",
      "Val epoch  : 11, meanAP: 38.18, meanAP_man: 37.28, meanAP_woman: nan\n"
     ]
    },
    {
     "data": {
      "application/vnd.jupyter.widget-view+json": {
       "model_id": "30f292ad59e24b9e9801c2899fcf6da4",
       "version_major": 2,
       "version_minor": 0
      },
      "text/plain": [
       "HBox(children=(FloatProgress(value=0.0, description='Train 12', max=760.0, style=ProgressStyle(description_wid…"
      ]
     },
     "metadata": {},
     "output_type": "display_data"
    },
    {
     "name": "stdout",
     "output_type": "stream",
     "text": [
      "\n",
      "man size: 14199 woman size: 10102\n",
      "Train epoch  : 12, meanAP: 80.67, meanAP_man: 79.22, meanAP_woman: 79.56\n"
     ]
    },
    {
     "data": {
      "application/vnd.jupyter.widget-view+json": {
       "model_id": "efdb7ab4ec1249c2ba01ce660ead0d52",
       "version_major": 2,
       "version_minor": 0
      },
      "text/plain": [
       "HBox(children=(FloatProgress(value=0.0, description='Val 12', max=242.0, style=ProgressStyle(description_width…"
      ]
     },
     "metadata": {},
     "output_type": "display_data"
    },
    {
     "name": "stdout",
     "output_type": "stream",
     "text": [
      "\n",
      "man size: 4457 woman size: 3273\n",
      "Val epoch  : 12, meanAP: 38.36, meanAP_man: 37.42, meanAP_woman: nan\n"
     ]
    },
    {
     "data": {
      "application/vnd.jupyter.widget-view+json": {
       "model_id": "f1170b3710bd483d92322481bfbdc625",
       "version_major": 2,
       "version_minor": 0
      },
      "text/plain": [
       "HBox(children=(FloatProgress(value=0.0, description='Train 13', max=760.0, style=ProgressStyle(description_wid…"
      ]
     },
     "metadata": {},
     "output_type": "display_data"
    },
    {
     "name": "stdout",
     "output_type": "stream",
     "text": [
      "\n",
      "man size: 14199 woman size: 10102\n",
      "Train epoch  : 13, meanAP: 81.02, meanAP_man: 79.77, meanAP_woman: 79.75\n"
     ]
    },
    {
     "data": {
      "application/vnd.jupyter.widget-view+json": {
       "model_id": "3bc1f24672f5447b93a19e10d0b545bb",
       "version_major": 2,
       "version_minor": 0
      },
      "text/plain": [
       "HBox(children=(FloatProgress(value=0.0, description='Val 13', max=242.0, style=ProgressStyle(description_width…"
      ]
     },
     "metadata": {},
     "output_type": "display_data"
    },
    {
     "name": "stdout",
     "output_type": "stream",
     "text": [
      "\n",
      "man size: 4457 woman size: 3273\n",
      "Val epoch  : 13, meanAP: 38.36, meanAP_man: 37.54, meanAP_woman: nan\n"
     ]
    },
    {
     "data": {
      "application/vnd.jupyter.widget-view+json": {
       "model_id": "c404ac245d1042a3af57ae57d2d8f5b6",
       "version_major": 2,
       "version_minor": 0
      },
      "text/plain": [
       "HBox(children=(FloatProgress(value=0.0, description='Train 14', max=760.0, style=ProgressStyle(description_wid…"
      ]
     },
     "metadata": {},
     "output_type": "display_data"
    },
    {
     "name": "stdout",
     "output_type": "stream",
     "text": [
      "\n",
      "man size: 14199 woman size: 10102\n",
      "Train epoch  : 14, meanAP: 80.88, meanAP_man: 79.68, meanAP_woman: 79.38\n"
     ]
    },
    {
     "data": {
      "application/vnd.jupyter.widget-view+json": {
       "model_id": "aad80be5d9764839833663ed230b2d97",
       "version_major": 2,
       "version_minor": 0
      },
      "text/plain": [
       "HBox(children=(FloatProgress(value=0.0, description='Val 14', max=242.0, style=ProgressStyle(description_width…"
      ]
     },
     "metadata": {},
     "output_type": "display_data"
    },
    {
     "name": "stdout",
     "output_type": "stream",
     "text": [
      "\n",
      "man size: 4457 woman size: 3273\n",
      "Val epoch  : 14, meanAP: 38.36, meanAP_man: 37.58, meanAP_woman: nan\n"
     ]
    },
    {
     "data": {
      "application/vnd.jupyter.widget-view+json": {
       "model_id": "b14648b2a32346368198e73624de625e",
       "version_major": 2,
       "version_minor": 0
      },
      "text/plain": [
       "HBox(children=(FloatProgress(value=0.0, description='Train 15', max=760.0, style=ProgressStyle(description_wid…"
      ]
     },
     "metadata": {},
     "output_type": "display_data"
    },
    {
     "name": "stdout",
     "output_type": "stream",
     "text": [
      "\n",
      "man size: 14199 woman size: 10102\n",
      "Train epoch  : 15, meanAP: 81.08, meanAP_man: 79.51, meanAP_woman: 80.40\n"
     ]
    },
    {
     "data": {
      "application/vnd.jupyter.widget-view+json": {
       "model_id": "69ae9872ada647ecb72d771aff09a0b9",
       "version_major": 2,
       "version_minor": 0
      },
      "text/plain": [
       "HBox(children=(FloatProgress(value=0.0, description='Val 15', max=242.0, style=ProgressStyle(description_width…"
      ]
     },
     "metadata": {},
     "output_type": "display_data"
    },
    {
     "name": "stdout",
     "output_type": "stream",
     "text": [
      "\n",
      "man size: 4457 woman size: 3273\n",
      "Val epoch  : 15, meanAP: 38.35, meanAP_man: 37.55, meanAP_woman: nan\n"
     ]
    },
    {
     "data": {
      "application/vnd.jupyter.widget-view+json": {
       "model_id": "2a85a7fef748484396faa3d04736d8dc",
       "version_major": 2,
       "version_minor": 0
      },
      "text/plain": [
       "HBox(children=(FloatProgress(value=0.0, description='Train 16', max=760.0, style=ProgressStyle(description_wid…"
      ]
     },
     "metadata": {},
     "output_type": "display_data"
    },
    {
     "name": "stdout",
     "output_type": "stream",
     "text": [
      "\n",
      "man size: 14199 woman size: 10102\n",
      "Train epoch  : 16, meanAP: 81.02, meanAP_man: 79.55, meanAP_woman: 80.19\n"
     ]
    },
    {
     "data": {
      "application/vnd.jupyter.widget-view+json": {
       "model_id": "7d7dbcba22d94c0684ef43709d9e7f23",
       "version_major": 2,
       "version_minor": 0
      },
      "text/plain": [
       "HBox(children=(FloatProgress(value=0.0, description='Val 16', max=242.0, style=ProgressStyle(description_width…"
      ]
     },
     "metadata": {},
     "output_type": "display_data"
    },
    {
     "name": "stdout",
     "output_type": "stream",
     "text": [
      "\n",
      "man size: 4457 woman size: 3273\n",
      "Val epoch  : 16, meanAP: 38.41, meanAP_man: 37.61, meanAP_woman: nan\n"
     ]
    },
    {
     "data": {
      "application/vnd.jupyter.widget-view+json": {
       "model_id": "f2a3635b5cf942e0a41f8369b49a15fe",
       "version_major": 2,
       "version_minor": 0
      },
      "text/plain": [
       "HBox(children=(FloatProgress(value=0.0, description='Train 17', max=760.0, style=ProgressStyle(description_wid…"
      ]
     },
     "metadata": {},
     "output_type": "display_data"
    },
    {
     "name": "stdout",
     "output_type": "stream",
     "text": [
      "\n",
      "man size: 14199 woman size: 10102\n",
      "Train epoch  : 17, meanAP: 80.92, meanAP_man: 79.80, meanAP_woman: 79.59\n"
     ]
    },
    {
     "data": {
      "application/vnd.jupyter.widget-view+json": {
       "model_id": "b38fd194c0d947e8bcd4c42962b34ac1",
       "version_major": 2,
       "version_minor": 0
      },
      "text/plain": [
       "HBox(children=(FloatProgress(value=0.0, description='Val 17', max=242.0, style=ProgressStyle(description_width…"
      ]
     },
     "metadata": {},
     "output_type": "display_data"
    },
    {
     "name": "stdout",
     "output_type": "stream",
     "text": [
      "\n",
      "man size: 4457 woman size: 3273\n",
      "Val epoch  : 17, meanAP: 38.50, meanAP_man: 37.65, meanAP_woman: nan\n"
     ]
    },
    {
     "data": {
      "application/vnd.jupyter.widget-view+json": {
       "model_id": "bfd18d44edfc4294ae39d2cc7b65ddb1",
       "version_major": 2,
       "version_minor": 0
      },
      "text/plain": [
       "HBox(children=(FloatProgress(value=0.0, description='Train 18', max=760.0, style=ProgressStyle(description_wid…"
      ]
     },
     "metadata": {},
     "output_type": "display_data"
    },
    {
     "name": "stdout",
     "output_type": "stream",
     "text": [
      "\n",
      "man size: 14199 woman size: 10102\n",
      "Train epoch  : 18, meanAP: 81.19, meanAP_man: 79.89, meanAP_woman: 79.85\n"
     ]
    },
    {
     "data": {
      "application/vnd.jupyter.widget-view+json": {
       "model_id": "5534e488bc3d4b10981a67f2dbdd5af6",
       "version_major": 2,
       "version_minor": 0
      },
      "text/plain": [
       "HBox(children=(FloatProgress(value=0.0, description='Val 18', max=242.0, style=ProgressStyle(description_width…"
      ]
     },
     "metadata": {},
     "output_type": "display_data"
    },
    {
     "name": "stdout",
     "output_type": "stream",
     "text": [
      "\n",
      "man size: 4457 woman size: 3273\n",
      "Val epoch  : 18, meanAP: 38.51, meanAP_man: 37.65, meanAP_woman: nan\n"
     ]
    },
    {
     "data": {
      "application/vnd.jupyter.widget-view+json": {
       "model_id": "455cf342383a415596d8e106612d2af8",
       "version_major": 2,
       "version_minor": 0
      },
      "text/plain": [
       "HBox(children=(FloatProgress(value=0.0, description='Train 19', max=760.0, style=ProgressStyle(description_wid…"
      ]
     },
     "metadata": {},
     "output_type": "display_data"
    },
    {
     "name": "stdout",
     "output_type": "stream",
     "text": [
      "\n",
      "man size: 14199 woman size: 10102\n",
      "Train epoch  : 19, meanAP: 81.11, meanAP_man: 79.75, meanAP_woman: 80.04\n"
     ]
    },
    {
     "data": {
      "application/vnd.jupyter.widget-view+json": {
       "model_id": "411aa2df78974b9bb1e7917a906b8399",
       "version_major": 2,
       "version_minor": 0
      },
      "text/plain": [
       "HBox(children=(FloatProgress(value=0.0, description='Val 19', max=242.0, style=ProgressStyle(description_width…"
      ]
     },
     "metadata": {},
     "output_type": "display_data"
    },
    {
     "name": "stdout",
     "output_type": "stream",
     "text": [
      "\n",
      "man size: 4457 woman size: 3273\n",
      "Val epoch  : 19, meanAP: 38.47, meanAP_man: 37.71, meanAP_woman: nan\n"
     ]
    },
    {
     "data": {
      "application/vnd.jupyter.widget-view+json": {
       "model_id": "234eac04c1e84a9fa55ad068d1966a4b",
       "version_major": 2,
       "version_minor": 0
      },
      "text/plain": [
       "HBox(children=(FloatProgress(value=0.0, description='Train 20', max=760.0, style=ProgressStyle(description_wid…"
      ]
     },
     "metadata": {},
     "output_type": "display_data"
    },
    {
     "name": "stdout",
     "output_type": "stream",
     "text": [
      "\n",
      "man size: 14199 woman size: 10102\n",
      "Train epoch  : 20, meanAP: 81.30, meanAP_man: 80.12, meanAP_woman: 80.04\n"
     ]
    },
    {
     "data": {
      "application/vnd.jupyter.widget-view+json": {
       "model_id": "e2859f87f5ac4ac69c4da0492ab2f48d",
       "version_major": 2,
       "version_minor": 0
      },
      "text/plain": [
       "HBox(children=(FloatProgress(value=0.0, description='Val 20', max=242.0, style=ProgressStyle(description_width…"
      ]
     },
     "metadata": {},
     "output_type": "display_data"
    },
    {
     "name": "stdout",
     "output_type": "stream",
     "text": [
      "\n",
      "man size: 4457 woman size: 3273\n",
      "Val epoch  : 20, meanAP: 38.34, meanAP_man: 37.63, meanAP_woman: nan\n"
     ]
    },
    {
     "data": {
      "application/vnd.jupyter.widget-view+json": {
       "model_id": "2df7db1d0d6b4f70a2eb0b84f1e60a8f",
       "version_major": 2,
       "version_minor": 0
      },
      "text/plain": [
       "HBox(children=(FloatProgress(value=0.0, description='Train 21', max=760.0, style=ProgressStyle(description_wid…"
      ]
     },
     "metadata": {},
     "output_type": "display_data"
    },
    {
     "name": "stdout",
     "output_type": "stream",
     "text": [
      "\n",
      "man size: 14199 woman size: 10102\n",
      "Train epoch  : 21, meanAP: 81.52, meanAP_man: 80.31, meanAP_woman: 80.04\n"
     ]
    },
    {
     "data": {
      "application/vnd.jupyter.widget-view+json": {
       "model_id": "318feb9aca004ff6b222aa04cc504c59",
       "version_major": 2,
       "version_minor": 0
      },
      "text/plain": [
       "HBox(children=(FloatProgress(value=0.0, description='Val 21', max=242.0, style=ProgressStyle(description_width…"
      ]
     },
     "metadata": {},
     "output_type": "display_data"
    },
    {
     "name": "stdout",
     "output_type": "stream",
     "text": [
      "\n",
      "man size: 4457 woman size: 3273\n",
      "Val epoch  : 21, meanAP: 38.45, meanAP_man: 37.66, meanAP_woman: nan\n"
     ]
    },
    {
     "data": {
      "application/vnd.jupyter.widget-view+json": {
       "model_id": "cc4140d10b704548aa7711cf0649c35d",
       "version_major": 2,
       "version_minor": 0
      },
      "text/plain": [
       "HBox(children=(FloatProgress(value=0.0, description='Train 22', max=760.0, style=ProgressStyle(description_wid…"
      ]
     },
     "metadata": {},
     "output_type": "display_data"
    },
    {
     "name": "stdout",
     "output_type": "stream",
     "text": [
      "\n",
      "man size: 14199 woman size: 10102\n",
      "Train epoch  : 22, meanAP: 81.51, meanAP_man: 80.18, meanAP_woman: 80.06\n"
     ]
    },
    {
     "data": {
      "application/vnd.jupyter.widget-view+json": {
       "model_id": "cebfeb56de4f4afb89aa3cc7fac43cc4",
       "version_major": 2,
       "version_minor": 0
      },
      "text/plain": [
       "HBox(children=(FloatProgress(value=0.0, description='Val 22', max=242.0, style=ProgressStyle(description_width…"
      ]
     },
     "metadata": {},
     "output_type": "display_data"
    },
    {
     "name": "stdout",
     "output_type": "stream",
     "text": [
      "\n",
      "man size: 4457 woman size: 3273\n",
      "Val epoch  : 22, meanAP: 38.46, meanAP_man: 37.62, meanAP_woman: nan\n"
     ]
    },
    {
     "data": {
      "application/vnd.jupyter.widget-view+json": {
       "model_id": "a3103f4a1db74c7e9886058e760e0ae4",
       "version_major": 2,
       "version_minor": 0
      },
      "text/plain": [
       "HBox(children=(FloatProgress(value=0.0, description='Train 23', max=760.0, style=ProgressStyle(description_wid…"
      ]
     },
     "metadata": {},
     "output_type": "display_data"
    },
    {
     "name": "stdout",
     "output_type": "stream",
     "text": [
      "\n",
      "man size: 14199 woman size: 10102\n",
      "Train epoch  : 23, meanAP: 81.27, meanAP_man: 80.04, meanAP_woman: 80.12\n"
     ]
    },
    {
     "data": {
      "application/vnd.jupyter.widget-view+json": {
       "model_id": "064358269eb64a2b92537fdb2a803189",
       "version_major": 2,
       "version_minor": 0
      },
      "text/plain": [
       "HBox(children=(FloatProgress(value=0.0, description='Val 23', max=242.0, style=ProgressStyle(description_width…"
      ]
     },
     "metadata": {},
     "output_type": "display_data"
    },
    {
     "name": "stdout",
     "output_type": "stream",
     "text": [
      "\n",
      "man size: 4457 woman size: 3273\n",
      "Val epoch  : 23, meanAP: 38.42, meanAP_man: 37.56, meanAP_woman: nan\n"
     ]
    },
    {
     "data": {
      "application/vnd.jupyter.widget-view+json": {
       "model_id": "d0735b4cfa66455c81a48175d04c483d",
       "version_major": 2,
       "version_minor": 0
      },
      "text/plain": [
       "HBox(children=(FloatProgress(value=0.0, description='Train 24', max=760.0, style=ProgressStyle(description_wid…"
      ]
     },
     "metadata": {},
     "output_type": "display_data"
    },
    {
     "name": "stdout",
     "output_type": "stream",
     "text": [
      "\n",
      "man size: 14199 woman size: 10102\n",
      "Train epoch  : 24, meanAP: 81.29, meanAP_man: 79.91, meanAP_woman: 79.82\n"
     ]
    },
    {
     "data": {
      "application/vnd.jupyter.widget-view+json": {
       "model_id": "50187b4dec0047f3a5358712733c3dff",
       "version_major": 2,
       "version_minor": 0
      },
      "text/plain": [
       "HBox(children=(FloatProgress(value=0.0, description='Val 24', max=242.0, style=ProgressStyle(description_width…"
      ]
     },
     "metadata": {},
     "output_type": "display_data"
    },
    {
     "name": "stdout",
     "output_type": "stream",
     "text": [
      "\n",
      "man size: 4457 woman size: 3273\n",
      "Val epoch  : 24, meanAP: 38.49, meanAP_man: 37.66, meanAP_woman: nan\n"
     ]
    },
    {
     "data": {
      "application/vnd.jupyter.widget-view+json": {
       "model_id": "a1daa3554a664e6a8dd8712c1f67c383",
       "version_major": 2,
       "version_minor": 0
      },
      "text/plain": [
       "HBox(children=(FloatProgress(value=0.0, description='Train 25', max=760.0, style=ProgressStyle(description_wid…"
      ]
     },
     "metadata": {},
     "output_type": "display_data"
    },
    {
     "name": "stdout",
     "output_type": "stream",
     "text": [
      "\n",
      "man size: 14199 woman size: 10102\n",
      "Train epoch  : 25, meanAP: 81.51, meanAP_man: 80.18, meanAP_woman: 80.53\n"
     ]
    },
    {
     "data": {
      "application/vnd.jupyter.widget-view+json": {
       "model_id": "48c1c53bc73143bdbf449d4270b1153a",
       "version_major": 2,
       "version_minor": 0
      },
      "text/plain": [
       "HBox(children=(FloatProgress(value=0.0, description='Val 25', max=242.0, style=ProgressStyle(description_width…"
      ]
     },
     "metadata": {},
     "output_type": "display_data"
    },
    {
     "name": "stdout",
     "output_type": "stream",
     "text": [
      "\n",
      "man size: 4457 woman size: 3273\n",
      "Val epoch  : 25, meanAP: 38.45, meanAP_man: 37.53, meanAP_woman: nan\n"
     ]
    },
    {
     "data": {
      "application/vnd.jupyter.widget-view+json": {
       "model_id": "dcb919ec7e3043fe868e030e163d205f",
       "version_major": 2,
       "version_minor": 0
      },
      "text/plain": [
       "HBox(children=(FloatProgress(value=0.0, description='Train 26', max=760.0, style=ProgressStyle(description_wid…"
      ]
     },
     "metadata": {},
     "output_type": "display_data"
    },
    {
     "name": "stdout",
     "output_type": "stream",
     "text": [
      "\n",
      "man size: 14199 woman size: 10102\n",
      "Train epoch  : 26, meanAP: 81.60, meanAP_man: 80.38, meanAP_woman: 80.18\n"
     ]
    },
    {
     "data": {
      "application/vnd.jupyter.widget-view+json": {
       "model_id": "0af5c72be67642338db8cdcc127ee453",
       "version_major": 2,
       "version_minor": 0
      },
      "text/plain": [
       "HBox(children=(FloatProgress(value=0.0, description='Val 26', max=242.0, style=ProgressStyle(description_width…"
      ]
     },
     "metadata": {},
     "output_type": "display_data"
    },
    {
     "name": "stdout",
     "output_type": "stream",
     "text": [
      "\n",
      "man size: 4457 woman size: 3273\n",
      "Val epoch  : 26, meanAP: 38.47, meanAP_man: 37.71, meanAP_woman: nan\n"
     ]
    },
    {
     "data": {
      "application/vnd.jupyter.widget-view+json": {
       "model_id": "c6667060f2bc4504a568209eda6918e4",
       "version_major": 2,
       "version_minor": 0
      },
      "text/plain": [
       "HBox(children=(FloatProgress(value=0.0, description='Train 27', max=760.0, style=ProgressStyle(description_wid…"
      ]
     },
     "metadata": {},
     "output_type": "display_data"
    },
    {
     "name": "stdout",
     "output_type": "stream",
     "text": [
      "\n",
      "man size: 14199 woman size: 10102\n",
      "Train epoch  : 27, meanAP: 81.81, meanAP_man: 80.55, meanAP_woman: 80.97\n"
     ]
    },
    {
     "data": {
      "application/vnd.jupyter.widget-view+json": {
       "model_id": "541539ce297f4fddbc0719b91cde4d69",
       "version_major": 2,
       "version_minor": 0
      },
      "text/plain": [
       "HBox(children=(FloatProgress(value=0.0, description='Val 27', max=242.0, style=ProgressStyle(description_width…"
      ]
     },
     "metadata": {},
     "output_type": "display_data"
    },
    {
     "name": "stdout",
     "output_type": "stream",
     "text": [
      "\n",
      "man size: 4457 woman size: 3273\n",
      "Val epoch  : 27, meanAP: 38.51, meanAP_man: 37.64, meanAP_woman: nan\n"
     ]
    },
    {
     "data": {
      "application/vnd.jupyter.widget-view+json": {
       "model_id": "93dc4da41fd141ce9ea141ebb9d44a6d",
       "version_major": 2,
       "version_minor": 0
      },
      "text/plain": [
       "HBox(children=(FloatProgress(value=0.0, description='Train 28', max=760.0, style=ProgressStyle(description_wid…"
      ]
     },
     "metadata": {},
     "output_type": "display_data"
    },
    {
     "name": "stdout",
     "output_type": "stream",
     "text": [
      "\n",
      "man size: 14199 woman size: 10102\n",
      "Train epoch  : 28, meanAP: 81.83, meanAP_man: 80.63, meanAP_woman: 80.46\n"
     ]
    },
    {
     "data": {
      "application/vnd.jupyter.widget-view+json": {
       "model_id": "ee16dc2a4fc64346819d07414f2fa623",
       "version_major": 2,
       "version_minor": 0
      },
      "text/plain": [
       "HBox(children=(FloatProgress(value=0.0, description='Val 28', max=242.0, style=ProgressStyle(description_width…"
      ]
     },
     "metadata": {},
     "output_type": "display_data"
    },
    {
     "name": "stdout",
     "output_type": "stream",
     "text": [
      "\n",
      "man size: 4457 woman size: 3273\n",
      "Val epoch  : 28, meanAP: 38.54, meanAP_man: 37.66, meanAP_woman: nan\n"
     ]
    },
    {
     "data": {
      "application/vnd.jupyter.widget-view+json": {
       "model_id": "8b248a90e80d4c7a9a570cd65895c3c6",
       "version_major": 2,
       "version_minor": 0
      },
      "text/plain": [
       "HBox(children=(FloatProgress(value=0.0, description='Train 29', max=760.0, style=ProgressStyle(description_wid…"
      ]
     },
     "metadata": {},
     "output_type": "display_data"
    },
    {
     "name": "stdout",
     "output_type": "stream",
     "text": [
      "\n",
      "man size: 14199 woman size: 10102\n",
      "Train epoch  : 29, meanAP: 81.75, meanAP_man: 80.29, meanAP_woman: 80.38\n"
     ]
    },
    {
     "data": {
      "application/vnd.jupyter.widget-view+json": {
       "model_id": "98733d1799114b1899645d2a8db75a39",
       "version_major": 2,
       "version_minor": 0
      },
      "text/plain": [
       "HBox(children=(FloatProgress(value=0.0, description='Val 29', max=242.0, style=ProgressStyle(description_width…"
      ]
     },
     "metadata": {},
     "output_type": "display_data"
    },
    {
     "name": "stdout",
     "output_type": "stream",
     "text": [
      "\n",
      "man size: 4457 woman size: 3273\n",
      "Val epoch  : 29, meanAP: 38.58, meanAP_man: 37.63, meanAP_woman: nan\n"
     ]
    },
    {
     "data": {
      "application/vnd.jupyter.widget-view+json": {
       "model_id": "840c81b86a954e8b8befcd0e690536ad",
       "version_major": 2,
       "version_minor": 0
      },
      "text/plain": [
       "HBox(children=(FloatProgress(value=0.0, description='Train 30', max=760.0, style=ProgressStyle(description_wid…"
      ]
     },
     "metadata": {},
     "output_type": "display_data"
    },
    {
     "name": "stdout",
     "output_type": "stream",
     "text": [
      "\n",
      "man size: 14199 woman size: 10102\n",
      "Train epoch  : 30, meanAP: 81.90, meanAP_man: 80.68, meanAP_woman: 80.64\n"
     ]
    },
    {
     "data": {
      "application/vnd.jupyter.widget-view+json": {
       "model_id": "e6db6032c8764665a91acc0c837def12",
       "version_major": 2,
       "version_minor": 0
      },
      "text/plain": [
       "HBox(children=(FloatProgress(value=0.0, description='Val 30', max=242.0, style=ProgressStyle(description_width…"
      ]
     },
     "metadata": {},
     "output_type": "display_data"
    },
    {
     "name": "stdout",
     "output_type": "stream",
     "text": [
      "\n",
      "man size: 4457 woman size: 3273\n",
      "Val epoch  : 30, meanAP: 38.51, meanAP_man: 37.70, meanAP_woman: nan\n"
     ]
    },
    {
     "data": {
      "application/vnd.jupyter.widget-view+json": {
       "model_id": "10cfcc037ff54967a4dffd3a92695a2f",
       "version_major": 2,
       "version_minor": 0
      },
      "text/plain": [
       "HBox(children=(FloatProgress(value=0.0, description='Train 31', max=760.0, style=ProgressStyle(description_wid…"
      ]
     },
     "metadata": {},
     "output_type": "display_data"
    },
    {
     "name": "stdout",
     "output_type": "stream",
     "text": [
      "\n",
      "man size: 14199 woman size: 10102\n",
      "Train epoch  : 31, meanAP: 81.89, meanAP_man: 80.67, meanAP_woman: 81.19\n"
     ]
    },
    {
     "data": {
      "application/vnd.jupyter.widget-view+json": {
       "model_id": "b011437f90314af488acdd4db46e72f1",
       "version_major": 2,
       "version_minor": 0
      },
      "text/plain": [
       "HBox(children=(FloatProgress(value=0.0, description='Val 31', max=242.0, style=ProgressStyle(description_width…"
      ]
     },
     "metadata": {},
     "output_type": "display_data"
    },
    {
     "name": "stdout",
     "output_type": "stream",
     "text": [
      "\n",
      "man size: 4457 woman size: 3273\n",
      "Val epoch  : 31, meanAP: 38.62, meanAP_man: 37.85, meanAP_woman: nan\n"
     ]
    },
    {
     "data": {
      "application/vnd.jupyter.widget-view+json": {
       "model_id": "01276e18078b421c899ae6182cd027e8",
       "version_major": 2,
       "version_minor": 0
      },
      "text/plain": [
       "HBox(children=(FloatProgress(value=0.0, description='Train 32', max=760.0, style=ProgressStyle(description_wid…"
      ]
     },
     "metadata": {},
     "output_type": "display_data"
    },
    {
     "name": "stdout",
     "output_type": "stream",
     "text": [
      "\n",
      "man size: 14199 woman size: 10102\n",
      "Train epoch  : 32, meanAP: 81.92, meanAP_man: 80.39, meanAP_woman: 81.13\n"
     ]
    },
    {
     "data": {
      "application/vnd.jupyter.widget-view+json": {
       "model_id": "de866589aaba4c349e4605b9770e0048",
       "version_major": 2,
       "version_minor": 0
      },
      "text/plain": [
       "HBox(children=(FloatProgress(value=0.0, description='Val 32', max=242.0, style=ProgressStyle(description_width…"
      ]
     },
     "metadata": {},
     "output_type": "display_data"
    },
    {
     "name": "stdout",
     "output_type": "stream",
     "text": [
      "\n",
      "man size: 4457 woman size: 3273\n",
      "Val epoch  : 32, meanAP: 38.59, meanAP_man: 37.81, meanAP_woman: nan\n"
     ]
    },
    {
     "data": {
      "application/vnd.jupyter.widget-view+json": {
       "model_id": "3c7e37e117d241eaa5caefecd542f390",
       "version_major": 2,
       "version_minor": 0
      },
      "text/plain": [
       "HBox(children=(FloatProgress(value=0.0, description='Train 33', max=760.0, style=ProgressStyle(description_wid…"
      ]
     },
     "metadata": {},
     "output_type": "display_data"
    },
    {
     "name": "stdout",
     "output_type": "stream",
     "text": [
      "\n",
      "man size: 14199 woman size: 10102\n",
      "Train epoch  : 33, meanAP: 81.92, meanAP_man: 80.60, meanAP_woman: 80.86\n"
     ]
    },
    {
     "data": {
      "application/vnd.jupyter.widget-view+json": {
       "model_id": "5feaf4c9c1b8421fbb373305ac9a712f",
       "version_major": 2,
       "version_minor": 0
      },
      "text/plain": [
       "HBox(children=(FloatProgress(value=0.0, description='Val 33', max=242.0, style=ProgressStyle(description_width…"
      ]
     },
     "metadata": {},
     "output_type": "display_data"
    },
    {
     "name": "stdout",
     "output_type": "stream",
     "text": [
      "\n",
      "man size: 4457 woman size: 3273\n",
      "Val epoch  : 33, meanAP: 38.53, meanAP_man: 37.73, meanAP_woman: nan\n"
     ]
    },
    {
     "data": {
      "application/vnd.jupyter.widget-view+json": {
       "model_id": "95ebbf1b22ed40ad8b7d26bdec3606c2",
       "version_major": 2,
       "version_minor": 0
      },
      "text/plain": [
       "HBox(children=(FloatProgress(value=0.0, description='Train 34', max=760.0, style=ProgressStyle(description_wid…"
      ]
     },
     "metadata": {},
     "output_type": "display_data"
    },
    {
     "name": "stdout",
     "output_type": "stream",
     "text": [
      "\n",
      "man size: 14199 woman size: 10102\n",
      "Train epoch  : 34, meanAP: 82.00, meanAP_man: 80.43, meanAP_woman: 81.25\n"
     ]
    },
    {
     "data": {
      "application/vnd.jupyter.widget-view+json": {
       "model_id": "5c036ea366a0479a95c5b79c7ac90fb2",
       "version_major": 2,
       "version_minor": 0
      },
      "text/plain": [
       "HBox(children=(FloatProgress(value=0.0, description='Val 34', max=242.0, style=ProgressStyle(description_width…"
      ]
     },
     "metadata": {},
     "output_type": "display_data"
    },
    {
     "name": "stdout",
     "output_type": "stream",
     "text": [
      "\n",
      "man size: 4457 woman size: 3273\n",
      "Val epoch  : 34, meanAP: 38.58, meanAP_man: 37.75, meanAP_woman: nan\n"
     ]
    },
    {
     "data": {
      "application/vnd.jupyter.widget-view+json": {
       "model_id": "c4bfddcf2b614818b7424a540d220571",
       "version_major": 2,
       "version_minor": 0
      },
      "text/plain": [
       "HBox(children=(FloatProgress(value=0.0, description='Train 35', max=760.0, style=ProgressStyle(description_wid…"
      ]
     },
     "metadata": {},
     "output_type": "display_data"
    },
    {
     "name": "stdout",
     "output_type": "stream",
     "text": [
      "\n",
      "man size: 14199 woman size: 10102\n",
      "Train epoch  : 35, meanAP: 82.30, meanAP_man: 80.96, meanAP_woman: 81.42\n"
     ]
    },
    {
     "data": {
      "application/vnd.jupyter.widget-view+json": {
       "model_id": "9dc177bc4c2c4e39a3c7181214dc9659",
       "version_major": 2,
       "version_minor": 0
      },
      "text/plain": [
       "HBox(children=(FloatProgress(value=0.0, description='Val 35', max=242.0, style=ProgressStyle(description_width…"
      ]
     },
     "metadata": {},
     "output_type": "display_data"
    },
    {
     "name": "stdout",
     "output_type": "stream",
     "text": [
      "\n",
      "man size: 4457 woman size: 3273\n",
      "Val epoch  : 35, meanAP: 38.53, meanAP_man: 37.64, meanAP_woman: nan\n"
     ]
    },
    {
     "data": {
      "application/vnd.jupyter.widget-view+json": {
       "model_id": "c5b7afc5f8b641859b4ff3f8168ab77f",
       "version_major": 2,
       "version_minor": 0
      },
      "text/plain": [
       "HBox(children=(FloatProgress(value=0.0, description='Train 36', max=760.0, style=ProgressStyle(description_wid…"
      ]
     },
     "metadata": {},
     "output_type": "display_data"
    },
    {
     "name": "stdout",
     "output_type": "stream",
     "text": [
      "\n",
      "man size: 14199 woman size: 10102\n",
      "Train epoch  : 36, meanAP: 82.19, meanAP_man: 80.88, meanAP_woman: 81.47\n"
     ]
    },
    {
     "data": {
      "application/vnd.jupyter.widget-view+json": {
       "model_id": "801b9cde85cb4f399d921f8331b6334d",
       "version_major": 2,
       "version_minor": 0
      },
      "text/plain": [
       "HBox(children=(FloatProgress(value=0.0, description='Val 36', max=242.0, style=ProgressStyle(description_width…"
      ]
     },
     "metadata": {},
     "output_type": "display_data"
    },
    {
     "name": "stdout",
     "output_type": "stream",
     "text": [
      "\n",
      "man size: 4457 woman size: 3273\n",
      "Val epoch  : 36, meanAP: 38.58, meanAP_man: 37.73, meanAP_woman: nan\n"
     ]
    },
    {
     "data": {
      "application/vnd.jupyter.widget-view+json": {
       "model_id": "9b0cc7e7ed7e44f1ab09c61925481aca",
       "version_major": 2,
       "version_minor": 0
      },
      "text/plain": [
       "HBox(children=(FloatProgress(value=0.0, description='Train 37', max=760.0, style=ProgressStyle(description_wid…"
      ]
     },
     "metadata": {},
     "output_type": "display_data"
    },
    {
     "name": "stdout",
     "output_type": "stream",
     "text": [
      "\n",
      "man size: 14199 woman size: 10102\n",
      "Train epoch  : 37, meanAP: 82.31, meanAP_man: 81.05, meanAP_woman: 80.97\n"
     ]
    },
    {
     "data": {
      "application/vnd.jupyter.widget-view+json": {
       "model_id": "51c5104cb517451c9e0f6a39829196ef",
       "version_major": 2,
       "version_minor": 0
      },
      "text/plain": [
       "HBox(children=(FloatProgress(value=0.0, description='Val 37', max=242.0, style=ProgressStyle(description_width…"
      ]
     },
     "metadata": {},
     "output_type": "display_data"
    },
    {
     "name": "stdout",
     "output_type": "stream",
     "text": [
      "\n",
      "man size: 4457 woman size: 3273\n",
      "Val epoch  : 37, meanAP: 38.58, meanAP_man: 37.78, meanAP_woman: nan\n"
     ]
    },
    {
     "data": {
      "application/vnd.jupyter.widget-view+json": {
       "model_id": "5cba321b8237404c8813f41a80e4e138",
       "version_major": 2,
       "version_minor": 0
      },
      "text/plain": [
       "HBox(children=(FloatProgress(value=0.0, description='Train 38', max=760.0, style=ProgressStyle(description_wid…"
      ]
     },
     "metadata": {},
     "output_type": "display_data"
    },
    {
     "name": "stdout",
     "output_type": "stream",
     "text": [
      "\n",
      "man size: 14199 woman size: 10102\n",
      "Train epoch  : 38, meanAP: 82.30, meanAP_man: 81.13, meanAP_woman: 81.09\n"
     ]
    },
    {
     "data": {
      "application/vnd.jupyter.widget-view+json": {
       "model_id": "dca0ed1a6ea242e99a4f3a2898a2d358",
       "version_major": 2,
       "version_minor": 0
      },
      "text/plain": [
       "HBox(children=(FloatProgress(value=0.0, description='Val 38', max=242.0, style=ProgressStyle(description_width…"
      ]
     },
     "metadata": {},
     "output_type": "display_data"
    },
    {
     "name": "stdout",
     "output_type": "stream",
     "text": [
      "\n",
      "man size: 4457 woman size: 3273\n",
      "Val epoch  : 38, meanAP: 38.56, meanAP_man: 37.68, meanAP_woman: nan\n"
     ]
    },
    {
     "data": {
      "application/vnd.jupyter.widget-view+json": {
       "model_id": "71655fbbdfc140efbd7df2dfeac720f8",
       "version_major": 2,
       "version_minor": 0
      },
      "text/plain": [
       "HBox(children=(FloatProgress(value=0.0, description='Train 39', max=760.0, style=ProgressStyle(description_wid…"
      ]
     },
     "metadata": {},
     "output_type": "display_data"
    },
    {
     "name": "stdout",
     "output_type": "stream",
     "text": [
      "\n",
      "man size: 14199 woman size: 10102\n",
      "Train epoch  : 39, meanAP: 82.36, meanAP_man: 81.03, meanAP_woman: 81.15\n"
     ]
    },
    {
     "data": {
      "application/vnd.jupyter.widget-view+json": {
       "model_id": "05d66c4229f2457a9c40ade563cd5a43",
       "version_major": 2,
       "version_minor": 0
      },
      "text/plain": [
       "HBox(children=(FloatProgress(value=0.0, description='Val 39', max=242.0, style=ProgressStyle(description_width…"
      ]
     },
     "metadata": {},
     "output_type": "display_data"
    },
    {
     "name": "stdout",
     "output_type": "stream",
     "text": [
      "\n",
      "man size: 4457 woman size: 3273\n",
      "Val epoch  : 39, meanAP: 38.62, meanAP_man: 37.76, meanAP_woman: nan\n"
     ]
    },
    {
     "data": {
      "application/vnd.jupyter.widget-view+json": {
       "model_id": "e587d59fcdef4894b21ba35207dfdab7",
       "version_major": 2,
       "version_minor": 0
      },
      "text/plain": [
       "HBox(children=(FloatProgress(value=0.0, description='Train 40', max=760.0, style=ProgressStyle(description_wid…"
      ]
     },
     "metadata": {},
     "output_type": "display_data"
    },
    {
     "name": "stdout",
     "output_type": "stream",
     "text": [
      "\n",
      "man size: 14199 woman size: 10102\n",
      "Train epoch  : 40, meanAP: 82.41, meanAP_man: 81.36, meanAP_woman: 81.18\n"
     ]
    },
    {
     "data": {
      "application/vnd.jupyter.widget-view+json": {
       "model_id": "40547ea2d9e24e3b8d8309015418a54c",
       "version_major": 2,
       "version_minor": 0
      },
      "text/plain": [
       "HBox(children=(FloatProgress(value=0.0, description='Val 40', max=242.0, style=ProgressStyle(description_width…"
      ]
     },
     "metadata": {},
     "output_type": "display_data"
    },
    {
     "name": "stdout",
     "output_type": "stream",
     "text": [
      "\n",
      "man size: 4457 woman size: 3273\n",
      "Val epoch  : 40, meanAP: 38.50, meanAP_man: 37.61, meanAP_woman: nan\n"
     ]
    },
    {
     "data": {
      "application/vnd.jupyter.widget-view+json": {
       "model_id": "b881037606494918afbb00a379e4d630",
       "version_major": 2,
       "version_minor": 0
      },
      "text/plain": [
       "HBox(children=(FloatProgress(value=0.0, description='Train 41', max=760.0, style=ProgressStyle(description_wid…"
      ]
     },
     "metadata": {},
     "output_type": "display_data"
    },
    {
     "name": "stdout",
     "output_type": "stream",
     "text": [
      "\n",
      "man size: 14199 woman size: 10102\n",
      "Train epoch  : 41, meanAP: 82.34, meanAP_man: 80.78, meanAP_woman: 81.33\n"
     ]
    },
    {
     "data": {
      "application/vnd.jupyter.widget-view+json": {
       "model_id": "cc78b683f2304eadb121ace8b556a6bd",
       "version_major": 2,
       "version_minor": 0
      },
      "text/plain": [
       "HBox(children=(FloatProgress(value=0.0, description='Val 41', max=242.0, style=ProgressStyle(description_width…"
      ]
     },
     "metadata": {},
     "output_type": "display_data"
    },
    {
     "name": "stdout",
     "output_type": "stream",
     "text": [
      "\n",
      "man size: 4457 woman size: 3273\n",
      "Val epoch  : 41, meanAP: 38.52, meanAP_man: 37.70, meanAP_woman: nan\n"
     ]
    },
    {
     "data": {
      "application/vnd.jupyter.widget-view+json": {
       "model_id": "42a882f3d29c4b17b05fe2b8a5a85d3a",
       "version_major": 2,
       "version_minor": 0
      },
      "text/plain": [
       "HBox(children=(FloatProgress(value=0.0, description='Train 42', max=760.0, style=ProgressStyle(description_wid…"
      ]
     },
     "metadata": {},
     "output_type": "display_data"
    },
    {
     "name": "stdout",
     "output_type": "stream",
     "text": [
      "\n",
      "man size: 14199 woman size: 10102\n",
      "Train epoch  : 42, meanAP: 82.59, meanAP_man: 81.31, meanAP_woman: 81.17\n"
     ]
    },
    {
     "data": {
      "application/vnd.jupyter.widget-view+json": {
       "model_id": "09cb906514ba430484470ae5bfc68f8a",
       "version_major": 2,
       "version_minor": 0
      },
      "text/plain": [
       "HBox(children=(FloatProgress(value=0.0, description='Val 42', max=242.0, style=ProgressStyle(description_width…"
      ]
     },
     "metadata": {},
     "output_type": "display_data"
    },
    {
     "name": "stdout",
     "output_type": "stream",
     "text": [
      "\n",
      "man size: 4457 woman size: 3273\n",
      "Val epoch  : 42, meanAP: 38.63, meanAP_man: 37.86, meanAP_woman: nan\n"
     ]
    },
    {
     "data": {
      "application/vnd.jupyter.widget-view+json": {
       "model_id": "615af7ceafa546908de6b63a1561a722",
       "version_major": 2,
       "version_minor": 0
      },
      "text/plain": [
       "HBox(children=(FloatProgress(value=0.0, description='Train 43', max=760.0, style=ProgressStyle(description_wid…"
      ]
     },
     "metadata": {},
     "output_type": "display_data"
    },
    {
     "name": "stdout",
     "output_type": "stream",
     "text": [
      "\n",
      "man size: 14199 woman size: 10102\n",
      "Train epoch  : 43, meanAP: 82.45, meanAP_man: 81.34, meanAP_woman: 81.08\n"
     ]
    },
    {
     "data": {
      "application/vnd.jupyter.widget-view+json": {
       "model_id": "232ae569748d41538baaaef457019c7c",
       "version_major": 2,
       "version_minor": 0
      },
      "text/plain": [
       "HBox(children=(FloatProgress(value=0.0, description='Val 43', max=242.0, style=ProgressStyle(description_width…"
      ]
     },
     "metadata": {},
     "output_type": "display_data"
    },
    {
     "name": "stdout",
     "output_type": "stream",
     "text": [
      "\n",
      "man size: 4457 woman size: 3273\n",
      "Val epoch  : 43, meanAP: 38.59, meanAP_man: 37.82, meanAP_woman: nan\n"
     ]
    },
    {
     "data": {
      "application/vnd.jupyter.widget-view+json": {
       "model_id": "b1dc75b1a47a411b90843363916ad783",
       "version_major": 2,
       "version_minor": 0
      },
      "text/plain": [
       "HBox(children=(FloatProgress(value=0.0, description='Train 44', max=760.0, style=ProgressStyle(description_wid…"
      ]
     },
     "metadata": {},
     "output_type": "display_data"
    },
    {
     "name": "stdout",
     "output_type": "stream",
     "text": [
      "\n",
      "man size: 14199 woman size: 10102\n",
      "Train epoch  : 44, meanAP: 82.51, meanAP_man: 81.34, meanAP_woman: 81.56\n"
     ]
    },
    {
     "data": {
      "application/vnd.jupyter.widget-view+json": {
       "model_id": "d5b73cbc420949fa827e497a0cf33064",
       "version_major": 2,
       "version_minor": 0
      },
      "text/plain": [
       "HBox(children=(FloatProgress(value=0.0, description='Val 44', max=242.0, style=ProgressStyle(description_width…"
      ]
     },
     "metadata": {},
     "output_type": "display_data"
    },
    {
     "name": "stdout",
     "output_type": "stream",
     "text": [
      "\n",
      "man size: 4457 woman size: 3273\n",
      "Val epoch  : 44, meanAP: 38.58, meanAP_man: 37.75, meanAP_woman: nan\n"
     ]
    },
    {
     "data": {
      "application/vnd.jupyter.widget-view+json": {
       "model_id": "d6645c43a27f410e9a1848af1948113b",
       "version_major": 2,
       "version_minor": 0
      },
      "text/plain": [
       "HBox(children=(FloatProgress(value=0.0, description='Train 45', max=760.0, style=ProgressStyle(description_wid…"
      ]
     },
     "metadata": {},
     "output_type": "display_data"
    },
    {
     "name": "stdout",
     "output_type": "stream",
     "text": [
      "\n",
      "man size: 14199 woman size: 10102\n",
      "Train epoch  : 45, meanAP: 82.39, meanAP_man: 81.26, meanAP_woman: 81.34\n"
     ]
    },
    {
     "data": {
      "application/vnd.jupyter.widget-view+json": {
       "model_id": "976e484da0fa4808a93598833be9b56e",
       "version_major": 2,
       "version_minor": 0
      },
      "text/plain": [
       "HBox(children=(FloatProgress(value=0.0, description='Val 45', max=242.0, style=ProgressStyle(description_width…"
      ]
     },
     "metadata": {},
     "output_type": "display_data"
    },
    {
     "name": "stdout",
     "output_type": "stream",
     "text": [
      "\n",
      "man size: 4457 woman size: 3273\n",
      "Val epoch  : 45, meanAP: 38.67, meanAP_man: 37.78, meanAP_woman: nan\n"
     ]
    },
    {
     "data": {
      "application/vnd.jupyter.widget-view+json": {
       "model_id": "1bc97ee1022e45f38ceca6f82fddb73c",
       "version_major": 2,
       "version_minor": 0
      },
      "text/plain": [
       "HBox(children=(FloatProgress(value=0.0, description='Train 46', max=760.0, style=ProgressStyle(description_wid…"
      ]
     },
     "metadata": {},
     "output_type": "display_data"
    },
    {
     "name": "stdout",
     "output_type": "stream",
     "text": [
      "\n",
      "man size: 14199 woman size: 10102\n",
      "Train epoch  : 46, meanAP: 82.53, meanAP_man: 81.29, meanAP_woman: 81.32\n"
     ]
    },
    {
     "data": {
      "application/vnd.jupyter.widget-view+json": {
       "model_id": "ad165605400547ad90217f15a2a2237b",
       "version_major": 2,
       "version_minor": 0
      },
      "text/plain": [
       "HBox(children=(FloatProgress(value=0.0, description='Val 46', max=242.0, style=ProgressStyle(description_width…"
      ]
     },
     "metadata": {},
     "output_type": "display_data"
    },
    {
     "name": "stdout",
     "output_type": "stream",
     "text": [
      "\n",
      "man size: 4457 woman size: 3273\n",
      "Val epoch  : 46, meanAP: 38.67, meanAP_man: 37.84, meanAP_woman: nan\n"
     ]
    },
    {
     "data": {
      "application/vnd.jupyter.widget-view+json": {
       "model_id": "654cfb3047e84932b19b646a80ff3056",
       "version_major": 2,
       "version_minor": 0
      },
      "text/plain": [
       "HBox(children=(FloatProgress(value=0.0, description='Train 47', max=760.0, style=ProgressStyle(description_wid…"
      ]
     },
     "metadata": {},
     "output_type": "display_data"
    },
    {
     "name": "stdout",
     "output_type": "stream",
     "text": [
      "\n",
      "man size: 14199 woman size: 10102\n",
      "Train epoch  : 47, meanAP: 82.61, meanAP_man: 81.35, meanAP_woman: 81.66\n"
     ]
    },
    {
     "data": {
      "application/vnd.jupyter.widget-view+json": {
       "model_id": "6f80d3275bab4c6181394c5075b3d688",
       "version_major": 2,
       "version_minor": 0
      },
      "text/plain": [
       "HBox(children=(FloatProgress(value=0.0, description='Val 47', max=242.0, style=ProgressStyle(description_width…"
      ]
     },
     "metadata": {},
     "output_type": "display_data"
    },
    {
     "name": "stdout",
     "output_type": "stream",
     "text": [
      "\n",
      "man size: 4457 woman size: 3273\n",
      "Val epoch  : 47, meanAP: 38.49, meanAP_man: 37.72, meanAP_woman: nan\n"
     ]
    },
    {
     "data": {
      "application/vnd.jupyter.widget-view+json": {
       "model_id": "e2fe8e89b29f46a9877979e6c88cf920",
       "version_major": 2,
       "version_minor": 0
      },
      "text/plain": [
       "HBox(children=(FloatProgress(value=0.0, description='Train 48', max=760.0, style=ProgressStyle(description_wid…"
      ]
     },
     "metadata": {},
     "output_type": "display_data"
    },
    {
     "name": "stdout",
     "output_type": "stream",
     "text": [
      "\n",
      "man size: 14199 woman size: 10102\n",
      "Train epoch  : 48, meanAP: 82.76, meanAP_man: 81.58, meanAP_woman: 81.72\n"
     ]
    },
    {
     "data": {
      "application/vnd.jupyter.widget-view+json": {
       "model_id": "46a92ba919124592b2cadc57756265dc",
       "version_major": 2,
       "version_minor": 0
      },
      "text/plain": [
       "HBox(children=(FloatProgress(value=0.0, description='Val 48', max=242.0, style=ProgressStyle(description_width…"
      ]
     },
     "metadata": {},
     "output_type": "display_data"
    },
    {
     "name": "stdout",
     "output_type": "stream",
     "text": [
      "\n",
      "man size: 4457 woman size: 3273\n",
      "Val epoch  : 48, meanAP: 38.56, meanAP_man: 37.66, meanAP_woman: nan\n"
     ]
    },
    {
     "data": {
      "application/vnd.jupyter.widget-view+json": {
       "model_id": "a1a1df8feb3042a5a9d58ce8308e54a9",
       "version_major": 2,
       "version_minor": 0
      },
      "text/plain": [
       "HBox(children=(FloatProgress(value=0.0, description='Train 49', max=760.0, style=ProgressStyle(description_wid…"
      ]
     },
     "metadata": {},
     "output_type": "display_data"
    },
    {
     "name": "stdout",
     "output_type": "stream",
     "text": [
      "\n",
      "man size: 14199 woman size: 10102\n",
      "Train epoch  : 49, meanAP: 82.58, meanAP_man: 81.16, meanAP_woman: 81.64\n"
     ]
    },
    {
     "data": {
      "application/vnd.jupyter.widget-view+json": {
       "model_id": "6a34f276fe9446998ea2b78157239091",
       "version_major": 2,
       "version_minor": 0
      },
      "text/plain": [
       "HBox(children=(FloatProgress(value=0.0, description='Val 49', max=242.0, style=ProgressStyle(description_width…"
      ]
     },
     "metadata": {},
     "output_type": "display_data"
    },
    {
     "name": "stdout",
     "output_type": "stream",
     "text": [
      "\n",
      "man size: 4457 woman size: 3273\n",
      "Val epoch  : 49, meanAP: 38.66, meanAP_man: 37.79, meanAP_woman: nan\n"
     ]
    },
    {
     "data": {
      "application/vnd.jupyter.widget-view+json": {
       "model_id": "2a9914f5e61b4155b10ff8a76c29b0cb",
       "version_major": 2,
       "version_minor": 0
      },
      "text/plain": [
       "HBox(children=(FloatProgress(value=0.0, description='Train 50', max=760.0, style=ProgressStyle(description_wid…"
      ]
     },
     "metadata": {},
     "output_type": "display_data"
    },
    {
     "name": "stdout",
     "output_type": "stream",
     "text": [
      "\n",
      "man size: 14199 woman size: 10102\n",
      "Train epoch  : 50, meanAP: 82.69, meanAP_man: 81.35, meanAP_woman: 81.35\n"
     ]
    },
    {
     "data": {
      "application/vnd.jupyter.widget-view+json": {
       "model_id": "d25b9b16f2104d33917895bf6aad78f9",
       "version_major": 2,
       "version_minor": 0
      },
      "text/plain": [
       "HBox(children=(FloatProgress(value=0.0, description='Val 50', max=242.0, style=ProgressStyle(description_width…"
      ]
     },
     "metadata": {},
     "output_type": "display_data"
    },
    {
     "name": "stdout",
     "output_type": "stream",
     "text": [
      "\n",
      "man size: 4457 woman size: 3273\n",
      "Val epoch  : 50, meanAP: 38.62, meanAP_man: 38.03, meanAP_woman: nan\n"
     ]
    },
    {
     "data": {
      "application/vnd.jupyter.widget-view+json": {
       "model_id": "3a88fefa846a4d4ab394dc32524087ad",
       "version_major": 2,
       "version_minor": 0
      },
      "text/plain": [
       "HBox(children=(FloatProgress(value=0.0, description='Train 51', max=760.0, style=ProgressStyle(description_wid…"
      ]
     },
     "metadata": {},
     "output_type": "display_data"
    },
    {
     "name": "stdout",
     "output_type": "stream",
     "text": [
      "\n",
      "man size: 14199 woman size: 10102\n",
      "Train epoch  : 51, meanAP: 82.85, meanAP_man: 81.60, meanAP_woman: 81.84\n"
     ]
    },
    {
     "data": {
      "application/vnd.jupyter.widget-view+json": {
       "model_id": "f7372f630cad4131a88f744646ccbac4",
       "version_major": 2,
       "version_minor": 0
      },
      "text/plain": [
       "HBox(children=(FloatProgress(value=0.0, description='Val 51', max=242.0, style=ProgressStyle(description_width…"
      ]
     },
     "metadata": {},
     "output_type": "display_data"
    },
    {
     "name": "stdout",
     "output_type": "stream",
     "text": [
      "\n",
      "man size: 4457 woman size: 3273\n",
      "Val epoch  : 51, meanAP: 38.54, meanAP_man: 37.75, meanAP_woman: nan\n"
     ]
    },
    {
     "data": {
      "application/vnd.jupyter.widget-view+json": {
       "model_id": "98c24934a88d41e3b980e9dcb7bd74df",
       "version_major": 2,
       "version_minor": 0
      },
      "text/plain": [
       "HBox(children=(FloatProgress(value=0.0, description='Train 52', max=760.0, style=ProgressStyle(description_wid…"
      ]
     },
     "metadata": {},
     "output_type": "display_data"
    },
    {
     "name": "stdout",
     "output_type": "stream",
     "text": [
      "\n",
      "man size: 14199 woman size: 10102\n",
      "Train epoch  : 52, meanAP: 82.78, meanAP_man: 81.55, meanAP_woman: 81.34\n"
     ]
    },
    {
     "data": {
      "application/vnd.jupyter.widget-view+json": {
       "model_id": "934650e81b194232b544c5cde68005f9",
       "version_major": 2,
       "version_minor": 0
      },
      "text/plain": [
       "HBox(children=(FloatProgress(value=0.0, description='Val 52', max=242.0, style=ProgressStyle(description_width…"
      ]
     },
     "metadata": {},
     "output_type": "display_data"
    },
    {
     "name": "stdout",
     "output_type": "stream",
     "text": [
      "\n",
      "man size: 4457 woman size: 3273\n",
      "Val epoch  : 52, meanAP: 38.53, meanAP_man: 37.77, meanAP_woman: nan\n"
     ]
    },
    {
     "data": {
      "application/vnd.jupyter.widget-view+json": {
       "model_id": "34d3006a3c594c568a5d914aff866875",
       "version_major": 2,
       "version_minor": 0
      },
      "text/plain": [
       "HBox(children=(FloatProgress(value=0.0, description='Train 53', max=760.0, style=ProgressStyle(description_wid…"
      ]
     },
     "metadata": {},
     "output_type": "display_data"
    },
    {
     "name": "stdout",
     "output_type": "stream",
     "text": [
      "\n",
      "man size: 14199 woman size: 10102\n",
      "Train epoch  : 53, meanAP: 82.59, meanAP_man: 81.49, meanAP_woman: 81.13\n"
     ]
    },
    {
     "data": {
      "application/vnd.jupyter.widget-view+json": {
       "model_id": "3eacca0d2c824a8c956a6b567fa81c0c",
       "version_major": 2,
       "version_minor": 0
      },
      "text/plain": [
       "HBox(children=(FloatProgress(value=0.0, description='Val 53', max=242.0, style=ProgressStyle(description_width…"
      ]
     },
     "metadata": {},
     "output_type": "display_data"
    },
    {
     "name": "stdout",
     "output_type": "stream",
     "text": [
      "\n",
      "man size: 4457 woman size: 3273\n",
      "Val epoch  : 53, meanAP: 38.57, meanAP_man: 37.82, meanAP_woman: nan\n"
     ]
    },
    {
     "data": {
      "application/vnd.jupyter.widget-view+json": {
       "model_id": "0d3fb8904de34c8ab36ab5b4861e1a95",
       "version_major": 2,
       "version_minor": 0
      },
      "text/plain": [
       "HBox(children=(FloatProgress(value=0.0, description='Train 54', max=760.0, style=ProgressStyle(description_wid…"
      ]
     },
     "metadata": {},
     "output_type": "display_data"
    },
    {
     "name": "stdout",
     "output_type": "stream",
     "text": [
      "\n",
      "man size: 14199 woman size: 10102\n",
      "Train epoch  : 54, meanAP: 82.78, meanAP_man: 81.57, meanAP_woman: 82.02\n"
     ]
    },
    {
     "data": {
      "application/vnd.jupyter.widget-view+json": {
       "model_id": "d54fd7e78f434b7eb65b70787d9bae70",
       "version_major": 2,
       "version_minor": 0
      },
      "text/plain": [
       "HBox(children=(FloatProgress(value=0.0, description='Val 54', max=242.0, style=ProgressStyle(description_width…"
      ]
     },
     "metadata": {},
     "output_type": "display_data"
    },
    {
     "name": "stdout",
     "output_type": "stream",
     "text": [
      "\n",
      "man size: 4457 woman size: 3273\n",
      "Val epoch  : 54, meanAP: 38.66, meanAP_man: 37.89, meanAP_woman: nan\n"
     ]
    },
    {
     "data": {
      "application/vnd.jupyter.widget-view+json": {
       "model_id": "dc95f36331544af2b04d15db97bd6e15",
       "version_major": 2,
       "version_minor": 0
      },
      "text/plain": [
       "HBox(children=(FloatProgress(value=0.0, description='Train 55', max=760.0, style=ProgressStyle(description_wid…"
      ]
     },
     "metadata": {},
     "output_type": "display_data"
    },
    {
     "name": "stdout",
     "output_type": "stream",
     "text": [
      "\n",
      "man size: 14199 woman size: 10102\n",
      "Train epoch  : 55, meanAP: 82.83, meanAP_man: 81.68, meanAP_woman: 81.78\n"
     ]
    },
    {
     "data": {
      "application/vnd.jupyter.widget-view+json": {
       "model_id": "8b4bacc9c98f478da6b27959525df70f",
       "version_major": 2,
       "version_minor": 0
      },
      "text/plain": [
       "HBox(children=(FloatProgress(value=0.0, description='Val 55', max=242.0, style=ProgressStyle(description_width…"
      ]
     },
     "metadata": {},
     "output_type": "display_data"
    },
    {
     "name": "stdout",
     "output_type": "stream",
     "text": [
      "\n",
      "man size: 4457 woman size: 3273\n",
      "Val epoch  : 55, meanAP: 38.68, meanAP_man: 37.92, meanAP_woman: nan\n"
     ]
    },
    {
     "data": {
      "application/vnd.jupyter.widget-view+json": {
       "model_id": "e50649a5d2bd4dc7a51c103bb0983afd",
       "version_major": 2,
       "version_minor": 0
      },
      "text/plain": [
       "HBox(children=(FloatProgress(value=0.0, description='Train 56', max=760.0, style=ProgressStyle(description_wid…"
      ]
     },
     "metadata": {},
     "output_type": "display_data"
    },
    {
     "name": "stdout",
     "output_type": "stream",
     "text": [
      "\n",
      "man size: 14199 woman size: 10102\n",
      "Train epoch  : 56, meanAP: 82.97, meanAP_man: 81.84, meanAP_woman: 81.45\n"
     ]
    },
    {
     "data": {
      "application/vnd.jupyter.widget-view+json": {
       "model_id": "3314e9ccb5eb42b9b3256b866fca4f51",
       "version_major": 2,
       "version_minor": 0
      },
      "text/plain": [
       "HBox(children=(FloatProgress(value=0.0, description='Val 56', max=242.0, style=ProgressStyle(description_width…"
      ]
     },
     "metadata": {},
     "output_type": "display_data"
    },
    {
     "name": "stdout",
     "output_type": "stream",
     "text": [
      "\n",
      "man size: 4457 woman size: 3273\n",
      "Val epoch  : 56, meanAP: 38.57, meanAP_man: 37.70, meanAP_woman: nan\n"
     ]
    },
    {
     "data": {
      "application/vnd.jupyter.widget-view+json": {
       "model_id": "720ff445c83349a895a24ea6d2bd578e",
       "version_major": 2,
       "version_minor": 0
      },
      "text/plain": [
       "HBox(children=(FloatProgress(value=0.0, description='Train 57', max=760.0, style=ProgressStyle(description_wid…"
      ]
     },
     "metadata": {},
     "output_type": "display_data"
    },
    {
     "name": "stdout",
     "output_type": "stream",
     "text": [
      "\n",
      "man size: 14199 woman size: 10102\n",
      "Train epoch  : 57, meanAP: 82.91, meanAP_man: 81.88, meanAP_woman: 81.70\n"
     ]
    },
    {
     "data": {
      "application/vnd.jupyter.widget-view+json": {
       "model_id": "39365e3674bb47f08eeb19e089b08400",
       "version_major": 2,
       "version_minor": 0
      },
      "text/plain": [
       "HBox(children=(FloatProgress(value=0.0, description='Val 57', max=242.0, style=ProgressStyle(description_width…"
      ]
     },
     "metadata": {},
     "output_type": "display_data"
    },
    {
     "name": "stdout",
     "output_type": "stream",
     "text": [
      "\n",
      "man size: 4457 woman size: 3273\n",
      "Val epoch  : 57, meanAP: 38.62, meanAP_man: 37.85, meanAP_woman: nan\n"
     ]
    },
    {
     "data": {
      "application/vnd.jupyter.widget-view+json": {
       "model_id": "88ba2c0253b44ee2ab08bb71a6289e6a",
       "version_major": 2,
       "version_minor": 0
      },
      "text/plain": [
       "HBox(children=(FloatProgress(value=0.0, description='Train 58', max=760.0, style=ProgressStyle(description_wid…"
      ]
     },
     "metadata": {},
     "output_type": "display_data"
    },
    {
     "name": "stdout",
     "output_type": "stream",
     "text": [
      "\n",
      "man size: 14199 woman size: 10102\n",
      "Train epoch  : 58, meanAP: 82.94, meanAP_man: 81.72, meanAP_woman: 81.95\n"
     ]
    },
    {
     "data": {
      "application/vnd.jupyter.widget-view+json": {
       "model_id": "361b235a4e284814a66fb0456ae3a01f",
       "version_major": 2,
       "version_minor": 0
      },
      "text/plain": [
       "HBox(children=(FloatProgress(value=0.0, description='Val 58', max=242.0, style=ProgressStyle(description_width…"
      ]
     },
     "metadata": {},
     "output_type": "display_data"
    },
    {
     "name": "stdout",
     "output_type": "stream",
     "text": [
      "\n",
      "man size: 4457 woman size: 3273\n",
      "Val epoch  : 58, meanAP: 38.55, meanAP_man: 37.75, meanAP_woman: nan\n"
     ]
    },
    {
     "data": {
      "application/vnd.jupyter.widget-view+json": {
       "model_id": "c2936e0615bc481180a76d3969d0fdea",
       "version_major": 2,
       "version_minor": 0
      },
      "text/plain": [
       "HBox(children=(FloatProgress(value=0.0, description='Train 59', max=760.0, style=ProgressStyle(description_wid…"
      ]
     },
     "metadata": {},
     "output_type": "display_data"
    },
    {
     "name": "stdout",
     "output_type": "stream",
     "text": [
      "\n",
      "man size: 14199 woman size: 10102\n",
      "Train epoch  : 59, meanAP: 82.95, meanAP_man: 81.77, meanAP_woman: 82.29\n"
     ]
    },
    {
     "data": {
      "application/vnd.jupyter.widget-view+json": {
       "model_id": "7f27b1ec4775448bac19b8c6a128ef54",
       "version_major": 2,
       "version_minor": 0
      },
      "text/plain": [
       "HBox(children=(FloatProgress(value=0.0, description='Val 59', max=242.0, style=ProgressStyle(description_width…"
      ]
     },
     "metadata": {},
     "output_type": "display_data"
    },
    {
     "name": "stdout",
     "output_type": "stream",
     "text": [
      "\n",
      "man size: 4457 woman size: 3273\n",
      "Val epoch  : 59, meanAP: 38.56, meanAP_man: 37.72, meanAP_woman: nan\n"
     ]
    },
    {
     "data": {
      "application/vnd.jupyter.widget-view+json": {
       "model_id": "8586d79c22eb435880fb57413e39d26f",
       "version_major": 2,
       "version_minor": 0
      },
      "text/plain": [
       "HBox(children=(FloatProgress(value=0.0, description='Train 60', max=760.0, style=ProgressStyle(description_wid…"
      ]
     },
     "metadata": {},
     "output_type": "display_data"
    },
    {
     "name": "stdout",
     "output_type": "stream",
     "text": [
      "\n",
      "man size: 14199 woman size: 10102\n",
      "Train epoch  : 60, meanAP: 83.13, meanAP_man: 81.83, meanAP_woman: 82.23\n"
     ]
    },
    {
     "data": {
      "application/vnd.jupyter.widget-view+json": {
       "model_id": "7f92ce7fc0ee41628e10022bc33059ed",
       "version_major": 2,
       "version_minor": 0
      },
      "text/plain": [
       "HBox(children=(FloatProgress(value=0.0, description='Val 60', max=242.0, style=ProgressStyle(description_width…"
      ]
     },
     "metadata": {},
     "output_type": "display_data"
    },
    {
     "name": "stdout",
     "output_type": "stream",
     "text": [
      "\n",
      "man size: 4457 woman size: 3273\n",
      "Val epoch  : 60, meanAP: 38.63, meanAP_man: 37.80, meanAP_woman: nan\n"
     ]
    },
    {
     "data": {
      "application/vnd.jupyter.widget-view+json": {
       "model_id": "0672d03a38e54e2d82245d784a1ee56f",
       "version_major": 2,
       "version_minor": 0
      },
      "text/plain": [
       "HBox(children=(FloatProgress(value=0.0, description='Train 61', max=760.0, style=ProgressStyle(description_wid…"
      ]
     },
     "metadata": {},
     "output_type": "display_data"
    },
    {
     "name": "stdout",
     "output_type": "stream",
     "text": [
      "\n",
      "man size: 14199 woman size: 10102\n",
      "Train epoch  : 61, meanAP: 82.90, meanAP_man: 81.99, meanAP_woman: 81.72\n"
     ]
    },
    {
     "data": {
      "application/vnd.jupyter.widget-view+json": {
       "model_id": "29fc4808d791430bacb343b313be02ab",
       "version_major": 2,
       "version_minor": 0
      },
      "text/plain": [
       "HBox(children=(FloatProgress(value=0.0, description='Val 61', max=242.0, style=ProgressStyle(description_width…"
      ]
     },
     "metadata": {},
     "output_type": "display_data"
    },
    {
     "name": "stdout",
     "output_type": "stream",
     "text": [
      "\n",
      "man size: 4457 woman size: 3273\n",
      "Val epoch  : 61, meanAP: 38.52, meanAP_man: 37.65, meanAP_woman: nan\n"
     ]
    },
    {
     "data": {
      "application/vnd.jupyter.widget-view+json": {
       "model_id": "061f4ae8ed7046eeb68ddc0beb372fe3",
       "version_major": 2,
       "version_minor": 0
      },
      "text/plain": [
       "HBox(children=(FloatProgress(value=0.0, description='Train 62', max=760.0, style=ProgressStyle(description_wid…"
      ]
     },
     "metadata": {},
     "output_type": "display_data"
    },
    {
     "name": "stdout",
     "output_type": "stream",
     "text": [
      "\n",
      "man size: 14199 woman size: 10102\n",
      "Train epoch  : 62, meanAP: 83.20, meanAP_man: 81.80, meanAP_woman: 82.27\n"
     ]
    },
    {
     "data": {
      "application/vnd.jupyter.widget-view+json": {
       "model_id": "789d3ad1f99d430ab2bff6da1aaf2e56",
       "version_major": 2,
       "version_minor": 0
      },
      "text/plain": [
       "HBox(children=(FloatProgress(value=0.0, description='Val 62', max=242.0, style=ProgressStyle(description_width…"
      ]
     },
     "metadata": {},
     "output_type": "display_data"
    },
    {
     "name": "stdout",
     "output_type": "stream",
     "text": [
      "\n",
      "man size: 4457 woman size: 3273\n",
      "Val epoch  : 62, meanAP: 38.58, meanAP_man: 37.83, meanAP_woman: nan\n"
     ]
    },
    {
     "data": {
      "application/vnd.jupyter.widget-view+json": {
       "model_id": "2b4d6f2ce50c4225970780e6e331e4a5",
       "version_major": 2,
       "version_minor": 0
      },
      "text/plain": [
       "HBox(children=(FloatProgress(value=0.0, description='Train 63', max=760.0, style=ProgressStyle(description_wid…"
      ]
     },
     "metadata": {},
     "output_type": "display_data"
    },
    {
     "name": "stdout",
     "output_type": "stream",
     "text": [
      "\n",
      "man size: 14199 woman size: 10102\n",
      "Train epoch  : 63, meanAP: 82.94, meanAP_man: 81.61, meanAP_woman: 81.96\n"
     ]
    },
    {
     "data": {
      "application/vnd.jupyter.widget-view+json": {
       "model_id": "3f1c5fa3180c408ab9b0ec1b337ccbfd",
       "version_major": 2,
       "version_minor": 0
      },
      "text/plain": [
       "HBox(children=(FloatProgress(value=0.0, description='Val 63', max=242.0, style=ProgressStyle(description_width…"
      ]
     },
     "metadata": {},
     "output_type": "display_data"
    },
    {
     "name": "stdout",
     "output_type": "stream",
     "text": [
      "\n",
      "man size: 4457 woman size: 3273\n",
      "Val epoch  : 63, meanAP: 38.55, meanAP_man: 37.77, meanAP_woman: nan\n"
     ]
    },
    {
     "data": {
      "application/vnd.jupyter.widget-view+json": {
       "model_id": "265a2fe5fd9b4830a0e7552eea52f21d",
       "version_major": 2,
       "version_minor": 0
      },
      "text/plain": [
       "HBox(children=(FloatProgress(value=0.0, description='Train 64', max=760.0, style=ProgressStyle(description_wid…"
      ]
     },
     "metadata": {},
     "output_type": "display_data"
    },
    {
     "name": "stdout",
     "output_type": "stream",
     "text": [
      "\n",
      "man size: 14199 woman size: 10102\n",
      "Train epoch  : 64, meanAP: 82.90, meanAP_man: 81.66, meanAP_woman: 82.10\n"
     ]
    },
    {
     "data": {
      "application/vnd.jupyter.widget-view+json": {
       "model_id": "f15ccff272cc40b0b81b5bd689ab4949",
       "version_major": 2,
       "version_minor": 0
      },
      "text/plain": [
       "HBox(children=(FloatProgress(value=0.0, description='Val 64', max=242.0, style=ProgressStyle(description_width…"
      ]
     },
     "metadata": {},
     "output_type": "display_data"
    },
    {
     "name": "stdout",
     "output_type": "stream",
     "text": [
      "\n",
      "man size: 4457 woman size: 3273\n",
      "Val epoch  : 64, meanAP: 38.59, meanAP_man: 37.80, meanAP_woman: nan\n"
     ]
    },
    {
     "data": {
      "application/vnd.jupyter.widget-view+json": {
       "model_id": "4d2dcd70331648bba7162794049e5c0d",
       "version_major": 2,
       "version_minor": 0
      },
      "text/plain": [
       "HBox(children=(FloatProgress(value=0.0, description='Train 65', max=760.0, style=ProgressStyle(description_wid…"
      ]
     },
     "metadata": {},
     "output_type": "display_data"
    },
    {
     "name": "stdout",
     "output_type": "stream",
     "text": [
      "\n",
      "man size: 14199 woman size: 10102\n",
      "Train epoch  : 65, meanAP: 83.08, meanAP_man: 81.91, meanAP_woman: 82.06\n"
     ]
    },
    {
     "data": {
      "application/vnd.jupyter.widget-view+json": {
       "model_id": "71252e3b813e411791852f67db6df380",
       "version_major": 2,
       "version_minor": 0
      },
      "text/plain": [
       "HBox(children=(FloatProgress(value=0.0, description='Val 65', max=242.0, style=ProgressStyle(description_width…"
      ]
     },
     "metadata": {},
     "output_type": "display_data"
    },
    {
     "name": "stdout",
     "output_type": "stream",
     "text": [
      "\n",
      "man size: 4457 woman size: 3273\n",
      "Val epoch  : 65, meanAP: 38.52, meanAP_man: 37.68, meanAP_woman: nan\n"
     ]
    },
    {
     "data": {
      "application/vnd.jupyter.widget-view+json": {
       "model_id": "465b308f6d0c48ba9c51faf336294cfe",
       "version_major": 2,
       "version_minor": 0
      },
      "text/plain": [
       "HBox(children=(FloatProgress(value=0.0, description='Train 66', max=760.0, style=ProgressStyle(description_wid…"
      ]
     },
     "metadata": {},
     "output_type": "display_data"
    },
    {
     "name": "stdout",
     "output_type": "stream",
     "text": [
      "\n",
      "man size: 14199 woman size: 10102\n",
      "Train epoch  : 66, meanAP: 83.16, meanAP_man: 81.85, meanAP_woman: 82.09\n"
     ]
    },
    {
     "data": {
      "application/vnd.jupyter.widget-view+json": {
       "model_id": "bfb4d2ae4b2743439cfadc1557d3b141",
       "version_major": 2,
       "version_minor": 0
      },
      "text/plain": [
       "HBox(children=(FloatProgress(value=0.0, description='Val 66', max=242.0, style=ProgressStyle(description_width…"
      ]
     },
     "metadata": {},
     "output_type": "display_data"
    },
    {
     "name": "stdout",
     "output_type": "stream",
     "text": [
      "\n",
      "man size: 4457 woman size: 3273\n",
      "Val epoch  : 66, meanAP: 38.57, meanAP_man: 37.72, meanAP_woman: nan\n"
     ]
    },
    {
     "data": {
      "application/vnd.jupyter.widget-view+json": {
       "model_id": "a424af98a6e642bd8992f4e9fbdac96e",
       "version_major": 2,
       "version_minor": 0
      },
      "text/plain": [
       "HBox(children=(FloatProgress(value=0.0, description='Train 67', max=760.0, style=ProgressStyle(description_wid…"
      ]
     },
     "metadata": {},
     "output_type": "display_data"
    },
    {
     "name": "stdout",
     "output_type": "stream",
     "text": [
      "\n",
      "man size: 14199 woman size: 10102\n",
      "Train epoch  : 67, meanAP: 83.10, meanAP_man: 81.75, meanAP_woman: 82.07\n"
     ]
    },
    {
     "data": {
      "application/vnd.jupyter.widget-view+json": {
       "model_id": "c08913973a714189bb12fd35ee1f7143",
       "version_major": 2,
       "version_minor": 0
      },
      "text/plain": [
       "HBox(children=(FloatProgress(value=0.0, description='Val 67', max=242.0, style=ProgressStyle(description_width…"
      ]
     },
     "metadata": {},
     "output_type": "display_data"
    },
    {
     "name": "stdout",
     "output_type": "stream",
     "text": [
      "\n",
      "man size: 4457 woman size: 3273\n",
      "Val epoch  : 67, meanAP: 38.63, meanAP_man: 37.81, meanAP_woman: nan\n"
     ]
    },
    {
     "data": {
      "application/vnd.jupyter.widget-view+json": {
       "model_id": "aef244107cf6475aaf85167a23704e4e",
       "version_major": 2,
       "version_minor": 0
      },
      "text/plain": [
       "HBox(children=(FloatProgress(value=0.0, description='Train 68', max=760.0, style=ProgressStyle(description_wid…"
      ]
     },
     "metadata": {},
     "output_type": "display_data"
    },
    {
     "name": "stdout",
     "output_type": "stream",
     "text": [
      "\n",
      "man size: 14199 woman size: 10102\n",
      "Train epoch  : 68, meanAP: 83.20, meanAP_man: 81.92, meanAP_woman: 82.07\n"
     ]
    },
    {
     "data": {
      "application/vnd.jupyter.widget-view+json": {
       "model_id": "a053c513f9c0414c86652fa27b1bc831",
       "version_major": 2,
       "version_minor": 0
      },
      "text/plain": [
       "HBox(children=(FloatProgress(value=0.0, description='Val 68', max=242.0, style=ProgressStyle(description_width…"
      ]
     },
     "metadata": {},
     "output_type": "display_data"
    },
    {
     "name": "stdout",
     "output_type": "stream",
     "text": [
      "\n",
      "man size: 4457 woman size: 3273\n",
      "Val epoch  : 68, meanAP: 38.62, meanAP_man: 37.77, meanAP_woman: nan\n"
     ]
    },
    {
     "data": {
      "application/vnd.jupyter.widget-view+json": {
       "model_id": "3f425112edb745e8991979803bfee189",
       "version_major": 2,
       "version_minor": 0
      },
      "text/plain": [
       "HBox(children=(FloatProgress(value=0.0, description='Train 69', max=760.0, style=ProgressStyle(description_wid…"
      ]
     },
     "metadata": {},
     "output_type": "display_data"
    },
    {
     "ename": "KeyboardInterrupt",
     "evalue": "",
     "output_type": "error",
     "traceback": [
      "\u001b[1;31m---------------------------------------------------------------------------\u001b[0m",
      "\u001b[1;31mKeyboardInterrupt\u001b[0m                         Traceback (most recent call last)",
      "\u001b[1;32m<ipython-input-30-77a5f952d399>\u001b[0m in \u001b[0;36m<module>\u001b[1;34m\u001b[0m\n\u001b[0;32m      1\u001b[0m \u001b[1;32mfor\u001b[0m \u001b[0mepoch\u001b[0m \u001b[1;32min\u001b[0m \u001b[0mtrange\u001b[0m\u001b[1;33m(\u001b[0m\u001b[0margs\u001b[0m\u001b[1;33m.\u001b[0m\u001b[0mstart_epoch\u001b[0m\u001b[1;33m,\u001b[0m \u001b[0margs\u001b[0m\u001b[1;33m.\u001b[0m\u001b[0mnum_epochs\u001b[0m \u001b[1;33m+\u001b[0m \u001b[1;36m1\u001b[0m\u001b[1;33m)\u001b[0m\u001b[1;33m:\u001b[0m\u001b[1;33m\u001b[0m\u001b[1;33m\u001b[0m\u001b[0m\n\u001b[0;32m      2\u001b[0m     train(args, epoch, model, criterion, train_loader, optimizer_freeze, \\\n\u001b[1;32m----> 3\u001b[1;33m             train_logger, logging = True)\n\u001b[0m\u001b[0;32m      4\u001b[0m     current_performance = test(args, epoch, model, criterion, val_loader, \\\n\u001b[0;32m      5\u001b[0m             val_logger, logging = True)\n",
      "\u001b[1;32m<ipython-input-3-1f0e0e8eff88>\u001b[0m in \u001b[0;36mtrain\u001b[1;34m(args, epoch, model, criterion, train_loader, optimizer, train_logger, logging)\u001b[0m\n\u001b[0;32m     43\u001b[0m         \u001b[1;31m# compute loss and add softmax to preds (crossentropy loss integrates softmax)\u001b[0m\u001b[1;33m\u001b[0m\u001b[1;33m\u001b[0m\u001b[1;33m\u001b[0m\u001b[0m\n\u001b[0;32m     44\u001b[0m         \u001b[0mloss\u001b[0m \u001b[1;33m=\u001b[0m \u001b[0mcriterion\u001b[0m\u001b[1;33m(\u001b[0m\u001b[0mpreds\u001b[0m\u001b[1;33m,\u001b[0m \u001b[0mtargets\u001b[0m\u001b[1;33m.\u001b[0m\u001b[0mmax\u001b[0m\u001b[1;33m(\u001b[0m\u001b[1;36m1\u001b[0m\u001b[1;33m,\u001b[0m \u001b[0mkeepdim\u001b[0m\u001b[1;33m=\u001b[0m\u001b[1;32mFalse\u001b[0m\u001b[1;33m)\u001b[0m\u001b[1;33m[\u001b[0m\u001b[1;36m1\u001b[0m\u001b[1;33m]\u001b[0m\u001b[1;33m)\u001b[0m\u001b[1;33m\u001b[0m\u001b[1;33m\u001b[0m\u001b[0m\n\u001b[1;32m---> 45\u001b[1;33m         \u001b[0mloss_logger\u001b[0m\u001b[1;33m.\u001b[0m\u001b[0mupdate\u001b[0m\u001b[1;33m(\u001b[0m\u001b[0mloss\u001b[0m\u001b[1;33m.\u001b[0m\u001b[0mitem\u001b[0m\u001b[1;33m(\u001b[0m\u001b[1;33m)\u001b[0m\u001b[1;33m)\u001b[0m\u001b[1;33m\u001b[0m\u001b[1;33m\u001b[0m\u001b[0m\n\u001b[0m\u001b[0;32m     46\u001b[0m \u001b[1;33m\u001b[0m\u001b[0m\n\u001b[0;32m     47\u001b[0m         \u001b[0mpreds\u001b[0m \u001b[1;33m=\u001b[0m \u001b[0mF\u001b[0m\u001b[1;33m.\u001b[0m\u001b[0msoftmax\u001b[0m\u001b[1;33m(\u001b[0m\u001b[0mpreds\u001b[0m\u001b[1;33m,\u001b[0m \u001b[0mdim\u001b[0m\u001b[1;33m=\u001b[0m\u001b[1;36m1\u001b[0m\u001b[1;33m)\u001b[0m\u001b[1;33m\u001b[0m\u001b[1;33m\u001b[0m\u001b[0m\n",
      "\u001b[1;31mKeyboardInterrupt\u001b[0m: "
     ]
    }
   ],
   "source": [
    "for epoch in trange(args.start_epoch, args.num_epochs + 1):\n",
    "    train(args, epoch, model, criterion, train_loader, optimizer_freeze, \\\n",
    "            train_logger, logging = True)\n",
    "    current_performance = test(args, epoch, model, criterion, val_loader, \\\n",
    "            val_logger, logging = True)\n",
    "    is_best = current_performance > best_performance\n",
    "    best_performance = max(current_performance, best_performance)\n",
    "    model_state = {\n",
    "        'epoch': epoch + 1,\n",
    "        'state_dict': model.state_dict(),\n",
    "        'best_performance': best_performance}\n",
    "    save_checkpoint(args, model_state, is_best, os.path.join(args.save_dir, \\\n",
    "            'checkpoint.pth.tar'))\n",
    "    # at the end of every run, save the model\n",
    "    if epoch == args.num_epochs:\n",
    "        torch.save(model_state, os.path.join(args.save_dir, \\\n",
    "            'checkpoint_%s.pth.tar' % str(args.num_epochs)))"
   ]
  },
  {
   "cell_type": "code",
   "execution_count": null,
   "metadata": {},
   "outputs": [],
   "source": []
  }
 ],
 "metadata": {
  "kernelspec": {
   "display_name": "Python 3.7.6 64-bit ('py37-Torch-Transformers': conda)",
   "language": "python",
   "name": "python37664bitpy37torchtransformerscondae93daae8d17e423a9d2b476995b931c9"
  },
  "language_info": {
   "codemirror_mode": {
    "name": "ipython",
    "version": 3
   },
   "file_extension": ".py",
   "mimetype": "text/x-python",
   "name": "python",
   "nbconvert_exporter": "python",
   "pygments_lexer": "ipython3",
   "version": "3.7.6"
  }
 },
 "nbformat": 4,
 "nbformat_minor": 4
}
